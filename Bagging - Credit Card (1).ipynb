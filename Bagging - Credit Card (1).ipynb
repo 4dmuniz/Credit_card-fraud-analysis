{
  "cells": [
    {
      "cell_type": "markdown",
      "metadata": {
        "colab_type": "text",
        "id": "view-in-github"
      },
      "source": [
        "<a href=\"https://colab.research.google.com/github/sureshmecad/CloudyML-AI-FOR-ALL/blob/main/Bagging_CloudyML.ipynb\" target=\"_parent\"><img src=\"https://colab.research.google.com/assets/colab-badge.svg\" alt=\"Open In Colab\"/></a>"
      ]
    },
    {
      "cell_type": "markdown",
      "metadata": {
        "id": "iLTTPVzyYVT-"
      },
      "source": [
        "\n",
        "\n",
        "\n",
        "# Credit Default Prediction\n",
        "\n",
        "Build a model to predict whether a given customer defaults or not. Credit default is one of the most important problems in the banking and risk analytics industry. There are various attributes which can be used to predict default, such as demographic data (age, income, employment status, etc.), (credit) behavioural data (past loans, payment, number of times a credit payment has been delayed by the customer etc.).\n",
        "\n",
        "\n",
        "Here you will be using 3 different types of boosting methods:\n",
        "\n",
        "1. Bagging classifier: an ensemble meta-estimator\n",
        "2. RandomForest Classifier\n",
        "3. ExtraTree Classifier\n"
      ]
    },
    {
      "cell_type": "markdown",
      "metadata": {
        "id": "jYVEEvNaYVUA"
      },
      "source": [
        "## Step 1 - Importing Libraries"
      ]
    },
    {
      "cell_type": "code",
      "execution_count": 1,
      "metadata": {
        "id": "MnlXAs9IYVUB"
      },
      "outputs": [],
      "source": [
        "# Importing the required libraries for data analysis and visualization\n",
        "\n",
        "# pandas: A powerful library for data manipulation and analysis.\n",
        "# It provides data structures and functions to efficiently work with structured data.\n",
        "import pandas as pd\n",
        "\n",
        "# numpy: A fundamental package for numerical computations in Python.\n",
        "# It provides support for arrays, matrices, and mathematical functions.\n",
        "import numpy as np\n",
        "\n",
        "# matplotlib.pyplot: A popular visualization library for creating static, interactive, and animated visualizations in Python.\n",
        "import matplotlib.pyplot as plt\n",
        "\n",
        "# seaborn: A statistical data visualization library based on matplotlib.\n",
        "# It provides a high-level interface for creating attractive and informative visualizations.\n",
        "import seaborn as sns\n",
        "\n",
        "# %matplotlib inline: A magic command in Jupyter Notebook that allows you to display plots directly in the notebook's output cells.\n",
        "%matplotlib inline\n",
        "\n",
        "# warnings: A module in Python that allows you to control warnings issued by the Python interpreter.\n",
        "import warnings\n",
        "warnings.filterwarnings(\"ignore\")\n"
      ]
    },
    {
      "cell_type": "markdown",
      "metadata": {},
      "source": [
        "## Step 2 - Importing Dataset"
      ]
    },
    {
      "cell_type": "code",
      "execution_count": 2,
      "metadata": {
        "colab": {
          "base_uri": "https://localhost:8080/",
          "height": 270
        },
        "id": "Xzfuy8JEYVUE",
        "outputId": "2c344cc3-ac67-4d06-e310-0324b3fc4d66"
      },
      "outputs": [
        {
          "data": {
            "text/html": [
              "<div>\n",
              "<style scoped>\n",
              "    .dataframe tbody tr th:only-of-type {\n",
              "        vertical-align: middle;\n",
              "    }\n",
              "\n",
              "    .dataframe tbody tr th {\n",
              "        vertical-align: top;\n",
              "    }\n",
              "\n",
              "    .dataframe thead th {\n",
              "        text-align: right;\n",
              "    }\n",
              "</style>\n",
              "<table border=\"1\" class=\"dataframe\">\n",
              "  <thead>\n",
              "    <tr style=\"text-align: right;\">\n",
              "      <th></th>\n",
              "      <th>id</th>\n",
              "      <th>linitBal</th>\n",
              "      <th>sex</th>\n",
              "      <th>education</th>\n",
              "      <th>married</th>\n",
              "      <th>age</th>\n",
              "      <th>pay_0</th>\n",
              "      <th>pay_2</th>\n",
              "      <th>pay_3</th>\n",
              "      <th>pay_4</th>\n",
              "      <th>...</th>\n",
              "      <th>billAmt_4</th>\n",
              "      <th>billAmt_5</th>\n",
              "      <th>billAmt_6</th>\n",
              "      <th>payAmt_1</th>\n",
              "      <th>payAmt_2</th>\n",
              "      <th>payAmt_3</th>\n",
              "      <th>payAmt_4</th>\n",
              "      <th>payAmt_5</th>\n",
              "      <th>payAmt_6</th>\n",
              "      <th>defaulted</th>\n",
              "    </tr>\n",
              "  </thead>\n",
              "  <tbody>\n",
              "    <tr>\n",
              "      <th>0</th>\n",
              "      <td>1</td>\n",
              "      <td>20000</td>\n",
              "      <td>0</td>\n",
              "      <td>2</td>\n",
              "      <td>1</td>\n",
              "      <td>24</td>\n",
              "      <td>2</td>\n",
              "      <td>2</td>\n",
              "      <td>-1</td>\n",
              "      <td>-1</td>\n",
              "      <td>...</td>\n",
              "      <td>0</td>\n",
              "      <td>0</td>\n",
              "      <td>0</td>\n",
              "      <td>0</td>\n",
              "      <td>689</td>\n",
              "      <td>0</td>\n",
              "      <td>0</td>\n",
              "      <td>0</td>\n",
              "      <td>0</td>\n",
              "      <td>1</td>\n",
              "    </tr>\n",
              "    <tr>\n",
              "      <th>1</th>\n",
              "      <td>2</td>\n",
              "      <td>120000</td>\n",
              "      <td>0</td>\n",
              "      <td>2</td>\n",
              "      <td>2</td>\n",
              "      <td>26</td>\n",
              "      <td>-1</td>\n",
              "      <td>2</td>\n",
              "      <td>0</td>\n",
              "      <td>0</td>\n",
              "      <td>...</td>\n",
              "      <td>3272</td>\n",
              "      <td>3455</td>\n",
              "      <td>3261</td>\n",
              "      <td>0</td>\n",
              "      <td>1000</td>\n",
              "      <td>1000</td>\n",
              "      <td>1000</td>\n",
              "      <td>0</td>\n",
              "      <td>2000</td>\n",
              "      <td>1</td>\n",
              "    </tr>\n",
              "    <tr>\n",
              "      <th>2</th>\n",
              "      <td>3</td>\n",
              "      <td>90000</td>\n",
              "      <td>0</td>\n",
              "      <td>2</td>\n",
              "      <td>2</td>\n",
              "      <td>34</td>\n",
              "      <td>0</td>\n",
              "      <td>0</td>\n",
              "      <td>0</td>\n",
              "      <td>0</td>\n",
              "      <td>...</td>\n",
              "      <td>14331</td>\n",
              "      <td>14948</td>\n",
              "      <td>15549</td>\n",
              "      <td>1518</td>\n",
              "      <td>1500</td>\n",
              "      <td>1000</td>\n",
              "      <td>1000</td>\n",
              "      <td>1000</td>\n",
              "      <td>5000</td>\n",
              "      <td>0</td>\n",
              "    </tr>\n",
              "    <tr>\n",
              "      <th>3</th>\n",
              "      <td>4</td>\n",
              "      <td>50000</td>\n",
              "      <td>0</td>\n",
              "      <td>2</td>\n",
              "      <td>1</td>\n",
              "      <td>37</td>\n",
              "      <td>0</td>\n",
              "      <td>0</td>\n",
              "      <td>0</td>\n",
              "      <td>0</td>\n",
              "      <td>...</td>\n",
              "      <td>28314</td>\n",
              "      <td>28959</td>\n",
              "      <td>29547</td>\n",
              "      <td>2000</td>\n",
              "      <td>2019</td>\n",
              "      <td>1200</td>\n",
              "      <td>1100</td>\n",
              "      <td>1069</td>\n",
              "      <td>1000</td>\n",
              "      <td>0</td>\n",
              "    </tr>\n",
              "    <tr>\n",
              "      <th>4</th>\n",
              "      <td>5</td>\n",
              "      <td>50000</td>\n",
              "      <td>1</td>\n",
              "      <td>2</td>\n",
              "      <td>1</td>\n",
              "      <td>57</td>\n",
              "      <td>-1</td>\n",
              "      <td>0</td>\n",
              "      <td>-1</td>\n",
              "      <td>0</td>\n",
              "      <td>...</td>\n",
              "      <td>20940</td>\n",
              "      <td>19146</td>\n",
              "      <td>19131</td>\n",
              "      <td>2000</td>\n",
              "      <td>36681</td>\n",
              "      <td>10000</td>\n",
              "      <td>9000</td>\n",
              "      <td>689</td>\n",
              "      <td>679</td>\n",
              "      <td>0</td>\n",
              "    </tr>\n",
              "  </tbody>\n",
              "</table>\n",
              "<p>5 rows × 25 columns</p>\n",
              "</div>"
            ],
            "text/plain": [
              "   id  linitBal  sex  education  married  age  pay_0  pay_2  pay_3  pay_4  \\\n",
              "0   1     20000    0          2        1   24      2      2     -1     -1   \n",
              "1   2    120000    0          2        2   26     -1      2      0      0   \n",
              "2   3     90000    0          2        2   34      0      0      0      0   \n",
              "3   4     50000    0          2        1   37      0      0      0      0   \n",
              "4   5     50000    1          2        1   57     -1      0     -1      0   \n",
              "\n",
              "   ...  billAmt_4  billAmt_5  billAmt_6  payAmt_1  payAmt_2  payAmt_3  \\\n",
              "0  ...          0          0          0         0       689         0   \n",
              "1  ...       3272       3455       3261         0      1000      1000   \n",
              "2  ...      14331      14948      15549      1518      1500      1000   \n",
              "3  ...      28314      28959      29547      2000      2019      1200   \n",
              "4  ...      20940      19146      19131      2000     36681     10000   \n",
              "\n",
              "   payAmt_4  payAmt_5  payAmt_6  defaulted  \n",
              "0         0         0         0          1  \n",
              "1      1000         0      2000          1  \n",
              "2      1000      1000      5000          0  \n",
              "3      1100      1069      1000          0  \n",
              "4      9000       689       679          0  \n",
              "\n",
              "[5 rows x 25 columns]"
            ]
          },
          "execution_count": 2,
          "metadata": {},
          "output_type": "execute_result"
        }
      ],
      "source": [
        "# Reading the csv file and putting it into 'df' object.\n",
        "df = pd.read_csv(\"credit-card-default.csv\")\n",
        "\n",
        "# Printing the first few rows of the DataFrame\n",
        "df.head()\n"
      ]
    },
    {
      "cell_type": "markdown",
      "metadata": {},
      "source": [
        "## Step 3 - Basic Data Exploration"
      ]
    },
    {
      "cell_type": "code",
      "execution_count": 3,
      "metadata": {
        "colab": {
          "base_uri": "https://localhost:8080/"
        },
        "id": "DszWPJvWYVUG",
        "outputId": "127fe2d9-f957-43bb-adaa-78e14a9db3c6"
      },
      "outputs": [
        {
          "name": "stdout",
          "output_type": "stream",
          "text": [
            "<class 'pandas.core.frame.DataFrame'>\n",
            "RangeIndex: 30000 entries, 0 to 29999\n",
            "Data columns (total 25 columns):\n",
            " #   Column     Non-Null Count  Dtype\n",
            "---  ------     --------------  -----\n",
            " 0   id         30000 non-null  int64\n",
            " 1   linitBal   30000 non-null  int64\n",
            " 2   sex        30000 non-null  int64\n",
            " 3   education  30000 non-null  int64\n",
            " 4   married    30000 non-null  int64\n",
            " 5   age        30000 non-null  int64\n",
            " 6   pay_0      30000 non-null  int64\n",
            " 7   pay_2      30000 non-null  int64\n",
            " 8   pay_3      30000 non-null  int64\n",
            " 9   pay_4      30000 non-null  int64\n",
            " 10  pay_5      30000 non-null  int64\n",
            " 11  pay_6      30000 non-null  int64\n",
            " 12  billAmt_1  30000 non-null  int64\n",
            " 13  billAmt_2  30000 non-null  int64\n",
            " 14  billAmt_3  30000 non-null  int64\n",
            " 15  billAmt_4  30000 non-null  int64\n",
            " 16  billAmt_5  30000 non-null  int64\n",
            " 17  billAmt_6  30000 non-null  int64\n",
            " 18  payAmt_1   30000 non-null  int64\n",
            " 19  payAmt_2   30000 non-null  int64\n",
            " 20  payAmt_3   30000 non-null  int64\n",
            " 21  payAmt_4   30000 non-null  int64\n",
            " 22  payAmt_5   30000 non-null  int64\n",
            " 23  payAmt_6   30000 non-null  int64\n",
            " 24  defaulted  30000 non-null  int64\n",
            "dtypes: int64(25)\n",
            "memory usage: 5.7 MB\n"
          ]
        }
      ],
      "source": [
        "# Displaying information about the DataFrame's columns, types, and non-null counts\n",
        "df.info()\n"
      ]
    },
    {
      "cell_type": "markdown",
      "metadata": {
        "id": "oG4jUR4yYVUI"
      },
      "source": [
        "In this case, we know that there are no major data quality issues, so we'll just go ahead and build the model."
      ]
    },
    {
      "cell_type": "markdown",
      "metadata": {
        "id": "EM9rMMBqYVUJ"
      },
      "source": [
        "## Step 4 - Splitting Dataset"
      ]
    },
    {
      "cell_type": "code",
      "execution_count": 5,
      "metadata": {
        "id": "Obu0I9uoYVUN"
      },
      "outputs": [],
      "source": [
        "# Importing train_test_split from sklearn library\n",
        "from sklearn.model_selection import train_test_split\n",
        "\n",
        "# Putting feature variable to X\n",
        "X = df.drop('defaulted', axis=1)\n",
        "\n",
        "# Putting response variable to y\n",
        "y = df['defaulted']\n",
        "\n",
        "# Splitting the data into train and test with test size as 30% and random state as 101\n",
        "X_train, X_test, y_train, y_test = train_test_split(X, y, test_size=0.3, random_state=101)\n"
      ]
    },
    {
      "cell_type": "markdown",
      "metadata": {
        "id": "XH08jEIoYVUO"
      },
      "source": [
        "### 3. Applying Bagging"
      ]
    },
    {
      "cell_type": "markdown",
      "metadata": {
        "id": "hJleI7FGYVUP"
      },
      "source": [
        "\n",
        "## Step 5 - Bagging classifier: an ensemble meta-estimator"
      ]
    },
    {
      "cell_type": "markdown",
      "metadata": {},
      "source": [
        "\n",
        "Bagging classifier can be called as an ensemble meta-estimator which is created by fitting multiple versions of base estimator, trained with modified training data set created using bagging sampling technique (data sampled using replacement) or otherwise. The nagging sampling technique can result in the training set consisting of duplicate dataset or unique data set. This sampling technique is also called as bootstrap aggregation. The final predictor (also called as bagging classifier) combines the predictions made by each estimator / classifier by voting (classification) or by averaging (regression). \n",
        "\n",
        "Bagging classifier helps in reducing the variance of individual estimators by introducing randomisation into the training stage of each of the estimators and making an ensemble out of all the estimators. \n",
        "\n",
        "Lets first check this using **simple Decision Tree** to build this model"
      ]
    },
    {
      "cell_type": "code",
      "execution_count": 6,
      "metadata": {
        "id": "xRxMx_R4YVUQ"
      },
      "outputs": [],
      "source": [
        "# StandardScaler: A preprocessing technique that scales and standardizes features.\n",
        "# It helps improve the performance of certain algorithms by ensuring all features have the same scale.\n",
        "from sklearn.preprocessing import StandardScaler\n",
        "\n",
        "# DecisionTreeClassifier: A classification algorithm that creates a decision tree to make predictions.\n",
        "# It is a versatile algorithm capable of handling both binary and multiclass classification tasks.\n",
        "from sklearn.tree import DecisionTreeClassifier\n",
        "\n",
        "# make_pipeline: A function that creates a sequential pipeline of data preprocessing steps and a model.\n",
        "# It simplifies the process of creating and managing the pipeline.\n",
        "from sklearn.pipeline import make_pipeline"
      ]
    },
    {
      "cell_type": "markdown",
      "metadata": {
        "id": "gmW_REUfYVUR"
      },
      "source": [
        "### Step 5.1 - Make a pipeline Estimator to standardize X and use DecisionTreeClassifier with random_state=1 as model. "
      ]
    },
    {
      "cell_type": "code",
      "execution_count": 7,
      "metadata": {
        "colab": {
          "base_uri": "https://localhost:8080/"
        },
        "id": "DCTTH0hUYVUS",
        "outputId": "95d649e3-ace7-4d9e-b8b5-efebe4b46f5e"
      },
      "outputs": [
        {
          "data": {
            "text/plain": [
              "Pipeline(steps=[('standardscaler', StandardScaler()),\n",
              "                ('decisiontreeclassifier',\n",
              "                 DecisionTreeClassifier(random_state=1))])"
            ]
          },
          "execution_count": 7,
          "metadata": {},
          "output_type": "execute_result"
        }
      ],
      "source": [
        "# Creating a pipeline that includes data preprocessing and a decision tree classifier\n",
        "pipeline = make_pipeline(StandardScaler(), DecisionTreeClassifier(random_state=1))\n",
        "\n",
        "# Fitting the pipeline model on the training data\n",
        "pipeline.fit(X_train, y_train)\n"
      ]
    },
    {
      "cell_type": "code",
      "execution_count": 8,
      "metadata": {
        "colab": {
          "base_uri": "https://localhost:8080/"
        },
        "id": "5O2lChM8YVUT",
        "outputId": "9d80e37e-6fed-40b8-e9ed-c1d554d59a47"
      },
      "outputs": [
        {
          "name": "stdout",
          "output_type": "stream",
          "text": [
            "Model test score: 0.729,  Model training score: 1.000, \n"
          ]
        }
      ],
      "source": [
        "# Calculating and printing the model scores on test and training data\n",
        "test_score = pipeline.score(X_test, y_test)\n",
        "train_score = pipeline.score(X_train, y_train)\n",
        "\n",
        "print(f\"Model test score: {test_score:.3f}, Model training score: {train_score:.3f}\")\n"
      ]
    },
    {
      "cell_type": "markdown",
      "metadata": {
        "id": "DI4ux9XuYVUU"
      },
      "source": [
        "The model comes up with the above scores. Note that the model tends to overfit the data as the test score is 0.72 and training score is 1.00.\n",
        "\n",
        "Here naturally reducing this overfitting issue is required. Lets do this using various bagging methods"
      ]
    },
    {
      "cell_type": "markdown",
      "metadata": {},
      "source": [
        "### Step 5.2 - Basic Bagging ensemble\n",
        "\n",
        "Reference doc link: https://scikit-learn.org/stable/modules/generated/sklearn.ensemble.BaggingClassifier.html\n",
        "\n",
        "We will fit a bagging classifier using default hyperparameters and base estimator as pipeline built using Decision Tree Classifier. Note that you can further perform a Grid Search or Randomized search to get the most appropriate estimator."
      ]
    },
    {
      "cell_type": "code",
      "execution_count": 9,
      "metadata": {
        "colab": {
          "base_uri": "https://localhost:8080/"
        },
        "id": "ryxb3tFwYVUU",
        "outputId": "057fd32d-f337-4220-faf1-0bdc0cd5e602"
      },
      "outputs": [
        {
          "name": "stdout",
          "output_type": "stream",
          "text": [
            "Model test score: 0.813,  Model training score: 0.980, \n"
          ]
        }
      ],
      "source": [
        "# Importing BaggingClassifier from sklearn ensemble module\n",
        "from sklearn.ensemble import BaggingClassifier\n",
        "\n",
        "# Instantiate the BaggingClassifier using the pipeline as the base estimator\n",
        "bgclassifier = BaggingClassifier(base_estimator=pipeline, random_state=1)\n",
        "\n",
        "# Fitting the BaggingClassifier model on the training data\n",
        "bgclassifier.fit(X_train, y_train)\n",
        "\n",
        "# Printing the model scores on test and training data\n",
        "print(\"Model test score: %.3f, \" % bgclassifier.score(X_test, y_test),\n",
        "      \"Model training score: %.3f\" % bgclassifier.score(X_train, y_train))\n"
      ]
    },
    {
      "cell_type": "markdown",
      "metadata": {
        "id": "STK-HBsqYVUV"
      },
      "source": [
        "The model comes up with the following scores. Note that the model tends to overfit the data as the test score is 0.81 and training score is 0.98. However, the model will give better generalization performance than the model fit with Descision Tree alone.\n",
        "\n",
        "Note: You can use any algorithm with bagging classifier \n",
        "\n",
        "\n"
      ]
    },
    {
      "cell_type": "markdown",
      "metadata": {},
      "source": [
        "\n",
        "### Step 5.3 - Tuning BaggingClassifier\n",
        "<p style='text-align: right;'> 5 points</p>\n",
        "\n",
        "We will further perform a Grid Search or Randomized search to get the most appropriate estimator.\n",
        "\n",
        "I would like to use GridSearchCV to find the best parameters for both BaggingClassifier and DecisionTreeClassifier (e.g. max_depth from DecisionTreeClassifier and max_samples & max_features from BaggingClassifier), what is the syntax for this?"
      ]
    },
    {
      "cell_type": "code",
      "execution_count": 10,
      "metadata": {
        "colab": {
          "base_uri": "https://localhost:8080/"
        },
        "id": "3mEz9S6TYVUW",
        "outputId": "c1ca0c6f-7ab4-4837-bf66-0960cf83d506"
      },
      "outputs": [
        {
          "data": {
            "text/plain": [
              "GridSearchCV(estimator=BaggingClassifier(base_estimator=DecisionTreeClassifier(),\n",
              "                                         random_state=1),\n",
              "             param_grid={'base_estimator__max_depth': [1, 5, 10, 15, 20],\n",
              "                         'max_features': [1, 5, 10, 15, 20],\n",
              "                         'max_samples': [0.05, 0.1, 0.2, 0.5]},\n",
              "             scoring='accuracy')"
            ]
          },
          "execution_count": 10,
          "metadata": {},
          "output_type": "execute_result"
        }
      ],
      "source": [
        "# Importing the GridSearchCV module from scikit-learn's model_selection\n",
        "from sklearn.model_selection import GridSearchCV\n",
        "\n",
        "# Defining a dictionary of hyperparameters for the GridSearchCV to explore\n",
        "param_grid = {\n",
        "    'base_estimator__max_depth': [1, 5, 10, 15, 20],  # Depth of base decision tree\n",
        "    'max_samples': [0.05, 0.1, 0.2, 0.5],            # Fraction of samples used for each base estimator\n",
        "    'max_features': [1, 5, 10, 15, 20]               # Number of features considered for each base estimator\n",
        "}\n",
        "\n",
        "# Instantiating GridSearchCV with BaggingClassifier as the estimator and the defined parameter grid\n",
        "grid_search = GridSearchCV(estimator=BaggingClassifier(base_estimator=DecisionTreeClassifier(), random_state=1),\n",
        "                           param_grid=param_grid, scoring='accuracy')\n",
        "\n",
        "# Fitting the grid search on the training data\n",
        "grid_search.fit(X_train, y_train)\n"
      ]
    },
    {
      "cell_type": "code",
      "execution_count": 11,
      "metadata": {
        "colab": {
          "base_uri": "https://localhost:8080/"
        },
        "id": "vO7gYnBrYVUX",
        "outputId": "2029b9f4-61b8-4dce-f9b9-39e7ec799c13"
      },
      "outputs": [
        {
          "name": "stdout",
          "output_type": "stream",
          "text": [
            "Optimal hyperparameter combination:  {'base_estimator__max_depth': 5, 'max_features': 20, 'max_samples': 0.5}\n",
            "Mean cross-validated training accuracy score: 0.8177619047619048\n"
          ]
        }
      ],
      "source": [
        "# Printing the optimal hyperparameter combination selected by GridSearchCV\n",
        "print(\"Optimal hyperparameter combination:\", gs.best_params_)\n",
        "\n",
        "# Printing the mean cross-validated training accuracy score using the best hyperparameters\n",
        "print(\"Mean cross-validated training accuracy score:\", gs.best_score_)\n"
      ]
    },
    {
      "cell_type": "markdown",
      "metadata": {
        "id": "isS2IogMYVUY"
      },
      "source": [
        "Check our BaggingClassifier again on optimized parameters"
      ]
    },
    {
      "cell_type": "code",
      "execution_count": 12,
      "metadata": {
        "colab": {
          "base_uri": "https://localhost:8080/"
        },
        "id": "3EumPHoXYVUY",
        "outputId": "abc4719b-f4cd-471a-83b8-fd9d041b5664"
      },
      "outputs": [
        {
          "name": "stdout",
          "output_type": "stream",
          "text": [
            "Model test score: 0.828,  Model training score: 0.822, \n"
          ]
        }
      ],
      "source": [
        "# Instantiate the BaggingClassifier with optimized parameters from GridSearchCV\n",
        "bgclassifier = BaggingClassifier(base_estimator=DecisionTreeClassifier(max_depth=5),\n",
        "                                  max_features=20,\n",
        "                                  max_samples=0.5,\n",
        "                                  random_state=1)\n",
        "\n",
        "# Fit the BaggingClassifier model on the training data\n",
        "bgclassifier.fit(X_train, y_train)\n",
        "\n",
        "# Calculate and print the model scores on test and training data\n",
        "test_score = bgclassifier.score(X_test, y_test)\n",
        "train_score = bgclassifier.score(X_train, y_train)\n",
        "\n",
        "print(f\"Model test score: {test_score:.3f}, Model training score: {train_score:.3f}\")\n"
      ]
    },
    {
      "cell_type": "markdown",
      "metadata": {
        "id": "_f_jniy0YVUZ"
      },
      "source": [
        "Wohooo! did you observe that we have succesfully eliminated problem of overfitting using bagging method and hyperparameter tuning it."
      ]
    },
    {
      "cell_type": "markdown",
      "metadata": {
        "id": "4GK2mKxkYVUa"
      },
      "source": [
        "\n",
        "## Step 6 - RandomForest Classifier"
      ]
    },
    {
      "cell_type": "markdown",
      "metadata": {},
      "source": [
        "Now lets check RandomForest algorithm for doing bagging.\n",
        "\n",
        "Random forest, like its name implies, consists of a large number of individual decision trees that operate as an ensemble. Each individual tree in the random forest spits out a class prediction and the class with the most votes becomes our model’s prediction (see figure below).\n",
        "\n",
        "Random forest is an extension of bagging that also randomly selects subsets of features used in each data sample.\n",
        "\n",
        "Reference doc: https://scikit-learn.org/stable/modules/generated/sklearn.ensemble.RandomForestClassifier.html"
      ]
    },
    {
      "cell_type": "markdown",
      "metadata": {
        "id": "U6QNHJZPqG9j"
      },
      "source": [
        "![2.JPG](data:image/jpeg;base64,/9j/4AAQSkZJRgABAQEAeAB4AAD/4REiRXhpZgAATU0AKgAAAAgABAE7AAIAAAAdAAAISodpAAQAAAABAAAIaJydAAEAAAA6AAAQ4OocAAcAAAgMAAAAPgAAAAAc6gAAAAgAAAAAAAAAAAAAAAAAAAAAAAAAAAAAAAAAAAAAAAAAAAAAAAAAAAAAAAAAAAAAAAAAAAAAAAAAAAAAAAAAAAAAAAAAAAAAAAAAAAAAAAAAAAAAAAAAAAAAAAAAAAAAAAAAAAAAAAAAAAAAAAAAAAAAAAAAAAAAAAAAAAAAAAAAAAAAAAAAAAAAAAAAAAAAAAAAAAAAAAAAAAAAAAAAAAAAAAAAAAAAAAAAAAAAAAAAAAAAAAAAAAAAAAAAAAAAAAAAAAAAAAAAAAAAAAAAAAAAAAAAAAAAAAAAAAAAAAAAAAAAAAAAAAAAAAAAAAAAAAAAAAAAAAAAAAAAAAAAAAAAAAAAAAAAAAAAAAAAAAAAAAAAAAAAAAAAAAAAAAAAAAAAAAAAAAAAAAAAAAAAAAAAAAAAAAAAAAAAAAAAAAAAAAAAAAAAAAAAAAAAAAAAAAAAAAAAAAAAAAAAAAAAAAAAAAAAAAAAAAAAAAAAAAAAAAAAAAAAAAAAAAAAAAAAAAAAAAAAAAAAAAAAAAAAAAAAAAAAAAAAAAAAAAAAAAAAAAAAAAAAAAAAAAAAAAAAAAAAAAAAAAAAAAAAAAAAAAAAAAAAAAAAAAAAAAAAAAAAAAAAAAAAAAAAAAAAAAAAAAAAAAAAAAAAAAAAAAAAAAAAAAAAAAAAAAAAAAAAAAAAAAAAAAAAAAAAAAAAAAAAAAAAAAAAAAAAAAAAAAAAAAAAAAAAAAAAAAAAAAAAAAAAAAAAAAAAAAAAAAAAAAAAAAAAAAAAAAAAAAAAAAAAAAAAAAAAAAAAAAAAAAAAAAAAAAAAAAAAAAAAAAAAAAAAAAAAAAAAAAAAAAAAAAAAAAAAAAAAAAAAAAAAAAAAAAAAAAAAAAAAAAAAAAAAAAAAAAAAAAAAAAAAAAAAAAAAAAAAAAAAAAAAAAAAAAAAAAAAAAAAAAAAAAAAAAAAAAAAAAAAAAAAAAAAAAAAAAAAAAAAAAAAAAAAAAAAAAAAAAAAAAAAAAAAAAAAAAAAAAAAAAAAAAAAAAAAAAAAAAAAAAAAAAAAAAAAAAAAAAAAAAAAAAAAAAAAAAAAAAAAAAAAAAAAAAAAAAAAAAAAAAAAAAAAAAAAAAAAAAAAAAAAAAAAAAAAAAAAAAAAAAAAAAAAAAAAAAAAAAAAAAAAAAAAAAAAAAAAAAAAAAAAAAAAAAAAAAAAAAAAAAAAAAAAAAAAAAAAAAAAAAAAAAAAAAAAAAAAAAAAAAAAAAAAAAAAAAAAAAAAAAAAAAAAAAAAAAAAAAAAAAAAAAAAAAAAAAAAAAAAAAAAAAAAAAAAAAAAAAAAAAAAAAAAAAAAAAAAAAAAAAAAAAAAAAAAAAAAAAAAAAAAAAAAAAAAAAAAAAAAAAAAAAAAAAAAAAAAAAAAAAAAAAAAAAAAAAAAAAAAAAAAAAAAAAAAAAAAAAAAAAAAAAAAAAAAAAAAAAAAAAAAAAAAAAAAAAAAAAAAAAAAAAAAAAAAAAAAAAAAAAAAAAAAAAAAAAAAAAAAAAAAAAAAAAAAAAAAAAAAAAAAAAAAAAAAAAAAAAAAAAAAAAAAAAAAAAAAAAAAAAAAAAAAAAAAAAAAAAAAAAAAAAAAAAAAAAAAAAAAAAAAAAAAAAAAAAAAAAAAAAAAAAAAAAAAAAAAAAAAAAAAAAAAAAAAAAAAAAAAAAAAAAAAAAAAAAAAAAAAAAAAAAAAAAAAAAAAAAAAAAAAAAAAAAAAAAAAAAAAAAAAAAAAAAAAAAAAAAAAAAAAAAAAAAAAAAAAAAAAAAAAAAAAAAAAAAAAAAAAAAAAAAAAAAAAAAAAAAAAAAAAAAAAAAAAAAAAAAAAAAAAAAAAAAAAAAAAAAAAAAAAAAAAAAAAAAAAAAAAAAAAAAAAAAAAAAAAAAAAAAAAAAAAAAAAAAAAAAAAAAAAAAAAAAAAAAAAAAAAAAAAAAAAAAAAAAAAAAAAAAAAAAAAAAAAAAAAAAAAAAAAAAAAAAAAAAAAAAAAAAAAAAAAAAAAAAAAAAAAAAAAAAAAAAAAAAAAAAAAAAAAAAAAAAAAAAAAAAAAAAAAAAAAAAAAAAAAAAAAAAAAAAAAAAAAAAAAAAAAAAAAAAAAAAAAAAAAAAAAAAAAAAAAAAAAAAAAAAAAAAAAAAAAAAAAAAAAAAAAAAAAAAAAAAAAAAAAAAAAAAAAAAAAAAAAAAAAAAAAAAAAAAAAAAAAAAAAAAAAAAAAAAAAAAAAAAAAAAAAAAAAAAAAAAAAAAAAAAAAAAAAAAAAAAAAAAAAAAAAAAAAAAAAAAAAAAAAAAAAAAAAAAAAAAAAAAAAAAAAAAAAAAAAAAAAAAAAAAAAAAAAAAAAAAAAAAAAAAAAAAAAAAAAAAAAAAAAAAAAAAAAAAAAAAAAAAAAAAAAAAAAAAAAAAAAAAAAAAAAAAAAAAAAAAAAAAAAAAAAAAAAAAAAAAAAAAAAAAAAAAAAAAAAAAAAAAAAAAAAAAAAAAAAAAAAAAAAAAAAAAAAAAAAAAAAAAAAAAAAAAAAAAAAAAAAAAAAAAAAAAAAAAAAAAAAAAAAAAAAAAAAAAAAAAAAAAAAAAAAAAAAAAAAAAAAAAAAAAAAAAAAAAAAAAAAAAAAAAAAAAAAAAAAAAAAAAAAAAAAAAAAAAAAAAAAAAAAAAAAAAAAAAAAAAAAAAAAAAAAAAAAAAAAAAAAAAAAAAAAAAAAAAAAAAAAAAAAAAAAAAAAAAAAAAAAAAAAAEFudWdhbnRpIFN1cmVzaCAoQ29uc3VsdGFudCkAAAAFkAMAAgAAABQAABC2kAQAAgAAABQAABDKkpEAAgAAAAMzNgAAkpIAAgAAAAMzNgAA6hwABwAACAwAAAiqAAAAABzqAAAACAAAAAAAAAAAAAAAAAAAAAAAAAAAAAAAAAAAAAAAAAAAAAAAAAAAAAAAAAAAAAAAAAAAAAAAAAAAAAAAAAAAAAAAAAAAAAAAAAAAAAAAAAAAAAAAAAAAAAAAAAAAAAAAAAAAAAAAAAAAAAAAAAAAAAAAAAAAAAAAAAAAAAAAAAAAAAAAAAAAAAAAAAAAAAAAAAAAAAAAAAAAAAAAAAAAAAAAAAAAAAAAAAAAAAAAAAAAAAAAAAAAAAAAAAAAAAAAAAAAAAAAAAAAAAAAAAAAAAAAAAAAAAAAAAAAAAAAAAAAAAAAAAAAAAAAAAAAAAAAAAAAAAAAAAAAAAAAAAAAAAAAAAAAAAAAAAAAAAAAAAAAAAAAAAAAAAAAAAAAAAAAAAAAAAAAAAAAAAAAAAAAAAAAAAAAAAAAAAAAAAAAAAAAAAAAAAAAAAAAAAAAAAAAAAAAAAAAAAAAAAAAAAAAAAAAAAAAAAAAAAAAAAAAAAAAAAAAAAAAAAAAAAAAAAAAAAAAAAAAAAAAAAAAAAAAAAAAAAAAAAAAAAAAAAAAAAAAAAAAAAAAAAAAAAAAAAAAAAAAAAAAAAAAAAAAAAAAAAAAAAAAAAAAAAAAAAAAAAAAAAAAAAAAAAAAAAAAAAAAAAAAAAAAAAAAAAAAAAAAAAAAAAAAAAAAAAAAAAAAAAAAAAAAAAAAAAAAAAAAAAAAAAAAAAAAAAAAAAAAAAAAAAAAAAAAAAAAAAAAAAAAAAAAAAAAAAAAAAAAAAAAAAAAAAAAAAAAAAAAAAAAAAAAAAAAAAAAAAAAAAAAAAAAAAAAAAAAAAAAAAAAAAAAAAAAAAAAAAAAAAAAAAAAAAAAAAAAAAAAAAAAAAAAAAAAAAAAAAAAAAAAAAAAAAAAAAAAAAAAAAAAAAAAAAAAAAAAAAAAAAAAAAAAAAAAAAAAAAAAAAAAAAAAAAAAAAAAAAAAAAAAAAAAAAAAAAAAAAAAAAAAAAAAAAAAAAAAAAAAAAAAAAAAAAAAAAAAAAAAAAAAAAAAAAAAAAAAAAAAAAAAAAAAAAAAAAAAAAAAAAAAAAAAAAAAAAAAAAAAAAAAAAAAAAAAAAAAAAAAAAAAAAAAAAAAAAAAAAAAAAAAAAAAAAAAAAAAAAAAAAAAAAAAAAAAAAAAAAAAAAAAAAAAAAAAAAAAAAAAAAAAAAAAAAAAAAAAAAAAAAAAAAAAAAAAAAAAAAAAAAAAAAAAAAAAAAAAAAAAAAAAAAAAAAAAAAAAAAAAAAAAAAAAAAAAAAAAAAAAAAAAAAAAAAAAAAAAAAAAAAAAAAAAAAAAAAAAAAAAAAAAAAAAAAAAAAAAAAAAAAAAAAAAAAAAAAAAAAAAAAAAAAAAAAAAAAAAAAAAAAAAAAAAAAAAAAAAAAAAAAAAAAAAAAAAAAAAAAAAAAAAAAAAAAAAAAAAAAAAAAAAAAAAAAAAAAAAAAAAAAAAAAAAAAAAAAAAAAAAAAAAAAAAAAAAAAAAAAAAAAAAAAAAAAAAAAAAAAAAAAAAAAAAAAAAAAAAAAAAAAAAAAAAAAAAAAAAAAAAAAAAAAAAAAAAAAAAAAAAAAAAAAAAAAAAAAAAAAAAAAAAAAAAAAAAAAAAAAAAAAAAAAAAAAAAAAAAAAAAAAAAAAAAAAAAAAAAAAAAAAAAAAAAAAAAAAAAAAAAAAAAAAAAAAAAAAAAAAAAAAAAAAAAAAAAAAAAAAAAAAAAAAAAAAAAAAAAAAAAAAAAAAAAAAAAAAAAAAAAAAAAAAAAAAAAAAAAAAAAAAAAAAAAAAAAAAAAAAAAAAAAAAAAAAAAAAAAAAAAAAAAAAAAAAAAAAAAAAAAAAAAAAAAAAAAAAAAAAAAAAAAAAAAAAAAAAAAAAAAAAAAAAAAAAAAAAAAAAAAAAAAAAAAAAAAAAAAAAAAAAAAAAAAAAAAAAAAAAAAAAAAAAAAAAAAAAAAAAAAAAAAAAAAAAAAAAAAAAAAAAAAAAAAAAAAAAAAAAAAAAAAAAAAAAAAAAAAAAAAAAAAAAAAAAAAAAAAAAAAAAAAAAAAAAAAAAAAAAAAAAAAAAAAAAAAAAAAAAAAAAAAAAAAAAAAAAAAAAAAAAAAAAAAAAAAAAAAAAAAAAAAAAAAAAAAAAAAAAAAAAAAAAAAAAAAAAAAAAAAAAAAAAAAAAAAAAAAAAAAAAAAAAAAAAAAAAAAAAAAAAAAAAAAAAAAAAAAAAAAAAAAAAAAAAAAAAAAAAAAAAAAAAAAAAAAAAAAAAAAAAAAAAAAAAAAAAAAAAAAAAAAAAAAAAAAAAAAAAAAAAAAAAAAAAAAAAAAAAAAAAAAAAAAAAAAAAAAAAAAAAAAAAAAAAAAAAAAAAAAAAAAAAAAAAAAAAAAAAAAAAAAAAAAAAAAAAAAAAAAAAAAAAAAAAAAAAAAAAAAAAAAAAAAAAAAAAAAAAAAAAAAAAAAAAAAAAAAAAAAAAAAAAAAAAAAAAAAAAAAAAAAAAAAAAAAAAAAAAAAAAAAAAAAAAAAAAAAAAAAAAAAAAAAAAAAAAAAAAAAAAAAAAAAAAAAAAAAAAAAAAAAAAAAAAAAAAAAAAAAAAAAAAAAAAAAAAAAAAAAAAAAAAAAAAAAAAAAAAAAAAAAAAAAAAAAAAAAAAAAAAAAAAAAAAAAAAAAAAAAAAAAAAAAAAAAAAAAAAAAAAAAAAAAAAAAAAAAAAAAAAAAAAAAAAAAAAAAAAAAAAAAAAAAAAAAAAAAAAAAMjAyMjowMToxMiAxNjo1ODo1NAAyMDIyOjAxOjEyIDE2OjU4OjU0AAAAQQBuAHUAZwBhAG4AdABpACAAUwB1AHIAZQBzAGgAIAAoAEMAbwBuAHMAdQBsAHQAYQBuAHQAKQAAAP/hCy9odHRwOi8vbnMuYWRvYmUuY29tL3hhcC8xLjAvADw/eHBhY2tldCBiZWdpbj0n77u/JyBpZD0nVzVNME1wQ2VoaUh6cmVTek5UY3prYzlkJz8+DQo8eDp4bXBtZXRhIHhtbG5zOng9ImFkb2JlOm5zOm1ldGEvIj48cmRmOlJERiB4bWxuczpyZGY9Imh0dHA6Ly93d3cudzMub3JnLzE5OTkvMDIvMjItcmRmLXN5bnRheC1ucyMiPjxyZGY6RGVzY3JpcHRpb24gcmRmOmFib3V0PSJ1dWlkOmZhZjViZGQ1LWJhM2QtMTFkYS1hZDMxLWQzM2Q3NTE4MmYxYiIgeG1sbnM6ZGM9Imh0dHA6Ly9wdXJsLm9yZy9kYy9lbGVtZW50cy8xLjEvIi8+PHJkZjpEZXNjcmlwdGlvbiByZGY6YWJvdXQ9InV1aWQ6ZmFmNWJkZDUtYmEzZC0xMWRhLWFkMzEtZDMzZDc1MTgyZjFiIiB4bWxuczp4bXA9Imh0dHA6Ly9ucy5hZG9iZS5jb20veGFwLzEuMC8iPjx4bXA6Q3JlYXRlRGF0ZT4yMDIyLTAxLTEyVDE2OjU4OjU0LjM1NjwveG1wOkNyZWF0ZURhdGU+PC9yZGY6RGVzY3JpcHRpb24+PHJkZjpEZXNjcmlwdGlvbiByZGY6YWJvdXQ9InV1aWQ6ZmFmNWJkZDUtYmEzZC0xMWRhLWFkMzEtZDMzZDc1MTgyZjFiIiB4bWxuczpkYz0iaHR0cDovL3B1cmwub3JnL2RjL2VsZW1lbnRzLzEuMS8iPjxkYzpjcmVhdG9yPjxyZGY6U2VxIHhtbG5zOnJkZj0iaHR0cDovL3d3dy53My5vcmcvMTk5OS8wMi8yMi1yZGYtc3ludGF4LW5zIyI+PHJkZjpsaT5BbnVnYW50aSBTdXJlc2ggKENvbnN1bHRhbnQpPC9yZGY6bGk+PC9yZGY6U2VxPg0KCQkJPC9kYzpjcmVhdG9yPjwvcmRmOkRlc2NyaXB0aW9uPjwvcmRmOlJERj48L3g6eG1wbWV0YT4NCiAgICAgICAgICAgICAgICAgICAgICAgICAgICAgICAgICAgICAgICAgICAgICAgICAgICAgICAgICAgICAgICAgICAgICAgICAgICAgICAgICAgICAgICAgICAgICAgICAgICAKICAgICAgICAgICAgICAgICAgICAgICAgICAgICAgICAgICAgICAgICAgICAgICAgICAgICAgICAgICAgICAgICAgICAgICAgICAgICAgICAgICAgICAgICAgICAgICAgICAgIAogICAgICAgICAgICAgICAgICAgICAgICAgICAgICAgICAgICAgICAgICAgICAgICAgICAgICAgICAgICAgICAgICAgICAgICAgICAgICAgICAgICAgICAgICAgICAgICAgICAgCiAgICAgICAgICAgICAgICAgICAgICAgICAgICAgICAgICAgICAgICAgICAgICAgICAgICAgICAgICAgICAgICAgICAgICAgICAgICAgICAgICAgICAgICAgICAgICAgICAgICAKICAgICAgICAgICAgICAgICAgICAgICAgICAgICAgICAgICAgICAgICAgICAgICAgICAgICAgICAgICAgICAgICAgICAgICAgICAgICAgICAgICAgICAgICAgICAgICAgICAgIAogICAgICAgICAgICAgICAgICAgICAgICAgICAgICAgICAgICAgICAgICAgICAgICAgICAgICAgICAgICAgICAgICAgICAgICAgICAgICAgICAgICAgICAgICAgICAgICAgICAgCiAgICAgICAgICAgICAgICAgICAgICAgICAgICAgICAgICAgICAgICAgICAgICAgICAgICAgICAgICAgICAgICAgICAgICAgICAgICAgICAgICAgICAgICAgICAgICAgICAgICAKICAgICAgICAgICAgICAgICAgICAgICAgICAgICAgICAgICAgICAgICAgICAgICAgICAgICAgICAgICAgICAgICAgICAgICAgICAgICAgICAgICAgICAgICAgICAgICAgICAgIAogICAgICAgICAgICAgICAgICAgICAgICAgICAgICAgICAgICAgICAgICAgICAgICAgICAgICAgICAgICAgICAgICAgICAgICAgICAgICAgICAgICAgICAgICAgICAgICAgICAgCiAgICAgICAgICAgICAgICAgICAgICAgICAgICAgICAgICAgICAgICAgICAgICAgICAgICAgICAgICAgICAgICAgICAgICAgICAgICAgICAgICAgICAgICAgICAgICAgICAgICAKICAgICAgICAgICAgICAgICAgICAgICAgICAgICAgICAgICAgICAgICAgICAgICAgICAgICAgICAgICAgICAgICAgICAgICAgICAgICAgICAgICAgICAgICAgICAgICAgICAgIAogICAgICAgICAgICAgICAgICAgICAgICAgICAgICAgICAgICAgICAgICAgICAgICAgICAgICAgICAgICAgICAgICAgICAgICAgICAgICAgICAgICAgICAgICAgICAgICAgICAgCiAgICAgICAgICAgICAgICAgICAgICAgICAgICAgICAgICAgICAgICAgICAgICAgICAgICAgICAgICAgICAgICAgICAgICAgICAgICAgICAgICAgICAgICAgICAgICAgICAgICAKICAgICAgICAgICAgICAgICAgICAgICAgICAgICAgICAgICAgICAgICAgICAgICAgICAgICAgICAgICAgICAgICAgICAgICAgICAgICAgICAgICAgICAgICAgICAgICAgICAgIAogICAgICAgICAgICAgICAgICAgICAgICAgICAgICAgICAgICAgICAgICAgICAgICAgICAgICAgICAgICAgICAgICAgICAgICAgICAgICAgICAgICAgICAgICAgICAgICAgICAgCiAgICAgICAgICAgICAgICAgICAgICAgICAgICAgICAgICAgICAgICAgICAgICAgICAgICAgICAgICAgICAgICAgICAgICAgICAgICAgICAgICAgICAgICAgICAgICAgICAgICAKICAgICAgICAgICAgICAgICAgICAgICAgICAgICAgICAgICAgICAgICAgICAgICAgICAgICAgICAgICAgICAgICAgICAgICAgICAgICAgICAgICAgICAgICAgICAgICAgICAgIAogICAgICAgICAgICAgICAgICAgICAgICAgICAgICAgICAgICAgICAgICAgICAgICAgICAgICAgICAgICAgICAgICAgICAgICAgICAgICAgICAgICAgICAgICAgICAgICAgICAgCiAgICAgICAgICAgICAgICAgICAgICAgICAgICAgICAgICAgICAgICAgICAgICAgICAgICAgICAgICAgICAgICAgICAgICAgICAgICAgICAgICAgICAgICAgICAgICAgICAgICAKICAgICAgICAgICAgICAgICAgICAgICAgICAgICAgICAgICAgICAgICAgICAgICAgICAgICAgICAgICAgICAgICAgICAgICAgICAgICAgICAgICAgICAgICAgICAgICAgICAgIAogICAgICAgICAgICAgICAgICAgICAgICAgICAgPD94cGFja2V0IGVuZD0ndyc/Pv/bAEMABwUFBgUEBwYFBggHBwgKEQsKCQkKFQ8QDBEYFRoZGBUYFxseJyEbHSUdFxgiLiIlKCkrLCsaIC8zLyoyJyorKv/bAEMBBwgICgkKFAsLFCocGBwqKioqKioqKioqKioqKioqKioqKioqKioqKioqKioqKioqKioqKioqKioqKioqKioqKv/AABEIAvMC6gMBIgACEQEDEQH/xAAfAAABBQEBAQEBAQAAAAAAAAAAAQIDBAUGBwgJCgv/xAC1EAACAQMDAgQDBQUEBAAAAX0BAgMABBEFEiExQQYTUWEHInEUMoGRoQgjQrHBFVLR8CQzYnKCCQoWFxgZGiUmJygpKjQ1Njc4OTpDREVGR0hJSlNUVVZXWFlaY2RlZmdoaWpzdHV2d3h5eoOEhYaHiImKkpOUlZaXmJmaoqOkpaanqKmqsrO0tba3uLm6wsPExcbHyMnK0tPU1dbX2Nna4eLj5OXm5+jp6vHy8/T19vf4+fr/xAAfAQADAQEBAQEBAQEBAAAAAAAAAQIDBAUGBwgJCgv/xAC1EQACAQIEBAMEBwUEBAABAncAAQIDEQQFITEGEkFRB2FxEyIygQgUQpGhscEJIzNS8BVictEKFiQ04SXxFxgZGiYnKCkqNTY3ODk6Q0RFRkdISUpTVFVWV1hZWmNkZWZnaGlqc3R1dnd4eXqCg4SFhoeIiYqSk5SVlpeYmZqio6Slpqeoqaqys7S1tre4ubrCw8TFxsfIycrS09TV1tfY2dri4+Tl5ufo6ery8/T19vf4+fr/2gAMAwEAAhEDEQA/APpGkpa5/wAcXc9h4G1e6s5DFNFbOyOvVTjrQBvg/wCcUua+QPBr/F7x3YzXfh7V5pooGCOWkhTBOcfex6V0f/CEfHr/AKCEn/gRbf40AfTmaM18x/8ACEfHr/oISf8AgRbf40f8IR8ev+ghJ/4EW3+NAH00TzSZrw208LfFpLKBbi7cyrGoc+dD97HPf1qb/hGPir/z9v8A9/of8aAPbM0ZrxP/AIRj4q/8/b/9/of8aP8AhGPir/z9v/3+h/xoA9szRmvE/wDhGPir/wA/b/8Af6H/ABo/4Rj4q/8AP2//AH+h/wAaAPbM0ZrxP/hGPir/AM/b/wDf6H/Gj/hGPir/AM/b/wDf6H/GgD2zNGa8S/4Rj4q/8/b/APf6H/Gj/hGfir/z9v8A9/of8aAPbc0E4614ZPofxRgHzXj59POh/wAayrjSPizNwt26r6CaH/GgynVjE98uNRjhyF+Zqy5rqSdvnPHpXhn/AAjPxVP/AC9v/wB/of8AGl/4Rj4q/wDP2/8A3+h/xoOOdWUj2ylzXiX/AAjHxV/5+3/7/Q/40f8ACMfFX/n7f/v9D/jQZHttLmvEv+EY+Kv/AD9v/wB/of8AGj/hGPir/wA/b/8Af6H/ABoA9tpVBZgB1NeI/wDCMfFX/n7f/v8AQ/41f0zwh8VXkMrXT4Xp++h/xplwi5Sse/WsPkwKvfHNTV4kPDHxV/5+3/7/AEP+NL/wjHxV/wCft/8Av9D/AI0j0krKx7ZRXif/AAjHxV/5+3/7/Q/40f8ACMfFX/n7f/v9D/jQM9sorxP/AIRj4q/8/b/9/of8aP8AhGPir/z9v/3+h/xoA9sorxP/AIRj4q/8/b/9/of8aP8AhGPir/z9v/3+h/xoA9sorxP/AIRj4q/8/b/9/of8aP8AhGPir/z9v/3+h/xoA9sorxP/AIRj4q/8/b/9/of8aP8AhGPir/z9v/3+h/xoA9szRXif/CMfFX/n7f8A7/Q/40f8Ix8Vf+ft/wDv9D/jQB7ZRXif/CMfFX/n7f8A7/Q/40f8Ix8Vf+ft/wDv9D/jQB7ZmivEv+EY+Kv/AD9v/wB/of8AGj/hF/ir/wA/b/8Af6H/ABoA9torxP8A4Rj4q/8AP2//AH+h/wAaP+EY+Kv/AD9v/wB/of8AGgD2zA9KTA9K8U/4Rj4q/wDP2/8A3+h/xo/4Rj4q/wDP2/8A3+h/xoA9r2r6fpRtX0rxT/hGPir/AM/b/wDf6H/Gj/hGPir/AM/b/wDf2H/GgVke1bF/u/pR5a/3R+VeK/8ACMfFX/n7f/v9D/jR/wAIx8Vf+ft/+/0P+NGoWR7T5af3R+VJ5Mf9wflXi/8AwjHxV/5+3/7/AEP+NH/CMfFX/n7f/v8AQ/40XYcqPZzbQ/8APNfypjWtuqktEuPpXjR8MfFX/n7f/v8AQ/41m6toXxVihEa3j5b/AKbQ9Pzqo3bsRPljG56tcujTsY12rngAU6ztzcXCp2714X/wjHxV/wCft/8Av9D/AI1vaV4P+KsMG9rp9z/9Nof8a6JPlicNOPPO574g2qAOgp1eI/8ACMfFX/n7f/v9D/jS/wDCMfFX/n7f/v8AQ/41ynpHttFeJf8ACMfFX/n7f/v9D/jR/wAIx8Vf+ft/+/0P+NAHttFeJf8ACMfFX/n7f/v9D/jSf8Iz8Vf+ft/+/wBD/jQB7RcTCGFpG7CuVnlM0zSN/Ea8m1rQviqzCFbx8A5P76H/ABrI/wCEY+Kv/P2//f6H/GuqlGyucFed5WR7ZSGvE/8AhGPir/z9v/3+h/xpD4Y+Kv8Az9v/AN/of8a3Oc9sorxP/hGPir/z9v8A9/of8aT/AIRj4q/8/b/9/of8aQHtlGa8T/4Rj4q/8/b/APf6H/Gk/wCEY+Kv/P2//f6H/GqA9szRXiX/AAjHxV/5+3/7/Q/40f8ACMfFX/n7f/v9D/jQB7YGKnK8GtSy1qSHCXGXX1718/f8Ix8Vf+ft/wDv9D/jSf8ACMfFX/n7f/v9D/jUSipbmkZOOx9PQXcVygaJs+1TV8vReH/izC26K9kU+00P+NbVla/FRsLdXTqf73mw/wCNc0qTWqOuFZPRn0PmjNeIJ4c+KciBkvGYHoRND/jTv+EZ+Kv/AD9v/wB/of8AGsToPbc0ZrxL/hGPir/z9v8A9/of8aP+EY+Kv/P2/wD3+h/xoA9tzRmvE/8AhGPir/z9v/3+h/xo/wCEY+Kv/P2//f6H/GgD2zNGa8T/AOEY+Kv/AD9v/wB/of8AGj/hGPir/wA/b/8Af6H/ABoA9szRmvE/+EY+Kv8Az9v/AN/of8aP+EY+Kv8Az9v/AN/of8aAPbM0oPNeJf8ACMfFX/n7f/v9D/jVPVPCnxel02VLG8kE5xsPnQDuM9T6ZoA97zTR9a+ZH8FfHlEZm1CXCjJ/0i2/xrY/Z38V+Ite8Sa3aeINSlvBbpHtVwvyn589B7CgD6FHNFIKWgArmviF/wAk71z/AK83/lXS1zfxD/5J3rn/AF5v/KgDyz9lb/kTdV/6+E/9mr3evCP2Vv8AkTdV/wCvhP8A2avd6ACiiigBp60UHrRQAUUUUAFFFJQAUUjMFGWOB71QudTVMrDyfWgmU1Fal2SZIl3OcCsy51Rm+WEYHrVGWaSZsuxNMqbnFOu5aIVmLHLEk0UUUzDcKWiigAooopgLRR2ooAdGhkkVQOSa37eIQwqg/GqOmW//AC1YfStSg7qELK4lLRRQdAUUUUAFFFFABRRRQAUUUUAFFFFABRRRQAUUUUAFFFFABRRRQAUUUUAFFFFABRRRQAUUUmaAGySCOMu3QDJrmbqc3Fwznp2rT1e62r5Knk9ax+vSt6cepw4id3yos2Fubi5Ufwjk10ajaoAqnplt5FuGI+Zhk1erOcrs6KMOWIlLRRUGwUUUUAGagurgW9u0jdhx9amJrC1m63y+Sp4Xr9auEeZmdSfLEzZJDJIXbqTUdLRXYtNDy3qJSGlpDVAJRRRSGBpKU0lUAlBooNACUhpaQ0hiUlL3ooGixa301o2Y247g1vWWsw3OFk+R/fvXMUmeeKzlTUjaFRxO6BBGRzRmuUs9YntcK53p6GuhtNRgvF/duA3dSea5pU3E641FIt0UlLWZoFFFFABRRRQAUDrRQOtADbj/AI9Zf9w/yr5r/Zp/5HrxR16R/wA5K+lLj/j1l/3D/Kvmz9mj/kevFH0j/nJQB9LgYooooAK5v4h/8k71z/rzf+VdJXN/EP8A5J3rn/Xm/wDKgDyz9lb/AJE3Vf8Ar4T/ANmr3evCP2Vv+RN1X/r4T/2avd6ACiiigBp60UHrRQAUUUUAFJS0lAGHf3Ej3DIW+UHgVUqa8/4+3+tQ1J5c23J3CiikoIFzxSbq5/xrq0+j+HZZ7Q7ZSQFb0yQP615OfFuulsnU7jr/AM9G/wAaynWUHZnr4LK62Mhzxdke87qXNeDf8Jbrv/QSuP8Av43+NH/CW67/ANBO4/7+N/jWf1mPY7f9Xq/8yPecj1o3V4N/wluu/wDQTuP+/jf40f8ACWa7/wBBK4/7+t/jT+tR7D/1exC+0j3rNPhTzJlT1NeefDrxFfapLcW1/M0xRdyuxJPUf416JbP5VwjHoDXRGSkro8Wvh5Yes6c+h0ESCONVXoBUlMVg6gqeDzT6o61a2gUUUUDCiiigAooooAKKM0UAFFFFABRRRQAUUUUAFFFFABSZoNQXchit3ZeuDTWpMpKMXJk+aXNc8bycnPmMPxpPtc//AD1f86v2bPJ/tWl2OizRmud+1z/89X/Oj7XP/wA9X/M0ezD+1qXZnQ5ozXPfa5/+erfnVzTrmSSYq7FuKTg0a0sxp1ZqCW5rZopKWoPTA1HNIIomdugFSGsfV7nLCFTx1OKqKu7GdSfJG5mzytNMzt3NT6ba/aLgFvuryaqAEkAV0Wn232e2AI+ZuTW83ZWRxUouc7stgYpaBRXMeiFFFFABSUtJQBXvbgW9sz9+grl3Yu5Y9Sa0dXuvOm8tTlV9PWs2uqnGyuedXqczsgpKWkrYwEpDS0hpgJQaKKQxM0hNRXUpgtXkHO0ZriW1e+Y5+0yD2DGpnNR3OqhhpV78vQ7rNBNcJ/a19/z8yf8AfRoOq33/AD9Sf99Gs/bo6v7Nqd0d3mm5rhf7Wvv+fmT/AL6NJ/a18P8Al5k/76NHtkP+zandHd5pM1yuiapdSaikU8rSK39411JrSMuZXRx1qMqMuWQZpKU0lWZBSq7RsGQkEdxTaKRSOr0W5kubLMpyQcZrRrJ8Pf8AHif941rVwz0lY7oaxQtFFFSWFFFFABQOtFA60ANuP+PWX/cP8q+bP2aP+R68UfSP+clfSdx/x6y/7h/lXzZ+zR/yPXij6R/zkoA+l6KKKACub+If/JO9c/683/lXSVzfxD/5J3rn/Xm/8qAPLP2Vv+RN1X/r4T/2avd68I/ZW/5E3Vf+vhP/AGavd6ACiiigBp60UHrRQAUUUUABpKU0lAHPXn/H4/1qGprz/j8f61DUnlS+JiUd6WkNBJx/xL/5FWT/AHl/9CFePivYPiUP+KVk/wB5f/QhXj5GP8K4MT8Z93kGuFfqFFGKWuU+gCjvQeaKYHe/Cz/kKXX/AFz/AKivVM15X8LP+Qpd/wDXL+q16pXqUP4aPzzOP98kamm3eP3Tn6VqA8VzIJVgR1FbljcieLBPzLwa2OWjUurMt0UUUHSFFFFABRRRQBWvPNEW6E4I7Vl/2hcD+OtwjIrH1C18qTzEHyn9KaOespLVDP7RuP71L/aVx6j8qp0VdkcvtJdy5/ac/t+VL/ak/wDs/lVKiiyH7Sfcvf2rN/dX8qUatJ3RfzqhRTsg9rPuaI1du8Q/Ol/tj/pj/wCPf/WrNpKOVB7afc1P7YH/ADy/8eqtfawv2R/3Z6HvVM1Vv/8Aj0f6GqjBXMq1afs5a9CAawmOYz+dO/teI/wtWNRXVyI+K9vM2v7Wg9Gp39q2/wDtVh/U0UciH9Ymbv8Aalv/AHiKu6Xqdt9pPz9q5TtVvTP+Po/SlKC5TrweIn9Yid2NRtv79O/tC2/56VzdLXN7NH16xMjfm1OBIyUbc2OBWFI5kkLN1JptCqWYAdSauMVEznUdQu6XbedcB2HypzW+OKr2VsLe3Vf4iMmrNc8ndnfShyRCiiipNQooooAKq39z9mtmYH5j0q1muc1W68+52qfkTj8auEeZmVWfJEokkkk9aApb7ozSVuaRZgQmWReW4GfSuqUlFXOCEHOVjDpK0dSsDbuZIx+7J/Ks6nFqSuiZRcXZiUhpaQ1YhKO1FBoDoVNR/wCPCX6VwIrvdR/48Jf92uCHSuav0PayzaQUho+tBOBXMexYSkNLSHpSGjQ0P/kMQ/jXa1xWh/8AIZi/Gu1rso/CeDmP8X5AaSnU2tzzkJQaKDSGdN4e/wCPE/7xrWrJ8Pf8eJ/3jWtXFU+JnfT+FC0UUVBYUUUUAFA60UDrQA24/wCPWX/cP8q+bP2aP+R68UfSP+clfSdx/wAesv8AuH+VfNn7NH/I9eKPpH/OSgD6XooooAK5v4h/8k71z/rzf+VdJXN/EP8A5J3rn/Xm/wDKgDyz9lb/AJE3Vf8Ar4T/ANmr3evCP2Vv+RN1X/r4T/2avd6ACiiigBp60UHrRQAUUUUABpKU0lAHPXn/AB+P9ahqa8/4/H+tQ1J5UviYlFFFBJT1bSrfWNPktLsExydcduc1yX/CrNJzxcXX/fY/wruu1JUyhGWrR1UcXXoK1OVkcP8A8Ks0rb/x83X/AH2P8K47W/Ddrpviq30yJ5DFJjJJGf5V7VXl3i7/AJKNZ/Rawq04JbHsZfj8TOq1KbejNcfC3Syo/wBIuvpvH+FO/wCFW6V3uLn/AL6H+Fduv3R9KWtvZQ7Hn/2ljP52Y3h/wvZeHY3Wz3sz/eZyCf5Vt0gp1aJJKyOKpUlUlzTd2JU1vO0EoZfxFRUVRCbTujpIpRLGGXoafWLp915Umxz8rfpWyDkcUj0ac+dC0UUUGgUUUUAFMljEsZVhwafRQJ6nPXEBglKn8DUNbt7bCeHgfMOlYbKVYqeoq0zgqw5GJ3oNFBqjESiiimAUGig0AIaZJGJY2VuhGKeaKpCkk1Zmf/ZMWerfnSf2TF/eb860KKrmZy/U6H8qMK8tlt5kRCcN1zVtdKiZActkj1qLU/8Aj6i/z3rTj/1S/StHJpJnFRwtF1Zpx2KP9kxf3m/Opreyjt2JUkn3NWqDU8zO6OFowfNGIlLSUtI6BtaOlW3mzGRvur0+tUEQyOFXqTgV0trAILdUH41FSVlY3oQ5pXZMKWiiuc9EKKKKACkpaQnAyaAKepXP2e1OPvNwK5skkknvVzUrn7RcnH3V4FU666cbRPNrT5pE1pAbi4WMdO/0rqEQRxhV6AYrO0e18uEysOW6VqVjUldnVQhyxuMkjWVCrjINc1qFk1pNxyhPBrqKingS4iZJBkGlCfKy6lNTXmchSGrN5aPaTbWHynofWqxrsTuro85pp2YhoPSiimIY6B0KtyDWK3he0ZiQ8g/Ef4VuUlJxT3NIVZ0/hdjC/wCEXtR0kl/Mf4Vla3pUOnRxmJmYsTnca7Gud8Wf6mD6n+lZyhFLY7MPiKsqii5CW/hu2mgSRnkyw5wR/hUv/CL2n9+T8x/hWrY/8eUX+7U9NQjbYzliayk/eMyx0O3sZ/NjLs3bca0qXPNFWklsYSnKbvJ3EptONNpiQlBooNIZ03h7/jxP+8a1qyfD3/Hif941rVxVPiZ30/hQtFFFQWFFFFABQOtFA60ANuP+PWX/AHD/ACr5s/Zo/wCR68UfSP8AnJX0ncf8esv+4f5V82fs0f8AI9eKPpH/ADkoA+l6KKKACub+If8AyTvXP+vN/wCVdJXN/EP/AJJ3rn/Xm/8AKgDyz9lb/kTdV/6+E/8AZq93rwj9lb/kTdV/6+E/9mr3egAooooAaetFB60UAFFFFAAabTjTaAOW1m9gsGmuLuVYo1PLMcCsH/hNdC/6CEP/AH8H+NHxL/5F2+rC8LeDdGv/AA9a3N3aiSWVAzMSeuK55Slz2RFOjQ9k6tVve2hvf8JtoX/QQh/7+Cj/AITbQv8AoIQf9/BUX/CA+H/+fFf++jR/wgPh/wD58V/76NP955E/7D/e/Al/4TbQv+ghB/38FL/wmug/9BCD/v4Ki/4QHw9/z4L/AN9Gk/4QHw9/z4L/AN9Gn+88g/2H+9+BN/wmuhd9Qg/7+CuA8SatZXnje1vLe4R4EA3OGGB+Ndz/AMID4f7WK/8AfRrg/EWiWNl40trG2hCQOBuTPWsqntOXoejl/wBU9q+S+zPQh410IKB/aEOf+ug/xpf+E10L/oIQf9/BUI8BeH9ozYr0/vGj/hAfD+f+PFf++jWv7zyPPtgf734E3/CbaEP+YhB/38FL/wAJtoX/AEEIP+/gqH/hAfD/APz4r/30aX/hAfD/APz4L/30af7zyD/Yf734Ev8Awm2hf9BCD/v4P8aP+E20LvqEI/7aCov+EB8P/wDPgv8A30abJ4B0AIdtkAcddx4o/eeQ0sD/AHvwNfTdasdWDGwuY5th52MDiun06781PLf7w/WvIvhggSW/ReiyYH5CvR43aNw4OCDVwblG7MsRBYau4R2OlFLUFtOs8QYde4qcVRundXCiiigYUUUUAJWbqNpnMyD6itOmsAVIPQ007ETjzKxzRoq1fWpglyPuN0qrWiPOlFxdhKa7BVyxwKdUN3/x7P8ASqW5nOXLFsYb63H/AC1X86Pt0H/PVfzqpYWcM1qGdcnNWTp1v/zz/Wq904oTxM4qStqL9ut/+ei/nR9vt/8Anov503+zrf8AuUf2dbf886fulf7V5Dvt9v8A89F/OkN9B/z0X86T+zrf/nnSf2db/wDPP9afuh/tXkUL+ZJZ42RgQOpFXkvYAigyL09ao31vHDOixjAPWrqafblATHyRzzWj5bI46Xt/azta4/7fb/8APRfzpPt9v/z0X86T+zrf/nnSf2db/wDPP9an3Tr/ANq8h32+3/56L+dIb6D/AJ6r+dJ/Z1v/AHP1p0WlQSSBFj5Jp+6C+tPTQ0dJlt3k81pFwvTmt2K4jlJ2ODj0NVYNJtoYFRYwMCo7BAl5Mq8ANj+dc0rSdz0aUq1JxjO2pq0UUVkemFFFFABVDVLnyLfCn5m4FXmYKpJ6CuZ1C4NxdMc/KOBWkI3ZjWnyxK1TWdv9puFTt3qCrmm3K2918/3W4z6V0y20OCFuZXOjVQqgAYAp1NBBGRyKdXEeqFJmlpCOaAKt9bx3EBEnGBnd6VxVzqVnaztFJOgKnuw5rubz/jzl/wBw/wAq5Gy0C01i1naeMNIrkKacakoySH9XhUg5y6Gf/bdh/wA/Cf8AfQpP7bsP+fhP++hRL4csopCj24BHuaZ/YGn/APPAfnXZeRw2oLTUd/bdh/z8J/30KQ63Y/8APxH/AN9Ck/sDT/8AngPzNJ/YGn/88B+dP3w/2fzHf21Y/wDPwn/fQrE8R31vdxRC3lVypOcHpWwdA0//AJ4D8zWL4i0+2so4jbxhd2c8/Sonzcpvh/Y+1Vrmta6xZR2satOgYDkZFS/21Y/8/Cf99Cq9roljJao7wgkjnmpf7A0//ngPzNUuayM5fV+Z3uO/tuw/5+E/76FIdbsf+fhP++hTf7A0/wD54D8zSf2BYf8APAfmafvi/wBn8x39t2P/AD8J/wB9CkOt2H/Pwn/fQpv9gWH/ADwH5mkOgaf/AM8B+Zpe+Uvq/mT2+pWt1JsgmV2xnAOatGuasbdLbxRLHEMKI+B+VdLRFtrUmtTjBrlOn8O/8eJ/3jWtWR4d/wCPA/7xrXrlqfEzop/ChaKKKgsKKKKACgdaKB1oAbcf8esv+4f5V82fs0f8j14o+kf85K+k7j/j1l/3D/Kvmz9mj/kevFH0j/nJQB9L0UUUAFc38Q/+Sd65/wBeb/yrpK5v4h/8k71z/rzf+VAHln7K3/Im6r/18J/7NXu9eEfsrf8AIm6r/wBfCf8As1e70AFFFFADT1ooPWigAoppooAWkrkvHPia58P2kK2QUyzE4ZgSABj/ABrhP+Fia7/fh/74P+NYzrRg7M9XDZXXxNP2kNjoviWf+KcvqPBX/IpWH/XJf5V5jr3jPVtUWa1u2jMTnnapz/Oo7Hxrq+nWcdrbPF5UY2rlSTj865/bx5rjqZPiPq/stL3ue40teLD4ia9/z0hz/uH/ABr0DwT4in8Qaa73aqJYiAxUYB6/4VrCtGbsjxsVleIwsOeex1NH1pvSvMvFXjvU7HXprSy8tY4MAlgcnIB9a0nNQV2c2FwlTFT5IHp/SvLvFv8AyUazx6LWT/wsPXsffhB/3D/jWTea9e6hqkeoXDIZ4/ukA4/nXNUrwkrI+iwWT4ijUcpW1R74pBUfSnZrxf8A4WHrwwPMh/74P+NT2fxE1r7ZF5zQvGXAYBTnBP1rVYiF7HBLI8VFOTsexClqC2l8+1il/voG/MVU1zUG0vRbm8UBmiiZlB6ZAzXRdWueLGDlPkW5pU1/un6V40/xF11mYhoQCeBtPH600/EPXWGN8P8A3wf8a5/rED3I5Fit9DpPhn/x8ah/11/oK9ErwXSvEuoaM0rWTRgytltyk/1rS/4WHrv9+H/vg/41NOvFKx14vJsTVrOcbWPcrK5MEo/unrW4rBlBHQ14p4M8a6hqmtCxvxGyyDKsoIxj8a9X027/AOWTn6E11Rkpq6PInSnhansqm5rUU2nCmWFFFFABRRRQBFcQrPEUYfSsCaIwylG7V0Z6Vj66pW1MkYHmDpnvVx3OXE2jBzfQo1Bd/wDHs/0rJOo3AOPl/KmvfTupVtuD7Vuou585UzKi4OJo6XxZj6mrma5+G8lhj2Jtx9Kk/tGf1X8qbg7k0cxowpqL6G51oqhYXb3G4SYyPSrxFS1ZnqUqsasFOItJWZfX0kM2yPHTuKqjUrg91/KqUGzjqZhRpy5ZE+qf8fUf4Vpx/wCqX6Vz81xJM4Z8ZXpxUo1CdVABX8q1cXaxw08fSjUlJ7M3aSsManP32/lWvC/mQhj3FZuLR6dDFU69+QkrV0i26zsPZazEQu4UdzVuO+mijCptAA9KzldqyOn29OjJOZvcVnWf/H/P/vf1NVP7Rn/2aiS6kSRnXGWOTUKBnVzClKUZdjo6Kwv7RuPVfyqa11CWSYLJt54pcjOuGY0ZyUV1NekopGYIpY9BWZ6RQ1W68m32L95+KwKsXk5uLln7dBVc11wjZHmVZ88hO1FHaitDI1tL1DBEMx4/hJraB4rjuhyOtbWl6iHUQyn5h0J71z1KfVHZRrfZkbFIapapeGysXmQZYdPzrmP+Ehv85DJ+R/xrklUUXqerRw06yvE668P+hy/7h/lWR4Y/49p/+uhrHk169kQq7Lhhg4B/xqC11O5slZYGUBjk5FZOrFu53RwVVUnHudXqeni5j3oMSKPzrnGUqxVuCDg0HxDfcfMn5H/Gkhln1GWQsFMijJ2jrXXRxCb5Ty8Vl1WEPaCUhowQeeDWFruqz2Mscdvt5GSWruclFXPJp05VJcsdzcNc74s/1MH1P9Kzv+Eiv/7yf98n/Gqt7qNxfBRcFflORgVhKrFqyPTo4KrCakztLH/jyi+lTmuKj12+iQIjLhRxkH/Gnf8ACRX+eqe4wf8AGqVaNjOWAqttnZ0hqppt0byzSZhgsO1WJG2IW9BWt7q5wOLT5R1Ielcjc+Ibz7TJ5WwKGIGQahPiG/x95PyP+NZOtFHfHAVZK5ow/wDI3Tf9c/8ACuhrgxqVwl610ColYYJxxj/Iqz/wkN9/eT8j/jWcasdTpq4KrO1ux614d/48T/vGtavO/CPiC6KKs2xlZyMAV6COVBrByUm2KVGVFJSJKKaKcKDMKKKKACgdaKB1oAbcf8esv+4f5V82fs0f8j14o+kf85K+k7j/AI9Zf9w/yr5s/Zo/5HrxR9I/5yUAfS9FFFABXN/EP/kneuf9eb/yrpK5v4h/8k71z/rzf+VAHln7K3/Im6r/ANfCf+zV7vXhH7K3/Im6r/18J/7NXu9ABRRRQA09aKD1ooAbQRS0lAHm/wAVvu2OfV//AGWvNsV6b8VLeV7ezmRGaNCwYgcDOMfyrzEmvNrr37n3mS1ILCJNnP3nF3J9agqa8P8Apcn1qHNc1jadSPNe4or1D4V/8g+7/wB5f615d3r1b4XW0sWlzyyIyrIw2kjr1row6fPqeDndSDwlk+p3Z4Brwvxl/wAjde/7w/kK917V4d42hkh8WXZkRlDsCpI68CujEaxPEyGSjiHd9DAzR2oorgsz7dTg3a4oqS3P+lQ4/vr/ADqKp7ONpb6BI1LMzrgAcnmqSd7mdSpDkaufQWm/8gu1/wCuS/yrL8Zf8irff9cX/wDQTWrp6GPTbdGGCsSgg9uKzvFsEk/he+SFSzeQ+ABkn5TXqv4T83pNLEp+f6nhFH0oKlGKsMEcEHtRnBryrPsfpiqQ7oKKM0CizKdSKerOm+Hx/wCKvg/3TXtakqwIODXjPw7t5ZPFEcqIxRFO5gOBXswr08OrQPg87kpYq8TcsroXEXJ+cdauCuct5mgmDDp3roIZFljDr0NbHFSqcysPooopG4UUUUAB6Vm6sP3K/wC9Wkaz9VQtANozg1UdzmxSvRZyOo2mxvNQcHris6uldA6kMMg1hXdsbeYj+HPBrsi7nwVajKL5kivSUtJVnPyy7GjpP32rVrM0pGyxIOK06wlufU4BNYdJmHqP/H4fpVSrmpKRdFiDjHWqdbxeh8/i4ydaWgUhpaQiqOTlk+gdq37P/j1T6VgAZOAMk10umQNKsceMetRUeh7WUwlzs07G2xbNM3U9KoiugaLbbbEGcDisAgjgjFc0Xc9TMqbXKkJS0UVZ5HLJdBKmtf8Aj5T61Eams1ZrlcDODzSdrG+HjL2q0N8VnavdeXEIkPzN1+lX3cRxlmPAFc1dTm4uGc+vFZU43Z9VWnyxsQUGig11HnidqKO1FMBDSAlWBXgg9aU0hoDqW9Qvxc6M6Of3i4/HkVz9P1zzBprtDncuDx9RWfYXy3UQB4cdRXlYqm1K8T6vKa8XTcZPUu0UUVxWZ7vMtwrY8Mj/AImL/wC7WPW34YjY3rvtO3b1rSnF86OXFyi6MtS/q2m7T58K8fxAV514p/4/o/8Acr2BhkYPSvNPHulvb3yXEakwkc8dDXp+093lZ81h6aVdSRxtBpTSdqys+p7CknomJSHml70lFmDkurO00D/kERfSr0/+of6VT0NGj0qIMCDjoauTDdC4HcV6C2Pl6j/eP1PPZf8AXSf7x/nTD1qW5Ro7mRXBB3ng/Woq8+Suz6mnKPKtRtFLSUrNmnMkdZ4T+5H/ANdK9WT7o+leVeEEaRUCAk+Z2r1Vfuge1RBO7OLGtNxt2HUCilrU84KKKKACgdaKB1oAbcf8esv+4f5V82fs0f8AI9eKPpH/ADkr6TuP+PWX/cP8q+bP2aP+R68UfSP+clAH0vRRRQAVzfxD/wCSd65/15v/ACrpK5v4h/8AJO9c/wCvN/5UAeWfsrf8ibqv/Xwn/s1e714R+yt/yJuq/wDXwn/s1e70AFFFFADT1ooPWigBDSGlooAhmgjnTbKgZfQ1AdKsv+fZPyq5SZ9aViozktmeY/EXT7WDQL14oVVh3Ao8H6daTeFbF5IELmJckjrxVj4l/wDIt31L4L/5FKw/65Ln8qwsvaEzqT+p3v8AaNMaVZf8+yflVmOJIUCRqFUdhTqWtbHlOUnuw7VBNZW1w26aJXPqwqegCnoCbWqZU/sqyxj7PH+Vea+KbaKL4gWcUcYVCBlR0Neq5ry7xdx8RbI+y1jVSsetlk5uq9ejPRhpVltH+jJ09Kcmm2kbh44EVh0IFWU+6KXvW1keZ7SfcUcDFBAZSD0IoFBqjMq/2ZZsxJt0JPfFMfSrLY3+jJ+VXc0jn5TRZGiqT7s84+HVrBcXGoefEr7ZOM9uBXe/2XZH/l2T8q4f4Z/8fGof9df6CvRM1nRS5T0MxqSWIdmQQ2cFuT5MapnrgVOKOtArY8xtt3Yoq9p935T+W5+U/pVGigqMuV3OmBzS1Q0+681PLf7y/rV4VJ6MZKSuhaKKKCgppAYYNOpOtAEXkR/3BVPVLGKaxkGwbgODWjUF5/x7P9KpN3OetTg6b0ORsYALfEi/MDVnyI8/cFXltPMsRLGPmBOR61V71te55VKjGNKN0NVAg+UYpetGaKDa1thrxq+NwzTPIj/uipaSndkuEXq0ZGoxqlxGFGAa0I4E8pflHSqOp/8AH1FWlGf3S/StXflRwUYQ9tNWGeRHnhRxW9pVr5cfmMMFun0rNtIDcXCqOmea6JVCqAOgrnqS0sezh6ST5khwqMwRnqoqSisTtcU90R+RF/cFZ1oitfTqRkBuP1rU6is2y/4/5/8Ae/xq1exxV4R9pDTqX/s8f90UqxKh+UAU+o5ZBFEzseAKm7OzkitbGbq91tXyVPXrWPUk8pnnaRu5qOuqK5UedUnzyuJQaDQaszE7UUdqKYCGkNLSGgBrAMMEZBpsCJbzCREXI9utSY4pufzosnoylKUdjoFNtc6fI6Iu4Icj04qn4bhjkt5i6BsSEcisw3T2sUjr0KHI9eK0PCFwtxp8siHIMh/CuCpTUZI9rD1nOhK77G79lg/55r+VPjjSMYRQo9qdS0kl0I5mwxUM1vFcIUmQOp7EVNSGmI5DUtFis5SyxDy2746VyXiiJIoofLULknp+FerzwpPEY5BkGvNfHVm9n5IPKknB/Kt1NONmZ04SVVNPQtWVrCbOMmNenORU32WDOfLX8qLL/jyi+lS10pKxwzk+Z6gBjgcUGjvQaZBC9vEzZaME/SmG1h/55r+VT5pD0pWRak+5zUcKHxVKhUFfL4X8q3vssH/PNfyrEhP/ABV0x/2P8K6Gs4pHXiJP3fRHQ+HLeNLElUAO49BW2KyfDv8Ax4H/AHjWvXNU+JmsG3FXDtSikpagoKKKKACgdaKB1oAbcf8AHrL/ALh/lXzZ+zR/yPXij6R/zkr6TuP+PWX/AHD/ACr5s/Zo/wCR68UfSP8AnJQB9L0UUUAFc38Q/wDkneuf9eb/AMq6Sub+If8AyTvXP+vN/wCVAHln7K3/ACJuq/8AXwn/ALNXu9eEfsrf8ibqv/Xwn/s1e70AFFFFADT1ooPWigBKM0UhFAATxXmU3iPxLfeI7ux0nyn8puFII4x9a9EkvrVCVaeMEdiwzXnnhS4hj8e6o7yKqN0JPB4rKpq0j08FHljObjey6nO65YeN9UE9rdQQmKQ4IDYP86isbPxxp1lHa2sEIiiXaoLdvfmvTJ7mGe8k8mRHwedpzVeW6t4TiaVEPucVn7JXvdnmzzGprD2cbX2seead4k8RW3iy20zVhEokJ3BQemCeua9KB4rzPW7mFvidp8qyIYwvLZ4+6a9FivbaZgsc6Mx7BhVU7rQxxsb8s1G10WKxPFmpz6T4fuLq12+YvQsK2XkSJC0jBVHUmuT8d3tvL4VuUimR2IGAG61c3aLOfCU+etFNaXOf0vVvGmr2v2ixSF4icbjkf1qte+HPFt/qkd/cW0RnjHBD8fzrpvh/d28PhiNZJkVt3RmA7CuwSRXTepBU9x0rKNNSim2epVxssPWkoU0umx53LP48ghaSSKAKozkHn+dafgHxFfa4lyt8UJjfgqD6D3rotRvrUWMq+fHu2njcK4T4ZXEULXvnSImX43HGelGsZpJiuq+FnNwSatsj03NHWoobiKcEwyK4HXac4oluYbfAllVCem44rpueLyu9ji/GviPVNM1a1s9L25lXPIJycn3qqG8eso/dQYI/vf8A16g8YXEEvjTS3SRWUDkhunWvQY761fCrPGT6BhWCjzSep7DqewowtTTv3R5ppeheMdHaVrO3iBlOW3Pn+tP1XXPGWiQJNqCwpGzbQRk84J9favT5JUiTfIwVR3JxXC/Eu6gn8PwiKRHYXAJCnP8AC1KUOWOjNaGMeJrRU6ad/I6vw/fS6joFpd3GPMliVmx0yRWlXO+Er22TwrYI88YYQqCCw9K6FGDLlTkH0roi7o8jEQ5KslbS47NFH0oqzAfFI0UgdTgit62nE8IcfjXP1Ysrk28oz90nmho2pVOV2ZvUU1SGAI6U6oO8DSUpqNpUU4LAGgTaW5nTXVwbsxRbTQ6X7oQyrg01XH9qFs8VprIr/dIJrTY8ynBVnLmmzLiivYY9iIuKxdQW6tLtS6gI55x2rr2dU+8QKyNUVJ5kU4I45/GqjK71MsRh1TguWT0M5TladRMFgk2Fh04pCQBntVDTIrhzHCzL1ArNhuL2YZjC1dupUa3cBhnFVtMkVYTuIHNaR0R51aXPXjFSsrEMtteTMGkRSRUn/EwVcbVxWmCG5FS2iLPNtY8LyaOd2LWDinzKT1JvDpl2N5wAY47V0ArH05lS5lyQBnitZJFf7pBrnqau562Bl+6UW9R1UdQuZINojxzVxnVOWOKzdScPJHtIODUxWprip8tN2dmAa/KghVINMjt72ORnVVyxya0Y5U8tRuGcdKlJAGe1VzMxWFjKzc3oZU097Cm6QKBVS7v3mt1jJ5P3sVd1m6jj0923DIFczaXIeHdIwySa1hHm1OOdT2Vbk5rpotilpAQ3I5pa0NBDQaDQaYxO1FHaimAhpKU0hoAM+lc9q2pXkWqC2tNvI4BFbrSohwzKD7mucvZFPiaJgw245OfpUTeh1YZe821fQc669JGUZY8EYPP/ANepdFbW9HcrAiCN2ywzW0s0bnCOpP1pXkSP77AfU0pU1Jas0jipRdlFFqTVdVt1jefZtc8Ef/rrqomLRqx6kV51qWqiFrdN4aMvzg9Old/bXML28ZWRTkDHNcbjySaPRlNVacZJWZZqK5cxW0jr1VSakyMZzVW7niNnKBIudh7+1DZlFNtGBb6hq167/ZtjBTzn/wDXVbV9G1TWbbyruKM7eVOehq94akSP7RvYDL9zXRK6OuUIP0rKEeZHfWqeym1GKPLJ7PX7BvJMaKq9M9x+dQ6Xqd7NqjW1zt4U5AHfIr0vU7eC6hKyOquBxzXmFuhtvFc4lO0AEfqK7YSWiPPa5lK8TpaDTFljc4RwT6A0O6pyzAfU11HlWexma7fS2NoHgwGLYJNZ8cuuyxh0VCD0/wA5qXxNKj2KhGDHd2NaVnPELOMF1zjpmsmryO6D9nST5bmALHWFvGuhGnmMME5/z6VLPPrkEDSyrGEUZP8AnNdJkYznis/VZom0ucK6klDwD7VLgktGVHEOcknFHR+AL6W+0WR58ZWQjgV1ea4n4cSpHoUodgv709TXaKwcAqcj2rlvc6KkeWTtsPopKWgzCiiigAoHWigdaAG3H/HrL/uH+VfNn7NH/I9eKPpH/OSvpO4/49Zf9w/yr5s/Zo/5HrxR9I/5yUAfS9FFFABXN/EP/kneuf8AXm/8q6Sub+If/JO9c/683/lQB5Z+yt/yJuq/9fCf+zV7vXhH7K3/ACJuq/8AXwn/ALNXu9ABRRRQA09aKD1ooAQ1HMT5L44+U1JimyLujZfUYpPYa3Pn/WZ5m1u9LyuT57jlj03GqG5gchmBPUg16HqHwxvbnUri4ivIgksjOAVPGTmq3/Cq9R/5/Yf++TXnypVG9D7yhmGBjSSclf0MD4dzSHxBeo0jlfLzgnjqKxfiDPMfFUi+a+1UGBuOBya73w14Nn8O6tcz3NwkpcbQEGPT/Cs3xR4Budb1hr23ukjDLgqwz3/+vWjhP2aXU+T+tYVZlKo2uU8s3MWBLMSOhzWp4euJk8RWWyaQZmUHDHpmumHwr1H/AJ/Yf++TVzSvhneWeqQXM95GywuHwq8nBrGFKonqenicwwMqLUZK5t/ESaSPwlIY3ZSSoJU4/iFeQGR2GGZse5r3TxPoLa9oj2UcojckEMenBB/pXCf8Kq1HH/H7D/3ya1rQnKWmxwZRjMLRotVWk7nDCR1UBWYD0Br2TwfLI/w/ieR2ZxHJ8xOT1auVHwr1H/n9h/75Nd5oehnSfDSaY0gdgrAsOnJJ/rTo05xfvCzfF4WvTiqT1ueHTzzPPIzyuxLHJLE55qMMyfdJGfQ13kvwsvzM7R3sW1mJGVPTNM/4VXqP/P7D/wB8msXRq3PXhmWAUbOS+4m+F08zahdRtK5Ty87SxxnIqp8S7iYeI0QSuEEQIXccDk11vg7wbN4cmmmuLhZWkXaAoxjkf4VX8XeBp/EGpLd21ykZ27SrjP0rq5Zeyt1PBjicN/aPtbrlPJi7N1Ykj1NW9NuJo9St2SWQHeOQxrr/APhVeo/8/sP/AHyansvhfew3kUkt7EVRgSAp5rnjSqJ3Pcq5jgJQaUkbnxElkTwn+7dlJK5wcZ+YV5IXdh8zMR6E17h4o8Pvr2imzilEb5BDMOOCD/SuIHwq1Htew/8AfJratTnKWh5uU4zCUKLVVpO5wyyyKAFdhjpg9K928Ku8nhqzaRizFDkk57muCHwq1DODew4/3TXpGj2B03SoLQsGMS4JHfmqoQnF+8YZzisNXhFUXd3L1FFFdiPmgooopgamm3f/ACykP+7WlXNqxVgRwR0rbsrkTxDP3h1qWjso1L+6yyelc/dMxunyTwfWugNZk+mPJMzq4GT6U4tLc58fTqVIJU9zMyc5zzVzTWP2nGT09af/AGRL/fX8qntNPe3l3swPHatHKJ5eGwuIhVi5LQr6ozC4C5OMdM1ROSeTWveWDXEgdWA4qv8A2TJ/fX8qSkkisVhsROq3FaGPdW5nUFSd4PBzTLzclmwOQQvNbi6VIGBLjg+lR6xpvm2zGLg4warmV7Dp4WtGlJyWpxWT6mkyexrQ/smX++v5Uf2TL/fX8q6FKJ8/9SxV72ZY0wlrVskn5j/KrVrC0O4sTuJ55qfQ9OKkhzkA54rRfSpGkJV1wTWDkrnuPC1pUIWWpnjPrjNXdMZhckZOMetP/siX++v5VYs9Pe3mLswPHaplKLRWFwuIhVi5LQr6qW8xQCcemazySRya2r2ya4YFWAxVT+yZP760oySReMw1epVbitCirNuByfzrXuWP9n5yfu+vtVcaTJuGXGPpVi/Ty9PZc4IXA+tEmm1Y1wtGtTpzVRHG6xdlm8hWJA5PNZWT2JFaUmlzSSM7SDJOab/ZMv8AfX8q7Y8qVj5qeGxU5t2Zc05ibUZOeat1BaQG3hCE5qespbn0dFONNJ7iGg0Gg0GwnaijtRTAQ0h9qXFIaAOL193/ALWcbmwAMDNZZJ65OfWup1PQJb29adJVUEdCKp/8Ircf890/KuSdObeh7+HxNCNNJvUpaIzf2tCNzd+9aPil2VoVDEAjoDUuneHpbS9SZ5VYL2Aq1rOkvqWwo4Ur6itVGXJY5p1qTxCknoccST1JP1rW0jVZIpkhlkbbn5TnpU3/AAi1x/z3T8qVfC04YZnTGewrndGb3PRWMoRWjPTS7f2GrKxyYgc59q4oO5HLN7810elT77BbCd+QoVWqAeFrj/nun5VhWpzTsi8BiKKTcmYYJH3SR9K6XwszNFOGYkArjJ+tVv8AhFrj/nsn5VraPpb6dHIsjhi5HT8f8azpwkpanRi69GpTai9TmtYZzqs43tw3HPtWDqen/aoS6cSgcHua7W+8Oy3N7JMkqgOc4Iqv/wAIrcf89k/KlyTUro1p4jD+zUWzzvRvNj1mNGLKeQRmtPxS7LbxBWIy3OD14NdLL4LkjulvVkUug5VR1rI1nSn1GNFVthQ55r0aV5U/M8PESpLEprY4kkngkke9BdhyGYenNbv/AAi1x/z2T8qT/hFbg9Z0x9Kj2c73O14rDtbmkrP/AMI6G3Nu2DnPNcfuYr1P513QsSNLFru5C4zWD/wi1wB/r0/KtKkZtKxyYStSg5ObLXh0kWDYJ+8e9eheGWZtPbcxOG7mua8PeFrj7Af36fePauw0nTm061MTuGJOciuJRkpu56GJr0qlFKD1NCgUYpa2PKCiiigAoHWigdaAG3H/AB6y/wC4f5V82fs0f8j14o+kf85K+k7j/j1l/wBw/wAq+bP2aP8AkevFH0j/AJyUAfS9FFFABXN/EP8A5J3rn/Xm/wDKukrm/iH/AMk71z/rzf8AlQB5Z+yt/wAibqv/AF8J/wCzV7vXhH7K3/Im6r/18J/7NXu9ABRRRQA09aKD1ooATNHWjFLQAmKKU0lAHO3n/H2/1qGp7z/j8f61BmpPKn8TKxvrVWKtPGCDyCasI6uAyMGB6EGvn/QdM8Nan4o1oeKbxbYJKxjLTrHk5H97r3rX8Fa2+gXviU6XJJfaPYo0kRLfKdpbbg9ORQSe10cV51pHxPn1ONb19Fmg0uONjcXbMdqsASFB24OflHXvUZ+KV7FDHqVzoUiaRJJsWfzDnHPzY29OKYz0qozPEJfLLqHxnbXH+I/H4069s9P0SzOqXt4gdEjfop6HgH3/ACrjrbVLjUvi7HNqFjJZTJauskDk/wDPM9CQO1AHsMcscwPlOGwcHB6VJXmfhPxRo+i+F9X1KOza1hhuCrIZAxkbLd8Drg1YtviNqyXFo+q+G7i2srxgscoLMVzxyNtMD0TIz159KWvHbjXvELfFw/ZtPlkGwbLUS/Ky4XDdPTH516/LFdC1cwx/vth2A9N2OM/jQPlY8sAcEjP1orxnUv8AhJx8VdFHiTy1DljDHD90Ltf3PPWvaNrDsaYWYlFGD6UYphZhRRilxQPUSilpKYgooopgFTW05gmDDpnmoaKBptO6OkjkEkYZeQafWPp115b+W5+U9Patcc1DVj0Kc1NXFooxRikaBVd722ico86Kw6gmrGK8HubDQtS+LWsw+Jrpbe2Dkq7zKnOD3P4UAe6xypKoaNgynuDRIAY2DdMV4v4RuodF+Id/a+GbqS90eO3Lk7tyA4UnkcdSRWrafFq61aGI22hyrbh8XdyWJSBO5J246Z79qaJk0ots6+UDzGx0zTAu5sDqa82k+KN5JHLqNpockukxPta48w7jyBkDb0ya6O58e2trY6bc6dbNf3GoKGggRueg9AeRkVteyPNjHmlY9CtBFaRpE7qJH5x61ZjmjlZhG6sV+8BXj2oaxf6n8TPD66ppkmnXEeMoxJDDJ5BwPet3wrr2kWF74kvBaNaLaysZ5GkBDnIHoMdRWG56UVZWPSaMjOK82T4m6oYY9Sl8NXA0mVwFnUsTtPRsbfSsXxZ4j1s/ErSTZ2kgj8vMMIkx54Ibk8cd/wAqCj2Oo2miVwrOoY9s1UlvZLfRftlxF5ciwh5I852nHIrxzRvDP/CUeC9T8ValeTnU4zI8Lq3C7FDD9TQB7jn0rE1a58yURIchev1rJ8B6/Nqfw/tbu7ffcKHjZic5w7AfoBUrMXYk9TWtOOtzkxE7LlQmKSlpK6DiCiiigBDQaDQaYCdqKO1FMApKWkoASkxTqSmA2ilpKYFeW8t4X2yzIrehNPjmjmXdE6sPY14r4vtNKvvjM0GvzrDZGBSzPIEGfqeKTSjY6F8ULK28F3z3lhJAz3CrIJFBCvwSvHYUDPbwcHI610WlaiJ0EUp/eDp7149pPxA1TXtQns9J8PzzyQTtHI6klVUEjJIX6V0KeOZY5rqfQtGbULKzJ8258zGccnbx6VhVcWrHTRjO91sep1HJNHEVEjBSxwAT1rjb/wCJVhb+ErTWLaE3El4/lxWwbDb8kEHj/ZPauL8X69qmq6t4dj1jSJdNkW53KWJIcEr7Dkf1rlO49mWeJ5TGjguBkrmpMV51o+qaXB8Rdcb7G0E1vCHmuGkGGAXPTH9aY3xN1OeKTUNN8OT3OlRyFftCsfmAyMgbenFAHo5wOprD1nS8gzwLz/EBXnXxA8Uancap4duNMt5Y7WSVZIcOVM5LL8hGOO3516ppU1xd6RBLfW/2ed0+eItnbz6/SqjJxdyZRUlZnIMQv3jj60V5n8cLHxRbo1xMYo9G+04jWE/MeuCefT2r0Wx/48Yf9wV2xkpI4JRcXZk1BooNMR0vh7/jxP8AvGtesnw7/wAeB/3jWtXFU+JnfT+FC0UUVBYUUUUAFA60UDrQA24/49Zf9w/yr5s/Zo/5HrxR9I/5yV9J3H/HrL/uH+VfNn7NH/I9eKPpH/OSgD6XooooAK5v4h/8k71z/rzf+VdJXN/EP/kneuf9eb/yoA8s/ZW/5E3Vf+vhP/Zq93rwj9lb/kTdV/6+E/8AZq93oAKKKKAGnrRQetFABRRRQAGkpTSUAc9ef8fj/WoamvP+Px/rUNSeVL4meP8AgvwXb6j4o1p/EOmGSPzGMRdiAeR6H612fiXQLXT/AAHqllolksZkt2ASPkscHHJrrMUUEnnekeHLq/8AgsNI8owXUkWdjcEsGzj8cYribbSYRpkOlTeGtQuNUVtrh5yITgnnh/pXveKTHp1pgeU6vpF94S8Y6Xrttp8l1Zx2wgljiO4x464yc96itm1TW/icmrSaVPaWr2rrH5gXONhHOCe9euYpaBniVl4Q1XVPh9q9mls8dz9t86NHIHmAF+P1FdJZeKdd1mTTNJ0vQJIrhXAuZLlF2Io67efQV6RWrpVvgGZhz2pl04c0rHnOuW1/4f8AidbawNNlurZoFjJgx12rnv6qa9YXlQcUuKUUHpJI858Y6bd3HxQ8PXUFs0kMMbB5AOF+/wD416LsHoKXFLQFkN8tfQUnlJ/dFPooCyGeSn9wflSeRF/cX8qkooCyIvs0P/PNfyo+zQ/881/KpaKA5UQ/ZYf+ea/lR9kg/wCeS/lU1FAuVdiH7JB/zyX8qPskH/PJfyqaigOVdiEWkIOREo/CpgMUUUDSS2CiiigYV5FZeEo9W+LWsSa1pzTWTsWRmYgHg+h+leu0lAGBJ4f0zRtCvI9IsUgLxEfLkk/iTXmngjR7q5+GuoafcwtbT3PnRjf15XAP6161qdx5cXlr95uv0rGxWkUcdef2UeCWOhrp1i+j6l4e1C61LzCseyYiFxnIJw4rv9Q8K6h4bt/DWr6fpu/+zxm4tY23bCQDgZPPQ969M0u33uZWGQp4rY7UTfQuhCy5meSXd5qPib4iaJqUej3NrZwkKHmC5JyT2J45FQ6b4X1HUrXxfZmB4WupSYS3AY7lP9DXsQorM6TyfT/E+vW/hyx8O2Ph6T+0oAkDNOqmIAADOc1N43tdTs/GGga0LF7tLaHZKsGOGO/gDI/vV6liigClhdW0dfMRo1uYgSjdVyM4NeQadc694V8M6j4TfR5p7i4Z0hnTBQh1C5zn2r2s+9Vr6fyLct0J4FNaik7K5xHhbS5dD8KWem3H+ujDNLznlnLf1rUpSSSSeppK6oqyseVOXM7hSUppKokKKKKAENBoNBpgJ2oo7UUwCkpaSgAptOpKYCUlPRGkYKikn0FatpopbD3PA/u1MpKO5pGEpbHimo+D5vEPxqJvNOe408wKC5JC5z6g5r1fSPh9omg200ljYRxytGw+Uk9vc11cUCQLtjQAVKBXNKq5bHZCgo7nnHwu0eeyi19bq2a3M12ShYdRlulcXa+Hh4c+2adrWi6heTs5MEltMRHIDwM4YV73ijFZHQeO6t4P1C38G6Ve6dpnlTWlx50lmsm7C5b1J55Hek8S6pqfi/VNBmt9Dure3tbjMryhepK9MHOODXseKKAPKLbQL688eeJ1aB0iurXZHKeAzbar6Nr2t+GfC58NroE02owsyxuQpiYFick59xXr9FAHlXj3TdafTvDN/LZCeexmE1zHbgYUgocAfga9G0a9Oo6Pb3TQvAZEyYpB8y4OOfyq9UU9xHbx7pmCij0C9tzhPjDp1zqfhOGGzt2uH+0qSqjtg1bnsVsooVUjBQfLnkVp3uuyPlLYbR/e9ax2ZnYlyWPqTXTShJas5Ks4vRDKDRQa3MDpvDv/AB4H/eNa1ZPh7/jxP+8a1q4qnxM76fwoWiiioLCiiigAoHWigdaAG3H/AB6y/wC4f5V82fs0f8j14o+kf85K+k7j/j1l/wBw/wAq+bP2aP8AkevFH0j/AJyUAfS9FFFABXN/EP8A5J3rn/Xm/wDKukrm/iH/AMk71z/rzf8AlQB5Z+yt/wAibqv/AF8J/wCzV7vXhH7K3/Im6r/18J/7NXu9ABRRRQA09aKD1ooAKKKKAA0lKaSgDnrz/j8f61DU15/x+P8AWoak8qXxMKKKKCRRRQKKYC9qKKSgZLbxGaZUHc810MaCOMKOgqhpUIEXmnqeBWlTO+jC0bhRRRQbhRRRQAUUUlAC0UlLQAUUUUAFFFFABRRRQAUUUUAFFFFABTXcJGWPQDNOrM1S42p5Snk9aaV2ROXKrmfczGedmP4UyOMySKo6k0ytTSrbrMw9hWr0RwQTnI0IIhDCqDsKloorE9FKwUUUUDCiikoACawNSufPuNqn5V6Vq6hceRbnB+ZhgVzxOTk1tTj1OPET+yhKSlpK2OIDSUppKYwooooAQ0Gg0GmAnaijtRTAKSlqza2E1yflUhfU0m0txqLexVwTwOav2mkSz4aT5F/U1q2umQ24yV3P6mrw6VhKr2OyGH6yK9tZxWy4jXnuasUUVi3c6kktEAooopDCiiigAoopCcdTQAtMkkWNSzsAB61QvdYht8rGQ7+3asG6v57pj5jnb2UVrGm5GM60Y6I1rzXUTKWw3H+92rCnnkuHLSsWNMptdMYKJySqSk9QpKU02rJEoNFBpDOm8Pf8eJ/3jWtWT4e/48T/ALxrWriqfEzvp/ChaKKKgsKKKKACgdaKB1oAbcf8esv+4f5V82fs0f8AI9eKPpH/ADkr6TuP+PWX/cP8q+bP2aP+R68UfSP+clAH0vRRRQAVzfxD/wCSd65/15v/ACrpK5v4h/8AJO9c/wCvN/5UAeWfsrf8ibqv/Xwn/s1e714R+yt/yJuq/wDXwn/s1e70AFFFFADT1ooPWigAooooADSUppKAOevP+Px/rUNTXn/H4/1qGpPKl8TCiiigkUUUCimAtFFGKANLS7kD9y34VrZrmFYowZTgg8Vu2dyLiHn7w6imd1CpdcrLVFJS0HSFFFFAEUs8cP3zio/t0H/PQU+5gE8RUj6VgyRtFIVbgimYVJygbf26D/noKX7ZB/z0FYFFFjH6xI6AXcJ/jFOFzF/fFc7RTsP6w+x0Ynj/AL6/nS+dH/fH51zlGT60WH9YfY6TzUP8Q/Ojev8AeH51zm9vU/nS+Y/94/nRyj+seR0W8eo/Ol3D1rnPNf8Avt+dHnyDo7fnRyh9YXY6PI9aXNc59olH/LRvzp32ucf8tW/Onyj+sLsbssqxIWY4wK5+eUzTM57miSeSX77k/Wo6qKsY1KnPsPhjM0qoveuhijEUYRegFUdLt9qmVhyelaVTJ3ZvRhZXCiiioOgKKKKAEoJwKU1S1K58i32j7zcU0rsmUlFXZlahcefcnH3V4FVKU80V0pWVjypNyd2JSUUVRIGkpTSUxhRRRQAlBopyRvIwCKWPsKYDKlhtpZ2xGufetK00cnDXP/fNa0USQrtjUKPaspVUtjphh29ZGfaaOkWGmO9vTtWkqhRhRgU4UVzuTe52xgoqyDFFFFIoKKKO9ABRRRQAUlRT3MVuu6VwPxrEvNaeTKW/yL69zVxg5bGc6kY7mtdahBar87Zb+6KwbzVprnIX5E9AapM7OxLkk+ppprqhTUdzjnWlLYDk9abS0hrQxEoo70UDENNpxptBSEoNFBpDOm8Pf8eJ/wB41rVk+Hv+PE/7xrWriqfEzvp/ChaKKKgsKKKKACgdaKB1oAbcf8esv+4f5V82fs0f8j14o+kf85K+k7j/AI9Zf9w/yr5s/Zo/5HrxR9I/5yUAfS9FFFABXN/EP/kneuf9eb/yrpK5v4h/8k71z/rzf+VAHln7K3/Im6r/ANfCf+zV7vXhH7K3/Im6r/18J/7NXu9ABRRRQA09aKD1ooAKKKKAA0lKaSgDnrz/AI/H+tQ1Nef8fj/Woak8qXxMKKKKCRe1FJnA5pN6+o/Oi6AdRSb19RRvX1H50XQXFqe1uDbzBh071X3r6ijevqPzp8yGpWdzpo5BIgZeQRT6x9NvArCJm+U9PatgGnoz0qc1NXFooooNBKo6ha+anmIPmX9av0h5oJlFSVmc10pKvaha+S+9B8pP5VSqjzpRcXZiUUUUyRaSiimAUUUopgJRRQaBBRSUUwCpbaEzzqg6Z5qKtnTLfy4vMYfM1JuyNKceeRcRAiBV6AU6lpCcVkekFFJvX1H50b19R+dTddx2FopN6+o/Ojev94fnTuu4WYMcAk9K52+uDcXBPYcCtPVLxYofLVhub37Vh7gela07bnDiJ/ZClpKWtzkG0UtJTEBpKU0lMYUoBPQZNWbawmuSMLhfU1sWunQ24BIDN6molUSNoUZSMy10qSbDS/In61swWkVuuI1/GpqWsJTcjthSjASiloqDUKKKKACiiigAoppIAyTgVn3erRQZWM739qai3sTKSitS88ixqS7YFZN5rYXKWwyf73pWXc3k1y2ZHOPTPFV66I0ktzkniG9Ij5p5J23SMSajozSZHrW/uo5ndhQaTcPWgketHNHuAU2lyPWkyPWjmXceoUlAIzS0JpjEptOptMaEoNFBpDOm8Pf8eJ/3jWtWT4e/48T/ALxrWriqfEzvp/ChaKKKgsKKKKACgdaKB1oAbcf8esv+4f5V82fs0f8AI9eKPpH/ADkr6TuP+PWX/cP8q+bP2aP+R68UfSP+clAH0vRRRQAVzfxD/wCSd65/15v/ACrpK5v4h/8AJO9c/wCvN/5UAeWfsrf8ibqv/Xwn/s1e714R+yt/yJuq/wDXwn/s1e70AFFFFADT1ooPWigAooooADSUppKAOevP+Px/rUNTXn/H4/1qGpPKl8TCkpaKCTK8QXUlrpTvCdrEgA/iK4z7ddk5+0PnvhzXWeKf+QQ31H8xXGV4OPqSjVsn0PIxk5KpZMsfbbv/AJ+ZP++jS/brof8ALzJ/30ar0V5/tanc4vaT7k/266/5+ZP++jS/brr/AJ+Jcf7xqvmin7WpfcPaz7nVeFr+eaSWKV2cKMgntXf6fd+fFtb7y15v4R/4/Jv9z+ors4JWhkDqa+jwcnKimz6DA1GoJs6OlqKGZZog6ntUorsPaTvsFFFFAyOWMSxlG71hXEDQTFT+Broaq3tsLiLj7w6UzGrT5ldGFRSkFTgjBpKo4AooooEFKKSlFMBKDRRTASilopgT2kBnnA7Dk1vAbRgdBVTT7fyYMkfM3NXazbPQow5YiGqOsXD2ulzSxnDBDg+nFX6y/EH/ACBp/wDdP8q567apto6qSTqJM4g392zEm4kye24ij7dd/wDPxJ/30arilr4r21S/xM+w9jTt8KJ/t11/z8Sf99GmvqF0qkm4kwB/eNQ1narcbIhGp5br9KarVG/iZE6VKMW+VFS81W7uLhm+0SY6AbzWr4Xv7iS+aGWRpFK5G6ucrZ8K/wDIWP8Au16mBq1Pbxi2zwcbTh7GUranbU6m0tfYI+UEop6RtI21FJPtWna6QThrjj/ZpuSRcKcp7GdDbSTthFJ961rXSo4sNN87VfjiSJQsahQPQVJisJVGzthQjHVjVUKMAYFOoorM6AooooAKKKDQAUUlQz3UVupMrge1G4m0tWT1UutQhtgdx3N/dFZd3rEkmVgyq+vesxmLEljk+preNJvVnNPEJaRLd3qc1ycA7E9BVI89aKSuhJLY43Jyd2JQaKKYiKZ9kZYVhmeVuTIw/Gtq5/1D/SsCvms5qThOKi7HXQSadyTzpf77fnSGaX++350w9aSvn/b1f5mdPLHsP86T++350nnSf32/Om000fWKv8zHyx7FyxnkNyFLEg+prX71iWP/AB+JW1X1mTzlOh7z6nJXSUtBabTqbXtGKEoNFBpDOm8Pf8eJ/wB41rVk+Hv+PE/7xrWriqfEzvp/ChaKKKgsKKKKACgdaKB1oAbcf8esv+4f5V82fs0f8j14o+kf85K+k7j/AI9Zf9w/yr5s/Zo/5HrxR9I/5yUAfS9FFFABXN/EP/kneuf9eb/yrpK5v4h/8k71z/rzf+VAHln7K3/Im6r/ANfCf+zV7vXhH7K3/Im6r/18J/7NXu9ABRRRQA09aKD1ooAKKKKAA0lKaSgDnrz/AI/H+tQ1Nef8fkn1qDNSeVL4mLSGiigkxfFI/wCJO3+8P5iuLr0m5to7u3aKZQyN1BFZX/CL2Oejf99V5eLwcq0+ZHn4nDSqy5kcZRXZ/wDCLWIHRj+NYWoadDb6zFbICEcc8159TBVII454ScDJpa7IeF7Ej7rD8aX/AIRaw9Gx9a1/s+o9S/qM2ZvhEf6XMf8AZ/qK64VTsdNg09SLdMbupq5XsYak6VJRZ6lCm6cFFlywuvJlCt91uPpW2pyAa5kVradd718pz8w6e9dJ6NCp9lmjRRmjNB1hSGlooAy9StMfvUH1rMrpWUMpB6GsO8tjBMcD5T0qkzjrU7PmRWoooqjmClFJRQIKKKKYBVmwt/PuBn7q8mqwGWwK3bKDyLcZ+83JpSdkbUo80iyBgcUtHFFZnoCGszxB/wAgafH90/yrTNRzQpPC0cihlYEEGs6sXODii6cuWSbPMR0pa7ZvCtgWJAYZ7A0n/CK2A7Mfqa+a/smt0Z9D/alLscO7hELN0Fc5czmeYufwrq/GFpBp11bWtvnEpG7J96fF4XsXhRm3ZIBPNKjl1WcnHsc2KzKnGKfRnF1t+FB/xNm4421t/wDCKWHo/wCda2j+GY7Zy1vHtz1Zq9LD5dVpVVOXQ8qvjoVqbhFbkoGenWr9rpck2Gl+Ra0rbT4oAONzepq3xXuufY86nh+siGC1it1xGv41NS0Vlc6kktgooooGFFFGaACiikLAck4oAWmO6xqS7YAqjd6tHDlYvnb26CsW4u5blsyMcelaRpt7mE6yjsad3rIAK2wz/tGsiWZ5mLSMWNNpK6YxUTilUlPcKSlptWZhSGiigBKDRQaBkNz/AKh/pXP10jDIwelVG02E9iPxrxsywM8TKLh0N6VRQ3Maitf+zYff86qX1tHbKpQHk+teHVyutShzyOmNaMnYpdaStWPT4nQE5/OnHTYPQ/nVxyivKKkg+sRTM+x/4/FrbqCGzjgfco59TU9fQ5dhZYalyz3OerNTd0FNpaSvSM0JQaKDSGdN4e/48T/vGtasnw7/AMeJ/wB41rVxVPiZ30/hQtFFFQWFFFFABQOtFA60ANuP+PWX/cP8q+bP2aP+R68UfSP+clfSdx/x6y/7h/lXzZ+zR/yPXij6R/zkoA+l6KKKACub+If/ACTvXP8Arzf+VdJXN/EP/kneuf8AXm/8qAPLP2Vv+RN1X/r4T/2avd68I/ZW/wCRN1X/AK+E/wDZq93oAKKKKAGnrRQetFABRRRQAGm0403FAHPXn/H3J9agpdWuY7SSWaY4RTzWP/wk2n/89D+VYTqQg/eZ49SpGMmmzYpax/8AhJtP/wCeh/Kj/hJtP/56H8qn29LuZ+2p9zYorH/4SbT/APnofypf+Em0/wD56n8qft6fcPbU+5rmuT1j/kZrf6CtT/hJtP8A+ehP4Vg6jqEFxrcNzE2Y1HJrkxdaDgtepz4mrDlWp2y8qM0tYw8S6fgfvD+VO/4SbT/+eh/KutV6dtzp9rBdTYorH/4SbT/+eh/Kl/4SbT/75/Kq9vS7h7an3NilSRo5AynBFY3/AAk2n/8APQ/lR/wk2n/89D+VHt6XcarQvudva3AnhDDr3FT1ymi61BcSk27llBwwrqVYMoK8g1qpKSuj06NRVI3Q8UUlLTNwxUFzAs8RU9exqeg0CaurHNyRmNyrDBFNrX1G181PMQfMOvvWRVnn1IcrsJRRRTMgo70UqqWYBepNMZb06382bcw+Va2qgtIBBAFHXvT55kt4mkkOFXk1lKSWrPRpQ5Y2JKDWN/wlGnZ4dvyo/wCEp07++35Vz/WaP8x1ewq9jZFLWKPFOnf32/Kl/wCEo07++35UfWaX8wewqdjZqOWQRRszdAKyf+Ep07++35Vlat4x07iFXbPU8U1iKTfxEVKVSMdjm/GMpm1q2c92H866S35t4/XaK4zXdTt7+9t5YCSqEbsj3rp9J17T3ZN7NiNRnjvWFGvTjWm2zGrRqVKcElqdRZaaoUSTDLdQPStEKAMAYFY48Uad/fb8qP8AhKdO/vt+VbvFUn9o2jhZxWkTapKx/wDhKdO/vt+VJ/wlGnf32/Kl9ZpfzF+wqdjZorF/4SjT/wC+35VbsNYtdRdltmJK4zkU416cnZMUqU4q7RoUUUVuZBSVFPdRQKTI2Pase61V5crF8i+vrVRg5Gc6kYmndahFbKQTluyisW61Ga4JGdq+gqqxLHJ5NIa6I00jhnWlIKQ0tJWhiFJS0lMAppp1NNMBKShiFUk1VOoQDPJ4rKpWp09JspRb2LVFVP7St/736Uf2lB/e/Ss/rdD+YfJLsWqSqv8AaUH940n9o2/94/lR9bofzBySLVZ2rfcSpv7Rt/736VUv7mK4RfLOcVx47E0pUGos1pRfMaMH+pX6U+qcV/CsYUk5Apf7RgH8VdFLFUVTinIlwlct0lVf7Rt/736Un9pQf3v0rT63Q/mDkl2LVJVU6jB6mkOpQep/Kj63Q/mHyS7FqkqCK8imfahJNTmtIVIVVeDuFmtzp/Dv/Hif941rVkeHf+PA/wC8a1656nxM7qfwoWiiioLCiiigAoHWigdaAG3H/HrL/uH+VfNn7NH/ACPXij6R/wA5K+k7j/j1l/3D/Kvmz9mj/kevFH0j/nJQB9L0UUUAFc38Q/8Akneuf9eb/wAq6Sub+If/ACTvXP8Arzf+VAHln7K3/Im6r/18J/7NXu9eEfsrf8ibqv8A18J/7NXu9ABRRRQA09aKD1ooAKM0lFABmkoJx1pMjFIDivF//HjdVQ0fSrOfS4JJYEZmQEkqKv8Ai85sbqm6Ef8AiTW/+4K4XFSxGvY8CcU8Q7jv7EsP+faP/vkUf2JYf8+0f/fIq9nHWlznpXR7OHY15I9ij/Yun/8APtH/AN8ik/sXTz/y7R/98ir9Gar2cOwckOxR/sWw/wCfaP8A75Fc5qlpBD4gghjjVYyOVx1rsgfWuT1n/kZrf6CuPF04qK06nPiIR5Vobo0Wwx/x7R/98il/sXTx/wAu0f8A3yKuqflFOzXWqcLbHTyR7FH+xNP/AOfaP/vkUf2LYf8APtH/AN8ir1Gar2UOwckexR/sWw/59o/++RSNothtOLaP/vkVoZ9KRj8ppOnTtsHJG2xzXhQBXuAOm+u5067/AOWLn6Vw3hX/AFlz/vn+Qrpg20gg4IrPC/wkLCScIJnTg0tVLK6W4i6/MOoq0DXSezFqSuhc0UlLQMQjI5rH1C18qQug+U1s4pksYljKN0NNGdSCmrHN0VLcQtBKVP4VFVo85prQKvaZb75PMYcL0qkiF3Cjqa37eIQwqg7Dmk2b0YXlcmFUtX/5Bc+P7tXKp6t/yDJv92uet/DZ6VP40Y/h3TLS50lZZoVdiTyRmtX+xNP/AOfZP++RVbwsf+JIn+8f51s5rnw1Km6MW10Nq9SXtZWfUof2Hp/e2j/75FJ/Yen/APPtH/3yK0M0ma6PY0+xh7SfczJtI06KMs1vHx/siudl0exlkLtbpkn+6K3tVuMsIlPTrWb2rWNCn2OGvXm3a5xviCxgttQtY7eJUDkAgDrzXoGm+HdPhsY91shZlBY7RXKatb+brVnIeisP516Fb/8AHvH/ALorz6cIOvNWPQjzKjCdyp/Yen/8+0f/AHyKP7E0/wD59o/++RWhRXV7Gn2J9pPuUP7E0/8A59k/75FH9h6f/wA+0f8A3yKv0maPY0+we0n3M9tD0/HFsg/4CKx9AjWHXr5EGFV8AD6munZgqkkgCuK0/VY4vEWoiL5m8z8OprlrUoqrT5V1N6dW1KfM+h2jyrGpZyAB61l3WsdVtx/wI1mz3Mlw2ZGz7VDXrxprqeNUxDeiHySvK2ZGLH3ptJS1sc2+rEoNBoNMBO1FHaimAUmaDSGgBaYad2ptADJv9S30rPsIElRy6gndxxV+b/VN9DVXTP8AVP8A71ebXjGWKgparU1jpFk32OD+4PyoNnB/zzX8qnpK7PYUv5URzMg+xQf881/KkNnB/wA81/KrFJT9hS/lDmZB9jh/uL+VUdShjiRSihSfatTNZ2rcolcWPo044dtI1pyfMTRWkJjUmNScdcU77HAP+Wa/lUkP+pX6U8muijRpOnF26EuTuyD7HB/zzX8qQ2cH9xfyqeg1r7Cl/KCk+5X+xwf881/Km/Y4OyL+VWTTaXsKXZFKTMyJAmquqjAC/wCFaRrPT/kMP/u/4VoVyYBJRkl3ZpPodN4d/wCPA/7xrXrI8PH/AEE/7xrWrSp8TOqn8KHUU2nVJYUUUUAFA60UDrQA24/49Zf9w/yr5s/Zo/5HrxR9I/5yV9J3H/HrL/uH+VfNn7NH/I9eKPpH/OSgD6XooooAK5v4h/8AJO9c/wCvN/5V0lc38Q/+Sd65/wBeb/yoA8s/ZW/5E3Vf+vhP/Zq93rwj9lb/AJE3Vf8Ar4T/ANmr3egAooooAaetFB60UAJSUtJ2oAw/EmozWMMYgO0ufvelc5/bmof8/BrY8X/8u/rz/SuXr57G1pxqtJnjYupKNWyZlanqt5czSxzTFlJ5FQw6tewQrHFMVVRwPSobz/j7k+tQ1we2qc17nz06k+Zu5of25qGf+Pg103h3UJb60bzzuZTgmuJrq/CP/HvN/vD+td2BqzlVs2deEqTlUs2dJniuR1nWbyLU5IYJPLVMduvFdd2rgNc/5DVx35H8q78wnKFNOLOvGTcaegv9uaif+Xg/lVeW9nnuFnkcmRehqDtRXhyq1Jbs8h1Jvdmh/bmoj/l4NSQa7qC3CbpiwLAEEVl/pTo/9cn+8P51ca9Tm3KjWndanpUL+ZCj92UGoNSna20+aZB8yoSPripbX/j0i/3B/Kqmuc6Pc/8AXNv5V9NNtUr+R78m+S/kckdd1AsSJyM9vSk/tzUD1uDWf2petfM+3qX3PA9tU7li2v7m03GCQruOTU/9uah/z8Gs+lpRrVIrRiVSUdLnU+F9fvP7WWKd96t19q9JikEkYZTkGvIvDn/Iaj+hr0fTrry2ETH5SePavfwM5TpXZ9Dl1aTp+8bNLSClruPZCkNLTXcRoWboBmgDN1Yr8g/jrMqW4lM0xY/hTYYzLKqDua0WiPOm+eWhe0y2yTKw9hTPEN/Lp+nh4ThnYKD6cH/CtWOMRxBVHArB8Xf8g6Pt+8H8jXFi5ONGTR6uDpr2kYs57+3NS/5+W/OmyaxfzIUkuGKt1FUqK+PeIqvRyPrlh6S1US1b6neWsQigmZFz0FSnXdR/5+W/Os+iksRVSsmN4ek3dxOy8NapPfCSO5beV6Gtq4lEMLOe3SuY8H/66f6f4Vqapcb5PKXop5r63L5SnRTkfJ5hy06klE4XxNrV5FqZjgkKDGSax11vUmYBbp+eBVjxP/yGn/3RVbS7ffN5h+6teJjMRUhVkkztweGp1KcW1ubUc1w8cZncs68gn1q+ut6goCi5YADjmqFL2rzPb1E7pnvfV6XKo2NBde1FWDfaGbHOD3rubKYz2kcjdWFeaE8H6V6BY3UUGlQl2/h6V7uVValSclJnjZpTp04xcVYu3M3kW7SYztGa85vPF93ExP2k7j0VTXTazqkktjKsfyrtxXk+d2Ca1zOVSDjZ2OTATpz5tLmzdeK9XuW5unVfQGs2K/uoJ5JYpSrucsfWq/8AOivJ9tUbWp3eyh2L/wDbmpf8/LfnV7RtbvX1KOKeUyK5xg1hGrmjn/ib2/8AvV1YfEVXVScupy4jD0lSbUeh6IKWkHWlr7I+VENBoNBpgJ2oo7UUwENIaU0hoAr3cphtyy9ayTe3H9+tLUebVvw/nWMfwr5XN69WFW0XY7KEU1dkxu5yCC5xTEuJIlIRsA9ajorxfrFVtScjoUY22Jvtk/8Az0/WrlhdPLIVkOeKzeoq3pv/AB8H6V34DE1pYmKctDOpCKga9Z2o3LwyBUOMitDtWVqv+vX6V9JmlSVPDOUTlopOWpX+2Tjq5x9aZLPJKAJGz6VH04o6V8bLEVZaOWh3qEVqSi7nAwHwBR9suP8Anpn8ahptUsTWWnMx8kH0N21kM0CuepqRjhSfSoLD/j0T6VNJ/qz9K+5oybw6k97HntWkY8t7OZG2vgZ4qM3k/UyGon/1jfU02viKuKr8797qejGEbbD/ALRJ5hkDfN6043s/981CaQ1jHEVYvSRfLFvY7HwvezfZvmbILnrXXjkCuI8Mf8e6/wC+a7Zfuj6V7WVVZ1FLnd9S6kVFKw6lpBSivbMgooopgFA60UDrQA24/wCPWX/cP8q+bP2aP+R68UfSP+clfSdx/wAesv8AuH+VfNn7NH/I9eKPpH/OSgD6XooooAK5v4h/8k71z/rzf+VdJXN/EP8A5J3rn/Xm/wDKgDyz9lb/AJE3Vf8Ar4T/ANmr3evCP2Vv+RN1X/r4T/2avd6ACiiigBp60UHrRQAlIaXvRQBzXiyCSSKJ40LKpIP44rl/Kk/uN+VelkA8Gk2D0rza+BVafNexxVsIqsua54nexuLqTKkc+lQiNyOFJ/Cu98XKBY3WBTdDUHRrfI/gFcH1Be1dPmPn5YNe1ceY4Ty5P7jH8K63wtBJFZyNIuN7cfrW/sX0FKAB0ruw+BVGfNc6aOEVKXNcO1cJrsEo1iZihwxBXA9q7ymlQTyK6MRQVePLextWo+1jynmvlyf3G/Kk2sDgqQa9M2L6VyesDHiW3HsK8qtgVTSdzzqmDVNbmB5Un9xvyqSGCV7iNVQ5LDt716MqLgcU7aPSuhZak78xtHAJO9xlupW1jU9Qoz+VVtXiabS7hEGWMbYH4VeFBFeq43hynoyjePKeZmGReDG2R14pPKk/uN+VemBF9KRkXaeK8r+zEvtHnf2et+Y80ClvuqT9KXy3/uN+VdN4WAMlzkfx/wBBXSbR6CsqWXqpHm5jOnglOPNc4zw3BKdVWTYQijBJrtRxSKoHQUtevh6Cow5T0qNL2UbG1YXXnR7WPzj9avCubhlaGUOvbrW/BKJog6963sepSnzKzJDWdqdxhfKU9etXpZBFGWboBWBNIZZWc9zTQq07KyI61dLtsL5rDk9Kz7eIzTKg/GugjUIgUdAKbM6ELvmFrC8VQyTaavlru2uCR7YNb1Ieetc9an7WDh3PQpz9nNS7HmHlSf3G/KgxuByhH4V6dsX0qlqygaXNgD7teFPKVCLlzHswzRyaXKeeiN2GVUn8KXynP8DflXa+FlB0RMjncf51sBFHappZSqkFLm3KqZm4TceXY5Lw0JLWG4nkG0EYGe5qw7F2LHknrV3Up98vlpwq/wA6oV9FhaHsKagfL43EOvVcjivEttK+sblQlWUAYqxa2bwQqgjbOOeK7zTLYSSGVxkL0rXIQDJAFeXicsVWo5c1rnq4LHujTXunmJVl4ZSPwpHzGu5wQPetXxlqSRanaLCAxyP51pCVp4EMnPyjiuGllXtKkoc2x3V84VOCko6s4W5v5XJjtkOTxkiuysTJ9hiExJbbzU+0elLXuYLARwrbve58/jcfLF25laxXvEaS0kRerDivNzBKh2tGwP0r0+m7B6CrxmCWKtraxlhcW8Peyvc8x8qT+435U0IxJAU5HWvT9i4PArmdGX/iotRyP+Wn9TXlVMsVOcVzbnp08yc4yfLscv5Un9xvyq/olvK+rREIcKcsT6V35RfQUgUDoK7KWUqnNS5jlqZm5xceUUUtIKWvbPJENBoNBpgJ2oo7UUwE70lKaSgCrfoz2pC8n/69YpVv7pro6TFeTjMtWKnz81janWcFY53af7tIAT0Fb8w/dN9KqaYP3T/71eTLKUqqp82/kdCr+63Yy9p9DVzTY2EzMQQMVq7RS4xXoYbJ1QqqpzXsZSruSsJWVqiMZVIGRitWkIr1MVh1iKXs72MoS5Xc5za2elIQR1FdHgVnasP3afWvncTlCoU3U5jqhX5naxm7T6Gk2N/dNb8IHkrx2p2K1p5IpRUucTxGuxBZKVtlDdalkGUOO4p1Br6KFPkp8hz31uc9LGyysCp6mmbG9K6IgE0hA9K8CeRqUm+c6liHa1jnMHOMUFG/umtJAP7Wf/d/wq/j2rkoZQqvN71rO2xpKs1bQs+F42a3AC/xmu0HCisjw8P9AP8AvGtcV6GFwSwl43vc29pzpC0tJQK7hC0UUUAFA60UDrQA24/49Zf9w/yr5s/Zo/5HrxR9I/5yV9J3H/HrL/uH+VfNn7NH/I9eKPpH/OSgD6XooooAK5v4h/8AJO9c/wCvN/5V0lc38Q/+Sd65/wBeb/yoA8s/ZW/5E3Vf+vhP/Zq93rwj9lb/AJE3Vf8Ar4T/ANmr3egAooooAaetFB60UAJRSUdKAFppNKTxXIvdapd6tPBaT7Qh6HtxWFWsqdtL3MqlRU7Ffxf/AMeNznimaGf+JLbY/uCrF9oGr6jCyXEqEMMHBP8AhWS/h3xBZRhIZkMSjAwTx+lcfPNVuflex49SFSNX2ijob+aUVydtdalba3Da3s2Q2cgfSurFdVKsql/IqnU50LRmis/W7mS10uWWFtrAcGtZzUI8zLk+WNzQz71ymsf8jNb/AEptn/bd9biWK4G0+pNEuh6tNOs0siGRehyf8K86tVlViuWLOGpOVWK5YnXAjA+lGa5d7XX44yxuVwB0yas+Gr+4vBKLhy+011RxCclBqx0RrXkotWOgpc0lFdZ0C5pGPymud8QX13DfwwWkmwuKjFn4gx/x8Jj6n/CuR4j3nCKvYwdb3nFId4WIEt1/v/0FdJmuTt9G1i1LfZ5UUtyeTz+lMvpNa06JZLi4BUnA2nmsadaVKn70WY06jpws0dgKWqelzPcaZBJIcuyAk+tW816UZcy5kdsXzK6Fq5YXXkSbWPyE/lVOiqLjJxdzS1O53ARIcjqazaUkk5NTWkBnuAO2cmjYqTdSRo6bb+XH5jD5m6VfFNVQqgDoKdUHfGPKrBSUppKChKp6v/yC5/8AdrA1C71GfXHtLOcoB0H40smm69NGySXClTwRuNedPFc6lGMTtjQUHGUpGj4WP/Ejj/3j/OtK7nEFuzZ5xxXNQaRrdrEI4J1VB/CGP+FYGq6jq1prFvb3NwShcDAPB5xSo4h06cYyiTiKcZOU4SR0jMWYse9CqXcKO9NU5UH2pwODkV7C1R89rc1/tUNlbqgIL46Cs64vpZ+rYXsAaztTlkisJpUYhgvBrlbCTWtRiMkFz8oPcmuWpXVKaja7Z2RhKrByvZIn8VH/AImdp9R/OungP+jx/wC6K5S40LV7mRXnlR2T7pJPH6VKbHX4k/4+VAUdmNctKpOFWc3B6mlSEJQjFS2OpzRmua8N393cXs8N1KX2YHP410tejQrKtDmRxVaTpS5WFJmlrn/E17c2v2dLWQozsRxV1aipQ5mTTg6kuVG6x9K5rRT/AMVHqP8Av/1NMSy194w4uQAwyPmNQx6JrMEzyxyqrycswY8/pXn1aspyhJReh206cIRlFyWp12aO1chejXLG2M81z8i4zgmt3QbqW70mOWdtzknJ/GuyniVUqezasznqUOSHOndGlS0g60tdZziGg0Gg0wE7UUdqKYCGkpTSUgCmmnVmXk0wuxHE2M1hiK6oRUmrlRjzOxdm/wBS30qppnEb/wC9TDDelcGQEfWmJa3cQxGwAzk8150q1SVaNRQdkapJRauaeaWsmV7qAqZHyCelaiHKjPXFd9DFKs3G1miJR5UmLSUd6ZKdsbEdQK65PlVyB2aztW5RPxqKKS6nZvLfGD3pZbS7lwJHBxXiYjFPE0XGEGdEY8srtl+H/Ur9KkrN8m9VQBIABRaTzG7aOVs4X+tdFPGcvJTlFq+hLhe8kaNBopK9QhCGkNVdQleKEFDg5qusd66hhIOfU1wVcXyVHTUbmkYXVxV/5C7/AO7/AIVfqhFp99LcZiwznjity18PXkSedeTZwM7RXnUsVLDxk5QerbOj2bqNWZteHR/oByMfMa16o6Wf9Gx0wcCrtdVOsq8FUj1OhR5PdFpaSlFagFFFFABQOtFA60ANuP8Aj1l/3D/Kvmz9mj/kevFH0j/nJX0ncf8AHrL/ALh/lXzZ+zR/yPXij6R/zkoA+l6KKKACub+If/JO9c/683/lXSVzfxD/AOSd65/15v8AyoA8s/ZW/wCRN1X/AK+E/wDZq93rwj9lb/kTdV/6+E/9mr3egAooooAaetFB60UAJSE0Gmyf6tvpSewiF761QkPcRKe4Liuc0q4hj8QXbvKgRujFgAawrwk31xkk/vW/nUNeDVxzc1pseRUxjctFsekxXMM+fJlR8ddrA02W7t4m2zSxqfRmArl/CRP26UZ429PxFVfEjH+2XGeNo/ma7njGqKq2OuWJaoqpYdq9ra3Him3mikQAKcsCMdDV15IkcIJoyegw4Oa5up7BQ2pW4b/noOv1rho45qdrbnnRqqU7Jbm7JIkSlpHCKO7HFY+v3ltLpEqxzRux7BgTWr4w03/iSs0DY5HH4ivOXjeNtrgg104zFOnenbdGOMqyovksdd4dvLeLS1WSaNG9C4FbiSK8e9GVl7EHivNB/nFdrojf8U2nrsbr9TRg8U5rka2RGFxDmuTsXLm+tRE6i4jzjpvFYHha5igM/nSImW43NiufckyNknlj3ptclTHN1FJrY5p4tualbY9KjuIZ8+TKj467WBxRLdQQHE0qIf8AaYCuX8JMftcwycbf8Kh8Uk/2oozxsr0Xi37D2tjueJfsfaWLWs3MUmuWjxyoyr1Ibgda6FL61fAW4iJ9A4rznPualtiRdRFTg7hXBSx7U27bnHTxjUm7bno7yRxR75HVF9WOK57xPdQTaegimR2EgOFYHsan8TkjR+D3Hf3Fcd9a6cbinB+ztub4vEOHuW3O50i9tk0q3R7iNWEYBDOARxWorKwBUgg9CDXmJPua9B0j5tLhz12/1rbB4n2y5WtjTC4j2vutbF40tJS16Z3C1tadB5UAZh8zVnWNv59wM/dXk1uAY4FJnVQh9oWiiipOsD0qs97bRMVkuI1YdQXAqweled6yx/ti4zn73T8K4cZiXhocyVzswmHWInyt2NeK5hHi55PNTy8H5twx1rporuCdsQzRu3orAmvNen1rY8MN/wATgDJxtNeVg8wk6nJy7s9HFYFRg532R1eoahb2MGZpkjY9AzAV51r91FPrFnIkyOocFirA45qXx9cmXWI0DfIq+v0rlK2xePcZunY86jhFUXPc9Gjv7RgEFzFnHTeM1YZ1RS7sFUDkk8V5pExE6YPORzXca1kaFLyc+Wf5V6GFxrq03K2x52IwipVIxT3DVb61fTplS4jZivADg1meFrqCCxYTTIjZ6MwFctnPekrypZk5VlUtsemsuSpOnfc9NjljmXdE6uvqpzUE19aqjq1xECO28Vl+FCTo78k/vD/IVyd6T9un5OfMP869Wvj3ChGdviPNo4JVK0oX2Nrw/cRRatdvLKiqzfKWbg8mupiuoJiRDNG59FYGvNQcdK2vCpP9rEAnGw1x4DHPmVK25143BLldW+yOxluYYBmaVI89NzAVzPiS6gnlszDMj7XydrA45FM8Xk/aIBngg/0rm60x2OcZOlYyweCU4qpc9Et9QtPJjX7TDnaON4qy8iIm92VVxksTxXmSkh1weciu11cn/hGupz5fP5V1YXHurCTtsc+JwapTik9xniK9tptGlSKeN2JXgOD/ABCk8O3ltDo8aSzxo2TkM4B61xmaPbmvNWYy9t7S3Q9L+zl7P2fN5np8ciSKGjYMp6FTmn1keGiTo0ZPPP8AhWvX01KftIKXc+enHkk49hDQaDQa1IE7UUdqKYCHrSGlNNNADGlRPvOoPuazZ5EOpKwYEeuaivz/AKWfYcVVr5XG5nJz9ny/Czsp0Va50CyxscK6k+gNDyKg+dgPqaxrIn7YnWrOqH7gr0KeZSlhXW5djN0rT5Q1GRGVNrA4PY1bSaLaP3i/nWH1o/iFeVTzaarOfL8RtKguXc6HIxnIxUE00ZhYB16djTc/6D77axc+9etjswdCMUo/EY06XNdl/TpETzN7KMnjJrRDq33GDfQ1z3fjFaWl/dkz6j+tcuV4+UpKg0aVqdveLjTRg4LqD6ZrMhdV1J2LDGDg5qG75u3qCuXF5lKVbl5fhZpTpK2+5vrLGzYV1J9AaGdV++QPrWPY/wDH4ta1xps92qYBVCepr1qeZOeGddrYy9i+flRT1B1lhCxkM2eimt3TNJ86NDcOsaY6E8mo7PS4LVRxvfuxq709a+e/tuXtnNR3PSjgko6s27e1gtY8RKoGPvCkuZo2tX2upO09DTAT/Zw9dtZHNdePzKVOCsr8yLpUk3bsaWmyIkJDMoyehNaCsHHykEeoNc70rW0vmA59ayyvHObVC2w61O3vF6lFJS19EcwUUUUwCgdaKB1oAbcf8esv+4f5V82fs0f8j14o+kf85K+k7j/j1l/3D/Kvmz9mj/kevFH0j/nJQB9L0UUUAFc38Q/+Sd65/wBeb/yrpK5v4h/8k71z/rzf+VAHln7K3/Im6r/18J/7NXu9eEfsrf8AIm6r/wBfCf8As1e70AFFFFADT1ooPWigBMU1huUinUUvUDmbjwmZrmSVLgLvYtjZnqfrUQ8IMR/x9f8Ajn/166qiuV4Oi3do5/q1O97GPpGhf2ZK8jS+YWGB8uKi1Pw5/aF156z+WSMEbc/1rdpe1X9Xp8nJbQr2MOXlscr/AMIg/wDz9f8Ajn/16ltPC32e6jme43bDnGz/AOvWfP8AFPw3b3ktvJPKZIWKuFgc4/Ja3tC8TaT4jhaXR7tZwn312spX8CAe1RHB0ou6RKw1OLukWNT08ajYtAW2E45xnvmufl8ECZcPcg+h8vp+tddS1dTDUqkryQ6mHp1HeSueeXPw+liJaO63jrjZz/Or9np4s9PW0JyQCCcY612Zrnb/AFvSP+Eg/saV2W9MZkACHoBn0x2op4enTd4o5vqNOL5oI5N/CJaRitzgE9CmcfrSf8Ig3/P1/wCOf/Xre03UrfV455bHzGSF9jFo2XnJ9QPSrn1rN4OjfVHC8JTi9UZGj6J/Zbu5l8xmGOmMUzVtAGpXKzLKUIGD8uatnWdPXVhphuVF4V3eVg5xx+HcVfrb2FPk5LaF+yhycnQ5b/hEW/5+v/HP/r1JD4TMcyO1zuCnOAmP61pXfiPSrHVLfTbq7VLu5/1UQUkngnsMDoetamKyWDop3sR9VpLWxQ1PTf7RsTBv2dOcZ71if8Igw/5ev/HP/r11VLVzw1Oo7yRc6EJu7Ryn/CHuet1x3+Tr+tdHaW4tbZIhztGM1PS1dOhTpu8UEKUIO6QUo5NJVzT7fzZtzfdXmug6Ixu7I0bG38iAZ+8etWqQUtQelFWVkFFFFAxG5Fc5f+Fjd3kk6XGzeemzPb610hpKxrUYVlaaNadWdJ3izk/+EOYf8vX/AI5/9eprbRP7Hdp2n3sVwo24/rXS1iajP5s5UHheKxpYGjCalFbBiMdW9m4t7nNazoP9q3CzCby2HH3c/wBazf8AhDm/5+v/ABz/AOvXV1yOpfErw/pWqzafdTSfaIG2uqQu2PyFbVMFRqS5pI86GLrQVkyWLwgUmVnucqDkgJ/9et69shd2L2+du5SAfSs7QfF+i+JCy6VeCWRBl42RlYD6MBW3WtPDUqcXGK0ZFSvUnJSk9Ucp/wAIa3a6/wDHP/r0n/CHMf8Al7/8c/8Ar11lJWP9n4f+U1+u1/5ihpOmjTbMwb95LFicY7f/AFqxrnwn51w8iXG3cxONn/160dQ8Safp2tWul3UhW5uv9Wu0nP44pdK8Q2WsXVzb2ZcyWrbZN0bLgj0JAzW8sLSnFRktEYxxFWMnKL1Zk/8ACHP/AM/X/jn/ANer+keHv7NuWmabzCRgYXH9a3KoXOs2FnqMNhc3Kx3M4zHGQcsOfb2NRTwVGElJLVFTxVaceVvQq6zog1RkYSmNk6HGay/+EOf/AJ+//HP/AK9dX0rL1TxFpejT20Oo3awyXUgjiTaWLMSB2Bx171dTB0akuaSFDFVacbRehkr4PIcFrrIB5Gz/AOvW5eacLrTTa7tvy7Q2M9quIQygjoeRSkVdPC06acYq1yJ4irNpt3scn/whzf8AP1/45/8AXo/4Q5v+fof9+/8A69dZ2pBWP9n4fsbfXq7+0VNNsvsFmkAbdt74xVyk70td0YqK5Ucjk5O7ENBoNBqxCdqKO1FMBDSGlNIaAKNzp/ny7w+PwqA6UT/y0/8AHa1aaa4J5fQnJyktzRVZJWKEGneTMHZ847YqW7tPtO3DYI9qtUdq1WDoxpumloxc8ua5l/2Uf+en/jtINK5GZPyFZWt/EHQtB1ZtOv5pBcKobakTtwfoDU+heONB8Q3H2bTrzdcj/lk8bIfXuBWCyzDLVRK9rK25ueUPJ8s+mKof2Uf+en6Vp0V0VsHRrJcy2FGclsZf9ln/AJ68f7tWba1+zIw3bs1a71lav4gsdFurO3vXZZL19kQVScnj0HuKmlgaFGXPFDc5SViSbTvNmLh8Z9qfb6BPdPiJiffHFaGjz2V/rU+mu0n2i3ALr5bAYxnqRg/hXXxQxwqFjQKB6Vy1cHhm27anVTU2tWYGleFY7OZZrh/MYfw44raubQTxhQduDxxUV/rFhpc0EV/crC9y+yJSD8zcDHA9xV0EEZHIPOazWFpKm6dtDqTs7md/ZTf89B/3zSDSj/z0/IVnav4+8O6JfG0vr/E6/fVInfZ9SARW7ZXttqNol1ZTLNC4yrr0Nc6yzDL7Jp7WfccIR5AiJ7dao/2Uf+eg/wC+a1KK2q4OjVSUlsTGco7My/7KP/PT/wAdq7a2/wBni25zU9FKjgqNGXNBBKpKSswpaSgV2kC0UUUAFA60UDrQA24/49Zf9w/yr5s/Zo/5HrxR9I/5yV9J3H/HrL/uH+VfNn7NH/I9eKPpH/OSgD6XooooAK5v4h/8k71z/rzf+VdJXN/EP/kneuf9eb/yoA8s/ZW/5E3Vf+vhP/Zq93rwj9lb/kTdV/6+E/8AZq93oAKKKKAGnrRQetFABRRRQAYooooAKQ0tFAHgPhzXrDQ/FOt/2hpJ1HzJWCqsSvjketaOhQ6nYx+KPE1naNpVvJC720W3aM/MQcDjj+tdr4L8H3vh7XdVvLyRHjvHJTaORkj39q6DxPpkuseGb7T7VgstxCyKT0yRigDzjR/EHiseGR4r1O9Q2FvEyrbjrMTwrHj+8w9elY5+IGrwWcWrr4himuWfL6btGFU56H8u3evSdL8IMvw5Tw3qbgt5RRmToDnIPfvXO23hHxja2cWjQ3lnFYxN8t2qHzduTx9739O1ABq/izVvEfiLTNE8OXH2H7Tbi4lmIyQD2/Q1kW0Gq2Pxdjj1i4W5njtH2TKuN48s9RXUeIvBOonXLHXPDdwov7WMRss4yJAPXke+aq2HgnxDJ4zGvaxdQO7wsjpEuFUlCoAyx9qAMfTPHV5pfgbV9RmWOSZbswwgIFAJL9fXpVpNA8dW0llqMepR3omYfaLZlwFU+hwauWHwymfwlqWk6lOqvcz+fC6D7p+bGR/wKnReF/GWoy2NprOoQQ2FnIGLQLh5QDnB+Y+npQTKKluedX+ia0vxoMLak0V08YcS+XnYpCnb17ZA/CvYpomltZId7IzoV3r1GRjIrH8ReCdXk8ZQ67oU0O5YxEyTrngBR6j+7XWzaYdu6Lr3FByToNao8H1Tw2fD/wAWND3ahcXz3IaQvOxYjhxjJJ9K9qFcd4k8JX2p+OtI1eJ1SGxQrIrDkn5vf/arsR0po5wpRSUopgJRRRQAqruYAdTW/ZweRbhe/U1naZb+ZL5jDhelbApM7KELK7CiiikdIUUUUAFFFB6UAVb2cQW5P8R4FYR5JJq3qFx50+0H5V4qpWkVY4K0uaQleEy6zZ6L8Xdamv8ATjfRs5AjEYfnB7Gvdq4jR/B97p/xF1LXppENvdE7FA5HB9/eqMDkPD8F3feN9R8S6dpjaVp6W2FXZsDHCjGBx1BNP8J674t1fRTrt5qCpp2ms0kox804Xll/IfrXrGoW7XWnTwRkK0iFQa5jwZ4Pl0XwTPoeqssnnmQMU/usMe9UB50/xA1a6tZdXXxDHBcK+YtO2jDLnHJ+mT0rodU8earrFn4fsNCYWt7qg/eynnYQACB+JqS28GeLNHtpNJ0m5szYPJuW5dD5sYPYfMP5d60vEXgO+u7bSbrS77/ibaYBiWQcSHAznp3FMRy+o2Wsaf8AE3w/BrN6t+Bgxz7drEZPB/z3q7pPjK709PFV7chHFlKREqoFJ5A5PfrWgvg/xPqfi7Ttd125tt1sQDDCuFUA57sfWpdN+HkwTxDBqUq+Tqjlk2DleQR6+lAGfYxePrrSbTxBaanHO1xtl+xMuF2HBxnH9Kx/F9hq03xR0bzL8xT3EW6Ihc+Rw+V9+h/OttPB/jN9Mt9Al1KCLTIGUC4jXEpQcY+96D0rR8WeCtUvdX0rVNDuUFxp8YjAmGd33snqP71MDt7aOSGzhjnk82VECvJjG4gcnFeM+OfC7aJ4q8P3b6ldXzXN+gxOxbYA69Mk+tey2gnFnALvabjy183b03Y5x+Ncr438K3niTUNEntHRVsLoTSbu4yp459qYjrYf9Qn+6KfTYxtjVT2AFOqhAaSlNJQMKKKKAENBoNBpgJ2oo7UUwCkpaSgAxTadSUwG0UtIaYHiPivUrbSfjS11fWbXkSwKDEEDk/geKmsIp/EXxEtda0fR20qytIH8x/LCBjtfsOO4FdhJ4OvX+KQ8R70+yiIJs75z9a7GePzLeSNeGdCo/KkM8m8O6t4w8T32opBqKwWdldNukI+YjJAUfh79qzJfiDqWsteX8WvppnkljbWewHzMDIBPv0716X8PfA1/o66ql4VZL25MikDGBlvf3pmnfDPXvCr3Nt4bks5bS5YsJLlMvDnjI+Yc/hUSqKJtClKRz58ZavqfgrS5bQLb6hfTeS0h524LfMOP9n9as+JtB1rQ9U8ORavfpfq1zlZNuGVsrkZ7j/Cu21nwBd6l4Vsrf+0C+q2cnmrcMOGbJ4+mD+lZt/4N8XeIL/S7vW7u1/0CUERxLjIyMknceeK5pTcjshSjAWy8T3Np478RLOUNvZW3mIvlgEnb69etV9Nk8ceJdHPiLTdUSIO7GGyK/KVBIwePb0rbtPA1x/wl2t393IptNSg8oKo5Hy4z1rKi8G+MdO0uTQNMv7ddMZiUnZf3iKSTj73v6dqzNTF+I1trNxqvhme/uRBPcTKiwgZEEm5csDxnqPTpXrNhFc2Xh9I7u4NzcRwktLtxu6kVyPijwFe3+kaLHpV3uutJferzDPmEFTk9P7tdjpMd6NHhj1by2uthEvljCnnjue2KAPNvh3pdlrQ8TXOqW0V1NNcsGMyBioLPwCelaHwVuJJPDF7A5LJDeuqZ7DanFR3XgjxHpOq6o/hW8hW01Ry0qzDmMkk8cj+8a63wZ4ZTwp4fWwWQyyM5klf+8xAH9BQB0FFFFABRRRQAUUUUAFFFFABQOtFA60ANuP8Aj1l/3D/Kvmz9mj/kevFH0j/nJX0ncf8AHrL/ALh/lXzZ+zR/yPXij6R/zkoA+l6KKKACub+If/JO9c/683/lXSVzfxD/AOSd65/15v8AyoA8s/ZW/wCRN1X/AK+E/wDZq93rwj9lb/kTdV/6+E/9mr3egAooooAaetFB60UAFFFFABRRRQAUUUUAJSfSnUUAJSU6igBtFOooAb3o/WnUUANoxTqKAIJraOdcMv41mXGnyQ8p8y+1bNFBlKnGRzZ44PFFbVxYxzAkDa3qKzJ7SWBvmBI9aZyTpSiQ0Dk0UlMyNq3nt4YQgcVL9tg/56CsCiix0Ku0rWN/7bB/fFH22D++KwKKLD+sS7G/9tg/56Cj7bB/z0FYFFPlD6xLsdALyA9JBVe71CNYysZ3MeOKx6KfKJ15NATnk0UUVRziUUUGgQ00UpoqgEoPSlopiGmkpxpDQA3+dBp1IaYDaKdRTENoooqhAaSlNJQMKKKKAENBoNBpgJ2oo7UUwCkpaSgApKWkpgJRSqjO2FBY+wrUtNHZ8NcfKP7tKUlEuMHLYzIreWd9sakn6Vs2ejLHh5yGb07VpQwRwLtiULUlc0qrex2woxjrIaqBF2qABS0tFYnQJQKdRQA36cfSjtTqKAG/pRjmnUUANpRS0UAFFFFABRRRQAUUUUAFFFFABQOtFA60ANuP+PWX/cP8q+bP2aP+R68UfSP+clfSdx/x6y/7h/lXzZ+zR/yPXij6R/zkoA+l6KKKACub+If/ACTvXP8Arzf+VdJXN/EP/kneuf8AXm/8qAPLP2Vv+RN1X/r4T/2avd68I/ZW/wCRN1X/AK+E/wDZq93oAKKKKAGnrRQetFABRRRQAUUUUAFFFFABRRRQAUUUUAFFFFABRRRQAUUUUAFFFFABTWUMMEZFOpKAKNxpqv8ANCcH09azJIXibDjFdDTJIklXDqDTuYTop7HPUtX7jTWXLQ8j0qiylThhg+9UccoOO4lFFJQQFLSUopgJQaKDTASiiimAUGig0AIaKDRVAFFFFMQhpDS0hoAKQ0tJTAKKSlpiG0UUVQgNJSmkoGFFFFACGg0Gg0wE7UUdqKYCUUVPb2ctyfkU49aLpDSb2K456VdtdMluMFvkT1NalppUUHzSAO/vV8ADgDArCVXojrhh+sivbWMNsvyDJ9TVmkpawbb3OtJLRBRRRSGFFFFABRRRQAUUUUAFFFFABRRRQAUUUUAFFFFABRRRQAUUUUAFA60UDrQA24/49Zf9w/yr5s/Zo/5HrxR9I/5yV9J3H/HrL/uH+VfNn7NH/I9eKPpH/OSgD6XooooAK5v4h/8AJO9c/wCvN/5V0lc38Q/+Sd65/wBeb/yoA8s/ZW/5E3Vf+vhP/Zq93rwj9lb/AJE3Vf8Ar4T/ANmr3egAooooAaetFB60UAFFFFABRRRQAUUUUAFFFIaAFpKxvE+vJ4d0SW+dS5XAVR3JIH9a84Pxg1LnFhb47cmqUW9jop4epVV4o9go5rx//hcGp/8APhb/AJmj/hcGp/8APhb/APfRqvZyNfqVbsewUteO/wDC4NT/AOfC3/M0v/C39T/58Lf8zR7Nh9Srdj2GkrkPBHjU+KBNHPCIZ4hkgdCP8kV12eahqxyzhKnLlkOopKWkQFFFFABRRRQAVBPaxzj5hg+oqeigTSe5iXFjJDyPmX1FVq6PFVLiwjlyUG1vbvVXOWdDrExqUVLNbSQH5149RUNUczTWjCg0UGmSJRRRTAKDRQaAENFBqnqV8unafNcuM+WpOPXirinJ2QpNRV2W6BXn7eP7vJ2W0e3PGSc0n/Cf3n/PvF+ZruWX4jflOD+0KHc9BpDXn/8Awn97/wA+0X5mk/4T+9/59ovzNV/Z+I/lF/aFDuegUlef/wDCf3vT7NF+Zra8N+KW1i5eC4iEbgZG3oaipgq1OPNJFwxtGpJRizpqWkpa5DsG0UUVQgNJSmkoGFGaKSmAUUUoBY4AyaAG0+OJ5W2xqSav2ukySYab5V9O9a8FtFbriNQPfHWs5VUtjohQlLV7GdaaOFw1wc/7IrVSNY1wgAHtS0tc7k5HbGEY7BRRRUlhRRRQAUUUhoAWkqve3aWNlLcy/cjXccV5VL8Yr4yHyNPh8vtvJzWkKcp7GcqkY7nrtFeP/wDC4dS/58Lf8zS/8Lh1P/oH2/8A30av6vMn28D1+ivIP+Fw6n/0D7f/AL6NJ/wuHUv+gfb/APfRo+rzF7eB7BS1554R+JMuva0mn3tokJkB2PGcg/WvQqylBwdmaxkpK6FoooqSgooooAKKKKACiiigAooooAKB1ooHWgBtx/x6y/7h/lXzZ+zR/wAj14o+kf8AOSvpO4/49Zf9w/yr5s/Zo/5HrxR9I/5yUAfS9FFFABXN/EP/AJJ3rn/Xm/8AKukrm/iH/wAk71z/AK83/lQB5Z+yt/yJuq/9fCf+zV7vXhH7K3/Im6r/ANfCf+zV7vQAUUUUANPWig9aKACiiigAooooAKKKKAEoNBpaAOH+Kn/InSf76/8AoQrxPFe2fFX/AJE+T/fX/wBCFeJ10U9j38v/AITEooorQ9EKKKKAPRvhB/yFr3/rif8A0Ja9dFeR/B/nVr3/AK4n/wBCWvXa5p7nzeN/jMKBRQKg4xaKKKACiiigAooooAKKKKAGsiuuGGRVC400HLQnB9K0aSnciUFLc5142jbDjBptdDLCky4dQfesy5050y0XzL6VaZyTouOqKOKKCCpwRg0VRgJQaKDQIQjNYviv/kXbr/cP8jW0axfFf/Iu3X+4f5Gt6H8WPqY1/wCGzyrPej60dqDX3J8YFJS0lMQZro/A3/IwH/rmf61zldH4G/5Dx/65n+tcmN/3eR1YP+PE9Ip1JS18cfW9BtFFFUAGkpaSgYUYqWC2luGxGpPvWva6XHFhpcM1TKaRpClKZm2uny3Jzjanqa2LbT4bccDc3qatAAdOKWueU2zuhRjETFLRRUGwUUUUAFFFFABRRRQAUhpaKAMnxL/yLd9/1yNfN68KP1r6Q8Tf8i1ff9cjXzev3RXdhepxYjdC0UUV2nIFFFJmgDp/h5/yPFj9TXv3avAfh5/yPFj9TXvw+7XnYn4z0MP8AtFJS1ynQFFFFABRRRQAUUUUAFFFFABQOtFA60ANuP8Aj1l/3D/Kvmz9mj/kevFH0j/nJX0ncf8AHrL/ALh/lXzZ+zR/yPXij6R/zkoA+l6KKKACub+If/JO9c/683/lXSVzfxD/AOSd65/15v8AyoA8s/ZW/wCRN1X/AK+E/wDZq93rwj9lb/kTdV/6+E/9mr3egAooooAaetFB60UAFFFFABRRSZoAWikzRmgANFFFAGH4t0E+ItBlsVkEcjYKsemQQf6V5kfhLrmeJ7Q8/wB9v/ia9ppMVSk1sdFLE1KStE8W/wCFS65/z3tP++2/+JrB1Lwve6VrkOlXDxGaYDaVY4/lX0PXk3jT/kp2nf7o/rVqbZ3YfF1Zyd2UP+FTa5jPn2nt87f/ABNH/Cptc/572n/fbf8AxNe0AfKKMUvaM5/r1bucZ4D8FzeGDNPeSpJPMNuEzgDP/wBYV2gpMUoGKhu5yTm6kuaQtFJRSIFopM0ZoAWiiigAooooAKKKKACiiigBKMUtFAFaezjn6jB9RWXcWUkBPG5fWtyg8jBFUpWMp0oyOaorYuNPSXJj+Vqy5oJIWIdT9atNM4503EiNUtVsRqOmzWpbb5ikA+nFXaTFaRbi7owklJWZ5y3gPUgx2ywkdiSc/wAqT/hA9Tz/AKyD8WP+Fej4pDXof2jiO5wf2dQ7Hkup6Fc6VcQQXDIWmIA2nI61or4G1J4w4kgwRkZY5/lWh44H/E50/wD3h/Ou0tv+PWL/AHB/Kuqpjq0aUJJ7nJSwdKVWUWtjzz/hBNT/AOekH/fR/wAK3PDPhefSbtrm7kVnIwAnQV1eKMVyVMdXqRcJPRnbTwNKnLmiNp1JijNcR2hSUuCTgDJq7a6ZJMcyDYvv3obSKjBy2KaxtI21BknsK07XSc/NcH/gIrQgtY7dcIo+tTVjKpfY7KeHS1kNjiSNQqKAKfSUtZHStAooooGFFFFABRRRQAUUUmaAFopM0ZoAKDS0lAFbULRb+wltXOFlXaTXkUnwh1lJCIrq0ZAflLMwJ/8AHa9mxSVpCpKGxnOnGe54x/wqLXf+fiz/AO/jf/E1h+JfB1/4Xgilv5YXExIHlEnGPqB619B444rzP4yjGm6f/vv/AOy1tTrzlKxjUoxSOetfhXrV3apPFcWgWQZALtn/ANBqX/hUeunpcWWf+ujf/E161ov/ACBbX/rmKvY96TrzuUqMbHm/g/4b3mia6moajcQsIh8iREnP1yBXpFLijFYSm5u7NYxUVZBS0mKWpLCikzRmgBaKKKACiiigAooooAKB1ooHWgBtx/x6y/7h/lXzZ+zR/wAj14o+kf8AOSvpO4/49Zf9w/yr5s/Zo/5HrxR9I/5yUAfS9FFFABXN/EP/AJJ3rn/Xm/8AKukrm/iH/wAk71z/AK83/lQB5Z+yt/yJuq/9fCf+zV7vXhH7K3/Im6r/ANfCf+zV7vQAUUUUANPWig9aKACiiigAptOpDQA1mCjLEAepNM+0Qk/61P8AvoVznxCmkg8HXbwu0bAfeU4NcboHgG91rRbe/bXZ4vOUOE2FsA++4VSimrnRCjFw55Ox6t9oh/56p/30KPtEP/PVP++hXnf/AAqy7/6GO4/79H/4uj/hVl3/ANDHcf8Afo//ABdOy7h7Ol/MeifaIf8Anqn/AH0KT7RD/wA9U/76Feef8Ksu/wDoY7j/AL9H/wCLo/4VZd/9DHcf9+j/APF0WXcPZ0v5j0P7RDj/AFqf99CvKfGjq3xM09lZSu0cg/WtP/hVl3/0Mdxx/wBMj/8AF1x2u+GpNL8WWumPqLzvMAfPZcFf1/rVRS7nVhoU1N2l0PdBcQgf61P++hR9oh/56p/30K88/wCFWXeP+RjuP+/R/wDi6P8AhVl3/wBDHcf9+z/8XU2Xc5uSl/MeifaIf+eqf99Cj7RD/wA9U/76Fed/8Ksu/wDoY7j/AL9H/wCLo/4VZd/9DHcf9+j/APF0WXcXs6X8x6J9oh/57J/30KQ3EP8Az1T/AL6Feef8Ksu/+hjuP+/R/wDi6R/hbeBSR4jnyOn7o/8AxdHKu4/Z0v5j0ZJEkGUYN9DmnV5t8KZp2/tCOed5dkmBubOOBXpVS1ZmVWn7OfKApaBRSMwooooAKKKKACiiigAooooAKQnAyeBS1n64zJo1yyEqQnUHpVRXM0iZy5YuRb86I/8ALRfzprtBIpDMhHua4HQ/DlzrGmrdHUZYgxIAwSRj8a0v+EHn/wCgvL/3yf8A4quqVClCTi5/gcca1WaTUDbuLKPloJF+mazndEbDOoP1qr/wg8//AEF5f++T/wDFVFN8PpJ1w+rS/XYf/iqcY0V9v8DGpGs9VD8S758X/PRfzpDNH/z0X86565+Gt5Fymrysv+4c/wDoVUj4GuAcHVph/wAAP/xVaqnQf2/wOOU8RHeBW8aurazp5VgRuHQ+9dlbTR/ZYv3i/cHf2rzfXtEfS762he8eczEAMy/d5+tbcfgmd4VcatKNyg42nj/x6uyrTpeyheX4HDSqVVVk1E7Hzov+ei/nR58X/PRfzrkP+EGn/wCgvL/3yf8A4qpIvAF3M2I9VmP/AAA//FVy+zo/z/gdiqV3oofidV58X/PRfzqe3g+0H5WUD1JrCtvhlKmGm1eVj6bD/wDFVoDwLMowNWlA/wBw/wDxVZSVHZT/AAOmEK71lD8TpLa1tYACXVm9SauJIjnCMDj0NcefA84BP9rSn6of/iqj8HrNb67f2ss7y+UwTLHrgsM1DoxlFyjK9jqhWlGSi42udvRS0VxneFFFFABRRRQAUUUUAFFFFABSd6WmmgBelRm4h/56p/30Kr6sxTRrxlJBEDkEdvlNeR+FPCd74qhu7p9anthHMUwAXz/48K0jBNNtmcptOyPZPtEP/PVP++hR9oi/56p/30K87/4VTdf9DLcf9+j/APF0f8Kpuv8AoZbj/v0f/i6OWHcXNPsei/aIf+eqf99Ck+0Q/wDPVP8AvoV53/wqm6/6GW4/79H/AOLo/wCFVXX/AEMtz/36P/xdPlh3Dml2PRPPh/56p/30K81+MciPpthsdW+d+hz6VN/wqq6/6GW5/wC/R/8Ai65Xxx4Rl8M2ttJJqkt/5pIxIhGMY/2j61pSjDnWpFSUuXY9g0aaIaNa5lQHyx/EKvefD/z1T/voV5nYfDG4urGGZfEVwgdchRGSB/4/Vj/hVV1/0Mtz/wB+j/8AF1DjC+5SlOy0PRPtEP8Az1T/AL6FH2iL/nqn/fQrzv8A4VTdf9DLc/8Afo//ABdH/Cqbr/oZbj/v0f8A4up5Ydx80+x6J9oi/wCeqf8AfQoNxD/z1T/voV53/wAKpuv+hluP+/R/+LoPwpuh/wAzLc/9+j/8XRyw7hzT7HoqzRu2EdSfQGn15N4RtLvRvidcaXNfS3KxQE7mY/NkoemT616yKU4crKhLmVwFLRRUFhRRRQAUUUUAFA60UDrQA24/49Zf9w/yr5s/Zo/5HrxR9I/5yV9J3H/HrL/uH+VfNn7NH/I9eKPpH/OSgD6XooooAK5v4h/8k71z/rzf+VdJXN/EP/kneuf9eb/yoA8s/ZW/5E3Vf+vhP/Zq93rwj9lb/kTdV/6+E/8AZq93oAKKKKAGnrRQetFACZozRSGgAzR2rn/FXiq28L2SS3CNI8hwiLjnHX+Yrkv+FxQ4/wCQc/8A31VcraN4YepUV4o6T4in/iirz6VY8Cn/AIovTf8Ariv8q898SfEmLXtDmsFsmjMn8RPSpdC+J0Wj6LbWLWLyGFAhYN1xVcrsdf1ar7Hlt1PXs0ua8w/4XDD/ANA5/wDvqu08M+JbbxLp32m2VkKnDo3VTUuLRyToVKavJG0TRk0GuH8R/Em10HVnsUtXnkjA3tkAA4z/AFpJXM6dOVR2ijuPrXk3jX/kp2ndhtH9at/8Lhh/6Bz/APfVcjrni1NX8UW2rLbsghABQnrVxiz0cPhqsJPmXQ97XoKXNeY/8Lhhx/yDn/76qaz+LdrcXkUU1jIiO4XcCOMmp5Wcrwla17HpANLmo4ZFlhSROVcBgfY1DqN9Fpmnz3lwcRwxs7Y9AM1Jy2d7FrNNblTXmknxgtxIRHp8hUHgkgE03/hcMOP+Qa//AH0KvkZ1LC1uxJ8Kf+PjVP8Arr/QV6VXhfhLxqnhp7pntmm+0Pu4PSum/wCFxQ/9A1/++qcou5vXwtV1G0j07NLmuN8LfEG18SX5s/IeCbGVBxhh3rsRUNWOGcJQdpC5paQ0tIgKKKKACiiigBDxRmgjIrO1jVotHsjcTAsM7VUdSacYuTsiZSUVdmjms7Xz/wASO6/3K5v/AIWEn/Pm351Wv/HCXtjLb/ZGXzFxknpXfTwVdTTcThqY2g4tJm34I/5FmL/eb+ddFXnOh+Lk0fS0tGtmcqxO4H1NaP8AwsKP/nzbP1qq+Dryqyko7sihjKMacU30O2orH0LxBBrcTGNWR0+8rVr1wTjKEuWW56EJxnHmiBNVbmwjnGcbW9RWRrniuHRrpYPKaVyMnHasv/hYSf8APm3510U8JXmuaK0OapiqEXyyZznj+zkt9a0/cCV3D5gP9qustFL28QUZJQcD6VzGu6+us3ltOICghIJBPXnNa9v43gtkAjsWyABnNehVw9Z0oR5dUeRTlSjWlLm0Z0ttpjNhp+B6VqRRJEuI1AFccnxBiLgPauFJ5IPSuvt5luLdJY/usMivMrUqtP8AiKx7GHqUZaQZNSU2SRYoy7nCqOSa46T4gwLIRHauyZ4JIqadCpWvyK5rUrU6Xxs7LPBrjvDnHjDV/wDrp/VqZ/wsFP8Anzb86xtN8SLYazeXxgLfaX3bQenJP9a9Cjg66hNNbo86ti6MpwaezPT80Zrif+FhJ/z5t+dXtJ8ZwanfLbNC0TP90nua454OvCN3E7IYyjN2TOoBzS00dadXKdYUUUUAFFFFACUZoo7UdQDNITkcVQ1rVoNE0ie/ut3lxAcDqSTgD8zXAn4xwdtMkI92FXGnKWxEpxi9T0HWP+QJe5/595P/AEE1xnwm/wCQLf8A/X01ZV58XIbqxntxprr5sbJnd0yMVi+EPHsfhiyuIHs2m86YyAg9K3jRnyNWMXVhzLU9uBpc15h/wuOHnGmyf99V0vhLxzaeKJZYEheCeMZ2Njke1YulOKuzVVIvRHVZpM0fSuX8XeNrbwq8MckLzyygsFXHAqIpydkW2krs6jNeafGX/kG2GP77/wDstM/4XHD/ANAyT/vquY8aeNY/FdrbxR2rQeSWJ3HrnH+FdNOlOM02jnqVYuNkz2bRTnRbX/rmKv15VZfFqGzsooDp0jGNdud3Wpx8Y4M86ZJj/eFQ6M7t2LjVhZHp2eeKXNUtJ1KHV9NhvrXPlyqGGeoq27BI2ZuijJrCzTsa3W4u6gmvO9R+LVnaahNb29lJMsTlC/ABIOOOaq/8Ljh/6Bkn/fVa+xm+hn7WJJYf8luv8f8APuP5JXpWK8Kt/G0cPjqfxAbRissQQRZ5H3f/AImun/4XHD/0DJP++q1qUZtrToZwqQSPTs0A159pHxWs9R1SG1ns5IBKdofIIBr0EVzyg46M3jJSWguaWkpRUlBRRRQAUDrRQOtADbj/AI9Zf9w/yr5s/Zo/5HrxR9I/5yV9J3H/AB6y/wC4f5V82fs0f8j14o+kf85KAPpeiiigArm/iH/yTvXP+vN/5V0lc38Q/wDkneuf9eb/AMqAPLP2Vv8AkTdV/wCvhP8A2avd68I/ZW/5E3Vf+vhP/Zq93oAKKKKAG0Yp1FADMUYp1B6cUAeW/GMER6b9ZP8A2WvLMGvQPj5qdxpsGkNCkbBjJkuCcfc9DXiv/CVXv/PK3/75b/GuqmtD6bL6cpUE0dVyKK5T/hKb3j91b/8AfLf40o8U3veK39/lb/GtOU9D2Mzqq9b+EAzpd7/vr/7NXz1/wlV7/wA8rcf8Bb/GvdPgNqM+o6JqLzoi7ZEA2AgH73qazqKyPOzGm40bs9ZPQ18++PM/8Jrf/wC8v/oIr6DJ/lXy58TPEF3afETVIUjh2qy4LKc/dHvWVPc87LYuVVpCUYrlT4pvR1jt/wDvlv8AGj/hKb3/AJ5W4/4C3+NdNj6L2EzqsVJa8XkH/XRf51yP/CVXv/PK3z7q3+NTWfii+bULdfKt+ZVBwreo96lqyInRlytn17pgzpVp/wBcU/kKyPHIP/CG6j/1wf8A9BNa2jsX0OxZhgtbxk/98isP4jzvbfD/AFaWFQzpbSMARxwprlXxHyUP4q9TwIDiiuWHiq96eTB0/un/ABpP+EqvP+eVvn/db/GutLQ+vVGR1fNFcr/wlN6DzFb8f7Lf40f8JVe/88rf/vlv8afKx+xn1PWPhkD/AMJtB/1zavdecV82/B3Xbq/+ItvFJHCE8pySqkEcfWvpMciuapufN5jFxrWYmKWlpayPNG4oxTqKAG4oxTqKAGkcVyfj4H+xof8ArsP5NXWnpXEfE+7ktfD8LxBSftAB3A9NrV1YSN8RFeZyYxpUJXOGxRisQ63c/wByL8j/AI0f23c/884vwB/xr7v6vM+KWIgbdFYn9uXPPyRYHsf8aQa5c54SH8j/AI0fV5h7emem/D4H7Tc/T/Cu9xXmnwtv5by8vRIqgKOCoPtXpma+LzKLjiZJn2GXSUsPFo8x8aj/AIqFv+uYrn8Vd+Impz2vit40SMr5QIyDn+dct/blznlIunof8a+nwFCcsPFo+axleEa8kzbwaMVif23c/wByIc9wf8aT+3Ln+5F+R/xrt+r1Dk+sQRuEcH6V6/oo/wCJPb/7leCNrlyFOY4unof8a958PO0mgWjOACUycV8/nVOUIx5j3cnqKc5WJdVB/syb/drxwD5a9i1pyuj3DIMkIcCvAl1y52g7IvxB/wAaMlpymp28gzipGMopm5zRWJ/blyeiRZ+h/wAaT+3Lg/wRf98n/GvoPq8zwvrFM3MGtTw4D/wkNp/viuQ/ty5/uRfkf8a2PCerXE/iuxjZI9rSDJAP+Nc2LoTjQk32OjD1oOtFHuIFLihTmnV8GfcLYbijFOooAbijFOooAbSU+kNAHIfE0f8AFCXv1j/9GLXhGK9s+MF3LZ/DTUZ4VVmUxYDDI/1qV80f8JVe9o7f/vlv8a9PCxbiediZcsjq/wAKMVyv/CVXv/PO3/75b/Gj/hKr3/nlb+3yn/Guz2crnLzo6rFd58Jc/wDCUzf9cf8AGvGf+Eqvcf6q35/2Tj+demfAzWrnUPGdxHNHGFEGSUU8dfesK8GqbNaMouZ9BYNePfF8f8T+z/64/wBa9j+teB/HnWLnTvE1gkCRsrW+cuCe59DXn4ZN1Ekd2IdoHK4NGDXK/wDCVXp/5Z2+PdW/xo/4Sq+/55W//fLf416/s5I8znidVg0YrlP+Eqvf+eUH/fLf40p8VX2P9XbdO6t/jS9m7Apq59UfD3/kSLD/AHB/IV0F2D9im/65t/KuX+FlzJd/DrTJpQFZ4wcAYHQV1F823T7gjqImP6V4s/4jPXj8Fz5nvAf7QuP+urfzqGuc1DxRepql0pigGJ3HKtkfMevNQf8ACVX3eK3/AO+W/wAa9iFNtJnlSnFSZ1WDRiuV/wCEpvv+eVv1/un/ABpP+Ervf+eVv/3y3+NX7ORKnE7nRgf7dsv+uor6VHavkPw94mvZvEmnx+VCd06jhT/jX16p4Febi1aSO/CyuhcUYpaWuI7BuKMU6igBuKUdaWigCO4/49Zf9w/yr5s/Zo/5HrxR9I/5yV9J3H/HrL/uH+VfNn7NH/I9eKPpH/OSgD6XooooAK5v4h/8k71z/rzf+VdJXN/EP/kneuf9eb/yoA8s/ZW/5E3Vf+vhP/Zq93rwj9lb/kTdV/6+E/8AZq93oAKKKKACiiigBKKM0UAYnibwnpXiuwW11i2WZFOVOBuX6HtXJ/8ACjPBv/Ptcf8Af3/61ej0marmaWhrCvVpq0XY8Q+Ivwo8M+HPBN5qWmwTLcxD5C0mR/KrHgb4R+F9e8F6dqWoQTtcXEKu5WTAyR9K6z4yf8kz1H6D+tXfhZ/yTXRv+vZP5VfM+W56H1mt9VvzO9zHPwM8G9RbXH/f3/61dh4f8N6d4Z05bHSLdYIgcnAGWPvWvRUcze5wVK9WouWUmxCMrXHeIPhd4a8Takb/AFO1f7Q2NzxNt3YGOePauyNJSTa2IhUnTd4Ox51/wozwb/z7XH/f3/61eTeNfBekaL8TtO0SxikWznUF1LZPOe9fT4Oa8A+Jf/JcdH/3V/rWkZNnqYHE1ZVHeTeh3A+Bng0jJtrjn/pr/wDWqxZfBfwhY3kV1FaSs8LBlEj7lyPbFd8PuilqOZnD9artW5mMijWKNY0AVVAAA7VHe2UGoWU1pdxrLDMhR0YZDKRgip6KRzptO551J8DvBssrO1rMpY5wsmAPoMUxvgb4NA/49p/+/v8A9avR80N90/SnzO50rF1/5mfN/wAKfAGh+K59UTV4pHFtLtj2PjAwK9L/AOFGeDP+fa4/7/f/AFq5r4Cf8fmuf9d/6Cvau9VKTR04zE1o1mlJnK+Gvhz4e8J3T3OkWpWdxjfIQxA9jj3rqQMcU6iobbPOlUlN3k7hS0CikSFFFFABRRRQAGqOqaTa6xZNa30YkibnBq9SU1Jxd1uKUVJWZx4+GPh0f8sZf++6zte+HuhafolzdW8UgkjTK5evQax/FY/4pi+/65/1rvo43EupFc737nn18Fh1Sk1BHDeCPBOj654ahvb6ORpWZgdr4HWug/4Vl4eIx5U3/fyj4Yf8iRb/AO+/867HFaYvGYhYiaU3v3M8JhKEqEG4LYy9F8PWGgwtHp0IjDHLHua08UtJXmznKcuaTuz0oQjCPLFWRha14P0rXp1l1CHdIoxvU4OKzR8MfD3/ADym/wC/n/1q7DFHatoYvEQXLGbXzMJYTDybcoJtni/jfwzp+h6xp1tYI6xzsA4Zs5ycV2dt8NPD8lrFI0Uu51BbEntWH8T/APkZNH/31/8AQq9Ksv8Ajxg/65r/ACr08Ri8QsPTamzy8NhKDxFROKOYj+Gfh6ORXEEjFTnDPkGuqhhS3iWKJQqKMADtUmfWjPpXk1K9Wr8buevToUqWsI2GsgZSrDIPUGuTl+Gvh6WYv5Dpn+FGwK62iilWqUk/ZyauOrRp1mvaRucgfhj4d2n9zL/33XG+HPCum6l4w1fT7lHMFrLtjAfpyw/oK9hP3TXnHg3/AJKN4h/67n/0J69TC4uu6VVub0X6nlYrCYdVqaUFq3+Rsf8ACsfDv/PGX/vur2leBtF0a7F1ZwHzQMBn5xXRUV588ZiJxtKbPRjhMPF3jBCAc06kHWlrmOoKKKKACiiigAoxRRmgCjquk2mtabNY6jCs1vMMOjAH3rhz8DPBZOfstwPpL/8AWr0WjtVRqSjsyJQjLdHlur/BTwdZ6JfXMFtcCWG3kkQmXowUkdq4z4S/Dfw/4t0XULjWYZZJILsxIUfb8or3PxD/AMizqf8A16S/+gGvN/2f/wDkWtW/6/2rojVqezbuzndOHOlY1P8AhRngv/n1uP8Av7/9aui8L+A9C8HiQ6La+W8v3pHILEemcV0neisXVnJWbN1TgndIP1rnPFHgbRPGKxf21beY0X3HTAYe2a6OiojJxd0VKKkrM85/4UZ4L6/ZbjP/AF2/+tXmXxl8A6H4N03T5dEilRp3cOXk3dNv+NfSdeJftI/8gbSf+ukn/stdNCrN1EmznrU4KF7GxovwV8IX2jWt1cW9wZZIwWKy4BP0xV8fAzwXni1nyP8Apr/9aux8Nf8AIs2P/XIVq1E61TmepcaUOVaFTTtOttKsYrOxiWK3iXaiKMACrLLuUgjIPUHvTqMVhq3c2SVrHB6l8G/CGqahNeT2TpLM5dxE4UEk5J6VV/4UX4L6/Zbj8Jv/AK1ejUVoq1RdTN0odj5usPAOhT/G++8NSRSHToLcSIu/5gfk7/8AAjXpf/CjPBX/AD63P/f7/wCtXNaV/wAnPap/15j+UVe11vWqTi1q9jGlTg09Opw+kfCHwnompxX1nZO00RyvnOHAP0xXcbeaMUtcrlKW50xio7BRRRSKCiiigAooooAjuP8Aj1l/3D/Kvmz9mj/kevFH0j/nJX0ncf8AHrL/ALh/lXzZ+zR/yPXij6R/zkoA+l6KKKACub+If/JO9c/683/lXSVzfxD/AOSd65/15v8AyoA8s/ZW/wCRN1X/AK+E/wDZq93rwj9lb/kTdV/6+E/9mr3egAooooAKKKKAEoo70E4oAQ8CvItc+OcekeILrS49Hkna3fZuDdeM166SMGvE/hzGr/GrxNuAO3BHtxWkUmtTswsKbjJ1Fexh+M/i1L4r8L3OlLos0PnDiQnpU/hT4xyeHPDFlpR0OaU20QTfn72BXv3lx56DrSeUncCnzRatY0+tU3Dk5NDyvwz8bYvEHim10aTSpbeS4YqGLA4IUt/SvWB0rxLxTEkf7ROgmNQN0bFiO52NXtm4CpnHYzxUIR5XBWuhaw/F3iSPwp4cuNVmiaVYR9xe9bmfWuC+Mx/4tnqHfp/WpjZyMKEVKpGL2ZyEf7QYlTdHoEzDpkMOtcB4n8ZTeIfHNl4gGmSxC1ABj65x/wDrr2T4JxJ/wruBsDJkOTj/AGVr0PykPVQa0vGJ6Dr0sPUahDyPGf8AhoBljydAmwB13Cu0+HvxFi8eQ3RjtHtXt2wQxzkYH+NdJrUMbaLdAqCPLOB+FePfs8436uOf9Zj+VGjRny0alGU4xs0e59KWkHvRmsmecef/ABC+KMXgXULa0exe5eePzMg4wMkY/SuVPx/Ypn/hH58HvkUz4rqr/Fjw0HG5SgyPxevaREmwAKOla6I9D9zSpxbjds+Y/h/4+m8FzX7tpM1ybuTdwcbeB/hXaSftCiHHnaFKnuWFe0+Wh52ivKf2gY0HgS2YKoYXyYPp+7kppxk9jWFajiKqU4bno/h7WI9f8P2eqQo0aXUSyBW6jIzWlXK/DQ4+G+h+n2SPr/uiuq61k9zzqsVCo4oX6UtN6U6kZhRRRQAUUUUAB6UlB6UmaTv0A4bXviMuja2+nJYvMydWB9//AK1Ymq/Eh9T0qa0Glyp5y7dxPSrNsiP8Y5g43Dyz1+pr0jyk6gV68p0MO4/u7vR7njQjiMQpe/ZbHkPhfxzL4d0OOwOmyShGZt4Pqc1vWPxRW61K3tJdOkj86RUyT0ycA13/AJSZ+6K858fRovjHQSByZk59t1ONWhiaknKFm7vcU6dfC042ntZHpKHcufWnUyM/u1x6U4mvJa1PYT0Vynqd8NN02a7ZS4iXdtHeuBT4t+YCYtLlYZ7EV2HizjwrfZ/55/1rl/hNGreH5Sw539/qa9LD06Sw0q043aaR5mJqVXiI0abtoch4o8Sy+ItSs7oWEkX2Yhip74Oa6aD4pPFAkZ0mX5VAzkc8V6R5Sf3R+VRXESG3k+UfdNVLGUpxjB09F5shYOtTlKaqas5rwl44TxPdzQC1aFogDyeuc/4V1oryv4cceMNYAxjf/Vq9T+tYY+jClWcYbaHTga06tHmluOrmfF3i1PC0MDvbtO0xIAU9MY/xrpc1538UADdaJkZBueR+K1lhYRnVSnsaYypOnRcoPUi/4Wq5+7pMpz71zmjeK5dK8RajqhsJH+2yFwgP3eSf617FZxR/YYcKPuDj8Km8tOgGK644ujTUoRp7+ZxvB1qnLJ1NtTzl/iwUGW0qVQO5Ndt4d1pNf0WLUI42jEmRtPbBxWL8R4ox4JuyFGQUwf8AtotO+Gpx4Jtc/wB5+v8AvGlVhRnhfawjZ3sOhOtDFeyqSurHWDtTqQGlrzD1gooooAKKKKADNFFFABXmvj34uReC/ECaX/Zsl1IU3ZVsdgf616TmvEvFarJ+0ZooZcg7eCP9la2oxi5PmWhjWbUdCDUPjo9/pt1aL4fuF8+Jo9xbpuBGf1rmvh58S5fBGl3lq+jzXJubgzArxjPavpcBT2pMA9qv20UuXlI9lK/NfU8WX9oaNbiOO40KaLewHLDpXtEMnmwo4GAyg8+9eN/tBxqLPQ3A+bz2AP8A3zXsNnxYw/8AXNf5VNRRspRVrlU3K7UmTdqrX92LDT7i7cFkgiaUqO+0En+VWc1meI/+RX1X/rzmx/3wawXY1ls2eTH9oVGuJI4NCmkCMRkMOxx61xPxK8fTePrK0t00ia1NszNlucg4/wAK7L9npQZNcY9fPIH/AI7XtxVT19K7ZyhRqWijlUZ1IXbPDNM+Oj6fpkFp/wAI/cP5SBchutdR4H+MMHjHxIdIOmyWriIybmIPQgY/WvSmUFeQPSvAfBShf2jNWCjACS/h+8Spj7OqpO1mU3Km4q59AA06kBx+VGRXHqdRy/j7xpF4G0BdTmtmuA0ojCKe5z/hXnaftBtIgaPw7cMp6HdWr+0L/wAk+ix1+1p/I16D4aiSPw1ZKigKIhgV1RUI01Jq5zNylUcUz51tPiBLa/FK78WnSJytxAIhB3B+Tn/x39a7R/2hPKUs/h6dVHcsK9r2juOa5j4jRq3w713IHFjMR7Hy2qlVhOSUokunOEW0w+H/AI2i8daE+ow2zW/lyGNkY55rqa8k/Z5P/FD3X/X2c/8AfIr1oGsKsVGbSN6UnKCY6iiiszQKKKKACiiigCO4/wCPWX/cP8q+bP2aP+R68UfSP+clfSdx/wAesv8AuH+VfNn7NH/I9eKPpH/OSgD6XooooAK5v4h/8k71z/rzf+VdJXN/EP8A5J3rn/Xm/wDKgDyz9lb/AJE3Vf8Ar4T/ANmr3evCP2Vv+RN1X/r4T/2avd6ACiiigAooooATFRzsUhdh1AJqQ1HOpeF1XqQRTW4K11c+XvEnxV8ZW/ijU7e21hooYbqWNIxBEcKGIHJX0rlrDxjrul6vc6pYag0N7df66by0O78CMfpXQeJvh14rk8VarLBo11LHJdyujxxMwZS5I5xWV/wrfxd30G9/78t/hXXHlsfZUp4SNNLQ9a+CvjnX/E2sX1rrl8bqOOHemY0XByo/hA9TWP8AFj4i+J9D8avp+kaibW3jiDYESNkkkd1PpWj8D/CGt6FrV/c6tYS2kbw7FMqldx3KeMj2rG+LvgfxFqvjl73TNMnuoHhUBooy2DlvQe9Z+7zHmQ+r/XJN2sec3PjHXr3XoNaub9pNQtxiKfy0G3jHQDHQntXZeDvin4vvPGGmWl7q5nt7i4SOSMwRjIJ9Qtc1/wAK38XD/mA3v/flv8K2/Bnw88U2/jPSri50e5ghhuUkeSSJlAAPritZcrR6NeWEdJrS57Z8WPEmpeG/A8t9o83k3O5FEm1W25ZQeCCOhr521b4h+Kdc057HVtWa4tpPvIYY1z+Sg19C/FzQdQ17wDNaaXA1xOGRgi5JOHU9B9K+e/8AhXHi44H9g3nv+5Y/0rOny2OLLXh40252vcbo/wAQPFGg6etjpOqtbW6ncqeTG2D9SpPYV9H+AvEOoa18L4NX1CUSXjQysX2gZKswBwBjsK+ch8OfF3H/ABIb3nt5Df4V9EfD/Q7/AEr4VW+mX0XlXfkzAxnggszEfzFFSzFmLw7pxcLXueC6h8V/GdxNcxNrLiJ3YbBBFwMnj7tYug+Ltc8M+b/Yd+1r5xzIRGjZP/Aga0rv4beLVvZ1/sS7cCRsMsLEEZ7HHNQ/8K48XA8aDen/ALYt/hWkeXlPShPCKKWmp698FPHGveJ9SvrXXb37UkcW9CY1Ug5UfwgetUPjH4/8R+HfFcNhol/9kh8gSHESMSST/eB9Ks/A7whreganf3Wr2UtpHJFsUSoVLHKnv9DWf8avBeva14thvtK0+a6hMATMSFiCCeuB71jpzHjR9h9d6cp5ZqfjHX9X1S31DUr8zXdsMQy+Wg2/gAB3Paul0T4s+M21u0SfWTNE0qh4zBENw9Mhaxf+Fb+L/wDoA3v/AH5b/Cr+h/DfxX/btmZdGuoUEqlnkiYADPrjitpctj16ksI4NaHufxZ8San4c8Dte6RP9nuWZAHCK2MsoPBBHevnbXPHPiPxJYraa3qbXUCyCQJ5Ua4OCOyj1NfQvxe0DUtc8Bm20u3a4nV0JjQEkjcvYfSvAf8AhXHi49NBveP+mLf4VFKxwZbLDxptztdMfp/xM8XaTYQ2dhrDRW9ugSOPyIzgDtkrmvqPwdqNxq3hGwvbx9800eXbAGTkjtXy0Phv4uPA0G9+bjJhYY/SvqPwVp9xpfg/T7O8G2aKPDqexyT/AFqatuhjmjoOKdO1zep1NNOrnPC6hRRRQAUUUUAI33a8a8U+NNftPEt5bWl8YYonAVRGh4wPUV7K33a8T8V+FdauPFF5Nb2M0scrAq6qSDwPavYyj2Htn7a1vM8bNnW9kvZXv5GAviDVE1ZtTS7IvCMGTYvT6YxXb+AfFus6r4i+y6jeGaJkJxsUdvYVyH/CI69jI0u4A/65n/Cup+HvhvVrDxL9ovbOSGIRn5nUjtXv4+WClh5OPLe2h4eBji414p3sXviJ4p1bR9WgttMuvIjKEt8it6eoPrXAX3iHVNSuoLm+uzLNAd0bFFG0546Cu6+JPh/UtR1aC4sbV7hAhU7ASc8f4Vxn/CIa/wD9Au4/79n/AArPLZ4KNCLnbmHmEcXKtJRvYv2fj3xGLyFX1Euu4AqYk6f9816v4p1K503wtc3lq22ZIiVbAODj3ryGy8H6817DnTp0G4fMyEAfpXrniuwuL/wrd21qm+UxMAi85ODxXn5j9V+sU/ZWt1sejl/1lUZ+0vfoePXPjPX723eC51BnjkGGTy0HH5VX0vxJq2jQmHTbwwRk5K7FPP4g+tS/8Ifr44Ol3Bx38s/4Uf8ACIa90GmXGc/88z/hX0CqZeo8i5bHguGO57u9z1f4faxe614ae41GXzJUmZA20DICqe31rzvWPHPiFdWvIor4pGkrKE8tOADj0r0L4d6XeaV4ZkhvojFI87OFYc4KqP6V5trHhHXDrF2yafNIrTMwZUJBBOfSvDwX1RYurz25eh7WL+svC01G9+plWGuajpd1Nc2N0YZZT+8cIp3dfUe5rvPh/wCK9Y1XX2tNRuzPGY8/cUYP4AVxn/CIa9/0C7g/9sz/AIV13w68Oarp/iB7m+tJIIxGRl1I5r0Mxng50JSjbmt8zhy+OLhXje/KanxI8S6nok1nFplz5AlDFzsVumPUH1rzfUfEeras0L6hdmYwsGjJRRtOfYe1eh/E3QtR1Wezl0+3adYwysEUscnH+FcH/wAIjr3/AEC7j/v2f8KwyuWDjQTqW5vM1zKOKlWahflLMHjvxJG8ajUSyqQApiTp/wB816n4j1e7sfBb39rJ5dyYgwfaDg7c5weK8lh8Ia806D+zZ1+YcshwOfpXq/iXS7q78DvZ20fmTLDjaOSTt6Vy5i8I61P2VrX1OnAfWfZT577aHkl/4s1vVLNrW/vjNBJjchjUdDnsPUUWHivW9Ls0tbC/MUC5KqI1OM9eopR4Q1/odMuP+/Z/woPhHX8HGmXA+qH/AAr3XPL+Xl92x43Ljebmd7nsngrVLnV/DVvdXr75W6tgDPA9K6Guc8D6fcab4Xt7a7jMci9VPbgV0dfB4jl9rLl2ufc4fm9lHm3CiiisDcKKKKAENB6UHrQenFLqB8+fFb4jeKNE8dT6dpGpm1tY4l+QQxtk5POSpNeZ3HjLX7vxBBrdxqDSajBxHMY0G38AMdvSvRPi54F8R6r49nvtM0q4ureSJQHhRmwcn0FcR/wrXxif+Zfvv+/Df4V7VCVFQV9zyayqueh2nw2+JXizVvHlhYapqpubaYkPG0Ma/qqiux+N3jPXPCw06LQrv7KZjudhGrZ+9/eB9K4f4ZeAvE2nfEDT73UNIuba3hJLySRMoHHqRXZ/HPwprXiL+zpdGspbsRcOsSFiPvdhXPL2Xt1a1jaHtPY+Z4prvjXxB4ljhTXNRa7WBi0YMSLtPH91R6Cte2+LfjWOWFRrZKqyjYYIunp92qf/AArXxh/0L99/34b/AAp8Pwz8YNcRg6DeqC45aBsDnvxXXJ0OS2hyxVbmPpu51m6i+HaaupH2s2McxOBjcVBPH1NfM8/xW8aXltJDca0xjmQo6eRF8wIwf4a+lbrSLuX4cLpSIPtYsI4thP8AEFAI/SvmQfDPxiq7f7AvSR0/cN/hXHhfZK/NY6sR7RpWKOheMNe8Mmb+w9Qa189t0mIkbcf+BA4/Cvffgl4u1nxVpuqHXbv7U1s8Yjby1XG7fkfKB/dFeIf8K08Y8f8AFP33/flv8K9p+BnhnV/Dml6p/bVnJaNcPFsSRSp+Xfnr9RWuKdJw93czw6qKfvHB+P8A4n+LtO8c6nY6dqpt7a3lCRxCCM4+UHqVJ71wFp4q1mw16XW7W+MeozZ8ycRqSckE8EY6gdq7b4g/D3xTe+PNTu7LR7i5gmkDxyRRsQwwB2HtXN/8K18Y/wDQvX3/AH4Y4/StqUqKgtrmVSNVz6nc/DL4l+KtY8eWWnarqn2q2nyGRoY1/VVFd18avFmseFtBspdDuvs0s9xsd9itxtY9wfSvPfhZ4B8S6d8QLK+1DSri1t4clnmRlA/MV33xx8Nar4i8PWK6LaPdSQXAd0jBJxtYdAPeuSp7L26a2OqHtPZPueD67458R+JbAWWt6k13bBw4QxIuCO+VUGtC3+K3jS0t0ig1tljjGFT7PFjHp92oP+Fa+Mf+hfvv+/Df4Uf8K08Ytx/YF6M8ZMLYH6V2uVDltocn769z6QTxBfn4TrrZk/0w2Sy79o+9gc4xivnC++J3jDVdPls7/WWlt54zHKnkRjcCMHovpX0XHod+vwiTSDETeCxWMx853YHFfOQ+GnjIKB/wj99/34b/AArkwzpc0uax04j2nKuUr6F458R+G7N7XRNSa1gZt7L5SNk+vKmvon4PeJdT8T+Dzd61cfaLhZim/Yq5AJ9APSvn/wD4Vt4xzz4fvR/2wb/CvffgvoGo+H/BZg1e3e2meZmCOCCBk9j9arFSpSjeO4sMqilZ7HotKKOlFeWekFFFFABRRRQBHcf8esv+4f5V82fs0f8AI9eKPpH/ADkr6TuP+PWX/cP8q+bP2aP+R68UfSP+clAH0vRRRQAVzfxD/wCSd65/15v/ACrpK5v4h/8AJO9c/wCvN/5UAeWfsrf8ibqv/Xwn/s1e714R+yt/yJuq/wDXwn/s1e70AFFFFABRRRQAlBFFLQAzAB6Uu0elLiigNRNoAowDS0YxRqGm5y0/xI8IW1w8FxrloksbbWUk8H0rb0zV9O1m3FxpV5Bdxd2hcNj/AAr5V8JXvgW08c+Jv+E8hSVGnfyQy5wcjpz9a2Ph3rM2hXXjrXvCUUyeH7WKSW1imY7dwLlOOR0FGqA+nz0xSbQRyK8O8OfFrxbqOhr4o1PS4rfw/awv9pkz880mDt2/L0LFB1HeqLfGjxZa6dD4murfTW0WeTaLJJT9oRecMRsx2/vd6YHv4UelZkviHSbfWP7LlvY0vdhfyCfm2gZJ/KvOPFXxU1S68QaT4e8AW0U9/qVuLjzbg4WND0zgN754ribG+1ub9oeE+KbOCK/hsJA4hYtHIPKY5GQO3tS1DTqfQGk65peuxyvpV3HdJC2x2j/hPIx+hrQwPT6V4T4R+Jtn4d+HfiDXX0m3thb3phjht1CiV8yYzwP7taNj41+Jmn3Gm3+t6Hb3Wl38gUxWrfvIFJxlsqB79aNRnr5vbVbr7N9oh8/GfK8wb8euOtTY6Z5r5qv7rxnL+0cfsrWq3jwhoo3kYRiEhMZ+X72NueOuea+j7hJ5LGZLdxHcNGwRzyFbHB98GgRHcapYWl5Da3N3DFPP/qoncBn69B36Gre0HmvmjWdE8R6R8fvDH/CU6wNTkuN8kWwkLGu2QAYwAOlfTA6UagJgd6No9KXFFAegmBmjFLiigNeoUtJ1paACiiigAooooADTdozzzTjSc0CE2j0o2ilopXCyE2jvXN6h4/8ACul30tnf6zbQXETbXjYnKmulxXypd3PhK1/aC8Sv43jSSyMjbAwzzg//AFqYbo+mNJ17SddjMmkX9vdhRk+TICV+o7VojnqK+ZvAN3ZxfGHWtS+HsM8Ph6Cy3OjsdhOI88ZP8Wa6PwZ8W/GXiqxTVf7Mhi0jT3MmpXRI+aMYLBBt6gBvTqKOo9j3XA5wKXj0xXgL/GfxXd2Fx4l0+DTU0W3k2/Y5JT58i7gpIGwjvn73auh8S/GS4fSPDkfhCyW41XxAoMSSEYi4GQevdh2o8xcq2PTbvXdL0/UrfTru7jhurn/VQseX+lJpuvaVq9zcQabexXEts22ZUPKH0NeAaxdeJ5fjh4St/GNrbx3cW0rLbOWSRdx9VXnOe1dF4Q8e2WlTeN9Tn0q3to9MnbcbdQGlO5RzwOeaB7nt3H+RUMl5awXCQS3EMc8gykTSAM30Hfoa8WtfiF8TJdLtPFA0K2utEu2Vls4GzMI2wQeUHY/3q5z4hX/i2f44eHJbb7PC8sG6xidyBt2yZ8zCnnO/17fgeQWXQ+kj19aq3uqWOnNEL+6htzO4SISOF3t0wM9TzT7AXX9nW/28J9q8tfO2HK78fNjgcZz2r5t+J+g+KtM8eeErvxLri6jBcarGlvCnyiPEiHkAAd6EJo+mRhuR+FLjPWo7b/j1j9dg/lUmMUgDA9KNo9KWimFkAGDxS0gpaBhRRRQAUUUUAFJSmkoAMCjFFBoFoGB2pMZpcUYoGc/q3jnw1oV+bLVtWt7W4UAmNycgGrOkeKND1/I0fU7a6YdVjkBYfh1r53+IU/h62/aUeTxeivpn2RN6sMjOf/10zQ7jRrj466fc/DCGeDTYbWRrzBIjZgkh5GTxjb+NGotLH1CPf8KAPavCdA+Kfjrxbq+o2GhaXb7LC8dJ7qQ/KsYZgB908kY/KmXHxl8Sa22o6p4Wj06LSdOLHy7uUiW4CjcdoCMM496PIZ7z/TvWdqevaZo8ttFqV5HbPdPshDn77ccD8xXl2qfHED4b6Xq2j2Jk1XU5/s0ds5GI3DMCT14+U9u9cR8RLzxlJ4h8Gw+N7O1Rvtm+KW2YkHJTKkbVwRx60AfQ9t4g0q81abTLa9ikvbcZlhB+Za0uteM6J4ttbL4teK0n0u1iXTrTznuo1HmSgJnB49sdap23xG+JGvaRL4o8PaNayaIsjCK2L/vpVDEZ+4fT+93oCx7XPeW1qyLc3EMLSHagkkClj6DPWpsggHqDXzX8YNY8T6prngm+ihSxhubhGtLeRyHWYumVkABGPu9z3r37SJdSi8JxS6z5X25IGaTySSuRnGCQO2O1ABqXirQdHuUt9T1aztpW4CSSgH8u341qQzRXMKywSLJGwyrocgj6188fD/wjpnxJufGer+KI2vbhrt47dnc/uFLycDB46D8q639nPWLrUfAd5a3k0k32G/khjaRixCBEIGT7k0ai0PXce1LgUUUABA70YFFFAaBS0lLQMKKKKACiiigCO4/49Zf9w/yr5s/Zo/5HrxR9I/5yV9J3H/HrL/uH+VfNn7NH/I9eKPpH/OSgD6XooooAK5v4h/8AJO9c/wCvN/5V0lc38Q/+Sd65/wBeb/yoA8s/ZW/5E3Vf+vhP/Zq93rwj9lb/AJE3Vf8Ar4T/ANmr3egAooooAKKKKACiiigAooooAKD70UUAeJfDH4b3lh4z8RXnijSImt7mVmt3kG7uuOPwNd/470KS++G+raTodqplmtnjihXgMSpAFddgUYFAHleheAL6+/Z+j8Jaon2W8a3Kleu1w25c/iBXndh4C8QWmnQaCPh3pj6hE5VtXuMNGygnnHHOMfxV9MYFGBQB4j4n8DeIfC/jjR/F3hKwj1E2tqLa4s4hs+UddvXqCfXFVNP8OeNtb+LyeKNc0YWNtJZyRpGsm4xZjZQCfUnnoOte84owKAPnnTPhBrup/DDXtE1CBbS8lv8A7Ta5IIcgyYGfT5hW5aah8VNZk0nSF0n+xI7aQfbL0yEiVAc4Ucdhjqete1YFGBQB4j4u8M+LdK+MVp4t0PS/7Wh+zrC437TkKgJPX+6a9rQsUG4bT3APSnYFLigDyjx54S1jVvjH4W1mwtPMsbGJlnlz90kSf/FCvVx05oxRQAUUUUAFFFFABRRRQAUUUUAFFFFABRRRQAUUUUAFeK6B8PdQb46a9rWt6WkulXTkwyS854Pb8RXtVGBQBi6jpEUfhu8s9Ltki8yIqiIMZNef/CvwJqVh8Gb/AMNeIYPsc96Z42GclVddua9axSYFAHzLY/DzXvD9lLoT+ALHVbvzT9n1WUgoFJz8w/PuK6jxT8N/EOmxeFNe8NWltLqujAfaLOFdkbEgE7eTwCuO/Wvc8UYoA8IuNJ8deLfil4e8RaroH9m2FmQvlebvZOSSx4HXOOnamaN8LNZv7XxzYarB9lTVpi9rKec4ZSD+le9UYoA8H0+T4rweGdP8IWGjLYS2gS3OrGTK+UoC5A45xz1q98SPCPiv/hNfDPiXQ7P+1pdMgEU6lsFmO/J/J69qxRigCpp01xcaZbTXkP2e4lhR5Ic58tiASue+DxXmvxh8Jax4l1zwhPo9n9ojsNRE1y277ibkOf0Neq4ooAjgUpbxqeCFA/SpKKKACiiigAooooAKKKKACiiigAooooAKKKKACiiigDxfUvAGp6l+0V/bt5pqz6MbZUMj8ruBFeqjSbSx025h0y1jg8yNhtjXGSRWniigDyr4PeENW8PW/ieHXbX7OL6/aWHn7yFnOf1Fed2vwz1jwa9/pi+B7XxGs0hNlfyY/d54G4YPHQ9RX0zgUYoA8I8Q/CrXJfh7os+mWlnBrmm3P2hrS2XZGwLN8o5POG61V8Uad8QvHuteG7y/8NjT7fTLoNKol3MxyuW9h8v619AbRS4FAHidj8PNYu/ib4wuL+2MWnataeTDPnqdmAfwNZujw/E/wf4Ubwbo+hLK0Uji11RZMKELE5I9eR3r37FGBQB4n8TPBHizUdF8JXtoBq+qaLOJ7nJwZWBQ+p/umvVdBnvdQ8MWz6zZ/Y7qWIrNbht2zkj+WD+Na+BRgUAeBReH/Hnw71zxHbeF9HXVLDWp2lgl3Y8glnIzj/f9uleg/CHwPP4F8GGy1Bla9ubhrmfA+6SFG3Pf7v613mKKACiiigAooooAKKKKACiiigAooooAjuP+PWX/AHD/ACr5s/Zo/wCR68UfSP8AnJX0ncf8esv+4f5V82fs0f8AI9eKPpH/ADkoA+l6KKKACub+If8AyTvXP+vN/wCVdJXN/EP/AJJ3rn/Xm/8AKgDyz9lb/kTdV/6+E/8AZq93rwj9lb/kTdV/6+E/9mr3egAooooAKKKKACiiigAooooAKKKKACiiigAooooAKKKKACiiigAooooAKKKKACiiigAooooAKKKKACiiigAooooAKKKKACiiigAooooAKKKKACiiigAooooAKKKKACiiigAooooAKKKKACiiigAooooAKKKKACiiigAooooAKKKKACiiigAooooAKKKKACiiigAooooAKKKKACiiigAooooAKKKKACiiigAooooAjuP+PWX/AHD/ACr5s/Zo/wCR68UfSP8AnJX0ncf8esv+4f5V82fs0f8AI9eKPpH/ADkoA+l6KKKACua+IYJ+Hmtgcf6I/wDKulpjxJLG0cihkYYII6igD45+FXxjPw20a7sW0h7w3EgfdnGMZ/xrvP8Ahqz/AKlp/wDvuvfv7C0z/nxg/wC+KP7C0v8A58YP++KAPAf+GrP+paf/AL7o/wCGrP8AqWn/AO+69+/sLS/+fGD/AL4o/sLS/wDnxg/74oA8B/4as/6lp/8Avuj/AIas/wCpaf8A77r37+wtL/58YP8Avij+wtL/AOfGD/vigDwH/hqz/qWn/wC+6P8Ahqz/AKlp/wDvuvfv7C0v/nxg/wC+KP7C0v8A58YP++KAPAf+GrP+paf/AL7o/wCGrP8AqWn/AO+69+/sLS/+fGD/AL4o/sLS/wDnxg/74oA8B/4as/6lp/8Avuj/AIas/wCpaf8A77r37+wtL/58YP8Avij+wtL/AOfGD/vigDwH/hqz/qWn/wC+6P8Ahqz/AKlp/wDvuvfv7C0v/nxg/wC+KP7C0v8A58YP++KAPAf+GrP+paf/AL7o/wCGrP8AqWn/AO+69+/sLS/+fGD/AL4o/sLS/wDnxg/74oA8B/4as/6lp/8Avuj/AIas/wCpaf8A77r37+wtL/58YP8Avij+wtL/AOfGD/vigDwH/hqz/qWn/wC+6P8Ahqz/AKlp/wDvuvfv7C0v/nxg/wC+KP7C0v8A58YP++KAPAf+GrP+paf/AL7o/wCGrP8AqWn/AO+69+/sLS/+fGD/AL4o/sLS/wDnxg/74oA8B/4as/6lp/8Avuj/AIas/wCpaf8A77r37+wtL/58YP8Avij+wtL/AOfGD/vigDwH/hqz/qWn/wC+6P8Ahqz/AKlp/wDvuvfv7C0v/nxg/wC+KP7C0v8A58YP++KAPAf+GrP+paf/AL7o/wCGrP8AqWn/AO+69+/sLS/+fGD/AL4o/sLS/wDnxg/74oA8B/4as/6lp/8Avuj/AIas/wCpaf8A77r37+wtL/58YP8Avij+wtL/AOfGD/vigDwH/hqz/qWn/wC+6P8Ahqz/AKlp/wDvuvfv7C0v/nxg/wC+KP7C0v8A58YP++KAPAf+GrP+paf/AL7o/wCGrP8AqWn/AO+69+/sLS/+fGD/AL4o/sLS/wDnxg/74oA8B/4as/6lp/8Avuj/AIas/wCpaf8A77r37+wtL/58YP8Avij+wtL/AOfGD/vigDwH/hqz/qWn/wC+6P8Ahqz/AKlp/wDvuvfv7C0v/nxg/wC+KP7C0v8A58YP++KAPAf+GrP+paf/AL7o/wCGrP8AqWn/AO+69+/sLS/+fGD/AL4o/sLS/wDnxg/74oA8B/4as/6lp/8Avuj/AIas/wCpaf8A77r37+wtL/58YP8Avij+wtL/AOfGD/vigDwH/hqz/qWn/wC+6P8Ahqz/AKlp/wDvuvfv7C0v/nxg/wC+KP7C0v8A58YP++KAPAf+GrP+paf/AL7o/wCGrP8AqWn/AO+69+/sLS/+fGD/AL4o/sLS/wDnxg/74oA8B/4as/6lp/8Avuj/AIas/wCpaf8A77r37+wtL/58YP8Avij+wtL/AOfGD/vigDwH/hqz/qWn/wC+6P8Ahqz/AKlp/wDvuvfv7C0v/nxg/wC+KP7C0v8A58YP++KAPAf+GrP+paf/AL7o/wCGrP8AqWn/AO+69+/sLS/+fGD/AL4o/sLS/wDnxg/74oA8B/4as/6lp/8Avuj/AIas/wCpaf8A77r37+wtL/58YP8Avij+wtL/AOfGD/vigDwH/hqz/qWn/wC+6P8Ahqz/AKlp/wDvuvfv7C0v/nxg/wC+KP7C0v8A58YP++KAPAf+GrP+paf/AL7o/wCGrP8AqWn/AO+69+/sLS/+fGD/AL4o/sLS/wDnxg/74oA8B/4as/6lp/8Avuj/AIas/wCpaf8A77r37+wtL/58YP8Avij+wtL/AOfGD/vigDwH/hqz/qWn/wC+6P8Ahqz/AKlp/wDvuvfv7C0v/nxg/wC+KP7C0v8A58YP++KAPAf+GrP+paf/AL7o/wCGrP8AqWn/AO+69+/sLS/+fGD/AL4o/sLS/wDnxg/74oA8B/4as/6lp/8Avuj/AIas/wCpaf8A77r37+wtL/58YP8Avij+wtL/AOfGD/vigDwH/hqz/qWn/wC+6P8Ahqz/AKlp/wDvuvfv7C0v/nxg/wC+KP7C0v8A58YP++KAPAf+GrP+paf/AL7o/wCGrP8AqWn/AO+69+/sLS/+fGD/AL4o/sLS/wDnxg/74oA8B/4as/6lp/8Avuj/AIas/wCpaf8A77r37+wtL/58YP8Avij+wtL/AOfGD/vigDwH/hqz/qWn/wC+6P8Ahqz/AKlp/wDvuvfv7C0v/nxg/wC+KP7C0v8A58YP++KAPAf+GrP+paf/AL7o/wCGrP8AqWn/AO+69+/sLS/+fGD/AL4o/sLS/wDnxg/74oA8B/4as/6lp/8Avuj/AIas/wCpaf8A77r37+wtL/58YP8Avij+wtL/AOfGD/vigDwH/hqz/qWn/wC+6P8Ahqz/AKlp/wDvuvfv7C0v/nxg/wC+KP7C0v8A58YP++KAPAf+GrP+paf/AL7o/wCGrP8AqWn/AO+69+/sLS/+fGD/AL4o/sLS/wDnxg/74oA8B/4as/6lp/8Avuj/AIas/wCpaf8A77r37+wtL/58YP8Avij+wtL/AOfGD/vigDwH/hqz/qWn/wC+6P8Ahqz/AKlp/wDvuvfv7C0v/nxg/wC+KP7C0v8A58YP++KAPAf+GrP+paf/AL7o/wCGrP8AqWn/AO+69+/sLS/+fGD/AL4o/sLS/wDnxg/74oA+f5P2qfMidP8AhGnG5SPv1S/Zgkafxb4inKMnmLEwGPXzK+jf7C0v/nxg/wC+KmttOtLNma1t44mYYJVcZoAsiigUUAFFFFABRRRQAUUUUAFFFFABRRRQAUUUUAFFFFABRRRQAUUUUAFFFFABRRRQAUUUUAFFFFABRRRQAUUUUAFFFFABRRRQAUUUUAFFFFABRRRQAUUUUAFFFFABRRRQAUUUUAFFFFABRRRQAUUUUAFFFFABRRRQAUUUUAFFFFABRRRQAUUUUAFFFFABRRRQAUUUUAFFFFABRRRQAUUUUAFFFFABRRRQAUUUUAFFFFABRRRQAUUUUAFFFFABRRRQAUUUUAFFFFABRRRQAUUUUAFFFFABRRRQAUUUUAFFFFABRRRQAUUUUAFFFFABRRRQByPjjxtc+EIbd7bQrzVzM2CtqpJXryePauDuv2hvsV5BaXfg/VYbi4OIYnUhpD7DHPUV7RivD/iwP+L4+AM/8/Lf+hR0AdT4a+K19r/iC302bwfqtikxINxNGQiYBPPH4V6Rn1rjPiP4yufB+i250yzN3qF/Ktvax4+UOSBlj6fN6GuF1vV/jB4X0FvEWp3ekXFnCBJNZRj50U+/lDn8aAPSvHXjGDwN4Yk1q8t3nijkVCidfmNUPE/xGtPDFhot1PaSSrq0yRIFONhZc5NcV8XNdTxN+zxDrMMZiW9MEoQn7uecVR+LnPhvwCev+mwZ/wC+DQB7oG3AEdCKXNebTeN9W0b4zW3hvVfL/snUYM2TqoyZAV4PH+161f8Ain4zvPCWi2Uei7Tqmo3SW9tuAIBLqDwQex9KAO6zRn1rz3xPqfj20u9ATQLJbmGWJTqLhV+V8c9R616D1yKAMjxR4p03wjokuqazOIoEwAMEs7E4AAHJ615ufjZrc0RvLHwHqc9h1SbGC69iAeeRz0qb4++HtV1fwzp17pUDXaabeJcT2wPMiA+nfrT/AA38efBl5YwWt+ZdHmjRY2huIwEUgYIGCeBQB2Hgjx9pPjvTHutJZklhbZPbyAq8RwDyCB69aXwx4zXxJq2q2S6dcWv9nTeUZJlIEvuuR0rL8H+D9BsvE2oeKfDV95kOp43wxcRgj0H4+lZfgbxXq3iXXPFtiBbwSWFwYreRYlHp97jn8c0AenE0A5ryrwZ8U7hW1vSvH+201TRg0kjIAFmjAbLL0/unsOorU+GnifxD4zkvNavUS20SRylhEVAdgMAscDpnd3oA9BzWdreu2OgaTc6hqM8cUVvG0h3MBuwM4HvWia8j+JXwmttasdb1u713UsLby3C2glbygVUsAF3Yxx6UAd/4O8WWvjTwvba5p8TxwXDSBVc8ja7Jn/x3NbuePX6V5t8Ahj4M6OOPle4H/keSszX/ABz4r1z4g3PhPwEbOzksVzcXN50JJIwBtb+6aAPXMn8aMn0ryrw34t8baR4+tvC/jy3gu1vY2eDULMfIMKxwflX+6ex616pjtmgBc/yozXmnjnxp4jj8X2fhLwRaRNqM8PnSXVx/qoVy3s3909q5688ZfEL4f69pi+OZ9P1LTdQmEAezGCjEFh/Av900Ae2FqM15T8S/iTrHhDxtommaTai8XUVdRAAMvJlAoz1Ay3asjXfEnxY8HaYPEmuPpdzpUbobi0g+/GjMF6mMd2HegD23Jo3Vwfiz4oWXhn4e2PiRYWnfUYo2trcdWLpuAPNctHffGa1sDrd7/ZcttGpkfTQMS7ByRnyuuM96AO68G+PLbxjfavbW1s8DaXcm3cuc7z6itjxDrEmh6Dc6hFZTXrwIWFvCMs+ATgflXkX7Ot82pTeKrxoTC01/vaNuqtgZH517fg0AeN33x/m0y1e61DwVq1tbx43SyoVUZIA5I9SBUsHx2vbq3jntvAusyxSKGR0QkMD0IOK1P2gh/wAWW1jP9635/wC3iOuo+H4/4tv4f/7B0Hb/AKZrQBV0/wCIFvf+PH8L/Y5I7hLcTs7Hgfe4/wDHa67Jx0r541/VtX0z9ou7i8NWS3WpXVkI4fMbCR8yAsxweBnPQ9K29R8ZfEb4f6pptx44k0/UNJvZhCxsxgxMwJH8C+nrQB7WSRS59K8r+KPxPvvAvifQILaH7Ra3yytJEqgtIV8vaoz0+8e4qOy8beL/AA94f1PxH4/gggsii/YbKDHmF2dVUH5R6juaAPWA2aM+leNJqHxk1OwXXbD+yoLWZRLFpr/6woeRz5R5xjvXUeHfinpmsfDu78UXUb232AOLq3IG5XVQ20c9847UAd7mjNeMWuu/FnxbYnXvDv8AZmm6bJlra0uuZJFBx/zzbrgnrXYfDfx3J4xs7y01K2NprGlSCC+h4wH+YZHtlG7CgDt81514h+M+i6NrUulafZXms3kBxMllC7eWfQkKRXaa/ctZ+G9RuUyGitZHBHYhTivMv2fbCCbwfea5NEj3uo3kzyysMs2JH7mgDsvBfxG0Xxusyac7w3lucTWk6MkifgwGe/5V1gNeJ63bR+Hf2mNFn01Fgj1K1KzpGMBzluSPXmp5vG/jbxn4y1TR/AUlhp1vpjBZJ73kyHCk4Gxu7fpQB7Lnnj/9VAOa8y8E+LvFieMrjwr46tI2uli82G9tv9XIO46L6jtXpo96AFooooAKKKKACiiigAooooAKKKKACiiigAooooAKKKKACiiigAooooAKKKKACiiigAooooAKKKKACiiigAooooAKKKKACiiigAooooAKKKKACiiigAooooAKKKKACiiigArw74s/8lx8A9/9IbP/AH1HXuNcn4j+H+meJPFWka9eyzLc6S5eFEICscqef++RQBz3xX8a6poF3o2iaAsKX+rTCNbmYZWEE4yBkc9e9cj8SfBWpWPw+1G/8WeOLu8YRDZah/KjkfI4wWOeM16h438AaT47sYYNTMsU1s26C4hYq8beorl7X4F6QyMuvarqWsjbtjS4mwqehAXGTj1z1oA43xQc/skaNj/nja/yFX/i3n/hG/AR5/4/Yec/7Brr7b4N6VF8P5fCNxqV7cWUkqyh3Ybk29AOOlbHiL4e6Z4msdItb2adI9JlSSEoRklRgZoA5j446LPJ4Vs/EmmKTf6FMLhCq87MZb9QtZOn39v8T/jLpl7Zss+k6HZiVip3L57eYOvTI+Q13vj3xZoHh7w7eRa3cR5eBsWzAlpRjoMVznwE8Inwz8P1nuoTHd6jM077jyqkKAv/AI6fzoA9GutUsLCWOK+vra3ll+4ksqqz/QE81a7etcj4u+HeneMNY07Ur66uYZdPz5axNgN9a67P4UAcF8Q/iDP4G1TSBLZLJpt7MIp7ljgRE5xk9Ow/Ot2/8L+F/Flos95p9lqMU67lm2q+Qe4NXfEPh3TPE+kS6brNstxbSgZUkggg5BBHI5Feat8BYrdjFpfivWLSzJ/1CyghR6AkE/rQBzfgmyh8I/tDzeH/AAjcNNo09sZLqNHDJE+JMD5eB91etbvwbbHjrxyxwAL05J7cCu68F/DzRPA8En9lxPJczHMt1M5d3/En+VQ6b8OLDSG1x7C9uYpdZffM4wShOPu5HtQB4x8UrGb4peNrw+ELBLhPD0Dm6uVXcLlucRjHX7hA6/er2X4XeK9O8UeDLZrBI7aa1BgntFPMLr2x27H8a0PBngvS/A+iHTdJVmVm3ySynLyt6k/561T0X4daZ4e8X3mv6TPcQNe/660UjymOAM4PIPAPFAHX1i+M/wDkRdd/7B1x/wCi2rZ61V1Sxj1TSbvT5yRHdQPC5XqAwKkj86AOB+An/JG9I5/5aXHf/p4krI17wj4U8d+PL06JrNxo/ibTyUmeAhSxJPOOC2Cp7969E8IeFrPwb4Zt9E055JLe3LlWkPzHc5c/qxrnfF3wm0jxPq41aC5utK1Lbg3NpJgv6ZByP070AcSuu+M/hn460jR9e1hNf07Un2K7grKvDY43HuvWvc+/tXnvhr4P6Toetxaxf315rF/CD5Mt5JkR5BHAGB3PbvXoQ/8A10AeR+IPE3iPxN8UZvB3hm+h0eO2hD3F2VLSMctwo3L/AHffrXBfFnwy3h+80F9U8U3Ws6nJfoDFPJwibW5C5JHIH51614w+Eml+KtcTWob270rUlTyzPavguMk8g5Hc9qyLv4BeH77TPLvr/ULi/wB4f7fJMS4xxgD7v6UAUPiAiv8AHzwQGAOGc8/70VdT8bP+SOa9n+5F/wCjkq43w406XV9B1K5u7mW50OIRwuzD9793lvf5BWz4o8O23izwzd6Lfu6W92FDtH1GGDDGfdRQB4P40DWnw3+HGrXKMbC1SDz+MgZiBGfyNfQc2p2MWkyai11CbJYzKZt42bQM53dKyx4N0iTwbb+GL2D7Xp8ECQhZSckKu0HI74rhofgHpkbrDLr+rTaaGz9iab5CP7pI5x+NAGd+z5cw3uoeMLq1wYZdSZkIOcjjmvbK5LwP8PNJ8ArerorS+XeSiRlkOdvGMD8q6ztQB5p+0H/yRXWf963/APSiOup+H3/JOPD3/YOt/wD0WtS+MfCtn408L3Oh6nJJHb3BQu0R+YbXVx+qir+jaZDomiWem2zM0NnCkKF+pVVAGfyoA8o0xVP7UV6TglbAEH05lqf9oz/kStKx/wBBWL/0Fq7i38D6fb+PZfFayym9khETISNuPm/+KNL408F2HjjS7ex1SWaKO3uFuFMRGSwyAD+dAHmnxHgS4+Lnw1WVQyiZmIP+9BWn+0RZXFx4CtZoWaOG2vImnlQZ8tS6gN+BINdpq/gPTtZ8SaJrNzNMtxoxJgVSNrcoef8AvgVvalp1prGnTWGowrPbTptkRuhFAHkOlfDbXr/QrW/s/iffNayQI6shJVVKg4zvrkLnwzZp8F/FjeGdcn1wNOrzy+UQCUwzkHJzxzXfv8BdOWR4rLxBq1pp7k/6HHN8qj0BIzj8a77RPCejaB4c/sPTrNY7FlKvGSW35GDkk55FAHkfg74fa3rnhCwv9L+JN6ts8I/dxElY8cFeH4wRWx8JfD2maZ4z8QzWfiWXXr5GSO9kaLgOC/8AHkg87qtXXwJ0z7dLJo2t6ppVrM257S3m+T3xuyRk8123hDwbpPgvS/sOjQld53TSuxZpW9SSfc/nQBd8QWzXfhvUbdBky2sqqPUlTXmf7PV7Cng+80R5ALzTbyVJYifmXMj9uuK9ewD1FeceIfgxo+ra5Pq+l399ot5cHMzWcmFkPqQcigDmdeuU8QftNaJbaftmGm2pa4aNtwjbLcHHQ8VJceCPDPjnxVqWp+CfEFzo2t27+XdeRgcgAZKcH05zXdeCvhxo3ggzy2HnXF5cEGW7uHLSP7eg6np61k+JPg3pGta3NrGm397o19OQZns5MCTAA5ByOw7UAcz4f8TeLfB3xOsvCHinUo9btr8YhuORIhyByNxx94flXta+g/SuF8I/CnSPC+qnVpbm51TUyMC5u33FB7Acfp2ruhQAtFFFABRRRQAUUUUAFFFFABRRRQAUUUUAFFFFABRRRQAUUUUAFFFFABRRRQAUUUUAFFFFABRRRQAUUUUAFFFFABRRRQAUUUUAFFFFABRRRQAUUUUAFFFFABRRRQAUUUUAGaaf8ivmPxL8W/iA3xSvfDXhs28ziXZbwlTk4jDHncB607U/iT8ZfB0aah4i0i2+yhsMXQuvryVk4oA+mh9c0f5zXLeAfHNl478JRa1bYh+cxyxk/wCrcAHH5MK6V7iGKMSSSoiE/fLDBoAk/H64ox6GkaWNE8x3VUxksWAH502G5guFzbzRyj1RgaAMfWPBvh/X7+G91nSLO9ng4RriBZMDj1B9BW0iLGgRFCqvCgDGKUsFGWIAHrXNeNdffS/A+rajpM8L3FpAzptbdggd8GgDpv50mPWvFfhl4+8W+NPhnrt8rQTavbsFtAAVXOe+W9Peux+F134yu9HuW8eQxRXQkHleW4YFefRjQB3WKOn/ANaopbqC3I8+aOInpvcDNPDoyB1ZSv8AeByKAFz+FFeSXPxluIPjAvg4WMBtml8v7RuOe/PXH6VqfE/UPHlrcaefAMEE8Lf8fBeRR37ZYUAej9MZNGOlV9Na4bS7Zr4AXBjBlAPAbHNOF7ambyhcQmT+55gz+VAE2PSigkKuWOBTDcQiMyNKgQdWLDA/GgCQUdqZDPFcJvt5UkX1RgRTt67sbhn0oAXFB/OlrG1/xTonhqISa7qMFmrglRI/zNjrgdTQBr/pS4rw7wV8b7/xn8Yv7DsYrX+w3Ehik8txKwVCQSS2O3pXuPagBNv/ANalxS0UAJj8KMUtFABSfrS0UAJijFLRQAgGKMUtFACYNGPWlooATFAGKWigBMUYpaKACkI5paKAExRilooATFApaKACiiigAooooAKKKKACiiigAooooAKKKKACiiigAooooAKKKKACiiigAooooAKKKKACiiigAooooAKKKKACiiigAooooAKKKKACiiigAooooAKKKKACiiigAooooAKDwKKKAPjTU/Edt4Q/aTutcvY5ZoLS4LOkIBY7oNvAJA/i9a6v4lfHzTPGXg+40PRdIvhJcjaz3EaAKMEcYY881i2dlbX37V32W9hjnt3um3RyDIb/AEcnkfWvqC08I+H7KdZrPR7OGRTkMkQBFAHzzDoeseCf2XdRknlmsby8vkuU8tyrIpMS4JHQ/KelZ/gPwt49+J/hq2kPiGSz0qxY+W0lw4eVtxz0Bzj5hya9d/aH+X4PagTx88Of+/q0n7PCBvgvp2Rjc8+f+/z0AeV+KPF+o+NviB/wiY8SHQ9G07MMtwXKeYVOCcqCSSBwD+lZ91rN38KfFunXXhvxk+vadOwWeJ5GbGcg8MMe+ai1/wAPaf4G+NF5N460qW80K8md0mMR24ZuDnBBI64rYudV+Gt/r9lpXgfwX/bc9w43sFC+WO5wEPQc0Ab/AMcPiRqs0WiaF4Wnltm1WBbiR1IViHVSgBHI4Y9KzfE/wg8UeEfAN9qlr4suLqQQH7XbSSM0boeDjI5OCewqP48+F77w/qnh/wAS6bYubazgSJ0jQlYCiqFBI6DAPp0rY8a/HnQvEHw5u9P0S3uJtRvIDG8Ownylx8xJx6ZPbpQBg/CWeW1+AXi+a2laKVSpV42KkHPYjpW18FPGN3pXwj8R63ql1cXrWIeSPz5S5JCMQMk98Vg/Cwgfs9eMuehX8OasfBzQJvE3wP8AFOlWh/0ibcIhjOX2NgfnQBB4K8K+KvjTNf8AiDVvE13Y2ySmOJIpGXkAEYVcADBrq/Anhz4i6B4g1PwzrU13daFcI0UOoGTc0fzYVgTz0Jrmvg/8T7D4a6Xf+GvGdvcWU0U7SIWjYE8Dggj6nNdl8PPiV4q+IHxGu/sNssPhiAsRK0LZYbsKN2cZIyaAPGL3wPNF8c18MnWbwyNNtF8XPmDrznOa7j44R6p4K0zwtpVlrd+/lBg84nZWky7H5ueeuPwrI8eakvg/9pUa1qsMq2iyiUNtPzISRkevQ1d/aC8QWfiiz8KaxppY21yrMm5cHh2U/qKAOs+LvxI1Pw14J0HSNDmkTUdUt8PMMEqMKOCecnceaxLn4KeK7Hwi3iGPxfeNqsUX2hoftEm3HXGfp7U/43eFNTu/CvhfxLpUEtyun2485I4yxUYQg8dBwc1rX/7Q/h2f4dvbW8czatJbfZ/sxU8MRtznHpzQAvgD4k6h4u+DviGDUZ5BqelWu3zxhSwIODkdxjrXBfCnw94s+Jel39lJ4pvbPT7eTcT57M7sQOM9ccDv610Xwt8H6hovwf8AFetatDJbvqVrmKOVCrbRu5wecHIIrU/ZVx/wj+sAnH+k/n8q0Ac78M9V17wV8dH8HX2qz3tvI5hYSSFwcqHBG7px6V22r+EfiBN8a7bVbO8mGgJexySRC4cL5Ykyw24x0riCf+MxF5/5eE/9JxXpOp/Gx9O+LVv4MGj71mu47f7T5+Mbn2527f60Aetj7o9a43xz8MPD/j+4tJtfilka1VljCSMvDYz0I9BXZA5APrQfyoA+T/hXpNroX7TUmmWAIt7Zp44gSTwIz3NfWNfLfgMgftY3uOB5txx6/ujX1JQAUUUUAFFFFABRRRQAUUUUAFFFFABRRRQAUUUUAFFFFABRRRQAUUUUAFFFFABRRRQAUUUUAFFFFABRRRQAUUUUAFFFFABRRRQAUUUUAFFFFABRRRQAUUUUAFFFFABRRRQAUUUUAFFFFABRRRQAUUUUAFFFFABRRRQAUUUUAFFFFABRRRQAUUUUAFFFFAGYvh7SU1IagunwC7Bz5+z5s4x1+laQpaKAK19p9rqVq1vfwJcQtyUcZBxzSWOn2umWi21hbpbwrkrGgwBk5P8AOrVFAGfqei6brVuYNVs4rqP0kX+vWq2k+FNC0Jy2k6Xb2zf3lXJ/M1s0UAV7yzt762eC8gSeJhhkcZBFY9j4I8Naazmy0a2j80EOdpOc8d66CigDNttB0u0sZLS3sIY7eY/vI1UYb61Lp+k2GkwtFptrHboxywjXGTV2igDC1Xwb4f1u4E+qaTb3Eq/xkEH9OtaNhpdlpVuINNtYraMfwxrj86uUUAZep+HdJ1lg2p6fBcsowGkTkfjTJPDGiz2sFvNpkDRQDESMuQnOeK16KAITbQtb+Q0StFjbsKgjH0rBTwB4WS++2polsLgHIfB6/TOK6SigCCS0gltTbSQoYWXa0eOMelV9O0fT9IjZNNs4rZWOWEa4yav0UAZv9gaX/an9o/YIftmc+ft+bOMdfpSSeHtIl1JdQk0+BrtWDiYr82Qcg1p0UAH8qae+KdRQBmwaBpVvqbahBYQpdsTmYL8xJHNaVFFABRRRQAUUUUAFFFFABRRRQAUUUUAFFFFABRRRQAUUUUAFFFFABRRRQAUUUUAFFFFABRRRQAUUUUAFFFFABRRRQAUUUUAFFFFABRRRQAUUUUAFFFFABRRRQAUUUUAFFFFABRRRQAUUUUAFFFFABRRRQAUUUUAFFFFABRRRQAUUUUAFFFFABRRRQAUUUUAFFFFABRRRQAUUUUAFFFFABRRRQAUUUUAFFFFABRRRQAUUUUAFFFFABRRRQAUUUUAFFFFABRRRQAUUUUAFFFFABRRRQAUUUUAFFFFABRRRQAUUUUAFFFFABRRRQAUUUUAFFFFABRRRQAUUUUAFFFFABRRRQAUUUUAFFFFABRRRQAUUUUAFFFFABRRRQB//2Q==)"
      ]
    },
    {
      "cell_type": "code",
      "execution_count": 13,
      "metadata": {
        "colab": {
          "base_uri": "https://localhost:8080/"
        },
        "id": "scdP2sCBYVUa",
        "outputId": "86cdc68b-74a1-4856-abfb-f669cabc372d"
      },
      "outputs": [
        {
          "data": {
            "text/plain": [
              "RandomForestClassifier(random_state=1)"
            ]
          },
          "execution_count": 13,
          "metadata": {},
          "output_type": "execute_result"
        }
      ],
      "source": [
        "# Importing RandomForestClassifier from sklearn ensemble module\n",
        "from sklearn.ensemble import RandomForestClassifier\n",
        "\n",
        "# Instantiating the RandomForestClassifier with default parameters\n",
        "rfc = RandomForestClassifier(random_state=1)\n",
        "\n",
        "# Fitting the RandomForestClassifier model on the training data\n",
        "rfc.fit(X_train, y_train)\n"
      ]
    },
    {
      "cell_type": "code",
      "execution_count": 14,
      "metadata": {
        "id": "BGjIm8qoYVUb"
      },
      "outputs": [],
      "source": [
        "# Making predictions using the trained RandomForestClassifier on the test data\n",
        "predictions = rfc.predict(X_test)\n"
      ]
    },
    {
      "cell_type": "code",
      "execution_count": 15,
      "metadata": {
        "colab": {
          "base_uri": "https://localhost:8080/"
        },
        "id": "Q3U1Q796YVUc",
        "outputId": "1e4958c1-1cea-44ac-f4a6-ab04e64b4a6b"
      },
      "outputs": [
        {
          "name": "stdout",
          "output_type": "stream",
          "text": [
            "              precision    recall  f1-score   support\n",
            "\n",
            "           0       0.84      0.95      0.89      7058\n",
            "           1       0.66      0.36      0.46      1942\n",
            "\n",
            "    accuracy                           0.82      9000\n",
            "   macro avg       0.75      0.65      0.68      9000\n",
            "weighted avg       0.80      0.82      0.80      9000\n",
            "\n"
          ]
        }
      ],
      "source": [
        "# Importing required metrics from scikit-learn\n",
        "from sklearn.metrics import classification_report\n",
        "\n",
        "# Evaluating our default model's performance\n",
        "report = classification_report(y_test, predictions)\n",
        "print(report)\n"
      ]
    },
    {
      "cell_type": "code",
      "execution_count": 16,
      "metadata": {
        "colab": {
          "base_uri": "https://localhost:8080/"
        },
        "id": "cg7wjrAoYVUc",
        "outputId": "98d3f5df-9491-4328-cd73-38ada4bf29bc"
      },
      "outputs": [
        {
          "name": "stdout",
          "output_type": "stream",
          "text": [
            "[[6691  367]\n",
            " [1243  699]]\n",
            "0.8211111111111111\n"
          ]
        }
      ],
      "source": [
        "# Importing required metrics from scikit-learn\n",
        "from sklearn.metrics import confusion_matrix, accuracy_score\n",
        "\n",
        "# Displaying the confusion matrix\n",
        "print(\"Confusion Matrix:\")\n",
        "print(confusion_matrix(y_test, predictions))\n",
        "\n",
        "# Displaying the accuracy score\n",
        "print(\"Accuracy:\", accuracy_score(y_test, predictions))\n"
      ]
    },
    {
      "cell_type": "markdown",
      "metadata": {
        "id": "bnT1KpREYVUd"
      },
      "source": [
        "So far so good, let's now look at the list of hyperparameters which we can tune to improve model performance."
      ]
    },
    {
      "cell_type": "markdown",
      "metadata": {
        "id": "jpXxq8bBYVUd"
      },
      "source": [
        "### Step 6.2 - Hyperparameter Tuning RF"
      ]
    },
    {
      "cell_type": "markdown",
      "metadata": {},
      "source": [
        "The following hyperparameters are present in a random forest classifier. Note that most of these hypereparameters are actually of the decision trees that are in the forest.\n",
        "\n",
        "\n",
        "- **n_estimators**: integer, optional (default=10): The number of trees in the forest.\n",
        "- **criterion**: string, optional (default=”gini”)The function to measure the quality of a split. Supported criteria are “gini” for the Gini impurity and “entropy” for the information gain. Note: this parameter is tree-specific.\n",
        "- **max_features** : int, float, string or None, optional (default=”auto”)The number of features to consider when looking for the best split:\n",
        "    - If int, then consider max_features features at each split.\n",
        "    - If float, then max_features is a percentage and int(max_features * n_features) features are considered at each split.\n",
        "    - If “auto”, then max_features=sqrt(n_features).\n",
        "    - If “sqrt”, then max_features=sqrt(n_features) (same as “auto”).\n",
        "    - If “log2”, then max_features=log2(n_features).\n",
        "    - If None, then max_features=n_features.\n",
        "    - Note: the search for a split does not stop until at least one valid partition of the node samples is found, even if it requires to effectively inspect more than max_features features.\n",
        "- **max_depth** : integer or None, optional (default=None)The maximum depth of the tree. If None, then nodes are expanded until all leaves are pure or until all leaves contain less than min_samples_split samples.\n",
        "- **min_samples_split** : int, float, optional (default=2)The minimum number of samples required to split an internal node:**\n",
        "    - **If int, then consider min_samples_split as the minimum number.\n",
        "    - **If float, then min_samples_split is a percentage and ceil(min_samples_split, n_samples) are the minimum number of samples for each split.\n",
        "- **min_samples_leaf** : int, float, optional (default=1)The minimum number of samples required to be at a leaf node:**\n",
        "    - **If int, then consider min_samples_leaf as the minimum number.**\n",
        "    - **If float, then min_samples_leaf is a percentage and ceil(min_samples_leaf * n_samples) are the minimum number of samples for each node.**\n",
        "- **min_weight_fraction_leaf** : float, optional (default=0.)The minimum weighted fraction of the sum total of weights (of all the input samples) required to be at a leaf node. Samples have equal weight when sample_weight is not provided.\n",
        "- **max_leaf_nodes** : int or None, optional (default=None)Grow trees with max_leaf_nodes in best-first fashion. Best nodes are defined as relative reduction in impurity. If None then unlimited number of leaf nodes.\n",
        "- **min_impurity_split** : float,Threshold for early stopping in tree growth. A node will split if its impurity is above the threshold, otherwise it is a leaf.\n"
      ]
    },
    {
      "cell_type": "markdown",
      "metadata": {},
      "source": [
        "\n",
        "#### Tuning max_depth\n",
        "\n",
        "\n",
        "Let's try to find the optimum values for ```max_depth``` and understand how the value of max_depth impacts the overall accuracy of the ensemble."
      ]
    },
    {
      "cell_type": "code",
      "execution_count": 17,
      "metadata": {
        "colab": {
          "base_uri": "https://localhost:8080/"
        },
        "id": "imqai5LbYVUe",
        "outputId": "8d051be7-0a9d-4b06-cb66-4c2110ce53b4"
      },
      "outputs": [
        {
          "data": {
            "text/plain": [
              "GridSearchCV(cv=5, estimator=RandomForestClassifier(random_state=1),\n",
              "             param_grid={'max_depth': range(2, 20, 5)}, return_train_score=True,\n",
              "             scoring='accuracy')"
            ]
          },
          "execution_count": 17,
          "metadata": {},
          "output_type": "execute_result"
        }
      ],
      "source": [
        "# Importing necessary libraries\n",
        "from sklearn.model_selection import KFold, GridSearchCV\n",
        "from sklearn.ensemble import RandomForestClassifier\n",
        "\n",
        "# Define the number of folds for k-fold CV\n",
        "n_folds = 5\n",
        "\n",
        "# Define the range of max_depth parameter values to be tested\n",
        "parameters = {'max_depth': range(2, 20, 5)}\n",
        "\n",
        "# Instantiate the Random Forest classifier\n",
        "rf = RandomForestClassifier(random_state=1)\n",
        "\n",
        "# Instantiate GridSearchCV with the RandomForestClassifier, parameters, cross-validation, scoring, and return_train_score\n",
        "grid_search = GridSearchCV(estimator=rf, param_grid=parameters, cv=n_folds, scoring='accuracy', return_train_score=True)\n",
        "\n",
        "# Fit the grid search on the training data\n",
        "grid_search.fit(X_train, y_train)\n",
        "\n",
        "# Print the best hyperparameters found\n",
        "print(\"Best Hyperparameters:\", grid_search.best_params_)\n",
        "\n",
        "# Print the best accuracy score found\n",
        "print(\"Best Accuracy:\", grid_search.best_score_)\n"
      ]
    },
    {
      "cell_type": "code",
      "execution_count": 18,
      "metadata": {
        "colab": {
          "base_uri": "https://localhost:8080/",
          "height": 308
        },
        "id": "SMrPd_VnYVUf",
        "outputId": "4554bad1-b2e0-4474-dd71-fcbedaec2fdb"
      },
      "outputs": [
        {
          "data": {
            "text/html": [
              "<div>\n",
              "<style scoped>\n",
              "    .dataframe tbody tr th:only-of-type {\n",
              "        vertical-align: middle;\n",
              "    }\n",
              "\n",
              "    .dataframe tbody tr th {\n",
              "        vertical-align: top;\n",
              "    }\n",
              "\n",
              "    .dataframe thead th {\n",
              "        text-align: right;\n",
              "    }\n",
              "</style>\n",
              "<table border=\"1\" class=\"dataframe\">\n",
              "  <thead>\n",
              "    <tr style=\"text-align: right;\">\n",
              "      <th></th>\n",
              "      <th>mean_fit_time</th>\n",
              "      <th>std_fit_time</th>\n",
              "      <th>mean_score_time</th>\n",
              "      <th>std_score_time</th>\n",
              "      <th>param_max_depth</th>\n",
              "      <th>params</th>\n",
              "      <th>split0_test_score</th>\n",
              "      <th>split1_test_score</th>\n",
              "      <th>split2_test_score</th>\n",
              "      <th>split3_test_score</th>\n",
              "      <th>...</th>\n",
              "      <th>mean_test_score</th>\n",
              "      <th>std_test_score</th>\n",
              "      <th>rank_test_score</th>\n",
              "      <th>split0_train_score</th>\n",
              "      <th>split1_train_score</th>\n",
              "      <th>split2_train_score</th>\n",
              "      <th>split3_train_score</th>\n",
              "      <th>split4_train_score</th>\n",
              "      <th>mean_train_score</th>\n",
              "      <th>std_train_score</th>\n",
              "    </tr>\n",
              "  </thead>\n",
              "  <tbody>\n",
              "    <tr>\n",
              "      <th>0</th>\n",
              "      <td>0.602584</td>\n",
              "      <td>0.027930</td>\n",
              "      <td>0.018489</td>\n",
              "      <td>0.000138</td>\n",
              "      <td>2</td>\n",
              "      <td>{'max_depth': 2}</td>\n",
              "      <td>0.803095</td>\n",
              "      <td>0.803095</td>\n",
              "      <td>0.800476</td>\n",
              "      <td>0.796905</td>\n",
              "      <td>...</td>\n",
              "      <td>0.800905</td>\n",
              "      <td>0.002271</td>\n",
              "      <td>4</td>\n",
              "      <td>0.801190</td>\n",
              "      <td>0.799464</td>\n",
              "      <td>0.801667</td>\n",
              "      <td>0.803333</td>\n",
              "      <td>0.801786</td>\n",
              "      <td>0.801488</td>\n",
              "      <td>0.001242</td>\n",
              "    </tr>\n",
              "    <tr>\n",
              "      <th>1</th>\n",
              "      <td>1.488312</td>\n",
              "      <td>0.014456</td>\n",
              "      <td>0.028846</td>\n",
              "      <td>0.001154</td>\n",
              "      <td>7</td>\n",
              "      <td>{'max_depth': 7}</td>\n",
              "      <td>0.814048</td>\n",
              "      <td>0.822143</td>\n",
              "      <td>0.818095</td>\n",
              "      <td>0.816905</td>\n",
              "      <td>...</td>\n",
              "      <td>0.817857</td>\n",
              "      <td>0.002604</td>\n",
              "      <td>1</td>\n",
              "      <td>0.831369</td>\n",
              "      <td>0.830417</td>\n",
              "      <td>0.832262</td>\n",
              "      <td>0.834048</td>\n",
              "      <td>0.834048</td>\n",
              "      <td>0.832429</td>\n",
              "      <td>0.001445</td>\n",
              "    </tr>\n",
              "    <tr>\n",
              "      <th>2</th>\n",
              "      <td>2.267294</td>\n",
              "      <td>0.017632</td>\n",
              "      <td>0.040890</td>\n",
              "      <td>0.000617</td>\n",
              "      <td>12</td>\n",
              "      <td>{'max_depth': 12}</td>\n",
              "      <td>0.815476</td>\n",
              "      <td>0.818333</td>\n",
              "      <td>0.820476</td>\n",
              "      <td>0.815000</td>\n",
              "      <td>...</td>\n",
              "      <td>0.817524</td>\n",
              "      <td>0.002029</td>\n",
              "      <td>2</td>\n",
              "      <td>0.884107</td>\n",
              "      <td>0.886429</td>\n",
              "      <td>0.885595</td>\n",
              "      <td>0.887560</td>\n",
              "      <td>0.886488</td>\n",
              "      <td>0.886036</td>\n",
              "      <td>0.001148</td>\n",
              "    </tr>\n",
              "    <tr>\n",
              "      <th>3</th>\n",
              "      <td>2.828930</td>\n",
              "      <td>0.026430</td>\n",
              "      <td>0.052680</td>\n",
              "      <td>0.000650</td>\n",
              "      <td>17</td>\n",
              "      <td>{'max_depth': 17}</td>\n",
              "      <td>0.815714</td>\n",
              "      <td>0.817381</td>\n",
              "      <td>0.817857</td>\n",
              "      <td>0.814762</td>\n",
              "      <td>...</td>\n",
              "      <td>0.816381</td>\n",
              "      <td>0.001121</td>\n",
              "      <td>3</td>\n",
              "      <td>0.928690</td>\n",
              "      <td>0.931250</td>\n",
              "      <td>0.930357</td>\n",
              "      <td>0.929524</td>\n",
              "      <td>0.926905</td>\n",
              "      <td>0.929345</td>\n",
              "      <td>0.001488</td>\n",
              "    </tr>\n",
              "  </tbody>\n",
              "</table>\n",
              "<p>4 rows × 21 columns</p>\n",
              "</div>"
            ],
            "text/plain": [
              "   mean_fit_time  std_fit_time  mean_score_time  std_score_time  \\\n",
              "0       0.602584      0.027930         0.018489        0.000138   \n",
              "1       1.488312      0.014456         0.028846        0.001154   \n",
              "2       2.267294      0.017632         0.040890        0.000617   \n",
              "3       2.828930      0.026430         0.052680        0.000650   \n",
              "\n",
              "  param_max_depth             params  split0_test_score  split1_test_score  \\\n",
              "0               2   {'max_depth': 2}           0.803095           0.803095   \n",
              "1               7   {'max_depth': 7}           0.814048           0.822143   \n",
              "2              12  {'max_depth': 12}           0.815476           0.818333   \n",
              "3              17  {'max_depth': 17}           0.815714           0.817381   \n",
              "\n",
              "   split2_test_score  split3_test_score  ...  mean_test_score  std_test_score  \\\n",
              "0           0.800476           0.796905  ...         0.800905        0.002271   \n",
              "1           0.818095           0.816905  ...         0.817857        0.002604   \n",
              "2           0.820476           0.815000  ...         0.817524        0.002029   \n",
              "3           0.817857           0.814762  ...         0.816381        0.001121   \n",
              "\n",
              "   rank_test_score  split0_train_score  split1_train_score  \\\n",
              "0                4            0.801190            0.799464   \n",
              "1                1            0.831369            0.830417   \n",
              "2                2            0.884107            0.886429   \n",
              "3                3            0.928690            0.931250   \n",
              "\n",
              "   split2_train_score  split3_train_score  split4_train_score  \\\n",
              "0            0.801667            0.803333            0.801786   \n",
              "1            0.832262            0.834048            0.834048   \n",
              "2            0.885595            0.887560            0.886488   \n",
              "3            0.930357            0.929524            0.926905   \n",
              "\n",
              "   mean_train_score  std_train_score  \n",
              "0          0.801488         0.001242  \n",
              "1          0.832429         0.001445  \n",
              "2          0.886036         0.001148  \n",
              "3          0.929345         0.001488  \n",
              "\n",
              "[4 rows x 21 columns]"
            ]
          },
          "execution_count": 18,
          "metadata": {},
          "output_type": "execute_result"
        }
      ],
      "source": [
        "import pandas as pd\n",
        "\n",
        "# Assuming you have a GridSearchCV object named grid_search\n",
        "scores = grid_search.cv_results_\n",
        "\n",
        "# Convert the scores dictionary to a DataFrame\n",
        "scores_df = pd.DataFrame(scores)\n",
        "\n",
        "# Display the first few rows of the DataFrame\n",
        "print(scores_df.head())\n"
      ]
    },
    {
      "cell_type": "code",
      "execution_count": 19,
      "metadata": {
        "colab": {
          "base_uri": "https://localhost:8080/",
          "height": 280
        },
        "id": "eu_dhZ-xYVUg",
        "outputId": "8bffb86a-4fb2-45c2-c59b-6224e1d59395"
      },
      "outputs": [
        {
          "data": {
            "image/png": "[encoded data removed]",
            "text/plain": [
              "<Figure size 432x288 with 1 Axes>"
            ]
          },
          "metadata": {
            "needs_background": "light"
          },
          "output_type": "display_data"
        }
      ],
      "source": [
        "import matplotlib.pyplot as plt\n",
        "\n",
        "# Assuming you have the scores dictionary from GridSearchCV stored in scores\n",
        "\n",
        "plt.figure(figsize=(10, 6))\n",
        "\n",
        "# Plotting mean training accuracy\n",
        "plt.plot(scores[\"param_max_depth\"], scores[\"mean_train_score\"], label=\"Training Accuracy\", marker='o')\n",
        "\n",
        "# Plotting mean test accuracy\n",
        "plt.plot(scores[\"param_max_depth\"], scores[\"mean_test_score\"], label=\"Test Accuracy\", marker='o')\n",
        "\n",
        "plt.xlabel(\"max_depth\")\n",
        "plt.ylabel(\"Accuracy\")\n",
        "plt.title(\"Accuracy vs. max_depth\")\n",
        "plt.legend()\n",
        "plt.grid(True)\n",
        "plt.show()\n"
      ]
    },
    {
      "cell_type": "markdown",
      "metadata": {
        "id": "KyB5IhOKYVUg"
      },
      "source": [
        "You can see that as we increase the value of max_depth, both train and test scores increase till a point, but after that test score starts to decrease. The ensemble tries to overfit as we increase the max_depth.\n",
        "\n",
        "Thus, controlling the depth of the constituent trees will help reduce overfitting in the forest."
      ]
    },
    {
      "cell_type": "markdown",
      "metadata": {
        "id": "lzNa8lj3YVUh"
      },
      "source": [
        "Let's try to find the optimum values for n_estimators and understand how the value of n_estimators impacts the overall accuracy. Notice that we'll specify an appropriately low value of max_depth, so that the trees do not overfit.\n",
        "<br>\n"
      ]
    },
    {
      "cell_type": "markdown",
      "metadata": {},
      "source": [
        "#### Tuning n_estimators\n",
        "Let's try to find the optimum values for n_estimators and understand how the value of n_estimators impacts the overall accuracy. Notice that we'll specify an appropriately low value of max_depth, so that the trees do not overfit.\n",
        "<br>"
      ]
    },
    {
      "cell_type": "code",
      "execution_count": 20,
      "metadata": {
        "colab": {
          "base_uri": "https://localhost:8080/"
        },
        "id": "NrEYEX_fYVUh",
        "outputId": "c8dac74d-c330-4ecf-92a5-a4de43adcc2a"
      },
      "outputs": [
        {
          "data": {
            "text/plain": [
              "GridSearchCV(cv=5,\n",
              "             estimator=RandomForestClassifier(max_depth=4, random_state=1),\n",
              "             param_grid={'n_estimators': range(100, 1500, 400)},\n",
              "             return_train_score=True, scoring='accuracy')"
            ]
          },
          "execution_count": 20,
          "metadata": {},
          "output_type": "execute_result"
        }
      ],
      "source": [
        "from sklearn.model_selection import KFold, GridSearchCV\n",
        "from sklearn.ensemble import RandomForestClassifier\n",
        "\n",
        "# Define the number of folds for k-fold CV\n",
        "n_folds = 5\n",
        "\n",
        "# Define the range of n_estimators parameter values to be tested\n",
        "parameters = {'n_estimators': range(100, 1500, 400)}\n",
        "\n",
        "# Instantiate the RandomForestClassifier with a specified max_depth\n",
        "rf = RandomForestClassifier(max_depth=4, random_state=1)\n",
        "\n",
        "# Instantiate GridSearchCV with the RandomForestClassifier, parameters, cross-validation, scoring, and return_train_score\n",
        "grid_search = GridSearchCV(estimator=rf, param_grid=parameters, cv=n_folds, scoring='accuracy', return_train_score=True)\n",
        "\n",
        "# Fit the grid search on the training data\n",
        "grid_search.fit(X_train, y_train)\n",
        "\n",
        "# Print the best hyperparameters found\n",
        "print(\"Best Hyperparameters:\", grid_search.best_params_)\n",
        "\n",
        "# Print the best accuracy score found\n",
        "print(\"Best Accuracy:\", grid_search.best_score_)\n"
      ]
    },
    {
      "cell_type": "code",
      "execution_count": 21,
      "metadata": {
        "colab": {
          "base_uri": "https://localhost:8080/",
          "height": 308
        },
        "id": "SgrEvS-pYVUi",
        "outputId": "866761e8-3a6c-4fe0-8770-37c2d4a5212b"
      },
      "outputs": [
        {
          "data": {
            "text/html": [
              "<div>\n",
              "<style scoped>\n",
              "    .dataframe tbody tr th:only-of-type {\n",
              "        vertical-align: middle;\n",
              "    }\n",
              "\n",
              "    .dataframe tbody tr th {\n",
              "        vertical-align: top;\n",
              "    }\n",
              "\n",
              "    .dataframe thead th {\n",
              "        text-align: right;\n",
              "    }\n",
              "</style>\n",
              "<table border=\"1\" class=\"dataframe\">\n",
              "  <thead>\n",
              "    <tr style=\"text-align: right;\">\n",
              "      <th></th>\n",
              "      <th>mean_fit_time</th>\n",
              "      <th>std_fit_time</th>\n",
              "      <th>mean_score_time</th>\n",
              "      <th>std_score_time</th>\n",
              "      <th>param_n_estimators</th>\n",
              "      <th>params</th>\n",
              "      <th>split0_test_score</th>\n",
              "      <th>split1_test_score</th>\n",
              "      <th>split2_test_score</th>\n",
              "      <th>split3_test_score</th>\n",
              "      <th>...</th>\n",
              "      <th>mean_test_score</th>\n",
              "      <th>std_test_score</th>\n",
              "      <th>rank_test_score</th>\n",
              "      <th>split0_train_score</th>\n",
              "      <th>split1_train_score</th>\n",
              "      <th>split2_train_score</th>\n",
              "      <th>split3_train_score</th>\n",
              "      <th>split4_train_score</th>\n",
              "      <th>mean_train_score</th>\n",
              "      <th>std_train_score</th>\n",
              "    </tr>\n",
              "  </thead>\n",
              "  <tbody>\n",
              "    <tr>\n",
              "      <th>0</th>\n",
              "      <td>0.957872</td>\n",
              "      <td>0.015928</td>\n",
              "      <td>0.022242</td>\n",
              "      <td>0.000540</td>\n",
              "      <td>100</td>\n",
              "      <td>{'n_estimators': 100}</td>\n",
              "      <td>0.812619</td>\n",
              "      <td>0.812619</td>\n",
              "      <td>0.812381</td>\n",
              "      <td>0.805000</td>\n",
              "      <td>...</td>\n",
              "      <td>0.810524</td>\n",
              "      <td>0.002933</td>\n",
              "      <td>1</td>\n",
              "      <td>0.811369</td>\n",
              "      <td>0.809702</td>\n",
              "      <td>0.812857</td>\n",
              "      <td>0.813214</td>\n",
              "      <td>0.813571</td>\n",
              "      <td>0.812143</td>\n",
              "      <td>0.001432</td>\n",
              "    </tr>\n",
              "    <tr>\n",
              "      <th>1</th>\n",
              "      <td>5.023659</td>\n",
              "      <td>0.433801</td>\n",
              "      <td>0.109724</td>\n",
              "      <td>0.005682</td>\n",
              "      <td>500</td>\n",
              "      <td>{'n_estimators': 500}</td>\n",
              "      <td>0.812381</td>\n",
              "      <td>0.813571</td>\n",
              "      <td>0.810714</td>\n",
              "      <td>0.805714</td>\n",
              "      <td>...</td>\n",
              "      <td>0.810143</td>\n",
              "      <td>0.002828</td>\n",
              "      <td>2</td>\n",
              "      <td>0.811369</td>\n",
              "      <td>0.810298</td>\n",
              "      <td>0.811964</td>\n",
              "      <td>0.812560</td>\n",
              "      <td>0.812798</td>\n",
              "      <td>0.811798</td>\n",
              "      <td>0.000899</td>\n",
              "    </tr>\n",
              "    <tr>\n",
              "      <th>2</th>\n",
              "      <td>8.784578</td>\n",
              "      <td>0.242269</td>\n",
              "      <td>0.189327</td>\n",
              "      <td>0.002148</td>\n",
              "      <td>900</td>\n",
              "      <td>{'n_estimators': 900}</td>\n",
              "      <td>0.811667</td>\n",
              "      <td>0.813571</td>\n",
              "      <td>0.811429</td>\n",
              "      <td>0.805238</td>\n",
              "      <td>...</td>\n",
              "      <td>0.810000</td>\n",
              "      <td>0.002962</td>\n",
              "      <td>3</td>\n",
              "      <td>0.811190</td>\n",
              "      <td>0.810536</td>\n",
              "      <td>0.811845</td>\n",
              "      <td>0.812857</td>\n",
              "      <td>0.812619</td>\n",
              "      <td>0.811810</td>\n",
              "      <td>0.000867</td>\n",
              "    </tr>\n",
              "    <tr>\n",
              "      <th>3</th>\n",
              "      <td>12.474536</td>\n",
              "      <td>0.177733</td>\n",
              "      <td>0.276458</td>\n",
              "      <td>0.004880</td>\n",
              "      <td>1300</td>\n",
              "      <td>{'n_estimators': 1300}</td>\n",
              "      <td>0.811667</td>\n",
              "      <td>0.813810</td>\n",
              "      <td>0.811429</td>\n",
              "      <td>0.805000</td>\n",
              "      <td>...</td>\n",
              "      <td>0.809857</td>\n",
              "      <td>0.003197</td>\n",
              "      <td>4</td>\n",
              "      <td>0.811190</td>\n",
              "      <td>0.810417</td>\n",
              "      <td>0.811964</td>\n",
              "      <td>0.812976</td>\n",
              "      <td>0.812679</td>\n",
              "      <td>0.811845</td>\n",
              "      <td>0.000944</td>\n",
              "    </tr>\n",
              "  </tbody>\n",
              "</table>\n",
              "<p>4 rows × 21 columns</p>\n",
              "</div>"
            ],
            "text/plain": [
              "   mean_fit_time  std_fit_time  mean_score_time  std_score_time  \\\n",
              "0       0.957872      0.015928         0.022242        0.000540   \n",
              "1       5.023659      0.433801         0.109724        0.005682   \n",
              "2       8.784578      0.242269         0.189327        0.002148   \n",
              "3      12.474536      0.177733         0.276458        0.004880   \n",
              "\n",
              "  param_n_estimators                  params  split0_test_score  \\\n",
              "0                100   {'n_estimators': 100}           0.812619   \n",
              "1                500   {'n_estimators': 500}           0.812381   \n",
              "2                900   {'n_estimators': 900}           0.811667   \n",
              "3               1300  {'n_estimators': 1300}           0.811667   \n",
              "\n",
              "   split1_test_score  split2_test_score  split3_test_score  ...  \\\n",
              "0           0.812619           0.812381           0.805000  ...   \n",
              "1           0.813571           0.810714           0.805714  ...   \n",
              "2           0.813571           0.811429           0.805238  ...   \n",
              "3           0.813810           0.811429           0.805000  ...   \n",
              "\n",
              "   mean_test_score  std_test_score  rank_test_score  split0_train_score  \\\n",
              "0         0.810524        0.002933                1            0.811369   \n",
              "1         0.810143        0.002828                2            0.811369   \n",
              "2         0.810000        0.002962                3            0.811190   \n",
              "3         0.809857        0.003197                4            0.811190   \n",
              "\n",
              "   split1_train_score  split2_train_score  split3_train_score  \\\n",
              "0            0.809702            0.812857            0.813214   \n",
              "1            0.810298            0.811964            0.812560   \n",
              "2            0.810536            0.811845            0.812857   \n",
              "3            0.810417            0.811964            0.812976   \n",
              "\n",
              "   split4_train_score  mean_train_score  std_train_score  \n",
              "0            0.813571          0.812143         0.001432  \n",
              "1            0.812798          0.811798         0.000899  \n",
              "2            0.812619          0.811810         0.000867  \n",
              "3            0.812679          0.811845         0.000944  \n",
              "\n",
              "[4 rows x 21 columns]"
            ]
          },
          "execution_count": 21,
          "metadata": {},
          "output_type": "execute_result"
        }
      ],
      "source": [
        "import pandas as pd\n",
        "\n",
        "# Assuming you have a GridSearchCV object named grid_search\n",
        "scores = grid_search.cv_results_\n",
        "\n",
        "# Convert the scores dictionary to a DataFrame\n",
        "scores_df = pd.DataFrame(scores)\n",
        "\n",
        "# Display the first few rows of the DataFrame\n",
        "print(scores_df.head())\n"
      ]
    },
    {
      "cell_type": "code",
      "execution_count": 22,
      "metadata": {
        "colab": {
          "base_uri": "https://localhost:8080/",
          "height": 280
        },
        "id": "djm3jE7BYVUi",
        "outputId": "d56d3e85-3cdb-4816-8d70-86fafa5eb8e4"
      },
      "outputs": [
        {
          "data": {
            "image/png": "[encoded data removed]",
            "text/plain": [
              "<Figure size 432x288 with 1 Axes>"
            ]
          },
          "metadata": {
            "needs_background": "light"
          },
          "output_type": "display_data"
        }
      ],
      "source": [
        "import matplotlib.pyplot as plt\n",
        "\n",
        "# Assuming you have the scores dictionary from GridSearchCV stored in scores\n",
        "\n",
        "plt.figure(figsize=(10, 6))\n",
        "\n",
        "# Plotting mean training accuracy\n",
        "plt.plot(scores[\"param_n_estimators\"], scores[\"mean_train_score\"], label=\"Training Accuracy\", marker='o')\n",
        "\n",
        "# Plotting mean test accuracy\n",
        "plt.plot(scores[\"param_n_estimators\"], scores[\"mean_test_score\"], label=\"Test Accuracy\", marker='o')\n",
        "\n",
        "plt.xlabel(\"n_estimators\")\n",
        "plt.ylabel(\"Accuracy\")\n",
        "plt.title(\"Accuracy vs. n_estimators\")\n",
        "plt.legend()\n",
        "plt.grid(True)\n",
        "plt.show()\n"
      ]
    },
    {
      "cell_type": "markdown",
      "metadata": {
        "id": "4Xsq-xGaYVUj"
      },
      "source": [
        "#### Tuning max_features\n",
        "\n",
        "Let's see how the model performance varies with ```max_features```, which is the maximum numbre of features considered for splitting at a node."
      ]
    },
    {
      "cell_type": "code",
      "execution_count": 23,
      "metadata": {
        "colab": {
          "base_uri": "https://localhost:8080/"
        },
        "id": "vseRtWiUYVUj",
        "outputId": "e32956a5-4e40-4147-ea66-193b8b5062cf"
      },
      "outputs": [
        {
          "data": {
            "text/plain": [
              "GridSearchCV(cv=5,\n",
              "             estimator=RandomForestClassifier(max_depth=4, random_state=1),\n",
              "             param_grid={'max_features': [4, 8, 14, 20, 24]},\n",
              "             return_train_score=True, scoring='accuracy')"
            ]
          },
          "execution_count": 23,
          "metadata": {},
          "output_type": "execute_result"
        }
      ],
      "source": [
        "from sklearn.model_selection import KFold, GridSearchCV\n",
        "from sklearn.ensemble import RandomForestClassifier\n",
        "\n",
        "# Define the number of folds for k-fold CV\n",
        "n_folds = 5\n",
        "\n",
        "# Define the values of max_features parameter to be tested\n",
        "parameters = {'max_features': [4, 8, 14, 20, 24]}\n",
        "\n",
        "# Instantiate the RandomForestClassifier with a specified max_depth\n",
        "rf = RandomForestClassifier(max_depth=4, random_state=1)\n",
        "\n",
        "# Instantiate GridSearchCV with the RandomForestClassifier, parameters, cross-validation, scoring, and return_train_score\n",
        "grid_search = GridSearchCV(estimator=rf, param_grid=parameters, cv=n_folds, scoring='accuracy', return_train_score=True)\n",
        "\n",
        "# Fit the grid search on the training data\n",
        "grid_search.fit(X_train, y_train)\n",
        "\n",
        "# Print the best hyperparameters found\n",
        "print(\"Best Hyperparameters:\", grid_search.best_params_)\n",
        "\n",
        "# Print the best accuracy score found\n",
        "print(\"Best Accuracy:\", grid_search.best_score_)\n"
      ]
    },
    {
      "cell_type": "code",
      "execution_count": 24,
      "metadata": {
        "colab": {
          "base_uri": "https://localhost:8080/",
          "height": 357
        },
        "id": "56D2YcR6YVUj",
        "outputId": "d00068d7-2ca1-4067-9810-49f103875e8d"
      },
      "outputs": [
        {
          "data": {
            "text/html": [
              "<div>\n",
              "<style scoped>\n",
              "    .dataframe tbody tr th:only-of-type {\n",
              "        vertical-align: middle;\n",
              "    }\n",
              "\n",
              "    .dataframe tbody tr th {\n",
              "        vertical-align: top;\n",
              "    }\n",
              "\n",
              "    .dataframe thead th {\n",
              "        text-align: right;\n",
              "    }\n",
              "</style>\n",
              "<table border=\"1\" class=\"dataframe\">\n",
              "  <thead>\n",
              "    <tr style=\"text-align: right;\">\n",
              "      <th></th>\n",
              "      <th>mean_fit_time</th>\n",
              "      <th>std_fit_time</th>\n",
              "      <th>mean_score_time</th>\n",
              "      <th>std_score_time</th>\n",
              "      <th>param_max_features</th>\n",
              "      <th>params</th>\n",
              "      <th>split0_test_score</th>\n",
              "      <th>split1_test_score</th>\n",
              "      <th>split2_test_score</th>\n",
              "      <th>split3_test_score</th>\n",
              "      <th>...</th>\n",
              "      <th>mean_test_score</th>\n",
              "      <th>std_test_score</th>\n",
              "      <th>rank_test_score</th>\n",
              "      <th>split0_train_score</th>\n",
              "      <th>split1_train_score</th>\n",
              "      <th>split2_train_score</th>\n",
              "      <th>split3_train_score</th>\n",
              "      <th>split4_train_score</th>\n",
              "      <th>mean_train_score</th>\n",
              "      <th>std_train_score</th>\n",
              "    </tr>\n",
              "  </thead>\n",
              "  <tbody>\n",
              "    <tr>\n",
              "      <th>0</th>\n",
              "      <td>0.959426</td>\n",
              "      <td>0.010891</td>\n",
              "      <td>0.022147</td>\n",
              "      <td>0.000333</td>\n",
              "      <td>4</td>\n",
              "      <td>{'max_features': 4}</td>\n",
              "      <td>0.812619</td>\n",
              "      <td>0.812619</td>\n",
              "      <td>0.812381</td>\n",
              "      <td>0.805000</td>\n",
              "      <td>...</td>\n",
              "      <td>0.810524</td>\n",
              "      <td>0.002933</td>\n",
              "      <td>5</td>\n",
              "      <td>0.811369</td>\n",
              "      <td>0.809702</td>\n",
              "      <td>0.812857</td>\n",
              "      <td>0.813214</td>\n",
              "      <td>0.813571</td>\n",
              "      <td>0.812143</td>\n",
              "      <td>0.001432</td>\n",
              "    </tr>\n",
              "    <tr>\n",
              "      <th>1</th>\n",
              "      <td>1.707852</td>\n",
              "      <td>0.018769</td>\n",
              "      <td>0.024613</td>\n",
              "      <td>0.003551</td>\n",
              "      <td>8</td>\n",
              "      <td>{'max_features': 8}</td>\n",
              "      <td>0.817619</td>\n",
              "      <td>0.820952</td>\n",
              "      <td>0.820000</td>\n",
              "      <td>0.817381</td>\n",
              "      <td>...</td>\n",
              "      <td>0.818905</td>\n",
              "      <td>0.001377</td>\n",
              "      <td>1</td>\n",
              "      <td>0.821369</td>\n",
              "      <td>0.820179</td>\n",
              "      <td>0.821726</td>\n",
              "      <td>0.821369</td>\n",
              "      <td>0.821131</td>\n",
              "      <td>0.821155</td>\n",
              "      <td>0.000524</td>\n",
              "    </tr>\n",
              "    <tr>\n",
              "      <th>2</th>\n",
              "      <td>3.049914</td>\n",
              "      <td>0.222122</td>\n",
              "      <td>0.024073</td>\n",
              "      <td>0.001518</td>\n",
              "      <td>14</td>\n",
              "      <td>{'max_features': 14}</td>\n",
              "      <td>0.817619</td>\n",
              "      <td>0.821429</td>\n",
              "      <td>0.817857</td>\n",
              "      <td>0.816429</td>\n",
              "      <td>...</td>\n",
              "      <td>0.818571</td>\n",
              "      <td>0.001737</td>\n",
              "      <td>4</td>\n",
              "      <td>0.822321</td>\n",
              "      <td>0.820952</td>\n",
              "      <td>0.821786</td>\n",
              "      <td>0.822321</td>\n",
              "      <td>0.821310</td>\n",
              "      <td>0.821738</td>\n",
              "      <td>0.000545</td>\n",
              "    </tr>\n",
              "    <tr>\n",
              "      <th>3</th>\n",
              "      <td>4.427884</td>\n",
              "      <td>1.122305</td>\n",
              "      <td>0.025214</td>\n",
              "      <td>0.005485</td>\n",
              "      <td>20</td>\n",
              "      <td>{'max_features': 20}</td>\n",
              "      <td>0.817619</td>\n",
              "      <td>0.821905</td>\n",
              "      <td>0.819762</td>\n",
              "      <td>0.815476</td>\n",
              "      <td>...</td>\n",
              "      <td>0.818619</td>\n",
              "      <td>0.002148</td>\n",
              "      <td>3</td>\n",
              "      <td>0.822262</td>\n",
              "      <td>0.820774</td>\n",
              "      <td>0.821369</td>\n",
              "      <td>0.822798</td>\n",
              "      <td>0.821964</td>\n",
              "      <td>0.821833</td>\n",
              "      <td>0.000703</td>\n",
              "    </tr>\n",
              "    <tr>\n",
              "      <th>4</th>\n",
              "      <td>6.220190</td>\n",
              "      <td>0.876374</td>\n",
              "      <td>0.040655</td>\n",
              "      <td>0.015392</td>\n",
              "      <td>24</td>\n",
              "      <td>{'max_features': 24}</td>\n",
              "      <td>0.818095</td>\n",
              "      <td>0.821667</td>\n",
              "      <td>0.819762</td>\n",
              "      <td>0.815000</td>\n",
              "      <td>...</td>\n",
              "      <td>0.818667</td>\n",
              "      <td>0.002190</td>\n",
              "      <td>2</td>\n",
              "      <td>0.822976</td>\n",
              "      <td>0.821250</td>\n",
              "      <td>0.821726</td>\n",
              "      <td>0.823214</td>\n",
              "      <td>0.822976</td>\n",
              "      <td>0.822429</td>\n",
              "      <td>0.000787</td>\n",
              "    </tr>\n",
              "  </tbody>\n",
              "</table>\n",
              "<p>5 rows × 21 columns</p>\n",
              "</div>"
            ],
            "text/plain": [
              "   mean_fit_time  std_fit_time  mean_score_time  std_score_time  \\\n",
              "0       0.959426      0.010891         0.022147        0.000333   \n",
              "1       1.707852      0.018769         0.024613        0.003551   \n",
              "2       3.049914      0.222122         0.024073        0.001518   \n",
              "3       4.427884      1.122305         0.025214        0.005485   \n",
              "4       6.220190      0.876374         0.040655        0.015392   \n",
              "\n",
              "  param_max_features                params  split0_test_score  \\\n",
              "0                  4   {'max_features': 4}           0.812619   \n",
              "1                  8   {'max_features': 8}           0.817619   \n",
              "2                 14  {'max_features': 14}           0.817619   \n",
              "3                 20  {'max_features': 20}           0.817619   \n",
              "4                 24  {'max_features': 24}           0.818095   \n",
              "\n",
              "   split1_test_score  split2_test_score  split3_test_score  ...  \\\n",
              "0           0.812619           0.812381           0.805000  ...   \n",
              "1           0.820952           0.820000           0.817381  ...   \n",
              "2           0.821429           0.817857           0.816429  ...   \n",
              "3           0.821905           0.819762           0.815476  ...   \n",
              "4           0.821667           0.819762           0.815000  ...   \n",
              "\n",
              "   mean_test_score  std_test_score  rank_test_score  split0_train_score  \\\n",
              "0         0.810524        0.002933                5            0.811369   \n",
              "1         0.818905        0.001377                1            0.821369   \n",
              "2         0.818571        0.001737                4            0.822321   \n",
              "3         0.818619        0.002148                3            0.822262   \n",
              "4         0.818667        0.002190                2            0.822976   \n",
              "\n",
              "   split1_train_score  split2_train_score  split3_train_score  \\\n",
              "0            0.809702            0.812857            0.813214   \n",
              "1            0.820179            0.821726            0.821369   \n",
              "2            0.820952            0.821786            0.822321   \n",
              "3            0.820774            0.821369            0.822798   \n",
              "4            0.821250            0.821726            0.823214   \n",
              "\n",
              "   split4_train_score  mean_train_score  std_train_score  \n",
              "0            0.813571          0.812143         0.001432  \n",
              "1            0.821131          0.821155         0.000524  \n",
              "2            0.821310          0.821738         0.000545  \n",
              "3            0.821964          0.821833         0.000703  \n",
              "4            0.822976          0.822429         0.000787  \n",
              "\n",
              "[5 rows x 21 columns]"
            ]
          },
          "execution_count": 24,
          "metadata": {},
          "output_type": "execute_result"
        }
      ],
      "source": [
        "# Assuming you have a GridSearchCV object named grid_search\n",
        "scores = grid_search.cv_results_\n",
        "\n",
        "# Convert the scores dictionary to a DataFrame\n",
        "scores_df = pd.DataFrame(scores)\n",
        "\n",
        "# Display the first few rows of the DataFrame\n",
        "print(scores_df.head())\n"
      ]
    },
    {
      "cell_type": "code",
      "execution_count": 25,
      "metadata": {
        "colab": {
          "base_uri": "https://localhost:8080/",
          "height": 280
        },
        "id": "gED0pNplYVUk",
        "outputId": "c19f0912-d5ef-4d15-c85c-a39ac79b30c1"
      },
      "outputs": [
        {
          "data": {
            "image/png": "[encoded data removed]",
            "text/plain": [
              "<Figure size 432x288 with 1 Axes>"
            ]
          },
          "metadata": {
            "needs_background": "light"
          },
          "output_type": "display_data"
        }
      ],
      "source": [
        "# Assuming you have the scores dictionary from GridSearchCV stored in scores\n",
        "\n",
        "plt.figure(figsize=(10, 6))\n",
        "\n",
        "# Plotting mean training accuracy\n",
        "plt.plot(scores[\"param_max_features\"], scores[\"mean_train_score\"], label=\"Training Accuracy\", marker='o')\n",
        "\n",
        "# Plotting mean test accuracy\n",
        "plt.plot(scores[\"param_max_features\"], scores[\"mean_test_score\"], label=\"Test Accuracy\", marker='o')\n",
        "\n",
        "plt.xlabel(\"max_features\")\n",
        "plt.ylabel(\"Accuracy\")\n",
        "plt.title(\"Accuracy vs. max_features\")\n",
        "plt.legend()\n",
        "plt.grid(True)\n",
        "plt.show()\n"
      ]
    },
    {
      "cell_type": "markdown",
      "metadata": {
        "id": "Xmn_kOMgYVUk"
      },
      "source": [
        "Apparently, the training and test scores *both* seem to increase as we increase max_features, and the model doesn't seem to overfit more with increasing max_features. Think about why that might be the case."
      ]
    },
    {
      "cell_type": "markdown",
      "metadata": {},
      "source": [
        "\n",
        "#### Tuning min_samples_leaf\n",
        "\n",
        "The hyperparameter **min_samples_leaf** is the minimum number of samples required to be at a leaf node:\n",
        "- If int, then consider min_samples_leaf as the minimum number.\n",
        "- If float, then min_samples_leaf is a percentage and ceil(min_samples_leaf * n_samples) are the minimum number of samples for each node.\n",
        "\n",
        "Let's now check the optimum value for min samples leaf in our case."
      ]
    },
    {
      "cell_type": "code",
      "execution_count": 26,
      "metadata": {
        "colab": {
          "base_uri": "https://localhost:8080/"
        },
        "id": "FJCBNqnDYVUl",
        "outputId": "51602f39-0e88-4678-e955-06b65f23f89f"
      },
      "outputs": [
        {
          "data": {
            "text/plain": [
              "GridSearchCV(cv=5, estimator=RandomForestClassifier(random_state=1),\n",
              "             param_grid={'min_samples_leaf': range(100, 400, 50)},\n",
              "             return_train_score=True, scoring='accuracy')"
            ]
          },
          "execution_count": 26,
          "metadata": {},
          "output_type": "execute_result"
        }
      ],
      "source": [
        "from sklearn.model_selection import KFold, GridSearchCV\n",
        "from sklearn.ensemble import RandomForestClassifier\n",
        "\n",
        "# Define the number of folds for k-fold CV\n",
        "n_folds = 5\n",
        "\n",
        "# Define the range of min_samples_leaf parameter values to be tested\n",
        "parameters = {'min_samples_leaf': range(100, 400, 50)}\n",
        "\n",
        "# Instantiate the RandomForestClassifier\n",
        "rf = RandomForestClassifier(random_state=1)\n",
        "\n",
        "# Instantiate GridSearchCV with the RandomForestClassifier, parameters, cross-validation, scoring, and return_train_score\n",
        "grid_search = GridSearchCV(estimator=rf, param_grid=parameters, cv=n_folds, scoring='accuracy', return_train_score=True)\n",
        "\n",
        "# Fit the grid search on the training data\n",
        "grid_search.fit(X_train, y_train)\n",
        "\n",
        "# Print the best hyperparameters found\n",
        "print(\"Best Hyperparameters:\", grid_search.best_params_)\n",
        "\n",
        "# Print the best accuracy score found\n",
        "print(\"Best Accuracy:\", grid_search.best_score_)\n"
      ]
    },
    {
      "cell_type": "code",
      "execution_count": 27,
      "metadata": {
        "colab": {
          "base_uri": "https://localhost:8080/",
          "height": 357
        },
        "id": "te9WFounYVUl",
        "outputId": "54ed79ae-8a56-44f2-d196-85957fa3b194"
      },
      "outputs": [
        {
          "data": {
            "text/html": [
              "<div>\n",
              "<style scoped>\n",
              "    .dataframe tbody tr th:only-of-type {\n",
              "        vertical-align: middle;\n",
              "    }\n",
              "\n",
              "    .dataframe tbody tr th {\n",
              "        vertical-align: top;\n",
              "    }\n",
              "\n",
              "    .dataframe thead th {\n",
              "        text-align: right;\n",
              "    }\n",
              "</style>\n",
              "<table border=\"1\" class=\"dataframe\">\n",
              "  <thead>\n",
              "    <tr style=\"text-align: right;\">\n",
              "      <th></th>\n",
              "      <th>mean_fit_time</th>\n",
              "      <th>std_fit_time</th>\n",
              "      <th>mean_score_time</th>\n",
              "      <th>std_score_time</th>\n",
              "      <th>param_min_samples_leaf</th>\n",
              "      <th>params</th>\n",
              "      <th>split0_test_score</th>\n",
              "      <th>split1_test_score</th>\n",
              "      <th>split2_test_score</th>\n",
              "      <th>split3_test_score</th>\n",
              "      <th>...</th>\n",
              "      <th>mean_test_score</th>\n",
              "      <th>std_test_score</th>\n",
              "      <th>rank_test_score</th>\n",
              "      <th>split0_train_score</th>\n",
              "      <th>split1_train_score</th>\n",
              "      <th>split2_train_score</th>\n",
              "      <th>split3_train_score</th>\n",
              "      <th>split4_train_score</th>\n",
              "      <th>mean_train_score</th>\n",
              "      <th>std_train_score</th>\n",
              "    </tr>\n",
              "  </thead>\n",
              "  <tbody>\n",
              "    <tr>\n",
              "      <th>0</th>\n",
              "      <td>2.153799</td>\n",
              "      <td>0.306530</td>\n",
              "      <td>0.043831</td>\n",
              "      <td>0.003273</td>\n",
              "      <td>100</td>\n",
              "      <td>{'min_samples_leaf': 100}</td>\n",
              "      <td>0.815000</td>\n",
              "      <td>0.818571</td>\n",
              "      <td>0.816905</td>\n",
              "      <td>0.810238</td>\n",
              "      <td>...</td>\n",
              "      <td>0.814619</td>\n",
              "      <td>0.003006</td>\n",
              "      <td>1</td>\n",
              "      <td>0.817619</td>\n",
              "      <td>0.816488</td>\n",
              "      <td>0.817857</td>\n",
              "      <td>0.817321</td>\n",
              "      <td>0.818333</td>\n",
              "      <td>0.817524</td>\n",
              "      <td>0.000615</td>\n",
              "    </tr>\n",
              "    <tr>\n",
              "      <th>1</th>\n",
              "      <td>1.827563</td>\n",
              "      <td>0.219265</td>\n",
              "      <td>0.038455</td>\n",
              "      <td>0.004462</td>\n",
              "      <td>150</td>\n",
              "      <td>{'min_samples_leaf': 150}</td>\n",
              "      <td>0.811905</td>\n",
              "      <td>0.815238</td>\n",
              "      <td>0.812381</td>\n",
              "      <td>0.808333</td>\n",
              "      <td>...</td>\n",
              "      <td>0.811286</td>\n",
              "      <td>0.002580</td>\n",
              "      <td>2</td>\n",
              "      <td>0.811190</td>\n",
              "      <td>0.812857</td>\n",
              "      <td>0.813155</td>\n",
              "      <td>0.814524</td>\n",
              "      <td>0.812679</td>\n",
              "      <td>0.812881</td>\n",
              "      <td>0.001065</td>\n",
              "    </tr>\n",
              "    <tr>\n",
              "      <th>2</th>\n",
              "      <td>1.611064</td>\n",
              "      <td>0.153349</td>\n",
              "      <td>0.035821</td>\n",
              "      <td>0.002278</td>\n",
              "      <td>200</td>\n",
              "      <td>{'min_samples_leaf': 200}</td>\n",
              "      <td>0.810238</td>\n",
              "      <td>0.811429</td>\n",
              "      <td>0.811429</td>\n",
              "      <td>0.805000</td>\n",
              "      <td>...</td>\n",
              "      <td>0.809286</td>\n",
              "      <td>0.002423</td>\n",
              "      <td>3</td>\n",
              "      <td>0.808631</td>\n",
              "      <td>0.809762</td>\n",
              "      <td>0.809643</td>\n",
              "      <td>0.811131</td>\n",
              "      <td>0.812024</td>\n",
              "      <td>0.810238</td>\n",
              "      <td>0.001196</td>\n",
              "    </tr>\n",
              "    <tr>\n",
              "      <th>3</th>\n",
              "      <td>1.513797</td>\n",
              "      <td>0.089551</td>\n",
              "      <td>0.033383</td>\n",
              "      <td>0.001731</td>\n",
              "      <td>250</td>\n",
              "      <td>{'min_samples_leaf': 250}</td>\n",
              "      <td>0.810952</td>\n",
              "      <td>0.811190</td>\n",
              "      <td>0.810476</td>\n",
              "      <td>0.803333</td>\n",
              "      <td>...</td>\n",
              "      <td>0.808571</td>\n",
              "      <td>0.003045</td>\n",
              "      <td>4</td>\n",
              "      <td>0.808988</td>\n",
              "      <td>0.808155</td>\n",
              "      <td>0.810476</td>\n",
              "      <td>0.810417</td>\n",
              "      <td>0.810833</td>\n",
              "      <td>0.809774</td>\n",
              "      <td>0.001026</td>\n",
              "    </tr>\n",
              "    <tr>\n",
              "      <th>4</th>\n",
              "      <td>1.496902</td>\n",
              "      <td>0.114603</td>\n",
              "      <td>0.036263</td>\n",
              "      <td>0.003816</td>\n",
              "      <td>300</td>\n",
              "      <td>{'min_samples_leaf': 300}</td>\n",
              "      <td>0.809286</td>\n",
              "      <td>0.809524</td>\n",
              "      <td>0.809286</td>\n",
              "      <td>0.804524</td>\n",
              "      <td>...</td>\n",
              "      <td>0.807571</td>\n",
              "      <td>0.002210</td>\n",
              "      <td>5</td>\n",
              "      <td>0.807679</td>\n",
              "      <td>0.806726</td>\n",
              "      <td>0.808988</td>\n",
              "      <td>0.808988</td>\n",
              "      <td>0.809048</td>\n",
              "      <td>0.808286</td>\n",
              "      <td>0.000935</td>\n",
              "    </tr>\n",
              "  </tbody>\n",
              "</table>\n",
              "<p>5 rows × 21 columns</p>\n",
              "</div>"
            ],
            "text/plain": [
              "   mean_fit_time  std_fit_time  mean_score_time  std_score_time  \\\n",
              "0       2.153799      0.306530         0.043831        0.003273   \n",
              "1       1.827563      0.219265         0.038455        0.004462   \n",
              "2       1.611064      0.153349         0.035821        0.002278   \n",
              "3       1.513797      0.089551         0.033383        0.001731   \n",
              "4       1.496902      0.114603         0.036263        0.003816   \n",
              "\n",
              "  param_min_samples_leaf                     params  split0_test_score  \\\n",
              "0                    100  {'min_samples_leaf': 100}           0.815000   \n",
              "1                    150  {'min_samples_leaf': 150}           0.811905   \n",
              "2                    200  {'min_samples_leaf': 200}           0.810238   \n",
              "3                    250  {'min_samples_leaf': 250}           0.810952   \n",
              "4                    300  {'min_samples_leaf': 300}           0.809286   \n",
              "\n",
              "   split1_test_score  split2_test_score  split3_test_score  ...  \\\n",
              "0           0.818571           0.816905           0.810238  ...   \n",
              "1           0.815238           0.812381           0.808333  ...   \n",
              "2           0.811429           0.811429           0.805000  ...   \n",
              "3           0.811190           0.810476           0.803333  ...   \n",
              "4           0.809524           0.809286           0.804524  ...   \n",
              "\n",
              "   mean_test_score  std_test_score  rank_test_score  split0_train_score  \\\n",
              "0         0.814619        0.003006                1            0.817619   \n",
              "1         0.811286        0.002580                2            0.811190   \n",
              "2         0.809286        0.002423                3            0.808631   \n",
              "3         0.808571        0.003045                4            0.808988   \n",
              "4         0.807571        0.002210                5            0.807679   \n",
              "\n",
              "   split1_train_score  split2_train_score  split3_train_score  \\\n",
              "0            0.816488            0.817857            0.817321   \n",
              "1            0.812857            0.813155            0.814524   \n",
              "2            0.809762            0.809643            0.811131   \n",
              "3            0.808155            0.810476            0.810417   \n",
              "4            0.806726            0.808988            0.808988   \n",
              "\n",
              "   split4_train_score  mean_train_score  std_train_score  \n",
              "0            0.818333          0.817524         0.000615  \n",
              "1            0.812679          0.812881         0.001065  \n",
              "2            0.812024          0.810238         0.001196  \n",
              "3            0.810833          0.809774         0.001026  \n",
              "4            0.809048          0.808286         0.000935  \n",
              "\n",
              "[5 rows x 21 columns]"
            ]
          },
          "execution_count": 27,
          "metadata": {},
          "output_type": "execute_result"
        }
      ],
      "source": [
        "# Assuming you have a GridSearchCV object named grid_search\n",
        "scores = grid_search.cv_results_\n",
        "\n",
        "# Convert the scores dictionary to a DataFrame\n",
        "scores_df = pd.DataFrame(scores)\n",
        "\n",
        "# Display the first few rows of the DataFrame\n",
        "print(scores_df.head())\n"
      ]
    },
    {
      "cell_type": "code",
      "execution_count": 28,
      "metadata": {
        "colab": {
          "base_uri": "https://localhost:8080/",
          "height": 280
        },
        "id": "40GEiecBYVUm",
        "outputId": "1608cee4-9522-4860-a90b-bcd7df49e581"
      },
      "outputs": [
        {
          "data": {
            "image/png": "[encoded data removed]",
            "text/plain": [
              "<Figure size 432x288 with 1 Axes>"
            ]
          },
          "metadata": {
            "needs_background": "light"
          },
          "output_type": "display_data"
        }
      ],
      "source": [
        "import matplotlib.pyplot as plt\n",
        "\n",
        "# Assuming you have the scores dictionary from GridSearchCV stored in scores\n",
        "\n",
        "plt.figure(figsize=(10, 6))\n",
        "\n",
        "# Plotting mean training accuracy\n",
        "plt.plot(scores[\"param_min_samples_leaf\"], scores[\"mean_train_score\"], label=\"Training Accuracy\", marker='o')\n",
        "\n",
        "# Plotting mean test accuracy\n",
        "plt.plot(scores[\"param_min_samples_leaf\"], scores[\"mean_test_score\"], label=\"Test Accuracy\", marker='o')\n",
        "\n",
        "plt.xlabel(\"min_samples_leaf\")\n",
        "plt.ylabel(\"Accuracy\")\n",
        "plt.title(\"Accuracy vs. min_samples_leaf\")\n",
        "plt.legend()\n",
        "plt.grid(True)\n",
        "plt.show()\n"
      ]
    },
    {
      "cell_type": "markdown",
      "metadata": {
        "id": "gNitrDwAYVUm"
      },
      "source": [
        "You can see that the model starts of overfit as you decrease the value of min_samples_leaf. \n",
        "\n",
        "\n"
      ]
    },
    {
      "cell_type": "markdown",
      "metadata": {},
      "source": [
        "\n",
        "### Tuning min_samples_split\n",
        "\n",
        "Let's now look at the performance of the ensemble as we vary min_samples_split."
      ]
    },
    {
      "cell_type": "code",
      "execution_count": 29,
      "metadata": {
        "colab": {
          "base_uri": "https://localhost:8080/"
        },
        "id": "Y7npLzP8YVUm",
        "outputId": "662fd9fd-d861-4780-c6eb-a4a78010bbee"
      },
      "outputs": [
        {
          "data": {
            "text/plain": [
              "GridSearchCV(cv=5, estimator=RandomForestClassifier(random_state=1),\n",
              "             param_grid={'min_samples_split': range(200, 500, 50)},\n",
              "             return_train_score=True, scoring='accuracy')"
            ]
          },
          "execution_count": 29,
          "metadata": {},
          "output_type": "execute_result"
        }
      ],
      "source": [
        "from sklearn.model_selection import KFold, GridSearchCV\n",
        "from sklearn.ensemble import RandomForestClassifier\n",
        "\n",
        "# Define the number of folds for k-fold CV\n",
        "n_folds = 5\n",
        "\n",
        "# Define the range of min_samples_split parameter values to be tested\n",
        "parameters = {'min_samples_split': range(200, 500, 50)}\n",
        "\n",
        "# Instantiate the RandomForestClassifier\n",
        "rf = RandomForestClassifier(random_state=1)\n",
        "\n",
        "# Instantiate GridSearchCV with the RandomForestClassifier, parameters, cross-validation, scoring, and return_train_score\n",
        "grid_search = GridSearchCV(estimator=rf, param_grid=parameters, cv=n_folds, scoring='accuracy', return_train_score=True)\n",
        "\n",
        "# Fit the grid search on the training data\n",
        "grid_search.fit(X_train, y_train)\n",
        "\n",
        "# Print the best hyperparameters found\n",
        "print(\"Best Hyperparameters:\", grid_search.best_params_)\n",
        "\n",
        "# Print the best accuracy score found\n",
        "print(\"Best Accuracy:\", grid_search.best_score_)\n"
      ]
    },
    {
      "cell_type": "code",
      "execution_count": 30,
      "metadata": {
        "colab": {
          "base_uri": "https://localhost:8080/",
          "height": 357
        },
        "id": "f1qSMzvUYVUn",
        "outputId": "b8967ee9-9a1c-4d40-dee4-89436a81b779"
      },
      "outputs": [
        {
          "data": {
            "text/html": [
              "<div>\n",
              "<style scoped>\n",
              "    .dataframe tbody tr th:only-of-type {\n",
              "        vertical-align: middle;\n",
              "    }\n",
              "\n",
              "    .dataframe tbody tr th {\n",
              "        vertical-align: top;\n",
              "    }\n",
              "\n",
              "    .dataframe thead th {\n",
              "        text-align: right;\n",
              "    }\n",
              "</style>\n",
              "<table border=\"1\" class=\"dataframe\">\n",
              "  <thead>\n",
              "    <tr style=\"text-align: right;\">\n",
              "      <th></th>\n",
              "      <th>mean_fit_time</th>\n",
              "      <th>std_fit_time</th>\n",
              "      <th>mean_score_time</th>\n",
              "      <th>std_score_time</th>\n",
              "      <th>param_min_samples_split</th>\n",
              "      <th>params</th>\n",
              "      <th>split0_test_score</th>\n",
              "      <th>split1_test_score</th>\n",
              "      <th>split2_test_score</th>\n",
              "      <th>split3_test_score</th>\n",
              "      <th>...</th>\n",
              "      <th>mean_test_score</th>\n",
              "      <th>std_test_score</th>\n",
              "      <th>rank_test_score</th>\n",
              "      <th>split0_train_score</th>\n",
              "      <th>split1_train_score</th>\n",
              "      <th>split2_train_score</th>\n",
              "      <th>split3_train_score</th>\n",
              "      <th>split4_train_score</th>\n",
              "      <th>mean_train_score</th>\n",
              "      <th>std_train_score</th>\n",
              "    </tr>\n",
              "  </thead>\n",
              "  <tbody>\n",
              "    <tr>\n",
              "      <th>0</th>\n",
              "      <td>3.175830</td>\n",
              "      <td>0.994579</td>\n",
              "      <td>0.066206</td>\n",
              "      <td>0.045010</td>\n",
              "      <td>200</td>\n",
              "      <td>{'min_samples_split': 200}</td>\n",
              "      <td>0.819286</td>\n",
              "      <td>0.821190</td>\n",
              "      <td>0.820952</td>\n",
              "      <td>0.818095</td>\n",
              "      <td>...</td>\n",
              "      <td>0.819476</td>\n",
              "      <td>0.001392</td>\n",
              "      <td>1</td>\n",
              "      <td>0.823988</td>\n",
              "      <td>0.823571</td>\n",
              "      <td>0.823690</td>\n",
              "      <td>0.824048</td>\n",
              "      <td>0.823988</td>\n",
              "      <td>0.823857</td>\n",
              "      <td>0.000190</td>\n",
              "    </tr>\n",
              "    <tr>\n",
              "      <th>1</th>\n",
              "      <td>2.660667</td>\n",
              "      <td>0.346059</td>\n",
              "      <td>0.052983</td>\n",
              "      <td>0.018043</td>\n",
              "      <td>250</td>\n",
              "      <td>{'min_samples_split': 250}</td>\n",
              "      <td>0.818571</td>\n",
              "      <td>0.821667</td>\n",
              "      <td>0.819524</td>\n",
              "      <td>0.816667</td>\n",
              "      <td>...</td>\n",
              "      <td>0.818857</td>\n",
              "      <td>0.001686</td>\n",
              "      <td>2</td>\n",
              "      <td>0.822202</td>\n",
              "      <td>0.822262</td>\n",
              "      <td>0.822500</td>\n",
              "      <td>0.822798</td>\n",
              "      <td>0.822917</td>\n",
              "      <td>0.822536</td>\n",
              "      <td>0.000283</td>\n",
              "    </tr>\n",
              "    <tr>\n",
              "      <th>2</th>\n",
              "      <td>2.293608</td>\n",
              "      <td>0.034966</td>\n",
              "      <td>0.039299</td>\n",
              "      <td>0.001468</td>\n",
              "      <td>300</td>\n",
              "      <td>{'min_samples_split': 300}</td>\n",
              "      <td>0.817857</td>\n",
              "      <td>0.821429</td>\n",
              "      <td>0.822381</td>\n",
              "      <td>0.816190</td>\n",
              "      <td>...</td>\n",
              "      <td>0.818810</td>\n",
              "      <td>0.002617</td>\n",
              "      <td>3</td>\n",
              "      <td>0.821786</td>\n",
              "      <td>0.820774</td>\n",
              "      <td>0.821667</td>\n",
              "      <td>0.821964</td>\n",
              "      <td>0.822500</td>\n",
              "      <td>0.821738</td>\n",
              "      <td>0.000560</td>\n",
              "    </tr>\n",
              "    <tr>\n",
              "      <th>3</th>\n",
              "      <td>2.356835</td>\n",
              "      <td>0.153549</td>\n",
              "      <td>0.039762</td>\n",
              "      <td>0.001534</td>\n",
              "      <td>350</td>\n",
              "      <td>{'min_samples_split': 350}</td>\n",
              "      <td>0.817857</td>\n",
              "      <td>0.820714</td>\n",
              "      <td>0.821190</td>\n",
              "      <td>0.815714</td>\n",
              "      <td>...</td>\n",
              "      <td>0.818190</td>\n",
              "      <td>0.002407</td>\n",
              "      <td>5</td>\n",
              "      <td>0.820298</td>\n",
              "      <td>0.820655</td>\n",
              "      <td>0.820714</td>\n",
              "      <td>0.822500</td>\n",
              "      <td>0.821786</td>\n",
              "      <td>0.821190</td>\n",
              "      <td>0.000822</td>\n",
              "    </tr>\n",
              "    <tr>\n",
              "      <th>4</th>\n",
              "      <td>3.193759</td>\n",
              "      <td>0.826272</td>\n",
              "      <td>0.063249</td>\n",
              "      <td>0.028793</td>\n",
              "      <td>400</td>\n",
              "      <td>{'min_samples_split': 400}</td>\n",
              "      <td>0.816667</td>\n",
              "      <td>0.821429</td>\n",
              "      <td>0.820952</td>\n",
              "      <td>0.815714</td>\n",
              "      <td>...</td>\n",
              "      <td>0.818429</td>\n",
              "      <td>0.002321</td>\n",
              "      <td>4</td>\n",
              "      <td>0.819881</td>\n",
              "      <td>0.819643</td>\n",
              "      <td>0.820238</td>\n",
              "      <td>0.820774</td>\n",
              "      <td>0.821250</td>\n",
              "      <td>0.820357</td>\n",
              "      <td>0.000587</td>\n",
              "    </tr>\n",
              "  </tbody>\n",
              "</table>\n",
              "<p>5 rows × 21 columns</p>\n",
              "</div>"
            ],
            "text/plain": [
              "   mean_fit_time  std_fit_time  mean_score_time  std_score_time  \\\n",
              "0       3.175830      0.994579         0.066206        0.045010   \n",
              "1       2.660667      0.346059         0.052983        0.018043   \n",
              "2       2.293608      0.034966         0.039299        0.001468   \n",
              "3       2.356835      0.153549         0.039762        0.001534   \n",
              "4       3.193759      0.826272         0.063249        0.028793   \n",
              "\n",
              "  param_min_samples_split                      params  split0_test_score  \\\n",
              "0                     200  {'min_samples_split': 200}           0.819286   \n",
              "1                     250  {'min_samples_split': 250}           0.818571   \n",
              "2                     300  {'min_samples_split': 300}           0.817857   \n",
              "3                     350  {'min_samples_split': 350}           0.817857   \n",
              "4                     400  {'min_samples_split': 400}           0.816667   \n",
              "\n",
              "   split1_test_score  split2_test_score  split3_test_score  ...  \\\n",
              "0           0.821190           0.820952           0.818095  ...   \n",
              "1           0.821667           0.819524           0.816667  ...   \n",
              "2           0.821429           0.822381           0.816190  ...   \n",
              "3           0.820714           0.821190           0.815714  ...   \n",
              "4           0.821429           0.820952           0.815714  ...   \n",
              "\n",
              "   mean_test_score  std_test_score  rank_test_score  split0_train_score  \\\n",
              "0         0.819476        0.001392                1            0.823988   \n",
              "1         0.818857        0.001686                2            0.822202   \n",
              "2         0.818810        0.002617                3            0.821786   \n",
              "3         0.818190        0.002407                5            0.820298   \n",
              "4         0.818429        0.002321                4            0.819881   \n",
              "\n",
              "   split1_train_score  split2_train_score  split3_train_score  \\\n",
              "0            0.823571            0.823690            0.824048   \n",
              "1            0.822262            0.822500            0.822798   \n",
              "2            0.820774            0.821667            0.821964   \n",
              "3            0.820655            0.820714            0.822500   \n",
              "4            0.819643            0.820238            0.820774   \n",
              "\n",
              "   split4_train_score  mean_train_score  std_train_score  \n",
              "0            0.823988          0.823857         0.000190  \n",
              "1            0.822917          0.822536         0.000283  \n",
              "2            0.822500          0.821738         0.000560  \n",
              "3            0.821786          0.821190         0.000822  \n",
              "4            0.821250          0.820357         0.000587  \n",
              "\n",
              "[5 rows x 21 columns]"
            ]
          },
          "execution_count": 30,
          "metadata": {},
          "output_type": "execute_result"
        }
      ],
      "source": [
        "# Assuming you have a GridSearchCV object named grid_search\n",
        "scores = grid_search.cv_results_\n",
        "\n",
        "# Convert the scores dictionary to a DataFrame\n",
        "scores_df = pd.DataFrame(scores)\n",
        "\n",
        "# Display the first few rows of the DataFrame\n",
        "print(scores_df.head())"
      ]
    },
    {
      "cell_type": "code",
      "execution_count": 31,
      "metadata": {
        "colab": {
          "base_uri": "https://localhost:8080/",
          "height": 282
        },
        "id": "OrEeheVfYVUo",
        "outputId": "2afc2b9b-6f3e-451d-abd0-bf1f09506896"
      },
      "outputs": [
        {
          "data": {
            "image/png": "[encoded data removed]",
            "text/plain": [
              "<Figure size 432x288 with 1 Axes>"
            ]
          },
          "metadata": {
            "needs_background": "light"
          },
          "output_type": "display_data"
        }
      ],
      "source": [
        "import matplotlib.pyplot as plt\n",
        "\n",
        "# Assuming you have the scores dictionary from GridSearchCV stored in scores\n",
        "\n",
        "plt.figure(figsize=(10, 6))\n",
        "\n",
        "# Plotting mean training accuracy\n",
        "plt.plot(scores[\"param_min_samples_split\"], scores[\"mean_train_score\"], label=\"Training Accuracy\", marker='o')\n",
        "\n",
        "# Plotting mean test accuracy\n",
        "plt.plot(scores[\"param_min_samples_split\"], scores[\"mean_test_score\"], label=\"Test Accuracy\", marker='o')\n",
        "\n",
        "plt.xlabel(\"min_samples_split\")\n",
        "plt.ylabel(\"Accuracy\")\n",
        "plt.title(\"Accuracy vs. min_samples_split\")\n",
        "plt.legend()\n",
        "plt.grid(True)\n",
        "plt.show()\n"
      ]
    },
    {
      "cell_type": "markdown",
      "metadata": {
        "id": "IFaMyB1HYVUo"
      },
      "source": [
        "### Step 6.3 - Random Search to Find Optimal Hyperparameters"
      ]
    },
    {
      "cell_type": "markdown",
      "metadata": {},
      "source": [
        "We can now find the optimal hyperparameters using RandomizedSearchCV. \n",
        "\n",
        "with following  parameter values: \n",
        "\n",
        "`'max_depth': [4,8,10],\n",
        "'min_samples_leaf': range(100, 400, 200),\n",
        "'min_samples_split': range(200, 500, 200),\n",
        "'n_estimators': [100,200, 300], \n",
        "'max_features': [5, 10]`\n",
        "\n",
        "Note : here we are avoiding grid search because using it your system might crash, whereas RandomizedSearchCV is fater than grid search  ;)"
      ]
    },
    {
      "cell_type": "code",
      "execution_count": 32,
      "metadata": {
        "id": "2tqzVjJaYVUo"
      },
      "outputs": [],
      "source": [
        "from sklearn.model_selection import RandomizedSearchCV\n",
        "from sklearn.ensemble import RandomForestClassifier\n",
        "\n",
        "# Define the parameter grid based on the results of random search\n",
        "param_grid = {\n",
        "    'max_depth': [4, 8, 10],                            # Different values for maximum depth of trees\n",
        "    'min_samples_leaf': range(100, 400, 200),            # Range of values for minimum samples in leaf nodes\n",
        "    'min_samples_split': range(200, 500, 200),           # Range of values for minimum samples to split internal nodes\n",
        "    'n_estimators': [100, 200, 300],                    # Different numbers of trees in the forest\n",
        "    'max_features': [5, 10]                             # Different numbers of features to consider for best split\n",
        "}\n",
        "\n",
        "# Create a base model (RandomForestClassifier)\n",
        "rf = RandomForestClassifier(random_state=1)\n",
        "\n",
        "# Instantiate RandomizedSearchCV model with base model, parameter distributions, and random state\n",
        "rs = RandomizedSearchCV(\n",
        "    estimator=rf,                                      # Base model to be tuned\n",
        "    param_distributions=param_grid,                    # The parameter grid with different values to try\n",
        "    n_iter=10,                                          # Number of random combinations to try\n",
        "    cv=n_folds,                                         # Number of cross-validation folds\n",
        "    scoring='accuracy',                                # Scoring metric to optimize\n",
        "    random_state=1                                     # Random seed for reproducibility\n",
        ")\n",
        "\n",
        "# Fit the RandomizedSearchCV model on the training data\n",
        "rs.fit(X_train, y_train)\n"
      ]
    },
    {
      "cell_type": "code",
      "execution_count": 33,
      "metadata": {
        "colab": {
          "base_uri": "https://localhost:8080/"
        },
        "id": "-y2fKD33YVUp",
        "outputId": "6ff7eece-a22d-4d9c-9f9f-7abb49b3797e"
      },
      "outputs": [
        {
          "data": {
            "text/plain": [
              "RandomizedSearchCV(estimator=RandomForestClassifier(random_state=1),\n",
              "                   param_distributions={'max_depth': [4, 8, 10],\n",
              "                                        'max_features': [5, 10],\n",
              "                                        'min_samples_leaf': range(100, 400, 200),\n",
              "                                        'min_samples_split': range(200, 500, 200),\n",
              "                                        'n_estimators': [100, 200, 300]},\n",
              "                   random_state=1)"
            ]
          },
          "execution_count": 33,
          "metadata": {},
          "output_type": "execute_result"
        }
      ],
      "source": [
        "# Fit the RandomizedSearchCV model on the training data\n",
        "rs.fit(X_train, y_train)\n"
      ]
    },
    {
      "cell_type": "code",
      "execution_count": 34,
      "metadata": {
        "colab": {
          "base_uri": "https://localhost:8080/"
        },
        "id": "PrBFy-gNYVUp",
        "outputId": "feca5de4-3e8e-4e56-9d93-432a55909cf4"
      },
      "outputs": [
        {
          "name": "stdout",
          "output_type": "stream",
          "text": [
            "we can get accuracy of 0.8179047619047619 using {'n_estimators': 100, 'min_samples_split': 400, 'min_samples_leaf': 100, 'max_features': 10, 'max_depth': 8}\n"
          ]
        }
      ],
      "source": [
        "# Printing the best accuracy score and corresponding hyperparameters\n",
        "print(\"The best accuracy achieved is\", rs.best_score_, \"using the following hyperparameters:\", rs.best_params_)\n"
      ]
    },
    {
      "cell_type": "markdown",
      "metadata": {
        "id": "WYVjDSpuYVUq"
      },
      "source": [
        "**Fitting the final model with the best parameters obtained from grid search.**"
      ]
    },
    {
      "cell_type": "code",
      "execution_count": 35,
      "metadata": {
        "id": "MBz0zKg6YVUq"
      },
      "outputs": [],
      "source": [
        "# Instantiate RandomForestClassifier model with the best hyperparameters\n",
        "rfc = RandomForestClassifier(\n",
        "    max_depth=8,                   # Maximum depth of each tree in the forest\n",
        "    min_samples_leaf=100,          # Minimum number of samples required to be at a leaf node\n",
        "    min_samples_split=400,         # Minimum number of samples required to split an internal node\n",
        "    max_features=10,               # Maximum number of features to consider for the best split\n",
        "    n_estimators=100,             # Number of trees in the forest\n",
        "    random_state=1                # Random seed for reproducibility\n",
        ")\n"
      ]
    },
    {
      "cell_type": "code",
      "execution_count": 36,
      "metadata": {
        "colab": {
          "base_uri": "https://localhost:8080/"
        },
        "id": "EjwUatSrYVUr",
        "outputId": "63a75e86-720a-41e5-b0e3-b49756fe678e"
      },
      "outputs": [
        {
          "data": {
            "text/plain": [
              "RandomForestClassifier(max_depth=8, max_features=10, min_samples_leaf=100,\n",
              "                       min_samples_split=400, random_state=1)"
            ]
          },
          "execution_count": 36,
          "metadata": {},
          "output_type": "execute_result"
        }
      ],
      "source": [
        "# Fit the RandomForestClassifier model on the training data\n",
        "rfc.fit(X_train, y_train)\n"
      ]
    },
    {
      "cell_type": "code",
      "execution_count": 37,
      "metadata": {
        "id": "I8Sk9CDWYVUr"
      },
      "outputs": [],
      "source": [
        "# Make predictions using the trained RandomForestClassifier\n",
        "predictions = rfc.predict(X_test)\n"
      ]
    },
    {
      "cell_type": "code",
      "execution_count": 38,
      "metadata": {
        "colab": {
          "base_uri": "https://localhost:8080/"
        },
        "id": "Fz-zuapxYVUr",
        "outputId": "57dbe865-a69a-45a5-f6e5-3aa83138d63c"
      },
      "outputs": [
        {
          "name": "stdout",
          "output_type": "stream",
          "text": [
            "              precision    recall  f1-score   support\n",
            "\n",
            "           0       0.84      0.96      0.90      7058\n",
            "           1       0.69      0.36      0.47      1942\n",
            "\n",
            "    accuracy                           0.83      9000\n",
            "   macro avg       0.77      0.66      0.68      9000\n",
            "weighted avg       0.81      0.83      0.80      9000\n",
            "\n"
          ]
        }
      ],
      "source": [
        "from sklearn.metrics import classification_report\n",
        "\n",
        "# Evaluate the model's performance using classification report\n",
        "print(\"Classification Report:\")\n",
        "print(classification_report(y_test, predictions))\n"
      ]
    },
    {
      "cell_type": "code",
      "execution_count": 39,
      "metadata": {
        "colab": {
          "base_uri": "https://localhost:8080/"
        },
        "id": "75qOI_2IYVUs",
        "outputId": "375f4a92-f2df-4e66-e83d-59bdd37d7cee"
      },
      "outputs": [
        {
          "name": "stdout",
          "output_type": "stream",
          "text": [
            "[[6748  310]\n",
            " [1249  693]]\n",
            "0.8267777777777777\n"
          ]
        }
      ],
      "source": [
        "from sklearn.metrics import confusion_matrix, accuracy_score\n",
        "\n",
        "# Print the confusion matrix\n",
        "print(\"Confusion Matrix:\")\n",
        "print(confusion_matrix(y_test, predictions))\n",
        "\n",
        "# Print the accuracy\n",
        "print(\"Accuracy:\", accuracy_score(y_test, predictions))\n"
      ]
    },
    {
      "cell_type": "markdown",
      "metadata": {
        "id": "Fr1HhgZqYVUs"
      },
      "source": [
        "Oh yeah ! after hyper parameter tuning Random forest accuracy is improved."
      ]
    },
    {
      "cell_type": "markdown",
      "metadata": {
        "id": "T0CRq78aYVUt"
      },
      "source": [
        "## Step 7 - Extra Trees ALgorithm"
      ]
    },
    {
      "cell_type": "markdown",
      "metadata": {},
      "source": [
        "Reference doc: https://scikit-learn.org/stable/modules/generated/sklearn.ensemble.ExtraTreesClassifier.html\n",
        " \n",
        "Extra Trees and Random Forest are two very similar ensemble methods\n",
        "The two ensembles have a lot in common. Both of them are composed of a large number of decision trees. The main difference between descision tree , random Forest and Extra trees are shown below:\n",
        "\n",
        "Unlike bagging and random forest that develop each decision tree from a bootstrap sample of the training dataset, the Extra Trees algorithm fits each decision tree on the whole training dataset.\n",
        "\n",
        "Like random forest, the Extra Trees algorithm will randomly sample the features at each split point of a decision tree. Unlike random forest, which uses a greedy algorithm to select an optimal split point, the Extra Trees algorithm selects a split point at random."
      ]
    },
    {
      "cell_type": "markdown",
      "metadata": {
        "id": "iyfPIpJdqSgK"
      },
      "source": [
        "![3.JPG](data:image/jpeg;base64,/9j/4AAQSkZJRgABAQEAeAB4AAD/4REiRXhpZgAATU0AKgAAAAgABAE7AAIAAAAdAAAISodpAAQAAAABAAAIaJydAAEAAAA6AAAQ4OocAAcAAAgMAAAAPgAAAAAc6gAAAAgAAAAAAAAAAAAAAAAAAAAAAAAAAAAAAAAAAAAAAAAAAAAAAAAAAAAAAAAAAAAAAAAAAAAAAAAAAAAAAAAAAAAAAAAAAAAAAAAAAAAAAAAAAAAAAAAAAAAAAAAAAAAAAAAAAAAAAAAAAAAAAAAAAAAAAAAAAAAAAAAAAAAAAAAAAAAAAAAAAAAAAAAAAAAAAAAAAAAAAAAAAAAAAAAAAAAAAAAAAAAAAAAAAAAAAAAAAAAAAAAAAAAAAAAAAAAAAAAAAAAAAAAAAAAAAAAAAAAAAAAAAAAAAAAAAAAAAAAAAAAAAAAAAAAAAAAAAAAAAAAAAAAAAAAAAAAAAAAAAAAAAAAAAAAAAAAAAAAAAAAAAAAAAAAAAAAAAAAAAAAAAAAAAAAAAAAAAAAAAAAAAAAAAAAAAAAAAAAAAAAAAAAAAAAAAAAAAAAAAAAAAAAAAAAAAAAAAAAAAAAAAAAAAAAAAAAAAAAAAAAAAAAAAAAAAAAAAAAAAAAAAAAAAAAAAAAAAAAAAAAAAAAAAAAAAAAAAAAAAAAAAAAAAAAAAAAAAAAAAAAAAAAAAAAAAAAAAAAAAAAAAAAAAAAAAAAAAAAAAAAAAAAAAAAAAAAAAAAAAAAAAAAAAAAAAAAAAAAAAAAAAAAAAAAAAAAAAAAAAAAAAAAAAAAAAAAAAAAAAAAAAAAAAAAAAAAAAAAAAAAAAAAAAAAAAAAAAAAAAAAAAAAAAAAAAAAAAAAAAAAAAAAAAAAAAAAAAAAAAAAAAAAAAAAAAAAAAAAAAAAAAAAAAAAAAAAAAAAAAAAAAAAAAAAAAAAAAAAAAAAAAAAAAAAAAAAAAAAAAAAAAAAAAAAAAAAAAAAAAAAAAAAAAAAAAAAAAAAAAAAAAAAAAAAAAAAAAAAAAAAAAAAAAAAAAAAAAAAAAAAAAAAAAAAAAAAAAAAAAAAAAAAAAAAAAAAAAAAAAAAAAAAAAAAAAAAAAAAAAAAAAAAAAAAAAAAAAAAAAAAAAAAAAAAAAAAAAAAAAAAAAAAAAAAAAAAAAAAAAAAAAAAAAAAAAAAAAAAAAAAAAAAAAAAAAAAAAAAAAAAAAAAAAAAAAAAAAAAAAAAAAAAAAAAAAAAAAAAAAAAAAAAAAAAAAAAAAAAAAAAAAAAAAAAAAAAAAAAAAAAAAAAAAAAAAAAAAAAAAAAAAAAAAAAAAAAAAAAAAAAAAAAAAAAAAAAAAAAAAAAAAAAAAAAAAAAAAAAAAAAAAAAAAAAAAAAAAAAAAAAAAAAAAAAAAAAAAAAAAAAAAAAAAAAAAAAAAAAAAAAAAAAAAAAAAAAAAAAAAAAAAAAAAAAAAAAAAAAAAAAAAAAAAAAAAAAAAAAAAAAAAAAAAAAAAAAAAAAAAAAAAAAAAAAAAAAAAAAAAAAAAAAAAAAAAAAAAAAAAAAAAAAAAAAAAAAAAAAAAAAAAAAAAAAAAAAAAAAAAAAAAAAAAAAAAAAAAAAAAAAAAAAAAAAAAAAAAAAAAAAAAAAAAAAAAAAAAAAAAAAAAAAAAAAAAAAAAAAAAAAAAAAAAAAAAAAAAAAAAAAAAAAAAAAAAAAAAAAAAAAAAAAAAAAAAAAAAAAAAAAAAAAAAAAAAAAAAAAAAAAAAAAAAAAAAAAAAAAAAAAAAAAAAAAAAAAAAAAAAAAAAAAAAAAAAAAAAAAAAAAAAAAAAAAAAAAAAAAAAAAAAAAAAAAAAAAAAAAAAAAAAAAAAAAAAAAAAAAAAAAAAAAAAAAAAAAAAAAAAAAAAAAAAAAAAAAAAAAAAAAAAAAAAAAAAAAAAAAAAAAAAAAAAAAAAAAAAAAAAAAAAAAAAAAAAAAAAAAAAAAAAAAAAAAAAAAAAAAAAAAAAAAAAAAAAAAAAAAAAAAAAAAAAAAAAAAAAAAAAAAAAAAAAAAAAAAAAAAAAAAAAAAAAAAAAAAAAAAAAAAAAAAAAAAAAAAAAAAAAAAAAAAAAAAAAAAAAAAAAAAAAAAAAAAAAAAAAAAAAAAAAAAAAAAAAAAAAAAAAAAAAAAAAAAAAAAAAAAAAAAAAAAAAAAAAAAAAAAAAAAAAAAAAAAAAAAAAAAAAAAAAAAAAAAAAAAAAAAAAAAAAAAAAAAAAAAAAAAAAAAAAAAAAAAAAAAAAAAAAAAAAAAAAAAAAAAAAAAAAAAAAAAAAAAAAAAAAAAAAAAAAAAAAAAAAAAAAAAAAAAAAAAAAAAAAAAAAAAAAAAAAAAAAAAAAAAAAAAAAAAAAAAAAAAAAAAAAAAAAAAAAAAAAAAAAAAAAAAAAAAAAAAAAAAAAAAAAAAAAAAAAAAAAAAAAAAAAAAAAAAAAAAAAAAAAAAAAAAAAAAAAAAAAAAAAAAAAAAAAAAAAAAAAAAAAAAAAAAAAAAAAAAAAAAAAAAAAAAAAAAAAAAAAAAAAAAAAAAAAAAAAAAAAAAAAAAAAAAAAAAAAAAAAAAAAAAAAAAAAAAAAAAAAAAAAAAAAAAAAAAAAAAAAAAAAAAAAAAAAAAAAAAAAAAAAAAAAAAAAAAAAAAAAAAAAAAAAAAAAAAAAAAAAAAAAAAAAAAAAAAAAAAAAAAAAAAAAAAAAAAAAAAAAAAAAAAAAAAAAAAAAAAAAAAAAAAAAAAAAAAAAAAAAAAAAAAAAAAAAAAAAAAAAAAAAAAAAAAAAAAAAAAAAAAAAAAAAAAAAAAAAAAAAAAAAAAAAAAAAAAAAAAAAAAAAAAAAAAAAAAAAAAAAAAAAAAAAAAAAEFudWdhbnRpIFN1cmVzaCAoQ29uc3VsdGFudCkAAAAFkAMAAgAAABQAABC2kAQAAgAAABQAABDKkpEAAgAAAAMwNQAAkpIAAgAAAAMwNQAA6hwABwAACAwAAAiqAAAAABzqAAAACAAAAAAAAAAAAAAAAAAAAAAAAAAAAAAAAAAAAAAAAAAAAAAAAAAAAAAAAAAAAAAAAAAAAAAAAAAAAAAAAAAAAAAAAAAAAAAAAAAAAAAAAAAAAAAAAAAAAAAAAAAAAAAAAAAAAAAAAAAAAAAAAAAAAAAAAAAAAAAAAAAAAAAAAAAAAAAAAAAAAAAAAAAAAAAAAAAAAAAAAAAAAAAAAAAAAAAAAAAAAAAAAAAAAAAAAAAAAAAAAAAAAAAAAAAAAAAAAAAAAAAAAAAAAAAAAAAAAAAAAAAAAAAAAAAAAAAAAAAAAAAAAAAAAAAAAAAAAAAAAAAAAAAAAAAAAAAAAAAAAAAAAAAAAAAAAAAAAAAAAAAAAAAAAAAAAAAAAAAAAAAAAAAAAAAAAAAAAAAAAAAAAAAAAAAAAAAAAAAAAAAAAAAAAAAAAAAAAAAAAAAAAAAAAAAAAAAAAAAAAAAAAAAAAAAAAAAAAAAAAAAAAAAAAAAAAAAAAAAAAAAAAAAAAAAAAAAAAAAAAAAAAAAAAAAAAAAAAAAAAAAAAAAAAAAAAAAAAAAAAAAAAAAAAAAAAAAAAAAAAAAAAAAAAAAAAAAAAAAAAAAAAAAAAAAAAAAAAAAAAAAAAAAAAAAAAAAAAAAAAAAAAAAAAAAAAAAAAAAAAAAAAAAAAAAAAAAAAAAAAAAAAAAAAAAAAAAAAAAAAAAAAAAAAAAAAAAAAAAAAAAAAAAAAAAAAAAAAAAAAAAAAAAAAAAAAAAAAAAAAAAAAAAAAAAAAAAAAAAAAAAAAAAAAAAAAAAAAAAAAAAAAAAAAAAAAAAAAAAAAAAAAAAAAAAAAAAAAAAAAAAAAAAAAAAAAAAAAAAAAAAAAAAAAAAAAAAAAAAAAAAAAAAAAAAAAAAAAAAAAAAAAAAAAAAAAAAAAAAAAAAAAAAAAAAAAAAAAAAAAAAAAAAAAAAAAAAAAAAAAAAAAAAAAAAAAAAAAAAAAAAAAAAAAAAAAAAAAAAAAAAAAAAAAAAAAAAAAAAAAAAAAAAAAAAAAAAAAAAAAAAAAAAAAAAAAAAAAAAAAAAAAAAAAAAAAAAAAAAAAAAAAAAAAAAAAAAAAAAAAAAAAAAAAAAAAAAAAAAAAAAAAAAAAAAAAAAAAAAAAAAAAAAAAAAAAAAAAAAAAAAAAAAAAAAAAAAAAAAAAAAAAAAAAAAAAAAAAAAAAAAAAAAAAAAAAAAAAAAAAAAAAAAAAAAAAAAAAAAAAAAAAAAAAAAAAAAAAAAAAAAAAAAAAAAAAAAAAAAAAAAAAAAAAAAAAAAAAAAAAAAAAAAAAAAAAAAAAAAAAAAAAAAAAAAAAAAAAAAAAAAAAAAAAAAAAAAAAAAAAAAAAAAAAAAAAAAAAAAAAAAAAAAAAAAAAAAAAAAAAAAAAAAAAAAAAAAAAAAAAAAAAAAAAAAAAAAAAAAAAAAAAAAAAAAAAAAAAAAAAAAAAAAAAAAAAAAAAAAAAAAAAAAAAAAAAAAAAAAAAAAAAAAAAAAAAAAAAAAAAAAAAAAAAAAAAAAAAAAAAAAAAAAAAAAAAAAAAAAAAAAAAAAAAAAAAAAAAAAAAAAAAAAAAAAAAAAAAAAAAAAAAAAAAAAAAAAAAAAAAAAAAAAAAAAAAAAAAAAAAAAAAAAAAAAAAAAAAAAAAAAAAAAAAAAAAAAAAAAAAAAAAAAAAAAAAAAAAAAAAAAAAAAAAAAAAAAAAAAAAAAAAAAAAAAAAAAAAAAAAAAAAAAAAAAAAAAAAAAAAAAAAAAAAAAAAAAAAAAAAAAAAAAAAAAAAAAAAAAAAAAAAAAAAAAAAAAAAAAAAAAAAAAAAAAAAAAAAAAAAAAAAAAAAAAAAAAAAAAAAAAAAAAAAAAAAAAAAAAAAAAAAAAAAAAAAAAAAAAAAAAAAAAAAAAAAAAAAAAAAAAAAAAAAAAAAAAAAAAAAAAAAAAAAAAAAAAAAAAAAAAAAAAAAAAAAAAAAAAAAAAAAAAAAAAAAAAAAAAAAAAAAAAAAAAAAAAAAAAAAAAAAAAAAAAAAAAAAAAAAAAAAAAAAAAAAAAAAAAAAAAAAAAAAAAAAAAAAAAAAAAAAAAAAAAAAAAAAAAAAAAAAAAAAAAAAAAAAAAAAAAAAAAAAAAAAAAAAAAAAAAAAAAAAAAAAAAAAAAAAAAAAAAAAAAAAAAAAAAAAAAAAAAAAAAAAAAAAAAAAAAAAAAAAAAAAAAAAAAAAAAAAAAAAAAAAAAAAAAAAAAAAAAAAAAAAAAAAAAAAAAAAAAAAAAAAAAAAAAAAAAAAAAAAAAAAAAAAAAAAAAAAAAAAAAAAAAAAAAAAAAAAAAAAAAAAAAAAAAAAAAAAAAAAAAAAAAAAAAAAAAAAAAAAAAAAAAAAAAAAAAAAAAAAAAAAAAAAAAAAAAAAAAAAAAAAAAAAAAAAAAAAAAAAAAAAAAAAAAAAAAAAAAAAAAAAAAAAAAAAAAAAAAAAAAAAAAAAAAAAAAAAAAAAAAAAAAAAAAAAAAAAAAAAAAAAAAAAAAAAAAAAAAAAAAAAAAAAAAAAAAAAAAAAAAAAAAAAAAAAAAAAAAAAAAAAAAAAAAAAAAAAAAAAAAAAAAAAAAAAAAAAAAAAAAAAAAAAAAAAAAAAAAAAAAAAAAAAAAAAAAAAAAAAAAAAAAAAAAAAAAAAAAAAAAAAAAAAAAAAAAAAAAAAAAAAAAAAAAAAAAAAAAAAAAAAAAAAAAAAAAAAAAAAAAAAAAAAAAAMjAyMjowMToxMiAxNzowMDoxNQAyMDIyOjAxOjEyIDE3OjAwOjE1AAAAQQBuAHUAZwBhAG4AdABpACAAUwB1AHIAZQBzAGgAIAAoAEMAbwBuAHMAdQBsAHQAYQBuAHQAKQAAAP/hCy9odHRwOi8vbnMuYWRvYmUuY29tL3hhcC8xLjAvADw/eHBhY2tldCBiZWdpbj0n77u/JyBpZD0nVzVNME1wQ2VoaUh6cmVTek5UY3prYzlkJz8+DQo8eDp4bXBtZXRhIHhtbG5zOng9ImFkb2JlOm5zOm1ldGEvIj48cmRmOlJERiB4bWxuczpyZGY9Imh0dHA6Ly93d3cudzMub3JnLzE5OTkvMDIvMjItcmRmLXN5bnRheC1ucyMiPjxyZGY6RGVzY3JpcHRpb24gcmRmOmFib3V0PSJ1dWlkOmZhZjViZGQ1LWJhM2QtMTFkYS1hZDMxLWQzM2Q3NTE4MmYxYiIgeG1sbnM6ZGM9Imh0dHA6Ly9wdXJsLm9yZy9kYy9lbGVtZW50cy8xLjEvIi8+PHJkZjpEZXNjcmlwdGlvbiByZGY6YWJvdXQ9InV1aWQ6ZmFmNWJkZDUtYmEzZC0xMWRhLWFkMzEtZDMzZDc1MTgyZjFiIiB4bWxuczp4bXA9Imh0dHA6Ly9ucy5hZG9iZS5jb20veGFwLzEuMC8iPjx4bXA6Q3JlYXRlRGF0ZT4yMDIyLTAxLTEyVDE3OjAwOjE1LjA1MTwveG1wOkNyZWF0ZURhdGU+PC9yZGY6RGVzY3JpcHRpb24+PHJkZjpEZXNjcmlwdGlvbiByZGY6YWJvdXQ9InV1aWQ6ZmFmNWJkZDUtYmEzZC0xMWRhLWFkMzEtZDMzZDc1MTgyZjFiIiB4bWxuczpkYz0iaHR0cDovL3B1cmwub3JnL2RjL2VsZW1lbnRzLzEuMS8iPjxkYzpjcmVhdG9yPjxyZGY6U2VxIHhtbG5zOnJkZj0iaHR0cDovL3d3dy53My5vcmcvMTk5OS8wMi8yMi1yZGYtc3ludGF4LW5zIyI+PHJkZjpsaT5BbnVnYW50aSBTdXJlc2ggKENvbnN1bHRhbnQpPC9yZGY6bGk+PC9yZGY6U2VxPg0KCQkJPC9kYzpjcmVhdG9yPjwvcmRmOkRlc2NyaXB0aW9uPjwvcmRmOlJERj48L3g6eG1wbWV0YT4NCiAgICAgICAgICAgICAgICAgICAgICAgICAgICAgICAgICAgICAgICAgICAgICAgICAgICAgICAgICAgICAgICAgICAgICAgICAgICAgICAgICAgICAgICAgICAgICAgICAgICAKICAgICAgICAgICAgICAgICAgICAgICAgICAgICAgICAgICAgICAgICAgICAgICAgICAgICAgICAgICAgICAgICAgICAgICAgICAgICAgICAgICAgICAgICAgICAgICAgICAgIAogICAgICAgICAgICAgICAgICAgICAgICAgICAgICAgICAgICAgICAgICAgICAgICAgICAgICAgICAgICAgICAgICAgICAgICAgICAgICAgICAgICAgICAgICAgICAgICAgICAgCiAgICAgICAgICAgICAgICAgICAgICAgICAgICAgICAgICAgICAgICAgICAgICAgICAgICAgICAgICAgICAgICAgICAgICAgICAgICAgICAgICAgICAgICAgICAgICAgICAgICAKICAgICAgICAgICAgICAgICAgICAgICAgICAgICAgICAgICAgICAgICAgICAgICAgICAgICAgICAgICAgICAgICAgICAgICAgICAgICAgICAgICAgICAgICAgICAgICAgICAgIAogICAgICAgICAgICAgICAgICAgICAgICAgICAgICAgICAgICAgICAgICAgICAgICAgICAgICAgICAgICAgICAgICAgICAgICAgICAgICAgICAgICAgICAgICAgICAgICAgICAgCiAgICAgICAgICAgICAgICAgICAgICAgICAgICAgICAgICAgICAgICAgICAgICAgICAgICAgICAgICAgICAgICAgICAgICAgICAgICAgICAgICAgICAgICAgICAgICAgICAgICAKICAgICAgICAgICAgICAgICAgICAgICAgICAgICAgICAgICAgICAgICAgICAgICAgICAgICAgICAgICAgICAgICAgICAgICAgICAgICAgICAgICAgICAgICAgICAgICAgICAgIAogICAgICAgICAgICAgICAgICAgICAgICAgICAgICAgICAgICAgICAgICAgICAgICAgICAgICAgICAgICAgICAgICAgICAgICAgICAgICAgICAgICAgICAgICAgICAgICAgICAgCiAgICAgICAgICAgICAgICAgICAgICAgICAgICAgICAgICAgICAgICAgICAgICAgICAgICAgICAgICAgICAgICAgICAgICAgICAgICAgICAgICAgICAgICAgICAgICAgICAgICAKICAgICAgICAgICAgICAgICAgICAgICAgICAgICAgICAgICAgICAgICAgICAgICAgICAgICAgICAgICAgICAgICAgICAgICAgICAgICAgICAgICAgICAgICAgICAgICAgICAgIAogICAgICAgICAgICAgICAgICAgICAgICAgICAgICAgICAgICAgICAgICAgICAgICAgICAgICAgICAgICAgICAgICAgICAgICAgICAgICAgICAgICAgICAgICAgICAgICAgICAgCiAgICAgICAgICAgICAgICAgICAgICAgICAgICAgICAgICAgICAgICAgICAgICAgICAgICAgICAgICAgICAgICAgICAgICAgICAgICAgICAgICAgICAgICAgICAgICAgICAgICAKICAgICAgICAgICAgICAgICAgICAgICAgICAgICAgICAgICAgICAgICAgICAgICAgICAgICAgICAgICAgICAgICAgICAgICAgICAgICAgICAgICAgICAgICAgICAgICAgICAgIAogICAgICAgICAgICAgICAgICAgICAgICAgICAgICAgICAgICAgICAgICAgICAgICAgICAgICAgICAgICAgICAgICAgICAgICAgICAgICAgICAgICAgICAgICAgICAgICAgICAgCiAgICAgICAgICAgICAgICAgICAgICAgICAgICAgICAgICAgICAgICAgICAgICAgICAgICAgICAgICAgICAgICAgICAgICAgICAgICAgICAgICAgICAgICAgICAgICAgICAgICAKICAgICAgICAgICAgICAgICAgICAgICAgICAgICAgICAgICAgICAgICAgICAgICAgICAgICAgICAgICAgICAgICAgICAgICAgICAgICAgICAgICAgICAgICAgICAgICAgICAgIAogICAgICAgICAgICAgICAgICAgICAgICAgICAgICAgICAgICAgICAgICAgICAgICAgICAgICAgICAgICAgICAgICAgICAgICAgICAgICAgICAgICAgICAgICAgICAgICAgICAgCiAgICAgICAgICAgICAgICAgICAgICAgICAgICAgICAgICAgICAgICAgICAgICAgICAgICAgICAgICAgICAgICAgICAgICAgICAgICAgICAgICAgICAgICAgICAgICAgICAgICAKICAgICAgICAgICAgICAgICAgICAgICAgICAgICAgICAgICAgICAgICAgICAgICAgICAgICAgICAgICAgICAgICAgICAgICAgICAgICAgICAgICAgICAgICAgICAgICAgICAgIAogICAgICAgICAgICAgICAgICAgICAgICAgICAgPD94cGFja2V0IGVuZD0ndyc/Pv/bAEMABwUFBgUEBwYFBggHBwgKEQsKCQkKFQ8QDBEYFRoZGBUYFxseJyEbHSUdFxgiLiIlKCkrLCsaIC8zLyoyJyorKv/bAEMBBwgICgkKFAsLFCocGBwqKioqKioqKioqKioqKioqKioqKioqKioqKioqKioqKioqKioqKioqKioqKioqKioqKv/AABEIAOIDzgMBIgACEQEDEQH/xAAfAAABBQEBAQEBAQAAAAAAAAAAAQIDBAUGBwgJCgv/xAC1EAACAQMDAgQDBQUEBAAAAX0BAgMABBEFEiExQQYTUWEHInEUMoGRoQgjQrHBFVLR8CQzYnKCCQoWFxgZGiUmJygpKjQ1Njc4OTpDREVGR0hJSlNUVVZXWFlaY2RlZmdoaWpzdHV2d3h5eoOEhYaHiImKkpOUlZaXmJmaoqOkpaanqKmqsrO0tba3uLm6wsPExcbHyMnK0tPU1dbX2Nna4eLj5OXm5+jp6vHy8/T19vf4+fr/xAAfAQADAQEBAQEBAQEBAAAAAAAAAQIDBAUGBwgJCgv/xAC1EQACAQIEBAMEBwUEBAABAncAAQIDEQQFITEGEkFRB2FxEyIygQgUQpGhscEJIzNS8BVictEKFiQ04SXxFxgZGiYnKCkqNTY3ODk6Q0RFRkdISUpTVFVWV1hZWmNkZWZnaGlqc3R1dnd4eXqCg4SFhoeIiYqSk5SVlpeYmZqio6Slpqeoqaqys7S1tre4ubrCw8TFxsfIycrS09TV1tfY2dri4+Tl5ufo6ery8/T19vf4+fr/2gAMAwEAAhEDEQA/APpGiiuN17xT4hg8bDw74Z0ewvnXTlvpJby9aAAGRk2jbG2fu5/GgDsqK4v+0/iT/wBCz4f/APBzL/8AGKP7T+JP/Qs+H/8Awcy//GKAO0ori/7T+JP/AELPh/8A8HMv/wAYo/tP4k/9Cz4f/wDBzL/8YoA7SiuL/tP4k/8AQs+H/wDwcy//ABij+0/iT/0LPh//AMHMv/xigDtKK4v+0/iT/wBCz4f/APBzL/8AGKP7T+JP/Qs+H/8Awcy//GKAO0ori/7T+JP/AELPh/8A8HMv/wAYo/tP4k/9Cz4f/wDBzL/8YoA7SiuL/tP4k/8AQs+H/wDwcy//ABij+0/iT/0LPh//AMHMv/xigDtKK4v+0/iT/wBCz4f/APBzL/8AGKP7T+JP/Qs+H/8Awcy//GKAO0ori/7T+JP/AELPh/8A8HMv/wAYo/tP4k/9Cz4f/wDBzL/8YoA7SiuL/tP4k/8AQs+H/wDwcy//ABij+0/iT/0LPh//AMHMv/xigDtKK4v+0/iT/wBCz4f/APBzL/8AGKP7T+JP/Qs+H/8Awcy//GKAO0ori/7T+JP/AELPh/8A8HMv/wAYo/tP4k/9Cz4f/wDBzL/8YoA7SiuL/tP4k/8AQs+H/wDwcy//ABij+0/iT/0LPh//AMHMv/xigDtKK4v+0/iT/wBCz4f/APBzL/8AGKP7T+JP/Qs+H/8Awcy//GKAO0ori/7T+JP/AELPh/8A8HMv/wAYo/tP4k/9Cz4f/wDBzL/8YoA7SiuL/tP4k/8AQs+H/wDwcy//ABij+0/iT/0LPh//AMHMv/xigDtKK4v+0/iT/wBCz4f/APBzL/8AGKP7T+JP/Qs+H/8Awcy//GKAO0ori/7T+JP/AELPh/8A8HMv/wAYo/tP4k/9Cz4f/wDBzL/8YoA7SiuL/tP4k/8AQs+H/wDwcy//ABij+0/iT/0LPh//AMHMv/xigDtKK8+1nxR8QdD0K/1a98MaEbewtpLmUR6xIWKIpY4HkcnArJg+JnjS4t45o/C2j7ZEDrnVZM4Iz/zxrKpWp0vjdiZSjHdnq9FeV/8ACxvG3/QraP8A+DaT/wCM0f8ACxvG3/QraP8A+DaT/wCM1j9cw/8AOifaw7nqlFeV/wDCxvG3/QraP/4NpP8A4zR/wsbxt/0K2j/+DaT/AOM0fXMP/Og9rDueqUV5X/wsbxt/0K2j/wDg2k/+M0f8LG8bf9Cto/8A4NpP/jNH1zD/AM6D2sO56pRXlf8Awsbxt/0K2j/+DaT/AOM0f8LG8bf9Cto//g2k/wDjNH1zD/zoPaw7nqlFeV/8LG8bf9Cto/8A4NpP/jNH/CxvG3/QraP/AODaT/4zR9cw/wDOg9rDueqUV5X/AMLG8bf9Cto//g2k/wDjNH/CxvG3/QraP/4NpP8A4zR9cw/86D2sO56pRXlf/CxvG3/QraP/AODaT/4zR/wsbxt/0K2j/wDg2k/+M0fXMP8AzoPaw7nqlFeV/wDCxvG3/QraP/4NpP8A4zVPVviz4v0XSLnUbvwrpJgtozI4j1Vy2B6DyaaxeHbspoPaQfU9gorysfEfxqQD/wAIto//AINpP/jNH/CxvG3/AEK2j/8Ag2k/+M0vrmH/AJ0HtYdz1SivK/8AhY3jb/oVtH/8G0n/AMZo/wCFjeNv+hW0f/wbSf8Axmj65h/50HtYdz1SivK/+FjeNv8AoVtH/wDBtJ/8Zo/4WN42/wChW0f/AMG0n/xmj65h/wCdB7WHc9Uoryv/AIWN42/6FbR//BtJ/wDGaP8AhY3jb/oVtH/8G0n/AMZo+uYf+dB7WHc9Uoryv/hY3jb/AKFbR/8AwbSf/GaP+FjeNv8AoVtH/wDBtJ/8Zo+uYf8AnQe1h3PVKK8r/wCFjeNv+hW0f/wbSf8Axmj/AIWN42/6FbR//BtJ/wDGaPrmH/nQe1h3PVKK8r/4WN42/wChW0f/AMG0n/xmj/hY3jb/AKFbR/8AwbSf/GaPrmH/AJ0HtYdz1SivK/8AhY3jb/oVtH/8G0n/AMZo/wCFjeNv+hW0f/wbSf8Axmj65h/50HtYdz1SivK/+FjeNv8AoVtH/wDBtJ/8Zo/4WN42/wChW0f/AMG0n/xmj65h/wCdB7WHc9Uoryv/AIWN42/6FbR//BtJ/wDGaP8AhY3jb/oVtH/8G0n/AMZo+uYf+dB7WHc9Uoryv/hY3jb/AKFbR/8AwbSf/GaP+FjeNv8AoVtH/wDBtJ/8Zo+uYf8AnQe1h3PVKK8r/wCFjeNv+hW0f/wbSf8Axmj/AIWN42/6FbR//BtJ/wDGaPrmH/nQe1h3PVKK8r/4WN42/wChW0f/AMG0n/xmj/hY3jb/AKFbR/8AwbSf/GaPrmH/AJ0HtYdz1SivK/8AhY3jb/oVtH/8G0n/AMZo/wCFjeNv+hW0f/wbSf8Axmj65h/50HtYdz1SivK/+FjeNv8AoVtH/wDBtJ/8Zo/4WN42/wChW0f/AMG0n/xmj65h/wCdB7WHc9Uoryv/AIWN42/6FbR//BtJ/wDGap6t8WvF2jaZLf3fhXSjDGVDCPVXJ+Zgo/5Y+pFNYug3ZTQe0g+p7BRXlf8Awsbxt/0K2j/+DaT/AOM0f8LG8bf9Cto//g2k/wDjNL65h/50HtYdz1SivK/+FjeNv+hW0f8A8G0n/wAZo/4WN42/6FbR/wDwbSf/ABmj65h/50HtYdz1SivK/wDhY3jb/oVtH/8ABtJ/8Zo/4WN42/6FbR//AAbSf/GaPrmH/nQe1h3PVKK8r/4WN42/6FbR/wDwbSf/ABmj/hY3jb/oVtH/APBtJ/8AGaPrmH/nQe1h3PVKK8r/AOFjeNv+hW0f/wAG0n/xmj/hY3jb/oVtH/8ABtJ/8Zo+uYf+dB7WHc9Uoryv/hY3jb/oVtH/APBtJ/8AGaP+FjeNv+hW0f8A8G0n/wAZo+uYf+dB7WHc9Uoryv8A4WN42/6FbR//AAbSf/GaP+FjeNv+hW0f/wAG0n/xmj65h/50HtYdz1SivK/+FjeNv+hW0f8A8G0n/wAZo/4WN42/6FbR/wDwbSf/ABmj65h/50HtYdz1SivK/wDhY3jb/oVtH/8ABtJ/8Zo/4WN42/6FbR//AAbSf/GaPrmH/nQe1h3PVKK8r/4WN42/6FbR/wDwbSf/ABmj/hY3jb/oVtH/APBtJ/8AGaPrmH/nQe1h3PVKK8r/AOFjeNv+hW0f/wAG0n/xmj/hY3jb/oVtH/8ABtJ/8Zo+uYf+dB7WHc9Uoryv/hY3jb/oVtH/APBtJ/8AGaP+FjeNv+hW0f8A8G0n/wAZo+uYf+dB7WHc9Uoryv8A4WN42/6FbR//AAbSf/GaP+FjeNv+hW0f/wAG0n/xmj65h/50HtYdz1SivK/+FjeNv+hW0f8A8G0n/wAZo/4WN42/6FbR/wDwbSf/ABmj65h/50HtYdz1SivK/wDhY3jb/oVtH/8ABtJ/8Zo/4WN42/6FbR//AAbSf/GaPrmH/nQe1h3PVKK8r/4WN42/6FbR/wDwbSf/ABmo5Pin4psriy/tPwzpkdtcXkFq7w6k7snmSKmQDEM43Z61UcXQk1FSVwVSDdkz1iiiiuk0CuLj/wCS7z/9i3F/6UyV2lcXH/yXef8A7FuL/wBKZKAO0ooooAKKKKACiiigAooooAKKKKACiiigAooooAKKKKACiiigAooooAKKKKACiiigAooooAKKKKACiiigAooooAKKKKACiiigDmviP/ySvxX/ANga8/8ARL155p8ixaFbSOcKlsjE+wUV6H8R/wDklfiv/sDXn/ol682j/wCRVT/ryH/oFeFnG0Pn+hy4jXlRlp8QNCkAYG9WHdt897KVYh7lyu0D3zXSRyJNGskTq6MMhlOQa5fwhHbS+A4kvlRoCrbxIMjFcja6lqC+D9A07ybu4hvJHDpbMFleNfmADEjHQ85BrzHh4zk4w0s7a/P/ACObkT1X9f1Y9ZorgdG/tDTNVuWsNJ1Sx0w2rM66jMJf3oKgbTvc9N3GcVY8J6JHe6Pp2vT39y2o3GyeWX7Q+xs4JTyydgB9hWcqCim3LTT8b+fkS42W51tnfRXvm+Sky+U+xvNiZMn2yOR7ipppVgheVwxVBkhVLH8AOtcJpyapqXhnW4dPuGNz9swpdznaNpZQe2RkfjTtNk0+20XV4LS11DTtQjtw00N5cvIw4OCpLsAPoRRKikm77W/T/MpU7yt52/Gx21rcpeWqTxLIqOMgSIUYfUHkVNXnwubm/wBN8MaTLcTRwagrm4kV8M4UFgN3UZxjg96vW9oPD3jD+ztOnnNndWTyvBLM0pRwygMGckgYJ4z36USoJNq/e3y/4YhRur+Vzs6r317Hp9lJdTrK8ceMiGJpGOTjhVBJ615vDpbHwM2vTX95Jf26+bC/2hwqhRuClQdrD6g16TZyNLYwSPyzRqT9cVNSkqet762HKKjKxzyfELRZJ3gjj1JpY8b4xps5Zc9MjbxXTqdygjv6iuT0T/koviD/AHIP/QTWfo+mjVfFuuz391dSx2d7m3gWd0VGCqc/KRkdODke3NaSpU+mlkn33t6dypQV3bpb8bHe0V5XFJPrv228vNG128uDO6QzWVwI4kCMVGF81c/dGcj1q9rGp6y9n4e07VLO8llu42e9gtGVJXKBMjIZcfePQij6q7qN9f8AgX7/AOQez1tfv+B6NXOfED/knut/9ej1neFIr+112eKDS9TsdJeLds1CUSMJc44be5xgDjNaPxA/5J7rf/Xo9TGHJXik76olK00joV+4v0p1NX7i/SnVykBRRRQAUUUUAFZWteIrDQTANQM264JESQwPKzEYzwoJ7itWuL8bm8HiDw7/AGasDXHnSbBcMVTrH1IBNa0YqdRRZcEm9fP8jodI8QWGt+aLJpVeFsPFPC0Tjgc7WAOOetadcRody41bXL/W5VtdQgj8qRIRlFQAMHUkZbk9xWLHeLb69o15p1lrEP226VJLu6n3Q3KsC25U8xtucAjCjA9OldH1dSlaP9aX30Hyb+R6jRXBJow1zWde+33l2YbeVhDFHO8YjbH3sqQT24PHFV/t91feGNB0+e4lVL29ktpplfaxRDLgbhyD8i8jmoWHulZ9vxV/0BwSe/8AW52c2sLD4gtdKMLFriN5BJu4Xbt4x/wKtKuEj0qDQ/iDZJYyzPD9kmZYZZWlKH5M/MxLc+57VX0/Sk13wrP4gv7y6GosJJUdbh0WIoTgbFIU/d7jvTdGHKpJ6f5t9PkNwV/u/FHodFeftLd65N4bjuryaNbq0JufKOzzh8memNuc5yMEUyz8OxS6vrGmS3t61har50EP2qQFGbIzv3biPlHBOPzNL2CSfNLb/OwuRaXZ6HXP3XjTSrW+mtCl9NLA22T7PYyyhT9VUjsaTwNez3/hG2lunMkiyTR7j1IWV1H6AVi6a3iBfEmu/wBiRaa8X2j5jdyyK2dz9NqmiNFKcoy6fLrYUYrW/Q7eGVZ4VlQMFYZAdSp/I9Kkrj9RifXfGiaPqMssdnDZLcNFBK0fmOWYfeUhsDAPXtWPqUlxpGk+KtKtLuZra0gV7ctIWeEsMkbz8x5PcnpQqClpfXf5XtuVGnzNK/b8f+HPSKK8+1GCTw74NF5ZS3dzfX7RQzymZmZ9zbTtVjtU/MemKZpVvfWmt2Euj6JrdornZePfXAljdNpOQDI2Du29AKf1dWb5v6XzJ5bx5rnolVItStptSmsY3JuIUDuu08A8da4prddO8TPP4otr+Qy3n+i30F06wKCx2IyBxyB/sn6mpdJ8O6cvxDvpEFxmKFZEzdynknHI3cj2PFCowSu30v8A1qOUUkzu6KKK5DMKKKKACiiigArm/H//ACJF7/vw/wDo5K6Sub8f/wDIkXv+/D/6OStqH8WPqiofEjpKKKKxJCiiigAooooAKKKKACmySLFE0jnCoCxPsKdVe/8A+Qdc/wDXJv5Gga1ZiW/jjSbqRVt4tRkDNtV10+Yof+BbcY966IHIzXFeDH8Sf2RZBIdL/s/jLGWTzdnHbbjOPes/xPe3mj+JX0+zvglpqYjacu7FrYs+0kHBwGACjHQ88da7ZYeMqns4fnf/AIY05E5NLod3c6lbWl3b207lZbltsQCk5P8ATpVuuB8QeGtOk1/QUkNy+91jZhdyjcAh54bg8dRS3WlLqfxGk06e6ulsIbGJjbx3DruOXwdwIbt6896lUYNKz6N7dhcqavfpc72obq4S0tZLiUOyRqWIjQuxHsByfwrz7xJNZzz3wtrXWb+WxUIs1pPsjtiFBCt+8Xd1zkg9a7PwzdS3vhTSrm4bdLNZxO7HuSgJNRKjywUxSjy2bMsfELRTcm3EepeeF3GL+zZ9wHrjbnHB/KukgmW4t45kDBZFDAOpUgH1B5FctF/yVif/ALBkf/oyWqC6YNb+I+tQX91dNaW6ROlvHO8YD+WnzZUg9zx0Oa0dKm9tNL9/8inBXfkl+Nv8zvKK8wlml1zV9VN/pGt3wt52t7dtPuBEkQUnsJEyeR1B6VY1LU9ci8MaPY6ha3nn3lw0U0URQTsi7mUA5ABwo5yO9H1V6K+v9MPZtOx6PRXCeH4L+08RBdN0jVtP0+WFvPGoziUbwRtKkyORwW9Kj0GCPS9ct4vEdtfpqsjsEvTdObec452pvwOPVBUugtbPp8/zJcLJnf0UUVykBRRRQAUUUUAFFFFABWJ4o/49dM/7DFh/6Ux1t1ieKP8Aj10z/sMWH/pTHXThf48PVF0/jR7tRRRX2p6oVxcf/Jd5/wDsW4v/AEpkrtK8u8TeG9K8S/GzyNatmuI4vD0boBM8eD9okHVSKAPUaK87/wCFVeDv+gVJ/wCBs/8A8XR/wqrwd/0CpP8AwNn/APi6APRKK87/AOFVeDv+gVJ/4Gz/APxdH/CqvB3/AECpP/A2f/4ugD0SivO/+FVeDv8AoFSf+Bs//wAXR/wqrwd/0CpP/A2f/wCLoA9Eorzv/hVXg7/oFSf+Bs//AMXR/wAKq8Hf9AqT/wADZ/8A4ugD0SivO/8AhVXg7/oFSf8AgbP/APF0f8Kq8Hf9AqT/AMDZ/wD4ugD0SivO/wDhVXg7/oFSf+Bs/wD8XR/wqrwd/wBAqT/wNn/+LoA9Eorzv/hVXg7/AKBUn/gbP/8AF0f8Kq8Hf9AqT/wNn/8Ai6APRKK87/4VV4O/6BUn/gbP/wDF0f8ACqvB3/QKk/8AA2f/AOLoA9Eorzv/AIVV4O/6BUn/AIGz/wDxdH/CqvB3/QKk/wDA2f8A+LoA9Eorzv8A4VV4O/6BUn/gbP8A/F0f8Kq8Hf8AQKk/8DZ//i6APRKK87/4VV4O/wCgVJ/4Gz//ABdH/CqvB3/QKk/8DZ//AIugD0SivO/+FVeDv+gVJ/4Gz/8AxdH/AAqrwd/0CpP/AANn/wDi6APRKK87/wCFVeDv+gVJ/wCBs/8A8XR/wqrwd/0CpP8AwNn/APi6APRKK87/AOFVeDv+gVJ/4Gz/APxdH/CqvB3/AECpP/A2f/4ugD0SivO/+FVeDv8AoFSf+Bs//wAXR/wqrwd/0CpP/A2f/wCLoA9Eorzv/hVXg7/oFSf+Bs//AMXR/wAKq8Hf9AqT/wADZ/8A4ugD0SivO/8AhVXg7/oFSf8AgbP/APF0f8Kq8Hf9AqT/AMDZ/wD4ugD0SivO/wDhVXg7/oFSf+Bs/wD8XR/wqrwd/wBAqT/wNn/+LoA3/iP/AMkr8V/9ga8/9EvXnlhGs2g20T52vbIpx6FRVjxv8NfClh8P/EN3a6Y6T2+mXMsbG7mbayxMQcF8Hkd63NH+EHgafQ7GaXQ90kltGzH7XOMkqCf464MZhHilFXtYxq0+e2pwEPgHToY/J+36pJa5ybSS7JhYehTGCPata/0Kx1CwjtXQwrEcwvAdjxH1U9q7X/hTfgP/AKAP/k3P/wDF0f8ACm/Af/QB/wDJuf8A+LrieWVZO7qfh/wTL2Er35jhtM0BNMmd/wC0tSvA6FSl5dGVR7gHvxVWz8G6dYXizQTXnkpJ5iWbTZgRs5BCYwMY4r0P/hTfgP8A6AP/AJNz/wDxdH/Cm/Af/QB/8m5//i6P7MqXv7T8P+CH1eX8xwaeGrWGxubW1uLy2FzL5ryQTbHB46EdOlNs/C1laQXSPPd3T3aBJJrmbzJNvoGNd9/wpvwH/wBAH/ybn/8Ai6P+FN+A/wDoA/8Ak3P/APF0f2XUtb2n4f8ABD2Ev5jg7nwtp11otvpr+ckdsQYZY3xLGQc5DdjTtM8OWmmSSyia5u7iVdjT3cvmSBf7oY9uBx7V3X/Cm/Af/QB/8m5//i6P+FN+A/8AoA/+Tc//AMXR/ZdSzXtN/L/gi+ru1rnDr4dsV0B9HHmfZXQofm+bBGOtaUMSwwpEmdqKFGfQV03/AApvwH/0Af8Aybn/APi6P+FN+A/+gD/5Nz//ABdS8pm96n4f8EHhm92cbbaPa2ur3epRb/Puwoky3HyjAwPxosNHtdOvLy5tt/mXkvmy7myN2AOPTpXZf8Kb8B/9AH/ybn/+Lo/4U34D/wCgD/5Nz/8AxdH9kz/5+eW3/BH9Xf8AMee3PhC0mu5J7a/1Kw807njsrkxIT64A61avfD9rqFhBb3Etxvtx+6ullxMp45D9c8D8q7j/AIU34D/6AP8A5Nz/APxdH/Cm/Af/AEAf/Juf/wCLqv7LqafvNvL/AIIewle/McRpWhrpUjuuo6jebxjF5cmUD6Z6VQ+IH/JPdb/69Hr0b/hTfgP/AKAP/k3P/wDF1y/xL+Fng3SPhj4g1DTtG8m6t7J5IpPtUzbWA64LkH8aI5XJTU3O9vL/AIILDtO9x6/cX6U6uiT4N+AzGpOhdh/y9z//ABdL/wAKb8B/9AH/AMm5/wD4us/7Hf8AP+H/AARfVn3Ocoro/wDhTfgP/oA/+Tc//wAXR/wpvwH/ANAH/wAm5/8A4uj+x3/P+H/BD6s+5zlFdH/wpvwH/wBAH/ybn/8Ai6P+FN+A/wDoA/8Ak3P/APF0f2O/5/w/4IfVn3Ocqhe6RbahfWd3cb/Ns2LRbWwMnHX1+6K7L/hTfgP/AKAP/k3P/wDF0f8ACm/Af/QB/wDJuf8A+LprKJJ3U/w/4IfVmupxFz4fsLrVJL+ZGMstv9mkAPysmSeR3PNZ1v4G0yCe1lNxfTfY5BJbpNcbliwMBVGOBjt7CvSP+FN+A/8AoA/+Tc//AMXR/wAKb8B/9AH/AMm5/wD4urWWVYqyqfh/wR+wl/McdbaRbWs15LFv3XjFpct3Ixx6VSl8J6bNoaaWwlEMcjSxyB8SRuzFiVbHB+Yj6Gu+/wCFN+A/+gD/AOTc/wD8XR/wpvwH/wBAH/ybn/8Ai6Syqotqn4dvmH1eV78xwGneE7DTdRS/WS5uLxVZTPcy73YHHBOMkDHHpk1BJ4I05rqWSO5voIZn3yWkNxtgY8dUxjtXo3/Cm/Af/QB/8m5//i6P+FN+A/8AoA/+Tc//AMXVf2bVvf2n4f8ABD2Ev5jjG0Wza8tLlUKNZxmOFUOFVeOMfgKdFpFtDfXV2m/zbtQkmW4wM9PzNdj/AMKb8B/9AH/ybn/+Lo/4U34D/wCgD/5Nz/8AxdR/ZM7W9p+H/BF9Xfc47SNJttE05bKy3+Sru43tk5Zix/VjS2Wl29hdXU8G7fdPvk3HIzknj8zXYf8ACm/Af/QB/wDJuf8A+Lo/4U34D/6AP/k3P/8AF0PKZttupv5f8EPqz7nC6x4ctNZuILiWW5tbmDIS4tJfLkAOeNw5xyePeo18KacNFutNczSJeDE80kmZZPq2Oa77/hTfgP8A6AP/AJNz/wDxdH/Cm/Af/QB/8m5//i6ayuoly+009P8Aglewkre9scfPpVrc6WdPnTfBt2jPJHoQfUetULDwxHp90kyatq8wTgRT3hePp/drv/8AhTfgP/oA/wDk3P8A/F0f8Kb8B/8AQB/8m5//AIuhZXUV17Tfy/4JP1dpWuefP4StpdQF1c6hqVyol80W810WhBzkfIRjFTTeG7SXXk1ZJ7qC4VBGywzbEkAJPzDv1ru/+FN+A/8AoA/+Tc//AMXR/wAKb8B/9AH/AMm5/wD4un/ZlT/n5+H/AAR/V5P7RzlFdH/wpvwH/wBAH/ybn/8Ai6P+FN+A/wDoA/8Ak3P/APF1n/Y7/n/D/gi+rPuc5RXR/wDCm/Af/QB/8m5//i6P+FN+A/8AoA/+Tc//AMXR/Y7/AJ/w/wCCH1Z9znKK6P8A4U34D/6AP/k3P/8AF0f8Kb8B/wDQB/8AJuf/AOLo/sd/z/h/wQ+rPuc5XN+P/wDkSL3/AH4f/RyV6P8A8Kb8B/8AQB/8m5//AIuuV+Jfwt8G6R8Pr+90/R/JuI3gCv8AaZmxunjU8FyOhNXTylwmpc+3l/wRrD2d7k9FdH/wpvwH/wBAH/ybn/8Ai6P+FN+A/wDoA/8Ak3P/APF1H9jv+f8AD/gi+rPuc5RXR/8ACm/Af/QB/wDJuf8A+Lo/4U34D/6AP/k3P/8AF0f2O/5/w/4IfVn3Ocoro/8AhTfgP/oA/wDk3P8A/F0f8Kb8B/8AQB/8m5//AIuj+x3/AD/h/wAEPqz7nOUV0f8AwpvwH/0Af/Juf/4uj/hTfgP/AKAP/k3P/wDF0f2O/wCf8P8Agh9Wfc5ymSxrNC8b/ddSpx6Gum/4U34D/wCgD/5Nz/8AxdH/AApvwH/0Af8Aybn/APi6P7Hf8/4f8EPqz7nnFp4KtrJk+y6vrMcaNlYRekIPbbjpVs+F9NeG/SZZJjftmV5G3MOBgA9gCMj35rvP+FN+A/8AoA/+Tc//AMXR/wAKb8B/9AH/AMm5/wD4utXllV71Pw/4I/YSvfmOCv8AwtZahY2VtJNdxGxKmGaGbbIuFIHzfQ1Yt9DtbfVjqStM9y0KwlnfOVXOPx+Y12v/AApvwH/0Af8Aybn/APi6P+FN+A/+gD/5Nz//ABdL+y6lre0/D/gh9XdrXPO73wZp17eXE7TXkK3XM8EM2yKU4Ayy45OAPyFbGn2MOmabb2NruENvEsUe45O1RgfoK6z/AIU34D/6AP8A5Nz/APxdH/Cm/Af/AEAf/Juf/wCLpPK6klyupp6f8EHh5PeRxq6ParrrasN/2poRAfm+XaCSOPXLGi30e1tdYu9Ti3/aLsKJMtx8oAGB9AK7L/hTfgP/AKAP/k3P/wDF0f8ACm/Af/QB/wDJuf8A+Lpf2TP/AJ+eW3T7w+rv+Y8/vvClpeXr3UN5f2EknMn2G4MQkPqcdTVifw/a3WkR2F1LcTCM5S4klzMpznIf17fSu4/4U34D/wCgD/5Nz/8AxdH/AApvwH/0Af8Aybn/APi6f9l1LJe028v+CHsJfzHCad4dXTpmkGq6rc7l27bq7Mij3APeobPwna2uoRXc1/qN88JJjW8uTKqkjGQDXoP/AApvwH/0Af8Aybn/APi6P+FN+A/+gD/5Nz//ABdP+zKn/Pz8P+CH1d9znKK6P/hTfgP/AKAP/k3P/wDF0f8ACm/Af/QB/wDJuf8A+LrP+x3/AD/h/wAEX1Z9znKK6P8A4U34D/6AP/k3P/8AF0f8Kb8B/wDQB/8AJuf/AOLo/sd/z/h/wQ+rPuc5RXR/8Kb8B/8AQB/8m5//AIuj/hTfgP8A6AP/AJNz/wDxdH9jv+f8P+CH1Z9znKK6P/hTfgP/AKAP/k3P/wDF0f8ACm/Af/QB/wDJuf8A+Lo/sd/z/h/wQ+rPuc5WJ4o/49dM/wCwxYf+lMdd9/wpvwH/ANAH/wAm5/8A4uub8c/Dfwn4d0jT9S0bSvs13FrOnhJPtEr4BuoweGYjofStKWVOnUjPn2d9v+COOH5ZJ3PXKKKK9w6wrgrn/kukv/YuR/8ApTJXe1wVz/yXSX/sXI//AEpkoA6miiigAooooAKKKKACiiigArzHU/HOt6P8SpIbpkk8OxOsMwWMbomcYRs9wXZR1r06uEg0H+1fFXie21G1kFpeRKiuyEK3C4IJ4JBGfwqbtSTXn89B6crRqRa5dv8AER9K8xTYiwadVCjO7MeDnr/EasQeMNOn8Jy+IUS4+xxIzspQb8AZPGcfrXDeAbDXLH4iXlhq9ncCDT7J7e3vWQ7Jo9yeWN3TIVRn8elUP7QvtO+Hmo+E10LU59UQSRYS1k8pl2gFxJt2nvwDk496rokuz/8ASv8AISvd36Nf+k/5noGp+PNL0uWyhkhu57i+gE9tBBGGeUH+EAsPmxk49AazI/ivpM0U32fSdZmubZmW6s47ZDNbY7uu/gHBxz2NMtLG6HjLw5K1rMI4tJCSOYzhG9Cex9ql0SyuY/EPjGSS2lRJzH5TNGQJOZfunv1HT1pSdk32v+DsEdeVPrb8Vcq+MfF1vDa+HNYs72ZLGe5bd5Tkeb8pAQgHBO7gD1rd0LxvYa5qkmmmyv8ATb1I/OWC/iWNpE4+ZQGOR8w/MV57ZWmq6b4B8HyLo95PNZ3MrzW4iZXRctkkYyOOQO/Qda6K2kl8Z+O4NUsbO+s7OxsZIHe8tngLu7IwAVwCR8p5HHFU1yuSWur/ACVvx0Fuk32/9uZpzfEzS47iTZpuqz2MU3kyalFbqbZDnkl92cDOTx0qxrnxC0nQ9TtNPeC8vbu9g8+2is4lczLnouWGTjJ+grzPStFg0rQB4e8Q6p44tpFQwT21hbNLbMpGDtZYWG08j7xrs4dIe0+J2hNZ2909hBo5jE8sZ4+fIDHAAbHbihJaK/8AVmxvRv8ArrodsmpwjR11K8SSxh8oSyLcrtaIYyQwycEd65m2+Julz3FsJtN1Wzs7p/Lh1C5t1W3c9B824nk8DjqRWr430e417wVqmmWRxcXFu6R8gZJUgDJrjL/XZPFvhq08PWOi6nBqDywmUXVlLHHEI5Fdj5jKFPCHHPXFJay+a08u/wDW3UdrJX89fy/rr0IfE2tXGpfFO30ma08SixgtXcJprNF5j7kw5KuNyAEjnuRxXWfEHxLd+FvDEl3p9pdXE+DteCESCPHdskcf4VXhsLmL4rW0xhlaCPSHiM+w7d2+Ljd0zwePar3xAtp7rwNqSWkLzyiFmEca5ZsAnAA6n2pPSmvn+bErubv2X5FCX4kWGl+GtO1PXbDUrL7Y6wqk0CqzPtJzjd0OOPqKuT+O7S10i3vbrStVgmupfKgsHgUXEh9k3YI5HfvXL61cS+INN8HzWGn34FtfKJlms5I2jxA6kkMAQM9+lWfiPotxN4i0bWhNqsFnaJLHNLpA3ToXKYIXaxI+Q9B6VT/W3ysn+IJaL0v87vT8Dp9D8YWOtm6ja2vNNuLQbpra/jEcipjO/AJ+XqM+xrMHxN0vzgz6bqsdg0xiGptbqLbIJGd+7OMg9qwNH0LT9aj1mfTtQ8TXuozae1qr65btEApDYClo07sfzrAtNJsBokWga/qvjtGRBDPaw2ryW+R2VhAQV445P1o+0l6f1/XcNLXPTdY8a2ular/Z0Gmanqt0sYkkTToFkMSkkAtlhjOD+Rrft5vtFtHMYpId658uUYZfYj1rzXxqum2OpmXSv+EhtdehttsMun2MrxXBGfLSVxGQV3ZzgjhjzXoOjPeS6LaPqahLtowZQBjmhaxuJ7/15F6iiikMKKKKACiiigAooooA5z4hf8kx8Uf9gi7/APRLV1Ghf8i7pv8A16Rf+gCuX+IX/JMfFH/YIu//AES1dRoX/Iu6b/16Rf8AoAoAv0UUUAFFFFABRRRQAV5/Lr/im2+JunabqL2kGn3iSEW0H7wkBsKxcqCDjt7+1egV5J4i8V27fFLSb2PStdktrBJIZ5U0e4ZQ27sQnzD3HFJfGhv4Get0VHbzLc28cyB1WRQwDqVYfUHkVJT2FuFFFFABRRRQAVxvxd/5I/4n/wCwfJ/Kuyrjfi7/AMkf8T/9g+T+VAHYR/6tfoKdTY/9Wv0FOoAKKKKACiiigAooooAKKKKACiiigAPSvMPh14413VvE1zp3iKWKWKdWlspI4wmACQUOByflY5969PPQ14nJoerWPgK213TtOum1nR76SS3tvLIaQSfuzxjJG12P4VKdqmu1v1Sv8vyG1eFlvf8ARu3z2N/WPHGs/wDCzrPTNKnSPSo7yO0ulaJWMrOpbhuoxtI/Gug1r4iafol5JFJpmq3dvA4S4vbWBXggbPIdiwIwME8dDXKxeHb2zsPCMrWk7XFxqwv7wCMnyTKHdg3pgvjmsHxhLr2qR+I7PU5vFEd+TLHZWOmQN9jmh28Fn8tgSTuBG4ZAFXslHrr+n+bt5CVpSb6O36/5a+Z6XrnxD0fQriyt54ru5nv4RNaxW0as0w/uqCwycZOPQGoIfiZpD6DqOqT2eo2q6Y+27tp4VWaH73JXcRj5T37VlaZp94nizwrJJaThIdHEcrmM4RuOCccH2qxp+hNqPjDxrbajayCy1C3t4g7oQsg/fBsE8HqPzpO6vbz/AAdvxQk7pN+V/mv0Ok1HxVp+mT6XDKJpJNVfZbrEoJPyliTz0wDW1Xj/AMLzqOteKpG1aAovhuNrGN88PKSWLe3ySgfhXsFU0rJrrr8un4a/MNbtPpp8+v8Al8goooqRhRRRQAUUUUAFFFFABRRRQAVxfxc/5Jfqf/XS2/8ASiOu0ri/i5/yS/U/+ult/wClEdAHaUUUUAFFFFABRRRQAUUUUAFFFFABRRRQAyZikDsvVVJFea/C7xtrmu311ZeJ5IpZHjS4tJI4wmUbdlcAdRgfnXpNwCbaQAZJU4H4V4nLo+taR4D0LxBpOmXUmsaYzxi1EZDMkgQHK4zxtqU2p+Vv1/z/AAuU1eNlvc6NvHGsXXxZtdNsZ0XRPtDWksbRKTI4gMu4N1A7fhW7q3xJ03R7ySOfTdVmtIZTDLqENurW0bgkMGcsCMEHPHaudtvDV3o994KihtppGimnmuHEZIRnjmb5j25cDmuR8Ztr+s6X4htL+XxSdU8+dINPsrdhYvAGYId3lsGJGMgPzmrSScY/09f69ESvek3sna3lp/V/M9X1/wCIOleH9Yg0qa3vry/uIBPBb2kSu0qksMKCwyRtJPtVdfibo3/CNza1NbX9vFbz+RcQSwqJYGyR867sAcevcVXt7K6HxTsblraYQLpCIZTGdobdLxnpnkce9VdN8PNqmo+N7PUrSRba9li2GRCFkAjHIJ68ipV7N76N/dJK3zQk00umq/GN/wAGdZqPiWx0zWdM0uYSyXOpFhAIlBAC7clueB8w9a168k+Ekuo+INXutS1qAxyaNEmmxMTndIu4St+Py163VtJJf1p0/DUE3dp9NPn1/HT5BRRRUjCiiigAooooAKKKKACiiigAri/in/yKdn/2GtO/9K4q7SuL+Kf/ACKdn/2GtO/9K4qAO0ooooAK8u8Taxc6P8bPMtNFv9XaTw9GpjsfL3IPtEnJ3uox9K9Rrgrn/kukv/YuR/8ApTJQBX/4TjVP+hB8Sflbf/HqP+E41T/oQfEn5W3/AMersaKAOO/4TjVP+hB8Sflbf/HqP+E41T/oQfEn5W3/AMero7PW9L1G8ntLDUbW5uLc4miilVmj6feAPHUfnU0F9a3NxNBb3MUs1uQJY0cFo85xkduh/KgDlv8AhONU/wChB8Sflbf/AB6j/hONU/6EHxJ+Vt/8ersaKAOO/wCE41T/AKEHxJ+Vt/8AHqP+E41T/oQfEn5W3/x6uxrA1bxhYaRrUGktb3t5ezJ5nlWVuZiiZxubHQZxz7ijrYOlzN/4TjVP+hB8Sflbf/HqP+E41T/oQfEn5W3/AMerpNV1W00XSbjUtQk8u2tozJI3oAMmodC1yLX7A3cFnfWibtoW9t2hZuAcgHqOetG4GD/wnGqf9CD4k/K2/wDj1H/Ccap/0IPiT8rb/wCPV2NFAHHf8Jxqn/Qg+JPytv8A49R/wnGqf9CD4k/K2/8Aj1dSt9avfPZpcxNdIu9oQ43qvHJHXHI/OrFAHHf8Jxqn/Qg+JPytv/j1H/Ccap/0IPiT8rb/AOPV2NFAHHf8Jxqn/Qg+JPytv/j1H/Ccap/0IPiT8rb/AOPV2NFAHHf8Jxqn/Qg+JPytv/j1H/Ccap/0IPiT8rb/AOPV2NFAHHf8Jxqn/Qg+JPytv/j1H/Ccap/0IPiT8rb/AOPV2NFAHHf8Jxqn/Qg+JPytv/j1H/Ccap/0IPiT8rb/AOPV2NVbrUrKymghvLuGCW4bZCkkgUyN6KD1PIoA5j/hONU/6EHxJ+Vt/wDHqP8AhONU/wChB8Sflbf/AB6uvdxHGzt0UEmqWj6za67YfbLAuYvMeL51wdyMVP6g0Ac7/wAJxqn/AEIPiT8rb/49R/wnGqf9CD4k/K2/+PV2NFAHHf8ACcap/wBCD4k/K2/+PUf8Jxqn/Qg+JPytv/j1djRQBx3/AAnGqf8AQg+JPytv/j1H/Ccap/0IPiT8rb/49XQafrdnqeoX1lalzNYOqTblwMsMjB78VT1/xbYeHrq0tbmG7urq8LeTb2UBmkIXGTtHOBkc0dvMO/kZf/Ccap/0IPiT8rb/AOPUf8Jxqn/Qg+JPytv/AI9XXRSebCkgVl3AHa4wR9R2NPoA47/hONU/6EHxJ+Vt/wDHqP8AhONU/wChB8Sflbf/AB6uxooA8y8b+MdSuvh/4ht5PBOv2yS6Zco08wt9kQMTDc2JScDqcAmuh0fxzqseh2CL4A8SSBbaMB1FrhvlHIzN0qz8Qv8AkmPij/sEXf8A6Jauo0L/AJF3Tf8Ar0i/9AFAHNf8J7q3/RPfE35Wv/x+j/hPdW/6J74m/K1/+P12lFAHF/8ACe6t/wBE98Tfla//AB+j/hPdW/6J74m/K1/+P12lFAHF/wDCe6t/0T3xN+Vr/wDH6P8AhPdW/wCie+Jvytf/AI/XaUUAcX/wnurf9E98Tfla/wDx+j/hPdW/6J74m/K1/wDj9dpRQBxf/Ce6t/0T3xN+Vr/8fo/4T3Vv+ie+Jvytf/j9dpRQBxf/AAnurf8ARPfE35Wv/wAfo/4T3Vv+ie+Jvytf/j9dpRQBxf8Awnurf9E98Tfla/8Ax+j/AIT3Vv8Aonvib8rX/wCP12lFAHF/8J7q3/RPfE35Wv8A8frlviZ4y1K++GHiC2m8EeILKOWydWuLgW/lxjHVtspOPoDXrtcb8Xf+SP8Aif8A7B8n8qAGJ481YRr/AMW98THgdrX/AOPUv/Ce6t/0T3xN+Vr/APH67KP/AFa/QU6gDi/+E91b/onvib8rX/4/R/wnurf9E98Tfla//H67SigDi/8AhPdW/wCie+Jvytf/AI/R/wAJ7q3/AET3xN+Vr/8AH67SigDi/wDhPdW/6J74m/K1/wDj9H/Ce6t/0T3xN+Vr/wDH67SigDi/+E91b/onvib8rX/4/R/wnurf9E98Tfla/wDx+u0ooA4v/hPdW/6J74m/K1/+P0f8J7q3/RPfE35Wv/x+u0ooA4v/AIT3Vv8Aonvib8rX/wCP0f8ACe6t/wBE98Tfla//AB+u0ooA4v8A4T3Vv+ie+Jvytf8A4/R/wnurf9E98Tfla/8Ax+u0ooA4v/hPdW/6J74m/K1/+P0f8J5q3/RPfE35Wv8A8frtKKAPL/C2q3/hexuIIvAniq6luZ2nmnkW0DOxAHOJvQAfhW5/wnurf9E98Tfla/8Ax+u0ooDrc4v/AIT3Vv8Aonvib8rX/wCP0f8ACe6t/wBE98Tfla//AB+u0ooA4v8A4T3Vv+ie+Jvytf8A4/R/wnurf9E98Tfla/8Ax+u0ooA4v/hPdW/6J74m/K1/+P0f8J7q3/RPfE35Wv8A8frtKKAOL/4T3Vv+ie+Jvytf/j9H/Ce6t/0T3xN+Vr/8frtKKAOL/wCE91b/AKJ74m/K1/8Aj9H/AAnurf8ARPfE35Wv/wAfrtKKAOL/AOE91b/onvib8rX/AOP1ynxM8ZalffD3ULebwT4gskaS3JnuBb7FxPGedspPOMdOpFev1xfxc/5Jfqf/AF0tv/SiOgA/4T3Vv+ie+Jvytf8A4/R/wnurf9E98Tfla/8Ax+u0ooA4v/hPdW/6J74m/K1/+P0f8J7q3/RPfE35Wv8A8frtKKAOL/4T3Vv+ie+Jvytf/j9H/Ce6t/0T3xN+Vr/8frtKKAOL/wCE91b/AKJ74m/K1/8Aj9H/AAnurf8ARPfE35Wv/wAfrtKKAOL/AOE91b/onvib8rX/AOP0f8J7q3/RPfE35Wv/AMfrtKKAOL/4T3Vv+ie+Jvytf/j9H/Ce6t/0T3xN+Vr/APH67SigDi/+E91b/onvib8rX/4/R/wnurf9E98Tfla//H67SigDi/8AhPdW/wCie+Jvytf/AI/R/wAJ7q3/AET3xN+Vr/8AH67SigDi/wDhPdW/6J74m/K1/wDj9Nk8das8bKPh94nXcCMgWvH/AJGrtqKNwPMfCur3/hXRvsEHgPxVcM0hllnkW0DSOcZY4nxzitr/AIT3Vv8Aonvib8rX/wCP12lFAHF/8J7q3/RPfE35Wv8A8fo/4T3Vv+ie+Jvytf8A4/XaUUAcX/wnurf9E98Tfla//H6P+E91b/onvib8rX/4/XaUUAcX/wAJ7q3/AET3xN+Vr/8AH6P+E91b/onvib8rX/4/XaUUAcX/AMJ7q3/RPfE35Wv/AMfo/wCE91b/AKJ74m/K1/8Aj9dpRQBxf/Ce6t/0T3xN+Vr/APH6P+E91b/onvib8rX/AOP12lFAHF/8J7q3/RPfE35Wv/x+ua8d+LNQ1XR9PtLnwfrmmRvrOnk3V4IPLTF1GcHZKx56dK9Zri/in/yKdn/2GtO/9K4qAO0ooooAK4K5/wCS6S/9i5H/AOlMld7XBXP/ACXSX/sXI/8A0pkoA6miiigDxGxtrjQdWv8AxlpqSSG3vmgv4k58yAk849QwTp2Fbdh4ni0xvHHiGwK3MccEVxCcEq/EzD3xXb6P4Yh0q2v4Hm+0x30rSOGTGM9vesXw18MtO8PWOt2DXUl5Y6t8vkSDHkxjcAgOTwA+O3Spimqai+kUvn7t1+DG7OfN/ebfprZ/iZN+nifw9oFt4mfxNc3ziSIz6fMkYtysjqmFwgfgPkfN1HfpXV+LPEreHvBF1rkMQkeKASIjA4JIzzjmse2+H+otFb2OteJ5tS0i3cOtk1qqFtp3KGkDbjhgDz6V1mqaTZ6xpE2m30Qe1mTY6dOKqXwu3f8ADt/X3ihpJc3z8/6+RwmoQ+JvCdnp+sz+JrnUy1zFDdWdwkYh2yOFJTaitkAkjJPOOtVl0W8u/jTJPH4h1GANpomCosWAu5Bs5Q/L39c962rPwHqbGzg8QeKJtXsLN1kjtntVjLMpDKWcMS2CAea3o/DqR+MG14Tnc1p9l8jZwBuU5z/wHpVKykn6/db/ADJabhyvfT56mD8W7KW8+HuoGK+uLQRxOzCELiQbT8rbgePpisbxFrV54N8NaPpja3fyPqUgDai9uJZbdAu4hUjTn7pH3T1ru/EmiL4i8P3WlvOYFuYyhkC7iuQR0/Gqut+Fk1axs1humtL6xIa1vETcYjjBO3PORkY96jZfP8C92vR/ecj4P8Uyv4ubTLbWtT13T5bZpTc6lYPbtburKAuTFGCDuJ6HpWPdeNntde0yay8W3+oTXN/FBPY/YHWzw7qp8uQxDgAnGXP416Hpeh67DJKuveJP7Wt5IyvkiwSDByOdynPrx71ztv8AC67is9O0+bxNNJpumXEU1rai0VNojcMFZg2W+6OT0q1bmV/L89fw8nfuhdH5/wCX9dvmU7DQr5/jLfuPEepKFsxKVAhwwynyH5Pu8/XjrXQeHtYv7w+JvtNy0n2O8ljgyB8ihnAHT2FWLvwldt4xTX9M1lrJjAILiD7OsgmXjuT8vQdB2qlf+AbubVNQl0zxDPp1jqbbru0jgDFzzuKybgUJ3Hkf0rJp8nKuzX46P7hxtzXfdP8ADVfecxc+JPEl34a8Hix1UwXeqXMsVxOyKdygN2x1AHHuBmrXirXrvwzeaV4buvEepoJkeefVUtRPcFQQNgWOMgff6lP4evr0EHw9hgsfD1sNRkYaHK8isY+ZtwYYPPH3vetLxD4YfVry31DTNQbS9UtgUju1iEnyHkqVJAIJCnn0rWTV3b+Z/d0/EmOyT7fjd/pY4/w54o1i6i17T9Gu73XjBaGaxvL+0a3dpSHxGdyRggFV7fxda0PAOpC/vnF14o1a8v1jPn6bfW6xJE2eSh8pSwHTIYiugsNI8R29jdxX3igXk8qYgn/s+OPyGwedoOG7cH0qro/hG+tvES6zr+uf2vdRwmGEizS32KTn+E89/wA6F8Xy/r+vxB7fP/L+v0Kfiy/1W98XaT4b0jUJNLS6jlnuLuEKZQqFMKu4Ec7z1B6CqerXHiHSp9L8Lx628tzqly6x6lJGvnRxIm89FCbjtYfdxyK3vE3hNtcvrHUdO1F9L1OxLCK6SISfK23cpUkAg7V6+lU73wLcX+lw/aNeuDrME/nxamI8GNuAQI92ApUEbc45PrUxtZX+fnrp9yt93mU99O2nk7dfmU7CfWfDfjaPRb7WbjWLO9tHnjlu1TzYnVkGBsVRtO49R2HNc3aXfi248CP4quPE9wj2n7xbSKOPypkUbiHym7J6fKRXc6P4SubXVn1XXtXbWNQ8kwRTG3EKxISCQEUkclRz7UkHgqOHwLN4aF6xSWJo/P8ALGRlcZxn+tGt7+X6/wCQaf16HO+Kdc1RbvS5bvU9R0XRbi0V2vdNgEzmc87WXY5C4yc7R0HNWtX1ae2v/BkVhqj31vdzKJLmVELTr8nJwowTnPAHWtjUvDeuXFtBaaX4m/s+0jtxC8R0+OXzMDBOWORkVEngG1ii8PRwXbIuiMGUeXnziNvv8v3f1p9fmvuv/l/wxDu152/GxirJrfi/VdemstfutLttLla0itoETbMyor7n3ITg7wOCOBWBbeJ7zwv8KbILN5V1earPavcxQtJ5RMkrFlQAk8r6HrXZ3vgS8OsXt1oniGbS7XUTuvLVIBJ5jYwWViwKEqFHHpT4fh7aQeE4NGS9m8y1uXuba8IJkikZmOevOA5HJ5qVpH7vw3/q5crOX3/loc74Z8Uyr4wtdPsNd1fxBZ3iN5z6jpzwG2KjghvKjHOffp2pfBt94h1LTLzxFq2v3LwWM06xWUSRhJVUsB5mVzkH+6RwB712Gj6N4js73zNX8UjU7faR5H9nRw8+u5Tml8N+E4PD+hT6W05u4p5JHYsm3h2JI6n1p6627aet/wDIWnXuvus/+AeVr4/urjR/7dg8TawdSYm4j0ZNJka1YHkRbxDk+mQ+Peu0vdR1XxP4yh0Sw1W60SGCwS8ne2RPMdmZ12/OrDA2jt61dtvB3iDS1W20Txe1npsRxBaPp0cvlJ2TexyQBgVZ1zwfdahrkOs6Nrcmk6ikAt5ZVtxKsqAsQChIHVic09NP66f11YdX/XX/AC8jI+HEF5a+IvFMOo3Iup0uYgZsYLjZwT74xnHGc1T8TaJd3nxe0Rodf1C0EkMzKsIixGAASBuQ8Hoc+ldV4V8JL4Zm1CY3819LfuskrzZzuAwTyTwTzjoOgq1d+Hku/FVhrZuGVrKORBFtyH3gDOc8YxTXxQfZf+22/Ml6xmu7/W/5HLRvrXi7xJq9pZ+ILvSLTSGW3U2iR+ZM5jV9z70YY+ftjpWLqvi7xLF4NWG2vo01W01saabopkTorOoZx6tsycY56AV1uo+C79tfudU8OeIJNGe8UC6iFqsyysABuwxAU4AGR6U24+HlrNoFppyXkiSRXy389wU3NcS8liRnjcWJ9qmOyv5X+9Xfpa5pdJ6f1pt95uaBpl3penmK/wBXu9Wld9/nXQQFQQPlGxVGOM888mtWkUYUD0FLTbuyErI5z4hf8kx8Uf8AYIu//RLV1Ghf8i7pv/XpF/6AK5f4hf8AJMfFH/YIu/8A0S1dRoX/ACLum/8AXpF/6AKQy/RRXM6z490jQ/Fdj4fvRcG7vUV0aNAY0DMVXcScjJUjoaOqXcOjfY6aiud8a+KH8J6LDfR2q3JkuFh2M+3GQTnOD6US+KHj+IEHhv7KpSW2afz9/Ix2xj+tC1dl5r7lf8gem/l+Lt+Z0VFYnijxTa+FNPiury1vLvzpBFHDZxh5GY+gJH86TQPEr69JKr6DrGleWAd2o26xh/phjmha7A9NzcooooAKKy9X1+00W5sILtZWe/nW3i8tQQGJAGcngZYVqUB1sFFFFABRRRQAVxvxd/5I/wCJ/wDsHyfyrsq434u/8kf8T/8AYPk/lQB2Ef8Aq1+gp1Nj/wBUv+6K4WX4s6ckl4YvD/iC4trKUxTXcNohiUg4PPmdM+1K6vYdnud5RUNpdw31nDdWkgkgmQPG69GU8g1NVNNOzJTTV0FFFRzyeTbSSgZ2IWx64FS2krspK7siSisXwlr7eJfD0epSW4t2eWaPy1bcBslZM599ufxraqmmnZkppq6CiiikMKKKKACiisLR/ET6p4j1fTGt1jXT5AgkD5L5VT0xx96jrYOlzdooooAKKKy9N1+01TVtR062WUTacyrMXUBTuLAY55+4aANSiiigAorkvDfinV/Eeu36w6Zaw6PZXL2puHuG85nUA5Ee3GPmHO71q14l8aW3hq/tbJ9L1PUrm6BMcWnwrI2Bnrlh6Ur6J9w6tdjo6Ky9C1ptcs2nfStR0wq2PK1CFY3PuAGPFalPYAoorLn1+0g8SW2iOsv2q5jaRCFGwBRk5Oc9vSjrYNlc1KKKKACiiigAri/i5/yS/U/+ult/6UR12lcX8XP+SX6n/wBdLb/0ojoA7SijpXAx/F3TJY3uE0DXzYxzCGS++yp5KEkDJbzOnI7UX1sHS531FRwTx3NtHPAweKVA6MOjAjINSUbAtdQooqG7n+zWcswXcY1LYz1pSairsaTbsiaisfwprjeJPC9nq0kAt2uVLGNW3BcEjr+FbFVKLi7MmMlJXQUUUUhhRRRQAUUVheH/ABE+tanq9q9usI065MAYPnfgnnpx0o62Dpc3aKKKACiisvSdftNZu7+3tFlD2Eoil8xQASRnjnmjd2/r+tQ2NSiikdgiMx6KMmgBaK5Pwn4n1fxNqF9K2mWttpFvczW0UxuGMztG5XJTbgA4z941N4i8cW3h7WLfS/7J1bU7u4i81Y9OgWTC89csP7poelr9Q7+R01FZ2ias2s6eLp9Nv9NJJHk38QjkHOOgJ9PWtGjYAoorL/t+0/4SYaFtl+1mAz7to2bRjvnOfmHajrYNlc1KKKKACiiigAri/in/AMinZ/8AYa07/wBK4q7SuL+Kf/Ip2f8A2GtO/wDSuKgDtKKKKACuCuf+S6S/9i5H/wClMld7XBXP/JdJf+xcj/8ASmSgDqaKKKACiiqWq6tY6JYPe6pcLb28f3nIJ/Qcmi9g3LtFYNl418P6jpc2pWmoq9nA4jklaJ0CsSAByAerD86bp/jnw3qmrtpdhqkct4uf3fluucHBwSADyexp2d7B0udBRXF6T4h1CbxV4otrq5RrbTow8CyIAsf3s5KjcRwPWqWufE630DwvY6hdz2U1zdylVECymIqHZSQSoORt7981KadvO34h38r/AIHoNFU9M1Sz1jT473TZvOt5BlH2lc/gQDWUfHfhpdcGjnVEF8W2CLy3wTjON23b096fW3UOl+h0NFcM/wAUNHh8fSeH5rhFjSM/vPKkLeaCo29Md259q7O6uoLG0luruRYoYULu7dFAGSaPs83QPtcvUmorA0bxx4c8QX7WWkaktxcKpcp5TpxnHG4DP4UmoeOvDelasumahqiQ3bMFEZjcjJ6DcBgfnR2XcO/kdBRWNrni3Q/DawtrV+tt5/8AqxsZy34KCa57V/HNvaa/pFxDqapolzbSSyt5Wd2GUA9N3c8Clcdmd1RWVoXiXSPEtvJPod6t1HG2xyEZSp9MMAaTXfFGjeGoopNbvVtVlbamUZyx5PRQT2NN6biWuxrUVxvhLxU3iDxLroivluNMt0ge2+QLtD+YT2B7Dr0q9Y/EDwvqOrJptnqySXchKqnlOoJAyfmK47etOz0XdXFffyOkorB1vxr4e8OXSW2s6ktvNINyp5bucf8AAQcdaUeIBN4mtLG2ubF4LiAzBSX85hzyvG3HHc5pLXb+v6sN6bm7RXPReO/Dc2uf2RFqavfbtnlLFIecZxu246e9T6TrTX2qatby3Fk0djIEAhZ96ct/rNwAz8vYnvR5g9NDaorm7H4g+F9R1VNNs9WSS6kJVU8p1BIGT8xUDt61Nq3jbw7oc8kGqamkEsRUOnluxGRkcKD2o7eY7O9jeoqnpeq2WtadFfaXcLcW0oykigjP4HmsvVfHPhvRLiWDVNUSCWFgsieW7FSQGHCg9iKHo7MS12OgorNj8QaVJoQ1lL2M6e0fmifBA24znGM9O2M1T0Txr4e8R3T22jaktxMi7mQxuhx7bgM/hR1sHS5vUVymueP9A06e503+1Uj1KNcCPymbaxGRk7dvT3o0LxXDb/DzTNb8TXyo01ujyzFPvMR/dUfyFC1Tl0Vvxv8A5A9Gl3v+Fv8AM6uisjQvFGjeJY5ZNEvluliba/yMhU9ejAHvWvTs1uAUUUUgOc+IX/JMfFH/AGCLv/0S1dRoX/Iu6b/16Rf+gCuX+IX/ACTHxR/2CLv/ANEtXUaF/wAi7pv/AF6Rf+gCgC8zqilnYKoGSScAV8+3fiSz1+x8SapPYavNeTTqdOltdLnli8uErJH+8VSv393evfrq1ivbSW2uVLRSqVcBipIPuORUGmaTY6PpUWm6bbrBZxLtSIEkAfU8n8amzu3939fd+JV7W9Ty7xjraeIfg9oeoq255LmJZfUSKrqwPodwNbtz/wAl5sv+wc/8jXQHwL4dOknTDp3+hm5a68rz5MCQliWB3ZHLNx056VoNoWnPrya01vnUI4zEs29uFPbbnH6VenPzebf3xt+f4GTi+W3kl90r/l+JyPxYW7fTNJXTpYYro3y+W8yF0Bx3AIJ/Ol8Q3njLQPh/rt/qd/p13eQ25e1aws5IdhAOc7pGz26Yrr9T0aw1hYBqMHnC3k82P52Xa3rwRmrksUc8TRTIskbDDI4yCPcVnyvklHu/0S/Q1TXOpPol+bf6nhml+D9WRdKv/D3gOLTtQjmjd9YTVoZGkj3DzNwA+bK7hx61f8brp3iLVtYU+FB4gn01I1uLq5vo4FsmKKwEYcdDnJ5PNd1a/DLwvZX8d5bWt7HLE4dANVutgIOfueZtx7YxU+p/D3wzrGrPqV/YSNdSACQx3c0SyYGBuRHCtwB1FXP3lb1+X9eVvUmPu6+nz/r5nl95omk+JfC3w71DX7C3u7m7a2imllGTIpMeVJ98n867aS1tdL+LmjWlpGltbppjJFGvAHzSHA/U1v3ngXw7f+HbTQrmwY6fZ7fs8aXEqNHtxtw6sG4wO9JqngXw/rNhaWeoWk0kdmf3DLeTRyJ1/wCWiuHPU9SaqTvJtd2/vViVG2nlb7nc83125hudN+Kb200cqrbxoWjcMAwVwRx3BqXV9CtvCHwq+3eHbPfqWpGCC8umYLLcK8gUhn6DIYjJGBXoNv4A8M2ul3+nQabttdRiWK7Tz5CZVUEDLFs55OTnJ6kmteTSLGXSTpktur2ZTy/KYk8fXrn361FrRaX938Fr95onqm+8n99rfdY8l0Hwlq+n+INIv/D3gaHw9tYLe3kepwy/aYSpyGVcEktsbj0qa+8P23h3xo+r+LvDdvq8N1qKtba1vHmWpd/kTy+SQp78Cu40v4deG9H1FL7T7e9SeMnbv1S6kUf8AaQr+lA+HXhr+2hqr2l1JdCbzx5uo3Dxh85z5ZkKde2MVd/eT7f1/WxHRr+v6+86ZCrRqU+6QCPpXH/F3/kj/if/ALB8n8q7IDAwOBXG/F3/AJI/4n/7B8n8qkZ2Cf6lf90V4PZ/8JVD4d8TT6VcWjaWL9xPbJbt9pK+YclZN20f98niveI/9Uv+6KzrDw7pWl211b2NqI4rt2knUuzb2bOTyTjqelQ4u7flb8U9fLQpPRLzT/Br79Tz7XX0C50fwx4f03SJPE0M9oz2dhJcpFFNGqp87sVwSARjp1NczpJc/Czxfpq2o02C11SGKG1huFl+zgtASFdeDyxP416lc/DnwvdaVY6dLp8i29gpW28q8mjeNSACA6uGx8o4J7VYtfAvhyy0u706207Za3kqzXCGeQmR124OS2f4F6HtVz95T87/AJp/1v8ALYUfd5fK34f1/W5wUvhPSfCeseD9U0W38m/vLiOC7uT9+4V13MXPckqDTbLQND8X3/i3VvFkML3+n3UtvBNK4DWkSIGVlz93DMxyeOK9OutB029+w/arbf8A2fIslt+8YeWyjAPB549c1l6n8PfDOsax/al9p8jXRxvMV3NEkmDkb0Rwrdf4gc9DTn71/n8r2/r5ih7u/l87XPMbFw/w08KaQ9yy6RqGrXEF3P5gG+MSXDDLdOSq10w8PaV4L+JmiW3hC2TT4tRhn+3WlvwkgTZsZh7b3x9TXYyeDNAl8NHQH05f7M3MwgEjjaSxYlWB3LyT0I646Umg+C9C8NTSy6TaSrLKAGkuLqW4YAZ4BkZivXtjP4U5O8nLzfzutn/X4k2tG3lb8d/67Hk1v4N0jVPhnqes38bz6jb3BNrcuRvtQJAQIzjgZye/3jV6bRLHw5ceBtc0yLZquq3EEd9eNzJcCSMu2498sAa9Sh8L6Pb6LNpMNptsZ2LSRea53EnPXOevvRc+F9Hu4dMiuLTemlOj2Y81x5TIu1TwecA980oe7by5fwWv3/j1KneXN58347fcUPHuhX3iHwrLZaayGTertA/3bhVYFoicjAYArn3rz/ZpFj4D8SaTY+GIvDup2oiN5awuJFbLRsGDjg8FTx0z7V6prehWHiHTzZaqkzwEgkQ3MkDZBz96NlPb1qppHg3QtDsbiz0+yYQ3X+u8+eSdn+rSMzfr2rNxbjJd/wCv63LUrOL7f1/Wxx/iq8tjY+BIhcRGSa/tXjQOMuoZMkDuOR+dZ8Hhbw74o+JXieDxH5d35TBks5pF2r+7X95t65689OK6/T/hh4S0yeGa10yXzLeVJYWmvZ5fKZDldu9ztHsODgZzgVNqvw68Ma1eTXd/p8huJm3ySw3k0LMcAclHHGB06VpO0pc3m396X+RnFcqt5Jfc7nn+n6DqniP4dzabYKt9aabq8yxWdw42XdvHJIiw7uABjbz7VHqWpWul/DjUdP8ACvh1NCuhqMdnfWEUgx87Irfvfu8qcbugr0y88E6DfaHbaRNazR2VqQYo7e8mhIIGMl0cM3XnJOep5qSw8HaFpuiT6Ta2P+h3BJlWWZ5WckYJLuxbPHXPHalLW/nb57b+tvMpPVO3f5b/AJX8jzXQvCGq2PiHSrzQ/AsHh+L7l/cx6lFKLmEochlXBOW2nj0rR8C+DfDdr8SvE89tpNrHcWcsJgZV5i3NLnH12j8q63Svh34c0XUo7/ToL1J4ydvmancyKM/7DyFf0q2fBuhnxMfEAtZE1JgA0qXUqq2DkZQNsPU9R3qk9U/J/mn+nluQ1dfd89/8/PY5z4jn7drfhzQtQcx6NqVy63vzBVk2xs6ISeMF1Ue+az7bw3pHhj4nW2k+G7WO2sNQsJXvrCH/AFZKvGFcjsQGP/fRrvdd8P6Z4k01rDWbb7RbsQ2BI0bKQQQQ6kMpyB0IqtoHg/RPDLSvpFrIkkow0k9zLcPj0DSMxA9gamNlv5/O/cuTvt2/Xc4r4R+E9B02TWb6w0u3guodTlgjlRcMsYRflHtyfzqz44i1eX4jaAvh+6s7a78p8SXkDSpj5v4VZT+tdzpejWGjJcJpsHkrcTGeUb2bc5ABPJOOg4HFFxo1hdatb6lPBuu7ZSsUm9htBz2BwevcUPXl8rfl/mTtzef+f+R5/wDEO58Uaf4Ct7bUJrS+u72+S2nNkhtkaJ8grl2YLx3JxWd4d8L6ro/i7TtQ0bwRD4ZslVxqMkWoxSidNjbcqvJO4g16rqOm2mrWElnqMCzwSghkJI/IjkH3HNYmj/D7w7oWopfabBerOgIHm6nczLyCD8jyFTwT2ojpJv8Ara1hys42PHvHM1leaTqfiXSvC/nSW93IkfiG4v41lEiMylRGQGIBBAHoorr9Y8IeHNQ+M2kS32k2sstxbyTSF15d1BIb6g811N18LPB97cXM1zpcjm6LNLH9tnEZJOSRGH2g57gDvWlrXg7Q/EF3Z3WqWkkk9ic28kVzLCydO6MMjjocinGy5fJv8Y2/PXoE/ev/AF1TX6o53Q2htfiV4rjZkiVIYyAxxhRDEM/SuB1MR6l8MdsFywiuPFbbJ7dxnaZGwynkfQ16zrPgHw5r97Fd6nZSvcRRiIPFeTQllHZtjjd/wLNPHgbw4ulJpqaaFs47r7YkSyuAsuc7h82ep6dPapirJJ9Lf+lX/Id/eTX9e7Y898caFbeHLHQvDvhnQ4n07VLpnvLNJlgFyypuG52+UZKL9eg61e8HeGNa0jxbLJpvhSLwrpE9oyzwx30c6vLuXawVeQQA3516Jq+hadr2nGx1S386A4wA7Iy4OchlIZenY1m6N4E0HQJpZdMhvEeWMxv52pXMw2kg8B5CAeByOaavrfrf8rCdrJLy/O9zg/COh2Xg/wAVWFp4l8M266vcM6W+vRuGa7YAZZlGShOR1Pf2rqvi5/yS/U/+ult/6UR1e0f4e+G9C1JL/T7S5+0xghHub+4uNueuBI7AflVH4uf8kv1P/rpbf+lEdO/upC+02dmfumvn7SV8SxfDq/lW5tG8PtqGy7ghgZbpYyyBmEm4rgA5PydAa+gqybPwvo9hotxpNrZhLG63edCZHbduGDyTkcehqLPmcvL9U9fLQu6tbz/R/wCZwXiY6Jqf9ieH7LQm8UhdPE8FhNdJFCIVCqJizDBYb1HB6OeK5fTC918IdQsNjWMUGvpbQxwzrIbdNyABXHBxng16pe/DrwxqFnZ21xYSiOxj8q3MN5PE6J/d3o4YjgcEnoKsW/gfw7aaVJptvp+y0kuRdPH50hzKCCGzuz2HHSqdnzef+d/y9SVpy+X+Rw//AAi+leDvHHhe48PWq209/uhunHW4HlO+W9TuUflVLT/Dvh/xPZ+Kte8TpCNUtdQuYVu3kVXs0jkcIVJ+7gDv6V6pc6Hp15e2N3c2++ewbdbNvYeWdpXoDg8MRzmsi9+HXhfUNZfVLrTnN1IweTZdzJHIeuWjVwjde4OaU/eTXk/ld3HB8rv6fOyPN7ALf+EfAeg6hIV0XUGlF2S4Cy7dzIpJ4wWVfrmuhstD03wh8UI9N8KwLZ2d5pkst3ZQfcDK8YVyOxwSP+BGuxufBXh+78Nx6DPp+dOiwY4lmdWjw24bXDBhz6GnaF4O0Tw2Jf7JtZEaYYeSe5lncj03SMxA9gaucuaUmurfzv39P0IirRUfJL8dzx2Pwfpc/wAIR4gmWR9ZtmEttfFh5tvtAZVQ44API61vtoWn+FPG/gy60WAQXOqs0d9N/FcAwSP8x7/Mo/KvRl8KaKnh86GtnjTiMGHzX9Mfezn9alufDmlXl3p11c2u+bTG3WjeYw8s7CnQHB+ViOc9aUXytf10t+Y5Xlzed/z0+4xviJ4fv/Efh1LbTljuPKmWWWzlOFu0AOYiSRgHPWuHmOjW/wAOdXsNK8PR+Hrmz1GAXlnG29VbzIiW3jg8Y5HpXqGu+HdO8SWa2urJO8StvAgupYDn/ejZT+Gar6f4M0HS9FudJtLE/Y7ssZ1mnklaQkAHLuxboB347VFnaS7/APA/rqXfWL7f1/Wxynie7t21rwLAtxEZmu45BGHG4r5L/Nj05HPuKxtK8I+GfFPi7xcPEYjvGgu3KW80i4twd2ZAvUE46nj5R6V22m/DXwrpN1Bc2WnSCa2kEkMk15PKYyAQMb3OBgnjp7cCjUvhr4V1a6mubzTpfOndpJZIb2eEyFuudjjI9jwOfWqlq7+v42Jjp+H4XOBsND1jxV8MdLAt11aCxvJt2n3LhVvog7qqljgDbwR/uCotb1O2t/hymmeFNBXSd+qiw1DT45QgU5cOvmkbcZB+bpxmvTtS8E6Fq2m21hd206Wtr/qo7a8mt9vXqY3UnqeuaktvB2hWmgPosNgDYyElkkld2Ynqd7Etnk85zTlrfz/Hbf1t5jW6fr8r329L+R534f8AB+pWXiyym0zwLB4b0yWN4tSEeoRTJcoUYKCq85yau/DXwj4esfF/iS7s9Ktorq1uwkUiL80akZIH1PNddo3gDw/oGorfaZDepOoIBl1O5mXkY+68hXv6VYg8G6HbeJptft7WSPUZwPNkW6lCPgADMe7ZnAHOKadpX8mvxT/T8SJK6+a/Jr9fwRzPj6KPV/GnhrQNXP8AxJr0zNPGzBUnddmxGz1ySRjqc1Qs/Dmk6F8RLvw9odrHFo95pZmu9Pj/ANUsm7G7HY4VRXe6/wCG9K8T2K2mtWpniRw6FJXidGHOQ6EMOnY1FoXhLRfDcMsek2rx+d/rHmuJJ3b23yMzY46ZxUJe7b1+d+/p+hbeqfp8rPocd8H/AAvomlabqF9p2mwW91/aF1B5qLhvLWUgL9AAKPFkWtzfFzS18OXdja3P2A5e9t2mTGZeyup9e9d7pej2Oi28kGmQeTHJM8zrvZsu53MeSepNJJo1hLrUWrSQZvoo/KSXe3C88Yzj+I9u9VLWUX2/ya/NkxVotd/80/yPO/iVP4jtvCGj6dqBttRuL/UBBeC0H2WOWPZIwUF2YL91epPSoPDHhvVdB8XwX+meDIvCuleS41BYb+OZZsD5DtXnIy/r1r03VdJsdb097LVLcTwP1XcVIPqGBBB9wayNF8BeH/D96bvTILxZSpU+fqVxOpB/2ZJGH6Uo3Tb9fyt5DlZpL+t7njniGW0ntIPFGkeFtjNfosPiKe/j8+X96I2BjwGPG5cegzXXyeDfDV58bEkutItZJZbJ7piy8tLlDv8Arlj+ddQfhZ4Pad5W0uQ73EhjN9P5YYMGBCb9q8jPAFaWreDNC1zU7TUdRtJGu7MFYZYrqWIgHGQdjDcPlHXPSnFqPL5N/jG3569BT96/n/ndfqupzXh2eG28Q+NTPKkSpMztvYLtXYPmOe3B59q4TULePVPhf4WhE7rFceJJ/wB7AwyVLXJ4PI5r1rV/AHhvXdWXUtSsZHugioWju5oldQSQGVHCtyT94HNSr4I8PLpllp66cFtLC5N1bRCaQCOQ7stndk/fbg8c9OBUwVkr9OX7kym3e68/xVjzvx1oVvol94c8LeHfDsNxo95LNNcaak626XDL5eAWbjnJGOpzV3wn4V13T9W1OHT/AA7H4U0i8syogjvY51FweN4C4xwAPwr0PW/D+meIrMWur2xmjBypSV43U+zoQw/A1n6V4E0HRYrmPT4bxVuU8uXzdSuZcj2LyHb9Rg0K9nfrf8f8vmDtpbpb87nE+CNJ0/wp4qttP1rwtb2WtzxOItYhkDm+2soZ2AzsLEhsE9/auk+Kf/Ip2f8A2GtO/wDSuKtHRPAXh3w9qH27TLS4FzsKCS4vp7jaDgnAkdgOg6VnfFP/AJFOz/7DWnf+lcVU3dInq2dpRRRSGFcFc/8AJdJf+xcj/wDSmSu9ry7xN4k03w38bPP1aSdI5fD0aIYLSWc5+0SHkRqxH1NAHe0Vx3/C1PCn/PxqP/gmvP8A41R/wtTwp/z8aj/4Jrz/AONUAdjXLePrbSbjQom1nWoNFMM6zWt5O4VUmXlSQSN3OOMjNV/+FqeFP+fjUf8AwTXn/wAapkvxN8HzrtnkvpV9H0S7I/WKk1cadjldS8R3OufDXX4b64t9ZtrS4gjTUbOMCO7XzIiQEBYZ5IxuNSX+qaL4itvCeleF5Ld9QsrqGV7eFQZLSNY2Vt6jlMFlBz3q94k8aeFNY8NT6XZXN5amV43B/sS8CjbIrHgQ+i4rRsfiJ4NsreJVe8EqRhGkTQ7sFsDnnyacXaTb8vwE/ht6/jYzbH/kZvH/AP16H+UlZVzIsHwK0u4lO2KG6ZpHPRR578muv/4Wd4QBYiW/y/3j/Yl5831/dUh+Jng5ofKL3xj/ALh0S7x+XlUopxt5cv4O4mk736834nT22qWmo6X9v0qaK/gZd0bQOGV+OgIzXhereIrnVtBsgNa0y3xqEGfD9vYr59r/AKQv3pA+Vz1zsGc4969Oj+J/hGJAkUt+ijoq6LeAD/yFUX/CxvBQcuBd7jyT/YV3k/8AkGqWk1L0/B3/AK/ApP3bFW41ax0f4vwtqt3DZrc6ayQvO4QSNmLgE9TweParvxVs7688GbdPdk2XMMkziMyBIw4LMyZG5QASRkcUSfEvwbKytK167L90tod2SP8AyDUjfFLwmylWn1EgjBB0a85/8hVLV4pdv87ij7rv/W1jlNM8nXvEGjNJ8R9C1KbT38yGysrFIpm/dsuzImYjAJ4x2rA8ZeJLq+0HxJajWNN0kxz3Cf2H9hWS5lwWHm7t6kbvXacZ716HH8RvBMUgeIXaOOjLoV2D+fk0rfEfwU8hd/tjO3VjoV2Sfx8mqvqv66/1uOOhiDUrDw98S7XU/E00dpaz6PHFa3t04WNXDOSu48A4Pr3qe6XR9Y8e+HJ7Ozia0KTzRFogFZvMX94vrnJIbuDnvWtL8S/Bs6hZ2vZAvQPod2cfnDSj4neD127ZL4bBhcaJefKPb91RfVPt/wAH/MlKyt3X6WG6Aoj+KniJUAUNa27MB3JeXn61S1/UbTQPizaan4huI7XTX05oYLm4wsSTb843HgHaGrQHxQ8Ihy4m1AMeCw0W8yf/ACFTZviZ4OuFAne+lAOQH0S7OPzipbcvl/lYf81+px9uP7aj+Ij+FoJFN5AjQNFHt+0MwmO9MfeDZBBHXNV7QQaxpem6NdfErQI1imiZLFdNSOdGVw20fv8AIJI9O9dzH8TvB8X+qkv04A+XRLwcDp/yyqIfEXwQJN4W6D5zu/sK7z/6Jpqya+X4A7v8fxMrTdW0rwr8R/EJ8VXcNjJeJCbW6vJAizosahgpbrzjgZ6U+JrN/ippDWlubS0OlPtiaPy/LXDcbe1asvxJ8GXBBnN7KR0L6HdnH5w0/wD4Wd4Q3hvNv9wGAf7EvM4/79Uuiv00/Br9f6uD1vbrb8Gn+hzej61b+HfEdrpPhXxLYa9p9zdSK2lwlWntchnZi4YkjfnjaMZ68VXezvdQtfiVa6WHa6kcqioCWY5m4AFdRH8R/BUUnmRfbEf+8uhXYP5+TUi/E/wijMyS36luWI0W8Gfr+6pNXXyt+K/y/Eadpc3nf8/8zmtX1/w34i8Fadovh2a1utR+0W5hsbcqZYNkys5KDlcBWJ9hWzodlCfivrU9xDG91FZQoJSo3D5I8gH0yKsR/EfwVFJ5kX2xH/vLoV2D+fk1IPih4RDlxNqAZurf2LeZP/kKqv73N6v71YlK0eXpt+Kf6DfhmoTTNYjQBUTVZgqjoowvAqvotnbSfE3xTcvBG04REEhUbgvlR8Z9KtJ8UPCMedk2oLk5ONFvBk/9+qB8UPCIZmE2oBm6kaLeZP8A5Cqbap9lb8LDWl/N3/G5xE0JXwKk8kZk02w8SSy3kQTcogWRs5HTaB+FdDqeq6V4s8aeHpPCd3b6hNZGVprm0cSLboY2ADFemTxg+tav/CzvB/lsnmX2xs7l/sS8wc+3lU2H4leDLfP2c3sWeuzQ7tc/lDVf1+Fg6fevvv8A5nK6Vruiab4S1vQtfMb6vJeXHmae6Az3AaV2QiM8sNpBHtVG7gvo/DPgG/TUYtLs7W3LS3lzbefDA+I9jOpZQOR1J4xXcN8SfBbTeaxvDJ/fOh3efz8mnN8TfBzw+Uz3zR/3Dol3j8vKpX69dPwv/mN2b8tf/JjN8GQw6l40m1oeOdJ8QXItPJeHTrVYsLuB3NtlfPYdPSvRq4mH4k+DLck25vIiepTQ7tc/lDUv/C1PCn/PxqP/AIJrz/41Tb0SJ63Oxorjv+FqeFP+fjUf/BNef/GqP+FqeFP+fjUf/BNef/GqQy98Qv8AkmPij/sEXf8A6Jauo0L/AJF3Tf8Ar0i/9AFeW+N/iT4Zv/h/4htLae/M1xplzFGH0m7QFmiYDLNEABk9SQBXQ6P8VfCcGh2EUlzqQeO2jVsaLeEZCgdRFg0AegUVxf8Awtrwj/z86l/4JL3/AOM0f8La8I/8/Opf+CS9/wDjNAHaUVxf/C2vCP8Az86l/wCCS9/+M0f8La8I/wDPzqX/AIJL3/4zQB2lFcX/AMLa8I/8/Opf+CS9/wDjNH/C2vCP/PzqX/gkvf8A4zQB2lFcX/wtrwj/AM/Opf8Agkvf/jNH/C2vCP8Az86l/wCCS9/+M0AdpRXF/wDC2vCP/PzqX/gkvf8A4zR/wtrwj/z86l/4JL3/AOM0AdpRXF/8La8I/wDPzqX/AIJL3/4zR/wtrwj/AM/Opf8Agkvf/jNAHaUVxf8Awtrwj/z86l/4JL3/AOM0f8La8I/8/Opf+CS9/wDjNAHaVxvxd/5I/wCJ/wDsHyfypv8Awtrwj/z86l/4JL3/AOM1y3xM+JfhnVfhh4gsbK4v2uLiydIxJpN3GpJHdmiCj6kigD1uP/Vr9BTq4pPiz4REag3OpdB/zBL3/wCM0v8Awtrwj/z86l/4JL3/AOM0AdpRXF/8La8I/wDPzqX/AIJL3/4zR/wtrwj/AM/Opf8Agkvf/jNAHaUVxf8Awtrwj/z86l/4JL3/AOM0f8La8I/8/Opf+CS9/wDjNAHaUVxf/C2vCP8Az86l/wCCS9/+M0f8La8I/wDPzqX/AIJL3/4zQB2lFcX/AMLa8I/8/Opf+CS9/wDjNH/C2vCP/PzqX/gkvf8A4zQB2lFcX/wtrwj/AM/Opf8Agkvf/jNH/C2vCP8Az86l/wCCS9/+M0AdpRXF/wDC2vCP/PzqX/gkvf8A4zR/wtrwj/z86l/4JL3/AOM0AdpRXF/8La8I/wDPzqX/AIJL3/4zR/wtrwj/AM/Opf8Agkvf/jNAHaUVxf8Awtrwj/z86l/4JL3/AOM0f8La8I/8/Opf+CS9/wDjNAHaUVxf/C2vCP8Az86l/wCCS9/+M0f8La8I/wDPzqX/AIJL3/4zQB2lFcX/AMLa8I/8/Opf+CS9/wDjNH/C2vCP/PzqX/gkvf8A4zQB2lFcX/wtrwj/AM/Opf8Agkvf/jNH/C2vCP8Az86l/wCCS9/+M0AdpRXF/wDC2vCP/PzqX/gkvf8A4zR/wtrwj/z86l/4JL3/AOM0AdpRXF/8La8I/wDPzqX/AIJL3/4zR/wtrwj/AM/Opf8Agkvf/jNAHaUVxf8Awtrwj/z86l/4JL3/AOM0f8La8I/8/Opf+CS9/wDjNAHaVxfxc/5Jfqf/AF0tv/SiOj/hbXhH/n51L/wSXv8A8ZrlPiZ8SvDOqfD3ULOynv2mkktyok0m7jHE8bH5miAHAPegD1+iuL/4W14R/wCfnUv/AASXv/xmj/hbXhH/AJ+dS/8ABJe//GaAO0ori/8AhbXhH/n51L/wSXv/AMZo/wCFteEf+fnUv/BJe/8AxmgDtKK4v/hbXhH/AJ+dS/8ABJe//GaP+FteEf8An51L/wAEl7/8ZoA7SiuL/wCFteEf+fnUv/BJe/8Axmj/AIW14R/5+dS/8El7/wDGaAO0ori/+FteEf8An51L/wAEl7/8Zo/4W14R/wCfnUv/AASXv/xmgDtKK4v/AIW14R/5+dS/8El7/wDGaP8AhbXhH/n51L/wSXv/AMZoA7SiuL/4W14R/wCfnUv/AASXv/xmj/hbXhH/AJ+dS/8ABJe//GaAO0ori/8AhbXhH/n51L/wSXv/AMZo/wCFteEf+fnUv/BJe/8AxmgDtKK4v/hbXhH/AJ+dS/8ABJe//GaP+FteEf8An51L/wAEl7/8ZoA7SiuL/wCFteEf+fnUv/BJe/8Axmj/AIW14R/5+dS/8El7/wDGaAO0ori/+FteEf8An51L/wAEl7/8Zo/4W14R/wCfnUv/AASXv/xmgDtKK4v/AIW14R/5+dS/8El7/wDGaP8AhbXhH/n51L/wSXv/AMZoA7SiuL/4W14R/wCfnUv/AASXv/xmj/hbXhH/AJ+dS/8ABJe//GaAO0ori/8AhbXhH/n51L/wSXv/AMZo/wCFteEf+fnUv/BJe/8AxmgDtKK4v/hbXhH/AJ+dS/8ABJe//GaP+FteEf8An51L/wAEl7/8ZoA7SuL+Kf8AyKdn/wBhrTv/AErio/4W14R/5+dS/wDBJe//ABmua8d/EHw9r+j6fp+mT3r3Mms6eVE2mXMK8XUZPzvGFHA7mgD1miiigArgrn/kukv/AGLkf/pTJXe1wVz/AMl0l/7FyP8A9KZKAOoorzz41CBvBNuLuJpoDfJvjVC5YbH4wOTWF4W/sGw+J0TeF9On0Cxksz9ohurR7X7SwDkbVkALEcEkZ7Uou7fz/BXCWiv/AFvY9horzyHxB4x8QWV3rPh19LttMhkdIYLm3aWSYRsUc7xIoX5lbGR6VLL47v8AV7PQLbw7BBBqWtQtMftWZEtlUIWyoKliPMHQjpT1269v6/pdQ2/rsd9RXDWnifxBpWqX+j+IYbW+vIrM3lrNYwtGsq8jZsLMd2VJ69O1Q+FNf8Q+I4pJl1/QC7RFvsEdq/n2j5Hyyjzc/LyDwOfSj0/r+rBtv/X9XO/oryTwNc+I9H8F+I9TnvNOmitGuZliS1dWMqxBsk7z8vC8Yz15roPDmt+Lr/w0df1Q6VHBNBuhtApRo23AbmlL7SMAnGB1AzxR0v5J/eH+dvuO7orzvw342v7jxlFot9rWha1HcwPLHLpAx5RTGQ48x+u4Y6dDVa08U+ONW0G61qyTSra1sS++GWFna5VeSVYONnHGCDyM96PPyv8Ac7fmO2tv611PTaK8+vPG2tXx0CPw7a2vmaxaGVjP8wgb5eeCNwGcY6mpLXxHrMNxrug+J1sbm7tbA3UUtvE0ccyMrjaULMf4DnnoaT0T8r/huCV7fL8dDvaK8xt/FGo6T8OdBudB02xWe9u5IfsyqUjA3ycjJ45XJ59a2NI13xHY+LhovimSwuRc2zT28llA0W3ZjcrAu2fvLzx3p9Wu119yu/wJv7ql6P73b8ztqrzX1rbXMNvPOiSznEaE8ufavL7jxp4xn0i01yxu9Ghsb27WCK1ls3eVAXCcsJBk856DitvTpJdR+MFyLxkd9K05YsqpUF5PLckAngZBppNtL1/BX/y+8ctLrt/nb8zvKWvJ9G8F+HfFHjjxW+vaTb3siXO1HlXJQEnpUcXiHUvBOk+LNMsJPtg0OWH7F9q5wsnlEocY4BkOOnQVKkrK/VX/AK+8rlblZd7HrlFcVb6p4qg8MvqesXejW7XKo8O9DGlkrAkmRmkxJjjptzg1k6R461a4l1uwOo6NrF1Y2f2yC50xSYmHPyECRvm+U9+44qno2n0JWqTXU9Lorz698f3qaXoN5aQwkXMYn1ASKQI4wMPg54IcqOc1fuvEN5ear4jtIo7aXTNO08k7kJLy4k3KTnGMKvHvUy91N9r/AIDWrXnb8dDsqK8xg8UajpXw80CfQdOsVmvrqSH7MqlI1G6TkZbj7uTzzz61s6PrviOy8Xf2L4pksLn7RbNPBJZQNFt243KQXbP3l546Gm9G12uvuV3+BN/dUu9n97t+Z2tFeTzeNPGU+k2Ot2V3o0Njf3SwxWstm7yoC4XlhIMnnPQcV3Hiyw1bUvBN3aaXOE1OSEBXj+QFuM4yeB1pSuot28vyf6lJLn5H/Wtv0N+lry74eReE7TUreGx0ebw3raRYmtJYjELnjszKPMxzyvTPvTte8faromoee+s+HTCtwsT6QrhrtQSFB3CTk8hsbOh/GrsuZJdf87Eq7TfY9PoriNQ1/wAS3njK50Hw+LGBI4I5hd3UTSBMj7pUMpOfUHjHvWFa+MfG134bvNXZNKtk0hzHeI0LObkqAzFMP8nysBzu5FQndX/re35lW1svL8VdfgeqVHNNHbW8k87hIo1Lux6KAMk1w2o+MNbubrQrfw9bWu/V7L7RvuASICdp3EZG4c4xwefaol1/WWi8S+HvExs5by201p47i0jMaSI6SDGwsxBGz170pNqLfa/4bhG0rdnb8TurK+ttRs0u7GZJ4JM7JEOQ2Dg/qDVivI1vEs/hR4bMlla3YkvCu25QsF/evyMEc10ep674oufG9zoHh4afBFDCkpurqJpNmR0Kh1Jz7dMe9W9JOK7tfcrkRd4pvsn97sdzRXnkHjvVY/A95eXsNudWtb9NPYxoRD5jmMB8ZJwPMBxnt1qTQ9Z8Xt4+GiazqGj3Futobpza2UiNjKDbkyMB9/uO1CV3p/Wl/wAht2V3/WtvzNz4hf8AJMfFH/YIu/8A0S1dRoX/ACLum/8AXpF/6AK5f4hf8kx8Uf8AYIu//RLV1Ghf8i7pv/XpF/6AKQy/RRRQAUUUUAFFFFABRRRQAUUUUAFFFFABRRRQAVxvxd/5I/4n/wCwfJ/Kuyrjfi7/AMkf8T/9g+T+VAHYR/6tfoKdTY/9Wv0FOoAKKKKACiiigAooooAKKKKACiiigAooooAKKKKACiiigAooooAKKKKACiiigAooooAKKKKACiiigAri/i5/yS/U/wDrpbf+lEddpXF/Fz/kl+p/9dLb/wBKI6AO0ooooAKKKKACiiigAooooAKKKKACiiigAooooAKKKKACiiigAooooAKKKKACiiigAooooAKKKKACiiigAri/in/yKdn/ANhrTv8A0rirtK4v4p/8inZ/9hrTv/SuKgDtKKKKACuCuf8Akukv/YuR/wDpTJXe1wVz/wAl0l/7FyP/ANKZKAF8feHNQ8TaBFaaRLbR3MVysym6LBDhWGPlBPesxPC/iTW/FGnan4sfSYodNDmKLTXkYyFxg7i6jjgdDXd0UkrO/wDW1geqPP7fwv4v0SK80nQLrSW0aaVnha6ZxPCHJZwAqFT8zNjJPBFTXngS80+10KbwpcwLqOjRmFWvc7J42CBw2ASCdg6Dua7qinr8/wCv68+odf66nH6Z4f146tc6/rUmnvq5t/s1tDbs5t0UEkZJUNnLNnrxVbR/CuuN4ui1rXItGsvJidNuktJmZmZTl9yjP3evvXc0UbNPsG6scBYeD/EVno/iHRWn019P1JZzbSbpPNRpI9o3DbjAwOme9Xb7wZeXfwzi8OLeJFdxxqPNViEYht2DxnB+ldlRStpb0/DYd7O/r+O557ovgrWoPGNjrmpx6JaJa28sJt9MRlDbtuDkoCfu9z9KwvCWmeLb7wtdWmkXmnHTbyZ0lN3uEsIJwwTapB4/vHqT7V69UFpY2unw+TY28VvHktsiQKM+uBT667Wt97uLZaeX4J/5nm2vaLe6X4k8Lab4cuo4bizs3WNp1yku0oMNwSAeuRzW7p/hTV7mbV9T8RTWR1W/tDZxLaFjDEgDbeWAOcuc8HjFdZJY2s13HdS28T3EQIjlZAWQHqAe3QVYpbpp9b/iPa1vL8DhYfA9/H4X0HTDcWxl027eeVgW2spMhwvHX5x1960Nc0eZfE0PiJpVFrZWU6SIuTIS2wgqMY/hPeuqpKJXd/m/vVvyFFJJLpovudzwTw/pY0KwsvEkWn6RNbxS7lSbUrp7n532E+RuMW75vT36132mt9l+Lcl0ymOLW9NWZN3XcgjXB9Dya6GHwR4Wt9RF/B4d0uO8VtwuFtEDg+u7Gc1rS2dtPPFNNBHJLCcxuyglD7HtV31T9fxVv69BW38/87nDR+HfGej+JdYvtBbQpbfUZfMAvJJg6deyqR3pbr4eXU3hDV7Rr2OfWNXljmuLqXITKsmAMDgBUAHHbn1rv6Kiytb5f19xXM+a/nf5nI+KfCl9rPh3TLWxmtxc6fLFL5dwW8mfYPuvgElT9KpeF/Bep6f4qvNY1ddKiS6sltja6chVFIZieqjIwep5ru6Kq+rff9SbaJdv01PPdN+HV5BDrVtf3kMttdeYliEJJhR33kNkeoHTNafh7wnfab4P1Kx1G4gm1TUhK800ZOze6be4Bxn2rr6Km1013Vir6387/wBfccND4Iv4/DWgacbi2MumXTzSsC21gTJwvHX5x1q/rmjzJ4nj8RNKotbOxnjkRMmQlthBUYx/Ce9dVSUSu7+d396t+QopJJdNF9zueCeHtLGg6fY+I4tP0ia3ikDIkupXT3PzvsJ8jcYg3Pp717Rf/wBoajoKy6JcLaXciLJEZlBHIztbg+vb0qtD4I8LW2oLf2/h3S4rxW3CdLRA4Pruxmt2qburCSs7nDR+GPEeteIrTU/FUul24sUcQJphdi5Ycli6gjGBjB9a52f4YeIZtJOk7tD8hLnzkvmVmupB5u/a7FOMdBg9hXrdFC0aa/rW5V2c9ZeH7m28aXesPLEYJ7eOJUBO4FRgk8YrMg8GX0Xg3XtIa4tzNqc0jxOC21Q0aqN3GeqnpXaUVNtLeq+93/MS0aa8vwVvyPKtV0nWNO8Q+E9P0q7t49QstNMe5xmKUrsUqTtJCnrkDPAroLDwnq9w2taj4gmsjqupWhtI1tCxhiQK4XkgHq5zwegrrZLG1lvI7uW3ie4iUqkrICyg9QD26VYo3TT63/EFpa3S34HBT+A9Ql8E6Poy3NsJ7C586RyW2sN7NgcZzzW9a6DcQeOL7WmkiMFxBHGqAncCo5zxj9a36Kr7XN5t/erP8BJJK3kl9zv+Z5N4t8PtpPhTULHUGSc6vrCTwrG7IgGYQBIwwVGUzle3SrHgqJvCvilNNnsNL3ajEWE+nX1xdspUgAM0xOFx2HtXpF/p9nqlm9pqVrDd20n34ZkDq31B4qnpHhjQtAd30PR7HTmkGHNrbrGWHvge1KHu/wBeSX6Dlr/Xnco/EL/kmPij/sEXf/olq6jQv+Rd03/r0i/9AFcv8Qv+SY+KP+wRd/8Aolq6jQv+Rd03/r0i/wDQBQBfrHj8V6JL4kfQI9QjOqIu5rbawIHPfGOx71sV4zrGgz33jXxBrWkAjVtHlW4tynDOowXjyOfmXcPxqeZKSvt1Ha603PWk1axfWH0pbhTepF5rQ4OQmQM56fxD86uV5T4c8Tw6148utbtUOTor74upSRXiVlP0YEfhVaCx1fUfhq/jpvFGrQ6n9kbUo7dbp1tU2pvEbRbsFcjB9R2qtld9N/va/QUfedl6L7k/1PU59WsbXUrbT57hUurrPkxEHL4BJ9ugP5Vcrx3VNH/4SHx54Sv7jVNXtpb2Iu62168aoRHJ9wD7oO3n1yfWvTNdu4tF8L3E02oiyS3gx9rn+cpgfeOSNx/EUP3Y3e+v5tCi+aVl5fikzWorxrw7rU9p8SdHs7GbxcbTUElEyeIBLsJVGYGPecenT0q5o+jav4ps9YvLzxXrFt9lupktY7S5eIIFdvv4b5+nHTA47Um7K77N/c7D0/L8U3+h6zUdxMLe2lmcErGhcgdSAM15GNd17xLo3gcJq0+nS6pG6XssAKmQYiyRgjB+Y4bnBrUtFvvDXja+8OnVtQ1SwutJe7U38zTPE+Spw7Hp8vT3pyVrr1/BXGltf+tbHV6f420m98MjXZjLaWfmtF+9jLMCpI6Ln0roFIZQR0PSvFE1G80z4FpcaddTWs39oyL5kLlGxufjIrV8b+Iru48ew6Cw8RrYW9klzIfDySGZ2ZnX5mTBUDYPXPNHWy/rRMmN2r+X62PV6ydc8Q22gvYLdRSyG+uo7WPywPlZ2CgnJHHNeZweKtf0LwP4gc2+ti3tHRdPutZhdLhg5G7cWyWwWYA56AU/xF4TudBvPCk//CRarqKvqtsLiPULh5wzeYmCm4/J1ORznj0qkryXa6/GwS0i+9n+B6/XG/F3/kj/AIn/AOwfJ/KuyHQVxvxd/wCSP+J/+wfJ/KpGdhH/AKtfoKdTY/8AVr9BTqACiiigAooooAKKKKACiiigAooooAKKKKAM/Ttd03Vbi7g0+7WaWyk8u4QAgxtzwcj2NP0nWbDXLM3WlXK3MAcoXUEDIAPce4rzX4jWGp6F4ih1DwsY4p/EP/Eumy+wLKQCkvHUgIw/4F1p3jOd/B2n+HPCWiJqUdncFllfSY2a52JgkIFwQSMjOeKS1Sfy+fX5W1+fdDa1t8/l/nv93meq0V5X4Rvdcj8RXtjplv4ofTZbNpEm8RxShopwVAVXfOQRk44pfA05t/EENt4nvvEtvrzqwaC/upPsVw4xvMCtwygkYx0DD1qkruxL0Vz1OiiikMKKKKACiiigAooooAKKKKACiiigAri/i5/yS/U/+ult/wClEddpXF/Fz/kl+p/9dLb/ANKI6AO0ooooAKKKKACiiigAooooAKKKKACiiigAooooAyNX8V6JoWoWtlq+oR2txeHECMrHeee4GB0PWrd5q1jp9xawXlwsUt2/lwKQTvb04rz34h6Bb+JvHelabcj/AFlozRtjlHXeykfiBWPB4guNR1fwzo+rhl1fRdSS1ut5yZcHasvPOH2Fvx6miHvaPe/4Xt/XqhT927X9O1z2aivNLGyvvH+ta9Pda7q2lwabdtY21vp109uPlRX3ttPzH95jGP4etb/w61W+1Lw26anP9pns7ma2+0HrIqSMqknucKMn1zRHVfK/yY5affb5/wBJnWUUUUAFFFFABRRRQAUUUUAFFFFABRRRQAVxfxT/AORTs/8AsNad/wClcVdpXF/FP/kU7P8A7DWnf+lcVAHaUUUUAFcFc/8AJdJf+xcj/wDSmSu9rgrn/kukv/YuR/8ApTJQB1NFFFABRRRQAUUUUAQfbbU27z/aYfJjzvk8wbVx1yegoe8to0iaS4iVZjiMlwA5xnj14ryq8j+yavrng55CF1W7juYkA48mVtjr+SGpfD7nxBr2h6NMNyaH51xIGORlXeJB/wB8uDRH3rf10u/u0+8Je7/X3ffr9x3cniWO1GqSX8KW0Fh0le6iIl+92DZU/L0bHX2NZVz49guPAh1/RWt5ZN8amB5A+zdKqHdtPoc/lXP6XZ219qXxBivbeK4j8wHZKgcZzNzg1UGmabF8BQ1jaW9u1w0Qlkt4xGz/AOkqMkrg5xjn2rNt+zb8o/jca+OK82vuaPStN1uw1BYo4r60kujGGeGOZSynAz8ucjBNTXer6bp8gjv9QtbV2GQs06oSPoTXnl9oWm6BqXg650izitbma4jhmnjUB5lZCSHbq2SoPOaf4c0zSNe1XxTJ4rtba9vYLySPF2ok8iAD5du4fKMl+npW09G7dL/hb/MiOyv5fjf/ACPRmu7dEjd54lWU4jYuAH78etEt5bQPtnuIo22l8O4B2jqeewrx+3mdfBHh+WeWR7WHWZlillYkhN0ygZPYcAe2K6fUbix1D4yWFgWiuGj0+4E8LDcAG8vAIPY4P5Ukruy7v8I83/AG3ZO/T/5Ll/4Jv+GvGWmeJ2ukspohJbzmLy/OVmfCg7gAenP6Gte61Gysf+P28t7f5S372VU4HU8npzXC/C7SdKt/7ZntdPs4riPUXjEkcCq6r5acAgZA5PHvUPjHS7PWPi54cttRhE8As5nMTfdf54xhh0Yc9DxSWvIu6X5XGvtX6X/BneS6xpsFtHcz6jaRwS8xyvOoV/oScGpY7+zmsxdxXcD2x6TLICh5x97p14ryzXtPv7j4nDS9P0bRb2xtLBGtrDUnMUCZLhiiLGwJwo7DGBRe6Dq+g/D3xL/bEdhY2c8kb29pp9w7x2y7kDbSVXbkhm4HU1LklBy/rexSjeaj6fienxavps92bWDULWS4XOYUnUuMdflBzWNpPiS6v/G2r6NNFCtvYxq8bqDuOT35x+lcRqem6JZ6D4R1Lw1HCNQnvLbbdRHEtwrYLb3+8+eM7s5zV6C+i07xt4yvLtZGihsVZ1iOGI9jxirkuV+l/wAEQrySt1t+Z6DDrGm3N01rb6jaS3C53RRzqzjHB4BzS3Gr6baXS211qFrDO2NsUk6qxzwMAnNeNl7mLxF4R1CLRNF0qK/ukMU9nOzXU8TIzYlHljOeCcseR361v+FtN0PV7jxVeeKIYbm9t7+VXmukBe2iUZGxjygHzEFcYot+v4Nf5juunl+N/wDI9Fu9W07T9v2+/tbbeMr50ypuHtk1L9stjBHOLiLyZceXJvG189MHvmvIRZaprXj3W47fSND1u3tkijtk1i4ceXEYozlF8tx1PXg8mp9V0DVdL+HsOn668Mfmauphisbl2W3iYttRHIUgKMAYxjFJaxT72/F2G9Hb+trnp6a7pEiyNHqlk6xDMhW4QhPrzxVi1vbW9gE1lcw3ER6SRSB1/MV5tqfhLQ4/iboNvDp0ENvcWzi4giQJHPtWRh5ijh+QDznoKx557vRdP+INr4f/ANFjs3hNtDCNqxbky20D7uSe1K+jfk39zsCV3Zd0vvVz1q31rS7u5+z2upWc8/8AzyjnVm/IHNOudX02yLC81C1typwwlnVcHGccn0ryzT/CHiCePRp9M0Twxpv2eeGU6hZXkhnkiDAsCfJBfcBjk1qWfh3TNZ+I/iWTWLSO9MaIojnG+MHyo/m2njPPXGactHb1/AmLUlf0/FnW+I/F+meHNDGqTzxTRMMxhJlHmDGcqSef/r1X1rxULC207ULCW1uNOmuFhuJFbeV3kKu0qcZ3MM5zxXnV9Y2U3wg1BLu2hmSw1G4htjNGH8mNWYBVJ6AADp6V2vjGw0+x+G8kNha29tCJIHSOCMIu7zEwcDjOQKG+VOT6Nfdo7BH3pKPdf5o7UEEAjkHoaWqmllm0ezMn3zAhbPrtFW6clZ2CLukwooopDCiiigDnPiF/yTHxR/2CLv8A9EtXUaF/yLum/wDXpF/6AK5f4hf8kx8Uf9gi7/8ARLV1Ghf8i7pv/XpF/wCgCgC/WVYeHrbTtav9TikleW/IMiORtGPTitWijzA5TRPh1o2geLdT1/T2uBLqUZSW3ZgYlyVJKjGQSVz17mqCfCyziMltFrurJo8kpkfSA8X2cg9U+5v2kcfezjvXdUULS3kHfzOa17wTa63Pplxb395pVxpjZglsimQNpXad6sMYY1o6z4ftNf8ADc2jaq0k8E8PlSOSA7cY3cDGfwrUoo6WBaO6OM074cQWevWGs32u6rqt5p4cQNdtFgKylduEReBkn15rmPDPgGTVU1ac6rq2jG4vphPHa7FW4XzGwTvRuwH3cV61RR1v5W+9p/oHSy8vwv8A5nmvjTwlb3GreENJsYJ7eztTKsctsDm2I8rYwJyMjGRnI4710eieCLfSZby5utSvtVvbuMwtd3rJ5ix4+4NiqMd+ldPRQtn5t/iHby/zuclJ8OtMl8Hjw411di1E7T+YGXfuJPGduMc+lWte8HQ6zfQ6ha6lfaRqEUflfa7EpvZOflO9WGOT2710dFALQ5yHwesnh+70jXdX1DXILrhmvjGGUdcDy0UdayLb4WWa3Vhcalr2r6o+mzRy2f2t4v3Gwg7RsRcg4XOcngYxXdUU07O6/qwdLBXG/F3/AJI/4n/7B8n8q7KuN+Lv/JH/ABP/ANg+T+VIDsI/9Wv0FOpsf+rX6CnUAFFFFABRRRQAUUUUAFFFFABRRRQAUUUUAZOueHbXXptOkupZozp92t1EIyBuZQwAOQePmPSmeI/DNr4jhh82eezurZt9vd2xAkhPGSu4Edh1BrZoo6WHc53SPC9/pnn/AGjxZrOpebGUX7X5H7o5HzLtjXnjvnrVXTPAn2TW7fU9V8Q6rrc1qrC3W/MO2ItjJHlxqc/KOvpXWUUdbk20sFFFFAwooooAKKKKACiiigAooooAKKKKACuL+Ln/ACS/U/8Arpbf+lEddpXF/Fz/AJJfqf8A10tv/SiOgDtKKKKACiiigAooooAKKKKACiiigAooooAKKKKAMq68P2134ks9akllFxaRmNEUjYQc9eM/xHvWVqnw80jVfG1h4pke4hv7I5AiYBJeRjeCD0x2x1NdVRQtGmugPVNPqchqnw9hvdcuNT0zXdU0WS7QLdR2LRbJzk/MwdGOSCBxjgCug0TRbTQNKisNPQrFHkkscl2JJZj7kkn8av0ULRWQPV3YUUUUAFFFFABRRRQAUUUUAFFFFABRRRQAVxfxT/5FOz/7DWnf+lcVdpXF/FP/AJFOz/7DWnf+lcVAHaUUUUAFea63rOl6N8bml1jUrSwjk8Oxqj3U6xBj9pk4BYjJr0qvO9UsLO/+ODpfWsFyq+HIyqzRhwD9pk5GaANH/hO/CP8A0NOi/wDgxi/+Ko/4Tvwj/wBDTov/AIMYv/iqu/8ACOaJ/wBAbT//AAFT/Cj/AIRzRP8AoDaf/wCAqf4UAUv+E78I/wDQ06L/AODGL/4qj/hO/CP/AENOi/8Agxi/+Kq7/wAI5on/AEBtP/8AAVP8KP8AhHNE/wCgNp//AICp/hQBS/4Tvwj/ANDTov8A4MYv/iqP+E78I/8AQ06L/wCDGL/4qrv/AAjmif8AQG0//wABU/wo/wCEc0T/AKA2n/8AgKn+FAGLL4i8AT6vDqk2veH3voFKRXBv4dyA9QDu96LTxF4AsL+5vbPXvD8NzdkGeVL+ENIQABn5vQAfhW1/wjmif9AbT/8AwFT/AAo/4RzRP+gNp/8A4Cp/hRsG5j2/ibwHaXF1Pba/oEUt2d07rfw5kPPX5vc/nWdZz/C3T7e4t7LUPDUEVy4eZEvYQJGBBBPzeoB/Cup/4RzRP+gNp/8A4Cp/hR/wjmif9AbT/wDwFT/CgDHn8T+A7lrYz+INAkNoweDdfw/uyBgEfN6Gs3WJfhZ4gv0vdb1Dw1e3KKFWWa9hLAA5A+96k11X/COaJ/0BtP8A/AVP8KP+Ec0T/oDaf/4Cp/hR1uBjXniPwDqGktpd7r2gTWLIEa3e/hKlRjAxu9hVPSb74ZaE0TaRqnhuzMIYRmK+hG3djdj5u+B+VdL/AMI5on/QG0//AMBU/wAKP+Ec0T/oDaf/AOAqf4UbO4dLHO22p/DW01yXWbbVvDkWozf6y6W+h3txjk7vSrcvifwHPqUOoTeINBe7gQpFMb+HcikgkA7vUD8q1/8AhHNE/wCgNp//AICp/hR/wjmif9AbT/8AwFT/AAo7eQHPa5q3w48SwRw69rHh2/jjJKLPfQsFJ/4F7CsXVpfAdp4Jv9I8J6t4cszcMjCKLUIUViHUkn5vQV3L6BoMSlpNJ01FHUtbRgfypR4d0MgEaPp5B6EWqf4VLimmu407NPscloU3w00e5j1ODUvDcGqtHia5S+h3sx+9k7u5rVXxH4BS7ublde0AT3SbJ5Bfw5kX0PzVs/8ACOaJ/wBAbT//AAFT/Cj/AIRzRP8AoDaf/wCAqf4VcnzO7JSsjk7H/hVOm3f2mwvfDNvP5vneYl7CDv5+b73Xk/nUmoXPwv1XWItV1HUvDVzfwlTHcSX0JdSpyMHd2PNdR/wjmif9AbT/APwFT/Cj/hHNE/6A2n/+Aqf4Uu3kM5nW7v4YeJGibXtT8N35hG2MzX0LbR7fNT7bUvhrZ6XFptrq3hyKyikEscC30IVWHcDd1ro/+Ec0T/oDaf8A+Aqf4Uf8I5on/QG0/wD8BU/wo2AyZPFPgWW/hvZPEOgtcwKVilOoQ7kBBBA+b0J/Om2/ibwFaXd1c22v6BFPdkG4kW/hzIQMDPzelbH/AAjmif8AQG0//wABU/wo/wCEc0T/AKA2n/8AgKn+FAHGW1p8IbPUo9QtbjwtFdxyCRJlvIdysDkHO7rmt2LxT4FgvJ7qHxDoKT3GPOkGoQ5fAA5+b0A/KtNNA0CTPl6Tpr4ODttozg+nSn/8I5on/QG0/wD8BU/wo6WDrcwm1z4eNplxpza34eNndM7TQ/b4dshbliRu75rm9en8IPpem6F4b13w9Y6WLxJ7oRajCoQIyuMDdzkoBXoP/COaJ/0BtP8A/AVP8KP+Ec0T/oDaf/4Cp/hRs7+n4B0+/wDEop458IIiqvinRcKMD/iYxf8AxVL/AMJ34R/6GnRf/BjF/wDFVd/4RzRP+gNp/wD4Cp/hR/wjmif9AbT/APwFT/CgCl/wnfhH/oadF/8ABjF/8VR/wnfhH/oadF/8GMX/AMVV3/hHNE/6A2n/APgKn+FH/COaJ/0BtP8A/AVP8KAKX/Cd+Ef+hp0X/wAGMX/xVH/Cd+Ef+hp0X/wYxf8AxVXf+Ec0T/oDaf8A+Aqf4Uf8I5on/QG0/wD8BU/woA5Tx34z8L3Xw68R29r4k0iaeXSrpI4o7+JmdjEwAADZJJ7V0ei+PPCEWgafHJ4q0RHW2jDK2owgghRwRurH8faBo8Pw28Syw6TYxyJpN0yutsgKkQtgg44NdLonhvQ38P6cz6Np7M1rESTaoSTsHtQAv/Cf+Df+ht0P/wAGUP8A8VR/wn/g3/obdD/8GUP/AMVV3/hGdB/6Amnf+Akf+FH/AAjOg/8AQE07/wABI/8ACgCl/wAJ/wCDf+ht0P8A8GUP/wAVR/wn/g3/AKG3Q/8AwZQ//FVd/wCEZ0H/AKAmnf8AgJH/AIUf8IzoP/QE07/wEj/woApf8J/4N/6G3Q//AAZQ/wDxVH/Cf+Df+ht0P/wZQ/8AxVXf+EZ0H/oCad/4CR/4Uf8ACM6D/wBATTv/AAEj/wAKAKX/AAn/AIN/6G3Q/wDwZQ//ABVH/Cf+Df8AobdD/wDBlD/8VV3/AIRnQf8AoCad/wCAkf8AhR/wjOg/9ATTv/ASP/CgCl/wn/g3/obdD/8ABlD/APFUf8J/4N/6G3Q//BlD/wDFVd/4RnQf+gJp3/gJH/hR/wAIzoP/AEBNO/8AASP/AAoApf8ACf8Ag3/obdD/APBlD/8AFUf8J/4N/wCht0P/AMGUP/xVWm8PeHkZVfSNMVmOFBtowT9OKf8A8IzoP/QE07/wEj/woApf8J/4N/6G3Q//AAZQ/wDxVH/Cf+Df+ht0P/wZQ/8AxVXf+EZ0H/oCad/4CR/4Uf8ACM6D/wBATTv/AAEj/wAKAKX/AAn/AIN/6G3Q/wDwZQ//ABVcl8U/Gnha++FPiO1sfEuj3NxLYyLHDDfxO7nHQANkmu6/4RnQf+gJp3/gJH/hXIfFfQNHtvhL4kmt9JsYpUsJCrpbIrKcdQQOKAOgTx/4OEa58WaH0H/MSh/+Kp3/AAn/AIN/6G3Q/wDwZQ//ABVW4/DWheWv/El07oP+XRP8Kd/wjOg/9ATTv/ASP/CgCl/wn/g3/obdD/8ABlD/APFUf8J/4N/6G3Q//BlD/wDFVd/4RnQf+gJp3/gJH/hR/wAIzoP/AEBNO/8AASP/AAoApf8ACf8Ag3/obdD/APBlD/8AFUf8J/4N/wCht0P/AMGUP/xVXf8AhGdB/wCgJp3/AICR/wCFH/CM6D/0BNO/8BI/8KAKX/Cf+Df+ht0P/wAGUP8A8VR/wn/g3/obdD/8GUP/AMVV3/hGdB/6Amnf+Akf+FH/AAjOg/8AQE07/wABI/8ACgCl/wAJ/wCDf+ht0P8A8GUP/wAVR/wn/g3/AKG3Q/8AwZQ//FVd/wCEZ0H/AKAmnf8AgJH/AIUf8IzoP/QE07/wEj/woApf8J/4N/6G3Q//AAZQ/wDxVH/Cf+Df+ht0P/wZQ/8AxVXf+EZ0H/oCad/4CR/4Uf8ACM6D/wBATTv/AAEj/wAKAKX/AAn/AIN/6G3Q/wDwZQ//ABVH/Cf+Df8AobdD/wDBlD/8VV3/AIRnQf8AoCad/wCAkf8AhR/wjOg/9ATTv/ASP/CgCl/wn/g3/obdD/8ABlD/APFUf8J/4N/6G3Q//BlD/wDFVd/4RnQf+gJp3/gJH/hR/wAIzoP/AEBNO/8AASP/AAoApf8ACf8Ag3/obdD/APBlD/8AFUf8J/4N/wCht0P/AMGUP/xVXf8AhGdB/wCgJp3/AICR/wCFH/CM6D/0BNO/8BI/8KAKX/Cf+Df+ht0P/wAGUP8A8VR/wn/g3/obdD/8GUP/AMVVw+GtBAJOi6cAOpNrH/hSR+HfD0qbotH0x19VtYyP5UAVP+E/8G/9Dbof/gyh/wDiqP8AhP8Awb/0Nuh/+DKH/wCKq7/wjOg/9ATTv/ASP/Cj/hGdB/6Amnf+Akf+FAFL/hP/AAb/ANDbof8A4Mof/iqP+E/8G/8AQ26H/wCDKH/4qrv/AAjOg/8AQE07/wABI/8ACj/hGdB/6Amnf+Akf+FAFL/hP/Bv/Q26H/4Mof8A4qj/AIT/AMG/9Dbof/gyh/8Aiqu/8IzoP/QE07/wEj/wo/4RnQf+gJp3/gJH/hQBS/4T/wAG/wDQ26H/AODKH/4qj/hP/Bv/AENuh/8Agyh/+Kq7/wAIzoP/AEBNO/8AASP/AAo/4RnQf+gJp3/gJH/hQBS/4T/wb/0Nuh/+DKH/AOKo/wCE/wDBv/Q26H/4Mof/AIqrv/CM6D/0BNO/8BI/8KP+EZ0H/oCad/4CR/4UAUv+E/8ABv8A0Nuh/wDgyh/+KrkPil408LX3w41G3svEukXM7yW5WKG/idmxcRk4AbPABP4V3n/CM6D/ANATTv8AwEj/AMK474raBo9t8NNSlt9JsYpFktsOlsikZuIweQPSgDpP+E/8G/8AQ26H/wCDKH/4qj/hP/Bv/Q26H/4Mof8A4qrv/CM6D/0BNO/8BI/8KP8AhGdB/wCgJp3/AICR/wCFAFL/AIT/AMG/9Dbof/gyh/8AiqP+E/8ABv8A0Nuh/wDgyh/+Kq7/AMIzoP8A0BNO/wDASP8Awo/4RnQf+gJp3/gJH/hQBS/4T/wb/wBDbof/AIMof/iqP+E/8G/9Dbof/gyh/wDiqu/8IzoP/QE07/wEj/wo/wCEZ0H/AKAmnf8AgJH/AIUAUv8AhP8Awb/0Nuh/+DKH/wCKo/4T/wAG/wDQ26H/AODKH/4qrv8AwjOg/wDQE07/AMBI/wDCj/hGdB/6Amnf+Akf+FAFL/hP/Bv/AENuh/8Agyh/+Ko/4T/wb/0Nuh/+DKH/AOKq7/wjOg/9ATTv/ASP/Cj/AIRnQf8AoCad/wCAkf8AhQBS/wCE/wDBv/Q26H/4Mof/AIqj/hP/AAb/ANDbof8A4Mof/iqu/wDCM6D/ANATTv8AwEj/AMKP+EZ0H/oCad/4CR/4UAUv+E/8G/8AQ26H/wCDKH/4qj/hP/Bv/Q26H/4Mof8A4qrv/CM6D/0BNO/8BI/8KY/h7w9HjzNI0xNxwN1rGMn06UAVf+E/8G/9Dbof/gyh/wDiqP8AhP8Awb/0Nuh/+DKH/wCKq7/wjOg/9ATTv/ASP/Cj/hGdB/6Amnf+Akf+FAFL/hP/AAb/ANDbof8A4Mof/iqP+E/8G/8AQ26H/wCDKH/4qrv/AAjOg/8AQE07/wABI/8ACj/hGdB/6Amnf+Akf+FAFL/hP/Bv/Q26H/4Mof8A4qj/AIT/AMG/9Dbof/gyh/8Aiqu/8IzoP/QE07/wEj/wo/4RnQf+gJp3/gJH/hQBS/4T/wAG/wDQ26H/AODKH/4qj/hP/Bv/AENuh/8Agyh/+Kq7/wAIzoP/AEBNO/8AASP/AApkfh7w7MpMWkaY4BwSttGcH8qAKv8Awn/g3/obdD/8GUP/AMVR/wAJ/wCDf+ht0P8A8GUP/wAVV3/hGdB/6Amnf+Akf+FH/CM6D/0BNO/8BI/8KAKX/Cf+Df8AobdD/wDBlD/8VR/wn/g3/obdD/8ABlD/APFVd/4RnQf+gJp3/gJH/hR/wjOg/wDQE07/AMBI/wDCgCl/wn/g3/obdD/8GUP/AMVR/wAJ/wCDf+ht0P8A8GUP/wAVV3/hGdB/6Amnf+Akf+FH/CM6D/0BNO/8BI/8KAKX/Cf+Df8AobdD/wDBlD/8VR/wn/g3/obdD/8ABlD/APFVd/4RnQf+gJp3/gJH/hR/wjOg/wDQE07/AMBI/wDCgCl/wn/g3/obdD/8GUP/AMVXKfETxd4b1bw/YWml+INKvbl9Z04rDbXscjti6jJwqknpXcf8IzoP/QE07/wEj/wrkPiVomlWXhqxns9Ms7eVdZ07EkVuisM3cfcCgD0KiiigArgrn/kukv8A2Lkf/pTJXe1wVz/yXSX/ALFyP/0pkoA6miiigAooooAKKKKACiiigDjPihqk+j+EUu7e8kstt1GHlSQphec5I7Vg+LviHo95p2l2/hvxRay3sl3ArpZ3gLsu9dwIU5IxnP410/xB0W+17w5HaabAJ5RdRyMhdV+UZyfmIFVPGvhi41PR9Oi0mwiaeG6hkk27EIVXUscnHYGlD4lf+Zfp+AS2dv5X+v4ljUvF2p/29Lo/hjRI9VubWMPdPPd/Z44sgFRu2NkkHpx0NVI/iOP7Hiu7nS2gmj1CPT72Fpv+PeRmVcg7fmA39cDpUU9jr/hjxnqOqaJoba3aaqiGVIrmKJ4XRQo5kYAg/N0z2pLfwfqF14S106jGseqarJJdRwqwIhk2jYuckHDDrnFCdo3/AKvfb8x2V7f1t/mbA8YxnxqdCFrmEQb/ALWJON5AYJtx/dOc57dKteGfED+Ior6b7H9nht7uS2ifzN/nBGI39BjPBxz1riH8L+KH8JwXzWKnX0uA7W/nJyojMI+bdt+7huv+Fd54X0k6H4YsNPf/AFsMCLKc53PtAY/nVJaO/wDV9fw2Jb1/rpp+L1MRPGOr6j4ivNP8PaHa3lvYziC5nn1HyXVsBiQnltkYYdxk8Uaj401VPE1zoOi+Hvt95bokheS6MUW0qCcvsbBBYADHIye1Y3irRNT1rxAs1h4Ontr2KWNYtbW/hAVAwZj5e/JyNy8rnmo/tmvaZ8UNVk0rTF1ki1hSeFJUikJ2J84Z2C446deRUxd+VPz/ACuW95W8vzSDxN4mPiX4X6m89m1jeWtwLe5tmff5bjBIDYGRz1wK159VNtr/AIXsES6Z7i1BXy7wxxkiNuHQAhunf29KypfButXHgfWTJZquravd/antFlXEWcfLuztJGD3rXuvD2py+LvC96ltm3sLfZcv5i/IdjDGM5PJHTNPr935P9TOXl/Wv+RneDtc8V3njnXrbUNNi+xxzIGzqRf7MNz/cUpznHt90VueONVGmLpQYXR8+8SP/AEa7MGMsOuAdw9qq6PZa5pHxA1h20dp9M1Jo3W9S4jAjwXyChbcfv9h2qx460TUNaGkf2bB532a9SWX51XaoYEnkjPTtQtqfrG/3q43f3/8At6342I7zxhq8via80bw1odtqL2AT7Q9zqH2cjcoIwPLbPXrXR6nqDaZoV5qDwh2tbd5jEH+9tUnGce3XFcJ470bUddv5FsfBk8t3GoW11lL+GMRk452FwT6ciuy1exu7rwbf2Kn7ReTWUsSnIXe5QgdeByaht+ybW/8AX9f5lq3tEun9f1/SOQn+Juq21jZ6tN4UkGj3b+WkwuiZw3I5i8vpuGM7uhB9q2NG8Y6hceJV0XxBosel3E8JntfLu/O8xFxu3DYu0jcvHPX2qjqnhvVbnwDpemw2u67t5UaSPzFG0BsnnODVrV9B1S6+JmmataxbbSCxuInn3r8juY9vy5yfunt2rXRSfq18lG6/HQz1a+Sfzvr+BHf+Nta0y7t57/w0sGjzzrCLprwiZSzBVLQ+XxliB973qfU/F2qt4guNJ8MaFDqrWkYa6lmvfs6xlgCFHyNkkH26V52/w9125htFuPCpOqwXkU0+ryX6ETqsqsSqCTj5RjkV2T2HiPwz4v1W/wBF0I6xa6skbHy7mOJoHRAvO9hkHk8Uklb7/wAlb9exb3dv61/y9Sh4M8TxaP4L1jVbq2lWWXVZVitH+V3lYKFj9iTgdO/St6x8Y6xFrFlZ+J9Ah0uLUMrazw33n7n2ltrDy12/KpPU1zw+H+saj4Ev9P1mCBr1tUN8IY3xHcAFTtB3ZUNtxyQRmpfDPhO0t9ftJpfhtLpbwklb59TjlWM7SMhBKTz06d6as5a+X5f5kv4W15/n/XQ9OoooqRhRRRQAUUUUAFFFFAHOfEL/AJJj4o/7BF3/AOiWrqNC/wCRd03/AK9Iv/QBXL/EL/kmPij/ALBF3/6Jauo0L/kXdN/69Iv/AEAUAX6KKKAPLfibqcFt400K01bxJeaDpc0bmaW31BrUM2eMsCPen/D7xJHa2vie5fXJ9X8PabIZLe/ubgzuQAxdQ5J3ABVxz3q/440rW28aaLrOkeH21uC0jdJYVuIYiCTn/lowBrMtfBes+IrvxPd6ppv/AAj0er6eLKK0M0cpB2yDzCYyy/8ALQflUQuov5/np6lSSbV/L/gmmvxD1yC2t9V1TwtHa6BNIF+2LqBeVAzbVYxeWMAsQPvdDmrd9431abxPdaL4V0O11SWzjR52udR+zYDjK7R5bbuh9O3rXG6X4Ct7SS2tb74VyTNC4DXyatGIzg5D7DNn0OMVtePtDv8AW7hrfT/A9xcXMEWyy1iPUIYxCSB82wuCcYHUGtHZWtr/AF/XYlef9f18w1zX/GNv8VtIs7PSYXtZIXPk/wBqlElGGyzDyyMjqBznA6V1fjWfWofA97NoMbf2msQKJGC5ByNwXHJ71ha1pXiOz8WeHdYsdNbWvssTw3YSeOJl3Bhu+dhn73Qeldbq9xq0WjGfRrOOe9ADfZpWA3eqhsgZ984qZJezt6/m/wALBBtVOb0/JfqcT8N5dLvnjutF8X6nqUqQgX2n6letcSRsR8uVZv3ZB3ZGDn8KdF8Stdv7G5v9I8IfaLKydluZZb4xn5TyYx5Z3jGD1HOR2pLTSNc17x3p2t3vhr/hG4tPRw5kuYpXud2OB5TEADb3H8XFYHhW78VjwvqOnaV4fTUrW8nljjuo7iOMQBmw29XcFiOT8o7im25Pzs3bzuvw1+QRSS+a1+T/AB0NjxDqsGueJPAOqWgYQ3cqzIGHIDBDg+/NXZNevW1zxXBpFrcT3llbgok+pMsRzu5VdpCEdeM54qJvA+o2Evgm3s4hcQ6PtF3KHUAYCgkAnJ6Hpmr+l+HNTh8Y+KbyeAR22owBLeTep3H5uwOR171M18Sj/e/JWFF6pvy/UZ8K9W8Rar4XSTxBZRom+by7r7cZ3lIlYYIKDAHIHJ4Aruq434dQa5pejvpGuaK9kttLM0V19oidZw0rMMKrEjhu+OldlWs7N3RME1GzCuN+Lv8AyR/xP/2D5P5V2Vcb8Xf+SP8Aif8A7B8n8qgs7CP/AFa/QU6mx/6tfoKdQAUUUUAFFFFABRRRQAUUUUAZniWaS38KatNBI0csdlMyOhwVIQkEHsa8O07X4E0zQrvQ/HWo6j4kmuys2mTas86MPnyGi3cAAA9PSvdPEFrNfeGtTtLVN809pLHGuQNzMhAGTx1NeTnw/wCLL/wHB4UfwSbGXfhtUe9tmVAJC+7Cvu6cfjUwuql/8P5u/wDwRys429fyR3et+MNQg8QDRPDGjxavfxx+bcrNefZ0gU/dy2xuThuMD7tUm+JS2/hO/wBR1DTPs2o6fcJa3FgZ8qsrsgUeZtHy/vFOdvrWD4m+HbDxQdXl8NHxXHcW0cLRLeLbvAyZ+bLOgIbd7/d7VsaPoqaP4Nv00/4dy20lzJ+80o6hC7Tg7QW8wyFRx75+Wn9l/wBdf8vXuH2l8vy1/H0JtQ17xm/hC+u38OWNrOEDQ+TrJfKkZLbvKGCOOO+at/DPU9d1TwXYz+ILNIXMKmOcXhnecf3myowfbJrD8JeFNVtrfXIxpEnh/T7uNUttNlukn2Njltys3U5OCe9b/wAOl1u18J2mneIdFfS57KMRAtcRyiXHcbGOPxq4297z5f8A26/6ff8AdDv7vz/T/g/dv343X78H4l6hZ+MPEmq+H7Lan9lSW949rby/ImQSCA7bt3HoDXWa54su/CiaJpsVlJr17qEbRpKjGPfIoQBm4bCkvyece9V/Etz4nuDe6YfBcesW0g2wXcd1DGgBA+8ruGyDnpjpXL6ppWteFn8CWNkkN9qFnFKGiJwJNvkgopJGCcYBJx61nF+7Fea+f/B8zSXxN+T/AAR1Vp4vv9Qk1bQvEWjLpOpR2L3CJFc/aI5IiCAQ+xechuMdq5bT9WGjfBO1uWF2Qb+VP9EuzbPy8h++ATjjpXQWGi67rviPUPEWt6QdIm/s5rC1s3uI5Wf7x3lkYryXI6jpWVd+Ctfl+EVtoiWIOoJfPK0PnJwpLkHdux/EO9V1X/bt/wDwL/Izl1t5/kv1LWt674utvi5ptjp+mRTWTRPiNtUMayrg5dl8sgEDkDn6ivSkLGNTIoViBuUHOD6ZrivE1hrlv4/0bW9H0htUt4o3huESeOJowwwG+dhnqeBnpXaozNGrOuxiASpOcH0oj/DXz/N/oN/G/l+SHUUUUDCiiigAooooAKKKKACuL+Ln/JL9T/66W3/pRHXaVxfxc/5Jfqf/AF0tv/SiOgDtKKKKACiiigAooooAKKKKAOK+LN/Pp3gKae3v59PPnRq9xBMYmRC3zHcOnFcx4Uv4f+E00pPCXifUvEdnNARqXn6g15Fb/KTncSQjbgox7+9dn8RNFvtf8K/YtMgE8xuYnKF1X5QwJ5YgdKzr7wzqOn+LNE1rw/aJuMP2TUkVlUCLYxDYJGTvCdM8UoaSd+/6flcJ6xsv61/Mf4j8b67oH2m+HhdZdFtZCs13LemKUKpO5xF5ZyvGQd3NP13x1f2HiW10PRNBOqXV3aLcxMbgxRrlmBDtsbaMIee54rzvxN8OvEGrw67BceFDqWp3NxO9rrEl/GqeWWYxoI/MBBAI5IxxzXpEGg6inxDstTa3xZxaWlu8m9eJA0hIxnP8Q56c046qN/P8v8/IctG7f1qv0v1ItP8AiGD4e1a+1/Thpt1pD7Lq1SfzQCT8u1tq5yMHp3rlfE3iDxFqN14XXX/DK6VFPq9q8UkN4bjGJkyHHlrsPTHXPPpWpqfgTU9YtfGVrJGsA1SWF7ORnBD7UAOQDkc8c4qK/g8ceKJtCW98MppUOnX9vPcmS6ikMoWRWJTZIcABSSDycjFOFnKLf91/k3+PToTL4ZJf3l/kbuoeNNXk1y70vwn4fj1drBR9qlnvTbIjEBtqny33HDKccdagl+JsUPhFNZbSZ2njvPsN3ZI2XilBYOF4+fDKQOBn2qqLHxL4Q8Waxc6H4ebXLHVmW4LRXUUTQShFTB8xxkYTPA79arS+CdabwuuYFk1G91j+0biFZFAgVmdimScHbvxwTntUrZfL77q/y31Kdk/62t+d7FmT4h+JLXXY9FvfBypf3cXm2Ih1AyRydch38oeXgKT0Nb/hHxXL4ia/tdQsF07UtOlEdzbpP5yqSMqQ+1c5GD0HWotQ0W/n+I2iapFBus7W3kSaTeo2kq4AxnJ5I6CoPCWg6lpfjTxVf31v5dtqE8L2z71O8LEFPAORyO+KqNnv2f3qVl961JlfVruvxWv4nM+NtQMPxCjtvFWu6poOgvbj7JdWV29rE0uTvEkgIHHyYHua6PU/E8ng3w5pOPO8RNdymGOaNjvkyGZT/FnsCc9Mn2qTxHf+JIrq4tIPCCa/Yyx4ikiuYYtmcghxI4J7dMVxGq6DrHhjwj4Zs0Fu2ojU5JUgYkxrlXbZnPocZzjPtUReij5r8X+eu5ct3Lyf4R3/AA2O20bxnqk3iaPQ/E+gJpFzcwtNatDdm4SVVKhgTsXaRuXjnqfSuP8AC+ojSvhPr92wuCI9Ubi2uDA/KxDhwCRXSadp2v8AiPxvZ654h0RtEi0uB4oYnuI5WnZyhLZRmAA8vocferJtPBmvRfC7W9HeyAvrq/M0MXnJ8yYj5znA+6ep7USva/Wz/wDSlb8Ceq9V+TG+IPEPiu38QeFI9E04TWlwsbKs2rMhuMxElZP3Z6c8nOcdOa9Rt2le3ja4jWKUqC6K24KfTOBmuC8Q6Nr9vH4TvtJ0k6lPpZjW5tUnjjYARMpIZ2CnBx3rvbeSSW3jeaEwyMoLRlgSh9Mjg1ppZ+rIV7q/ZElFFFSWFFFFABRRRQAVxfxT/wCRTs/+w1p3/pXFXaVxfxT/AORTs/8AsNad/wClcVAHaUUUUAFcJ4j0HxUvxCXxB4Zt9JuYn0tbGSO/upIWDCVnyNsbZGGFd3RQBwX/ABcv/oD+GP8AwaT/APxij/i5f/QH8Mf+DSf/AOMV3tFAHBf8XL/6A/hj/wAGk/8A8Yo/4uX/ANAfwx/4NJ//AIxXe0UAcF/xcv8A6A/hj/waT/8Axij/AIuX/wBAfwx/4NJ//jFd7RQBwX/Fy/8AoD+GP/BpP/8AGKP+Ll/9Afwx/wCDSf8A+MV3tFAHBf8AFy/+gP4Y/wDBpP8A/GKP+Ll/9Afwx/4NJ/8A4xXe0UAcF/xcv/oD+GP/AAaT/wDxij/i5f8A0B/DH/g0n/8AjFd7RQBwX/Fy/wDoD+GP/BpP/wDGKP8Ai5f/AEB/DH/g0n/+MV3tFAHBf8XL/wCgP4Y/8Gk//wAYqhBo/j631m41SLQvDIu7lVSV/wC1rgggAAceTgdBXplFHW4HBf8AFy/+gP4Y/wDBpP8A/GKP+Ll/9Afwx/4NJ/8A4xXe0UAcF/xcv/oD+GP/AAaT/wDxij/i5f8A0B/DH/g0n/8AjFd7RQBwX/Fy/wDoD+GP/BpP/wDGKP8Ai5f/AEB/DH/g0n/+MV3tFAHBf8XL/wCgP4Y/8Gk//wAYo/4uX/0B/DH/AINJ/wD4xXe0UAcF/wAXL/6A/hj/AMGk/wD8Yo/4uX/0B/DH/g0n/wDjFd7RQBwX/Fy/+gP4Y/8ABpP/APGKP+Ll/wDQH8Mf+DSf/wCMV3tFAHBf8XL/AOgP4Y/8Gk//AMYo/wCLl/8AQH8Mf+DSf/4xXe0UAcF/xcv/AKA/hj/waT//ABij/i5f/QH8Mf8Ag0n/APjFd7RQBwX/ABcv/oD+GP8AwaT/APxij/i5f/QH8Mf+DSf/AOMV3tFAHBf8XL/6A/hj/wAGk/8A8Yo/4uX/ANAfwx/4NJ//AIxXe0UAeZa9pXxJ13w3qWkSaZ4ZhW/tJbZpF1KclA6Fc48nnGa0rKT4l2Wn29qujeGHEESxhjqk4ztGM/6j2ru6KAOL+2/Ez/oCeF//AAaT/wDxij7b8TP+gJ4X/wDBpP8A/GK7SigDi/tvxM/6Anhf/wAGk/8A8Yo+2/Ez/oCeF/8AwaT/APxiu0ooA4v7b8TP+gJ4X/8ABpP/APGKPtvxM/6Anhf/AMGk/wD8YrtKKAOL+2/Ez/oCeF//AAaT/wDxij7b8TP+gJ4X/wDBpP8A/GK7SigDi/tvxM/6Anhf/wAGk/8A8Yqho9l4/wBCtGttN8P+GY4mcyEHV7huScnrDXodFHW4HF/bfiZ/0BPC/wD4NJ//AIxR9t+Jn/QE8L/+DSf/AOMV2lFAHF/bfiZ/0BPC/wD4NJ//AIxR9t+Jn/QE8L/+DSf/AOMV2lFAHF/bfiZ/0BPC/wD4NJ//AIxWR4r034k+KfCepaHLpfhm3S/gaFpV1KdigPfHk816XRQBxS3nxMVQP7E8L8DH/IUn/wDjFL9t+Jn/AEBPC/8A4NJ//jFdpRQBxf234mf9ATwv/wCDSf8A+MUfbfiZ/wBATwv/AODSf/4xXaUUAcX9t+Jn/QE8L/8Ag0n/APjFH234mf8AQE8L/wDg0n/+MV2lFAHF/bfiZ/0BPC//AINJ/wD4xR9t+Jn/AEBPC/8A4NJ//jFdpRQBxf234mf9ATwv/wCDSf8A+MUfbfiZ/wBATwv/AODSf/4xXaUUAcX9t+Jn/QE8L/8Ag0n/APjFH234mf8AQE8L/wDg0n/+MV2lFAHF/bfiZ/0BPC//AINJ/wD4xR9t+Jn/AEBPC/8A4NJ//jFdpRQBxf234mf9ATwv/wCDSf8A+MUfbfiZ/wBATwv/AODSf/4xXaUUAcX9t+Jn/QE8L/8Ag0n/APjFUL2x8f6hqdlf3Xh/wy1xY7vIYavcDbu2548nn7o616HRQBxf234mf9ATwv8A+DSf/wCMUfbfiZ/0BPC//g0n/wDjFdpRQBxf234mf9ATwv8A+DSf/wCMUfbfiZ/0BPC//g0n/wDjFdpRQBxf234mf9ATwv8A+DSf/wCMUfbfiZ/0BPC//g0n/wDjFdpRQBxf234mf9ATwv8A+DSf/wCMUfbfiZ/0BPC//g0n/wDjFdpRQBxf234mf9ATwv8A+DSf/wCMUfbfiZ/0BPC//g0n/wDjFdpRQBxf234mf9ATwv8A+DSf/wCMUfbfiZ/0BPC//g0n/wDjFdpRQBxf234mf9ATwv8A+DSf/wCMVj+KtM+JPinw3c6RLpfhm3Sdo2Mi6lOxGyRX6eT324/GvTKKAOL+2/Ez/oCeF/8AwaT/APxij7b8TP8AoCeF/wDwaT//ABiu0ooA4v7b8TP+gJ4X/wDBpP8A/GKPtvxM/wCgJ4X/APBpP/8AGK7SigDi/tvxM/6Anhf/AMGk/wD8Yo+2/Ez/AKAnhf8A8Gk//wAYrtKKAOL+2/Ez/oCeF/8AwaT/APxij7b8TP8AoCeF/wDwaT//ABiu0ooA4v7b8TP+gJ4X/wDBpP8A/GKPtvxM/wCgJ4X/APBpP/8AGK7SigDi/tvxM/6Anhf/AMGk/wD8Yo+2/Ez/AKAnhf8A8Gk//wAYrtKKAOL+2/Ez/oCeF/8AwaT/APxij7b8TP8AoCeF/wDwaT//ABiu0ooA4v7b8TP+gJ4X/wDBpP8A/GKPtvxM/wCgJ4X/APBpP/8AGK7SigDi/tvxM/6Anhf/AMGk/wD8Yo+2/Ez/AKAnhf8A8Gk//wAYrtKKAOL+2/Ez/oCeF/8AwaT/APxiqGp2Pj/V5LV7/wAP+GXa0l82HGr3C7WwRniHngmvQ6KAOL+2/Ez/AKAnhf8A8Gk//wAYo+2/Ez/oCeF//BpP/wDGK7SigDi/tvxM/wCgJ4X/APBpP/8AGKPtvxM/6Anhf/waT/8Axiu0ooA4v7b8TP8AoCeF/wDwaT//ABij7b8TP+gJ4X/8Gk//AMYrtKKAOL+2/Ez/AKAnhf8A8Gk//wAYo+2/Ez/oCeF//BpP/wDGK7SigDi/tvxM/wCgJ4X/APBpP/8AGKPtvxM/6Anhf/waT/8Axiu0ooA4v7b8TP8AoCeF/wDwaT//ABiszXNL+IXie3s7HUdO8O2lrHf2t1LLBqEzuFimWQgKYQCTtx1Fej0UAFFFFABRRRQAUUUUAFFFFABRRRQAUUUUAFFFFABRRRQAUUUUAFFFFABRRRQAUUUUAFFFFABRRRQAUUUUAFFFFABRRRQAUUUUAFFFFABRRRQAUUUUAFFFFABRRRQAUUUUAFFFFABRRRQAUUUUAFFFFABRRRQAUUUUAFFFFABRRRQAUUUUAFFFFABRRRQAUUUUAFFFFABRRRQAUUUUAFFFFABRRRQAUUUUAFFFFABRRRQAUUUUAFFFFABRRRQAUUUUAFFFFABRRRQAUUUUAFFFFABRRRQAUUUUAFFFFABRRRQAUUUUAFFFFABRRRQAUUUUAFFFFABRRRQB/9k=)"
      ]
    },
    {
      "cell_type": "markdown",
      "metadata": {},
      "source": [
        "### Step 7.1 - Buidling ExtraTree Classifier"
      ]
    },
    {
      "cell_type": "code",
      "execution_count": 40,
      "metadata": {
        "colab": {
          "base_uri": "https://localhost:8080/"
        },
        "id": "cln9ZSM2YVUt",
        "outputId": "2d5c726a-7986-471a-f42b-d26c99acffdc"
      },
      "outputs": [
        {
          "data": {
            "text/plain": [
              "ExtraTreesClassifier(random_state=1)"
            ]
          },
          "execution_count": 40,
          "metadata": {},
          "output_type": "execute_result"
        }
      ],
      "source": [
        "from sklearn.ensemble import ExtraTreesClassifier\n",
        "\n",
        "# Create an instance of ExtraTreesClassifier with default parameters\n",
        "et = ExtraTreesClassifier(\n",
        "    random_state=1      # Set a random seed for reproducibility\n",
        ")\n",
        "\n",
        "# Train (fit) the ExtraTreesClassifier on the training data\n",
        "et.fit(X_train, y_train)\n"
      ]
    },
    {
      "cell_type": "code",
      "execution_count": 41,
      "metadata": {
        "id": "GmR5CajpYVUt"
      },
      "outputs": [],
      "source": [
        "# Make predictions using the trained ExtraTreesClassifier\n",
        "predictions = et.predict(X_test)\n"
      ]
    },
    {
      "cell_type": "code",
      "execution_count": 42,
      "metadata": {
        "colab": {
          "base_uri": "https://localhost:8080/"
        },
        "id": "1D9nPzmeYVUu",
        "outputId": "5e654424-b870-4916-c4b4-915e699a3c5c"
      },
      "outputs": [
        {
          "name": "stdout",
          "output_type": "stream",
          "text": [
            "              precision    recall  f1-score   support\n",
            "\n",
            "           0       0.84      0.94      0.89      7058\n",
            "           1       0.62      0.35      0.45      1942\n",
            "\n",
            "    accuracy                           0.81      9000\n",
            "   macro avg       0.73      0.65      0.67      9000\n",
            "weighted avg       0.79      0.81      0.79      9000\n",
            "\n"
          ]
        }
      ],
      "source": [
        "from sklearn.metrics import classification_report\n",
        "\n",
        "# Print the classification report for evaluation\n",
        "print(\"Classification Report:\")\n",
        "print(classification_report(y_test, predictions))\n"
      ]
    },
    {
      "cell_type": "code",
      "execution_count": 43,
      "metadata": {
        "colab": {
          "base_uri": "https://localhost:8080/"
        },
        "id": "h_7lrZSpYVUu",
        "outputId": "bb61b319-01b8-4a96-e131-2b9f1be935db"
      },
      "outputs": [
        {
          "name": "stdout",
          "output_type": "stream",
          "text": [
            "[[6644  414]\n",
            " [1260  682]]\n"
          ]
        }
      ],
      "source": [
        "from sklearn.metrics import confusion_matrix\n",
        "\n",
        "# Print the confusion matrix for performance assessment\n",
        "print(\"Confusion Matrix:\\n\", confusion_matrix(y_test, predictions))\n"
      ]
    },
    {
      "cell_type": "code",
      "execution_count": 44,
      "metadata": {
        "colab": {
          "base_uri": "https://localhost:8080/"
        },
        "id": "aQdcoyX_YVUv",
        "outputId": "4b80733b-ebca-4b5c-a4be-8062d6cf020a"
      },
      "outputs": [
        {
          "name": "stdout",
          "output_type": "stream",
          "text": [
            "0.814\n"
          ]
        }
      ],
      "source": [
        "from sklearn.metrics import accuracy_score\n",
        "\n",
        "# Print the accuracy score\n",
        "print(\"Accuracy:\", accuracy_score(y_test, predictions))\n"
      ]
    },
    {
      "cell_type": "markdown",
      "metadata": {
        "id": "bb-t4hs4YVUv"
      },
      "source": [
        "cool! so we got 81 % accuracy here. We can even try hyperparameter tuning here in order to improve the result. So lets Tune the model."
      ]
    },
    {
      "cell_type": "markdown",
      "metadata": {},
      "source": [
        "\n",
        "### Step 7.2 - Random Search to Find Optimal Hyperparameters"
      ]
    },
    {
      "cell_type": "markdown",
      "metadata": {},
      "source": [
        "Reference doc: https://scikit-learn.org/stable/modules/generated/sklearn.model_selection.RandomizedSearchCV.html\n",
        "\n",
        "We can now find the optimal hyperparameters using GridSearchCV."
      ]
    },
    {
      "cell_type": "code",
      "execution_count": 45,
      "metadata": {
        "colab": {
          "base_uri": "https://localhost:8080/"
        },
        "id": "puoincu7YVUv",
        "outputId": "16923e33-7c0c-413d-9209-de692261d381"
      },
      "outputs": [
        {
          "name": "stdout",
          "output_type": "stream",
          "text": [
            "we can get accuracy of 0.8121904761904762 using {'n_estimators': 100, 'min_samples_split': 400, 'min_samples_leaf': 100, 'max_features': 10, 'max_depth': 8}\n"
          ]
        }
      ],
      "source": [
        "from sklearn.model_selection import RandomizedSearchCV\n",
        "from sklearn.ensemble import ExtraTreesClassifier\n",
        "\n",
        "# Define the parameter grid similar to the random forest\n",
        "param_grid = {\n",
        "    'max_depth': [4, 8, 10],                    # Different values for maximum depth of trees\n",
        "    'min_samples_leaf': range(100, 400, 200),    # Range of values for minimum samples in leaf nodes\n",
        "    'min_samples_split': range(200, 500, 200),   # Range of values for minimum samples to split internal nodes\n",
        "    'n_estimators': [100, 200, 300],             # Different numbers of trees in the forest\n",
        "    'max_features': [5, 10]                      # Different numbers of features to consider for the best split\n",
        "}\n",
        "\n",
        "# Create an instance of ExtraTreesClassifier\n",
        "et = ExtraTreesClassifier(random_state=1)\n",
        "\n",
        "# Instantiate RandomizedSearchCV with ExtraTreesClassifier, param_grid, and random_state\n",
        "rs = RandomizedSearchCV(\n",
        "    estimator=et,                  # Base model to be tuned\n",
        "    param_distributions=param_grid, # The parameter grid with different values to try\n",
        "    random_state=1                  # Random seed for reproducibility\n",
        ")\n",
        "\n",
        "# Fit the RandomizedSearchCV model on the training data\n",
        "rs.fit(X_train, y_train)\n",
        "\n",
        "# Print the best accuracy score and corresponding hyperparameters\n",
        "print(\"We can achieve an accuracy of\", rs.best_score_, \"using the following hyperparameters:\", rs.best_params_)\n"
      ]
    },
    {
      "cell_type": "markdown",
      "metadata": {
        "id": "54ZkL1SRYVUw"
      },
      "source": [
        "Now lets try using above chosen best parameters into extra trees and tune it."
      ]
    },
    {
      "cell_type": "code",
      "execution_count": 46,
      "metadata": {
        "colab": {
          "base_uri": "https://localhost:8080/"
        },
        "id": "lcAN_GRqYVUw",
        "outputId": "5cbc9538-5e14-49cd-c136-c3bb6812880f"
      },
      "outputs": [
        {
          "data": {
            "text/plain": [
              "ExtraTreesClassifier(max_depth=8, max_features=10, min_samples_leaf=100,\n",
              "                     min_samples_split=400)"
            ]
          },
          "execution_count": 46,
          "metadata": {},
          "output_type": "execute_result"
        }
      ],
      "source": [
        "from sklearn.ensemble import ExtraTreesClassifier\n",
        "\n",
        "# Instantiate ExtraTreesClassifier with specified hyperparameters\n",
        "et = ExtraTreesClassifier(\n",
        "    n_estimators=100,             # Number of trees in the forest\n",
        "    min_samples_split=400,        # Minimum samples required to split internal nodes\n",
        "    min_samples_leaf=100,         # Minimum samples required to be at a leaf node\n",
        "    max_features=10,              # Maximum number of features to consider for the best split\n",
        "    max_depth=8                   # Maximum depth of each tree in the forest\n",
        ")\n",
        "\n",
        "# Fit the ExtraTreesClassifier model on the training data\n",
        "et.fit(X_train, y_train)\n"
      ]
    },
    {
      "cell_type": "code",
      "execution_count": 47,
      "metadata": {
        "id": "V4R1jxLWYVUw"
      },
      "outputs": [],
      "source": [
        "# Make predictions using the trained ExtraTreesClassifier\n",
        "predictions = et.predict(X_test)\n"
      ]
    },
    {
      "cell_type": "code",
      "execution_count": 48,
      "metadata": {
        "colab": {
          "base_uri": "https://localhost:8080/"
        },
        "id": "Fb76nsilYVUx",
        "outputId": "4ddf3b32-f7bb-4dfb-e2a5-c3b2fbd03889"
      },
      "outputs": [
        {
          "name": "stdout",
          "output_type": "stream",
          "text": [
            "0.8206666666666667\n"
          ]
        }
      ],
      "source": [
        "from sklearn.metrics import accuracy_score\n",
        "\n",
        "# Print the accuracy score\n",
        "print(\"Accuracy:\", accuracy_score(y_test, predictions))\n"
      ]
    },
    {
      "cell_type": "markdown",
      "metadata": {},
      "source": [
        "## Step 8 - Conclusion and Results"
      ]
    },
    {
      "cell_type": "markdown",
      "metadata": {},
      "source": [
        "- Basic Bagging:\n",
        "- Random Forest:\n",
        "- ExtraTree: "
      ]
    }
  ],
  "metadata": {
    "colab": {
      "collapsed_sections": [],
      "include_colab_link": true,
      "name": "Bagging_CloudyML.ipynb",
      "provenance": []
    },
    "kernelspec": {
      "display_name": "Python 3",
      "language": "python",
      "name": "python3"
    },
    "language_info": {
      "codemirror_mode": {
        "name": "ipython",
        "version": 3
      },
      "file_extension": ".py",
      "mimetype": "text/x-python",
      "name": "python",
      "nbconvert_exporter": "python",
      "pygments_lexer": "ipython3",
      "version": "3.9.12"
    }
  },
  "nbformat": 4,
  "nbformat_minor": 0
}
